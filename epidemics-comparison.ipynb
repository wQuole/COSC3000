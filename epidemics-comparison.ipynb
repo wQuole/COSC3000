{
 "cells": [
  {
   "cell_type": "code",
   "execution_count": 21,
   "metadata": {},
   "outputs": [],
   "source": [
    "import os\n",
    "from glob import glob\n",
    "import numpy as np\n",
    "import pandas as pd\n",
    "import matplotlib.pyplot as plt\n",
    "import plotly.express as px"
   ]
  },
  {
   "cell_type": "code",
   "execution_count": 22,
   "metadata": {},
   "outputs": [],
   "source": [
    "# COLORS\n",
    "sars_color = '#442288'\n",
    "ebola_color = '#B5D33D'\n",
    "mers_color = '#FED23F'\n",
    "covid_color = '#FED23F'\n",
    "\n",
    "color_palette = [sars_color, ebola_color, mers_color, covid_color]"
   ]
  },
  {
   "cell_type": "markdown",
   "metadata": {},
   "source": [
    "## COVID-19 Preprocessing"
   ]
  },
  {
   "cell_type": "code",
   "execution_count": 23,
   "metadata": {},
   "outputs": [],
   "source": [
    "covid_df = pd.read_csv('output/COVID9-cleaned_03-05-2020_21:13.csv', parse_dates=['Date'])\n",
    "\n",
    "covid_df = covid_df[['Country', 'Date', 'Confirmed', 'Deaths']]\n",
    "covid_df.columns = ['Country', 'Date', 'Cases', 'Deaths']\n",
    "\n",
    "covid_df['Deaths'] = covid_df['Deaths'].fillna(0)\n",
    "covid_df['Cases'] = covid_df['Cases'].fillna(0)\n",
    "\n",
    "covid_df['Deaths'] = covid_df['Deaths'].astype('int')\n",
    "covid_df['Cases'] = covid_df['Cases'].astype('int')\n",
    "\n",
    "covid_df = covid_df.groupby(['Date', 'Country'])['Cases', 'Deaths'].sum().reset_index()\n",
    "\n",
    "# Day by day\n",
    "c_dbd = covid_df.groupby('Date')['Cases', 'Deaths'].sum().reset_index()\n",
    "\n",
    "# nth-day\n",
    "covid_df['nth_day'] = (covid_df['Date'] - min(covid_df['Date'])).dt.days\n",
    "c_dbd['nth_day'] = covid_df.groupby('Date')['nth_day'].max().values\n",
    "\n",
    "c_dbd['epidemic'] = 'COVID-19'\n",
    "temp = covid_df[covid_df['Cases'] > 0]"
   ]
  },
  {
   "cell_type": "markdown",
   "metadata": {},
   "source": [
    "## COVID-19 Preprocessing"
   ]
  },
  {
   "cell_type": "code",
   "execution_count": 24,
   "metadata": {},
   "outputs": [],
   "source": [
    "ebola_df = pd.read_csv(\"Dataset/Ebola/ebola_2014_2016_clean.csv\", parse_dates=['Date'])\n",
    "\n",
    "ebola_df = ebola_df[[\n",
    "    'Date',\n",
    "    'Country',\n",
    "    'No. of confirmed, probable and suspected cases',\n",
    "    'No. of confirmed, probable and suspected deaths']] \n",
    "\n",
    "ebola_df.columns = ['Date', 'Country', 'Cases', 'Deaths']\n",
    "\n",
    "ebola_df['Deaths'] = ebola_df['Deaths'].fillna(0)\n",
    "ebola_df['Cases'] = ebola_df['Cases'].fillna(0)\n",
    "\n",
    "ebola_df['Deaths'] = ebola_df['Deaths'].astype('int')\n",
    "ebola_df['Cases'] = ebola_df['Cases'].astype('int')\n",
    "\n",
    "# Day by day\n",
    "e_dbd = ebola_df.groupby('Date')['Cases', 'Deaths'].sum().reset_index()\n",
    "\n",
    "# nth-day\n",
    "ebola_df['nth_day'] = (ebola_df['Date'] - min(ebola_df['Date'])).dt.days\n",
    "e_dbd['nth_day'] = ebola_df.groupby('Date')['nth_day'].max().values\n",
    "\n",
    "e_dbd['epidemic'] = 'EBOLA'\n",
    "temp = ebola_df[ebola_df['Cases'] > 0]"
   ]
  },
  {
   "cell_type": "markdown",
   "metadata": {},
   "source": [
    "## MERS Preprocessing"
   ]
  },
  {
   "cell_type": "code",
   "execution_count": 25,
   "metadata": {},
   "outputs": [],
   "source": [
    "mers_df = pd.read_csv(\"Dataset/MERS/MERS_weekly_clean.csv\")\n",
    "\n",
    "mers_df['Year-Week'] = mers_df['Year'].astype(str) + ' - ' + mers_df['Week'].astype(str)\n",
    "mers_df['Date'] = pd.to_datetime(mers_df['Week'].astype(str) + mers_df['Year'].astype(str).add('-1'),format='%V%G-%u')\n",
    "\n",
    "# Select and rename columns\n",
    "cols = ['Date', 'Region', 'New Cases']\n",
    "mers_df = mers_df[cols]\n",
    "mers_df.columns = ['Date', 'Country', 'Cases']\n",
    "\n",
    "# Day by day\n",
    "m_dbd = mers_df.groupby('Date')['Cases'].sum().reset_index()\n",
    "\n",
    "# nth-day\n",
    "mers_df['nth_day'] = (mers_df['Date'] - min(mers_df['Date'])).dt.days\n",
    "m_dbd['nth_day'] = mers_df.groupby('Date')['nth_day'].max().values\n",
    "\n",
    "m_dbd['epidemic'] = 'MERS'\n",
    "temp = mers_df[mers_df['Cases'] > 0]\n"
   ]
  },
  {
   "cell_type": "markdown",
   "metadata": {},
   "source": [
    "## SARS Preprocessing"
   ]
  },
  {
   "cell_type": "code",
   "execution_count": 26,
   "metadata": {},
   "outputs": [],
   "source": [
    "sars_df = pd.read_csv(\"Dataset/SARS/sars_2003_complete_dataset_clean.csv\", parse_dates=['Date'])\n",
    "\n",
    "# Select and rename columns\n",
    "cols = ['Date', 'Country', 'Cumulative number of case(s)', 'Number of deaths']\n",
    "sars_df = sars_df[cols]\n",
    "sars_df.columns = ['Date', 'Country', 'Cases', 'Deaths']\n",
    "\n",
    "# Day by day\n",
    "s_dbd = sars_df.groupby(['Date'])['Cases', 'Deaths'].sum().reset_index()\n",
    "\n",
    "# nth-day\n",
    "sars_df['nth_day'] = (sars_df['Date'] - min(sars_df['Date'])).dt.days\n",
    "s_dbd['nth_day'] = sars_df.groupby('Date')['nth_day'].max().values\n",
    "\n",
    "s_dbd['epidemic'] = 'SARS'\n",
    "temp = sars_df[sars_df['Cases'] > 0]\n"
   ]
  },
  {
   "cell_type": "markdown",
   "metadata": {},
   "source": [
    "### Verifying form of Dataframes"
   ]
  },
  {
   "cell_type": "code",
   "execution_count": 27,
   "metadata": {},
   "outputs": [
    {
     "output_type": "stream",
     "name": "stdout",
     "text": "COVID\n          Date    Cases  Deaths  nth_day  epidemic\n96 2020-04-27  3041764  211167       96  COVID-19\n\n\nSARS\n          Date  Cases  Deaths  nth_day epidemic\n95 2003-07-11   8432     813      116     SARS\n\n\nEBOLA\n           Date  Cases  Deaths  nth_day epidemic\n258 2016-03-23  28642   11319      572    EBOLA\n\n\nMERS\n           Date  Cases  nth_day epidemic\n374 2019-06-10      2     2639     MERS\n"
    }
   ],
   "source": [
    "print(\"COVID\\n\", c_dbd.tail(1))\n",
    "print(\"\\n\\nSARS\\n\", s_dbd.tail(1))\n",
    "print(\"\\n\\nEBOLA\\n\", e_dbd.tail(1))\n",
    "print(\"\\n\\nMERS\\n\", m_dbd.tail(1))"
   ]
  },
  {
   "cell_type": "markdown",
   "metadata": {},
   "source": [
    "## Plotting Comparison\n"
   ]
  },
  {
   "cell_type": "code",
   "execution_count": 28,
   "metadata": {},
   "outputs": [],
   "source": [
    "temp = pd.concat([c_dbd, s_dbd, e_dbd], axis=0, sort=True)"
   ]
  },
  {
   "cell_type": "code",
   "execution_count": 29,
   "metadata": {},
   "outputs": [
    {
     "output_type": "display_data",
     "data": {
      "application/vnd.plotly.v1+json": {
       "config": {
        "plotlyServerURL": "https://plot.ly"
       },
       "data": [
        {
         "hovertemplate": "epidemic=COVID-19<br>nth_day=%{x}<br>Deaths=%{y}<extra></extra>",
         "legendgroup": "COVID-19",
         "line": {
          "color": "#636efa",
          "dash": "solid"
         },
         "mode": "lines",
         "name": "COVID-19",
         "showlegend": true,
         "type": "scatter",
         "x": [
          0,
          1,
          2,
          3,
          4,
          5,
          6,
          7,
          8,
          9,
          10,
          11,
          12,
          13,
          14,
          15,
          16,
          17,
          18,
          19,
          20,
          21,
          22,
          23,
          24,
          25,
          26,
          27,
          28,
          29,
          30,
          31,
          32,
          33,
          34,
          35,
          36,
          37,
          38,
          39,
          40,
          41,
          42,
          43,
          44,
          45,
          46,
          47,
          48,
          49,
          50,
          51,
          52,
          53,
          54,
          55,
          56,
          57,
          58,
          59,
          60,
          61,
          62,
          63,
          64,
          65,
          66,
          67,
          68,
          69,
          70,
          71,
          72,
          73,
          74,
          75,
          76,
          77,
          78,
          79,
          80,
          81,
          82,
          83,
          84,
          85,
          86,
          87,
          88,
          89,
          90,
          91,
          92,
          93,
          94,
          95,
          96
         ],
         "xaxis": "x",
         "y": [
          17,
          18,
          26,
          42,
          56,
          82,
          131,
          133,
          171,
          213,
          259,
          362,
          426,
          492,
          564,
          634,
          719,
          806,
          906,
          1013,
          1113,
          1118,
          1371,
          1523,
          1666,
          1770,
          1868,
          2007,
          2122,
          2247,
          2251,
          2458,
          2469,
          2629,
          2708,
          2770,
          2814,
          2872,
          2941,
          2996,
          3085,
          3160,
          3254,
          3348,
          3460,
          3558,
          3802,
          3988,
          4262,
          4615,
          4720,
          5404,
          5819,
          6440,
          7126,
          7905,
          8733,
          9867,
          11300,
          12973,
          14652,
          16506,
          18626,
          21182,
          23972,
          27202,
          30656,
          33929,
          37590,
          42109,
          47191,
          52999,
          58800,
          64626,
          69389,
          74596,
          81953,
          88380,
          95541,
          102573,
          108551,
          114123,
          119529,
          126071,
          134234,
          143853,
          153897,
          159615,
          165081,
          170013,
          176729,
          183180,
          190858,
          197174,
          202868,
          206568,
          211167
         ],
         "yaxis": "y"
        },
        {
         "hovertemplate": "epidemic=SARS<br>nth_day=%{x}<br>Deaths=%{y}<extra></extra>",
         "legendgroup": "SARS",
         "line": {
          "color": "#EF553B",
          "dash": "solid"
         },
         "mode": "lines",
         "name": "SARS",
         "showlegend": true,
         "type": "scatter",
         "x": [
          0,
          1,
          2,
          3,
          4,
          5,
          7,
          8,
          9,
          10,
          11,
          12,
          14,
          15,
          16,
          17,
          18,
          19,
          21,
          22,
          23,
          24,
          25,
          26,
          28,
          29,
          30,
          31,
          32,
          33,
          35,
          36,
          37,
          38,
          39,
          40,
          42,
          43,
          44,
          45,
          46,
          47,
          49,
          50,
          51,
          52,
          53,
          54,
          56,
          57,
          58,
          59,
          60,
          61,
          63,
          64,
          65,
          66,
          67,
          68,
          70,
          71,
          72,
          73,
          74,
          75,
          77,
          78,
          79,
          80,
          81,
          84,
          85,
          86,
          87,
          88,
          91,
          92,
          93,
          94,
          95,
          98,
          99,
          100,
          101,
          102,
          105,
          106,
          107,
          108,
          109,
          112,
          113,
          114,
          115,
          116
         ],
         "xaxis": "x",
         "y": [
          4,
          4,
          9,
          10,
          10,
          11,
          17,
          17,
          49,
          53,
          53,
          54,
          58,
          62,
          78,
          79,
          84,
          89,
          98,
          103,
          106,
          111,
          116,
          119,
          144,
          154,
          159,
          165,
          182,
          182,
          217,
          229,
          251,
          263,
          274,
          293,
          321,
          353,
          372,
          391,
          417,
          435,
          461,
          478,
          495,
          506,
          514,
          526,
          552,
          573,
          587,
          598,
          611,
          623,
          643,
          662,
          666,
          682,
          689,
          696,
          725,
          735,
          745,
          750,
          754,
          764,
          770,
          772,
          772,
          775,
          779,
          784,
          789,
          789,
          790,
          792,
          799,
          799,
          801,
          804,
          804,
          805,
          807,
          808,
          809,
          810,
          811,
          812,
          812,
          812,
          812,
          812,
          812,
          812,
          812,
          813
         ],
         "yaxis": "y"
        },
        {
         "hovertemplate": "epidemic=EBOLA<br>nth_day=%{x}<br>Deaths=%{y}<extra></extra>",
         "legendgroup": "EBOLA",
         "line": {
          "color": "#00cc96",
          "dash": "solid"
         },
         "mode": "lines",
         "name": "EBOLA",
         "showlegend": true,
         "type": "scatter",
         "x": [
          0,
          7,
          10,
          14,
          18,
          20,
          24,
          26,
          28,
          33,
          35,
          40,
          42,
          47,
          49,
          54,
          57,
          61,
          63,
          68,
          70,
          75,
          77,
          82,
          84,
          89,
          94,
          96,
          103,
          108,
          110,
          115,
          116,
          117,
          119,
          122,
          123,
          124,
          126,
          129,
          130,
          131,
          132,
          133,
          136,
          137,
          138,
          139,
          140,
          143,
          144,
          145,
          146,
          147,
          150,
          151,
          152,
          153,
          154,
          157,
          158,
          159,
          160,
          161,
          165,
          166,
          167,
          168,
          171,
          172,
          173,
          174,
          175,
          178,
          180,
          181,
          182,
          185,
          187,
          188,
          189,
          193,
          194,
          195,
          196,
          199,
          200,
          201,
          203,
          206,
          207,
          208,
          209,
          210,
          221,
          223,
          227,
          228,
          229,
          230,
          231,
          234,
          235,
          236,
          237,
          238,
          241,
          242,
          244,
          245,
          248,
          249,
          250,
          251,
          252,
          255,
          256,
          257,
          258,
          259,
          262,
          263,
          264,
          265,
          266,
          269,
          270,
          271,
          272,
          273,
          276,
          277,
          278,
          279,
          280,
          283,
          284,
          285,
          286,
          287,
          290,
          291,
          292,
          293,
          294,
          297,
          298,
          299,
          300,
          301,
          304,
          305,
          306,
          307,
          308,
          311,
          312,
          313,
          314,
          315,
          318,
          319,
          320,
          321,
          322,
          325,
          326,
          327,
          328,
          329,
          332,
          333,
          334,
          335,
          336,
          339,
          340,
          341,
          342,
          343,
          346,
          347,
          348,
          349,
          350,
          353,
          354,
          355,
          356,
          357,
          360,
          361,
          362,
          363,
          364,
          367,
          368,
          369,
          370,
          371,
          374,
          375,
          376,
          377,
          378,
          381,
          382,
          383,
          384,
          385,
          388,
          389,
          390,
          391,
          392,
          395,
          396,
          397,
          398,
          399,
          402,
          403,
          404,
          405,
          406,
          410,
          412,
          413,
          417,
          419,
          420,
          423,
          424,
          426,
          427,
          431,
          433,
          434,
          438,
          439,
          440,
          444,
          445,
          448,
          452,
          454,
          459,
          460,
          461,
          467,
          468,
          469,
          473,
          474,
          475,
          480,
          481,
          487,
          572
         ],
         "xaxis": "x",
         "y": [
          1553,
          2105,
          2296,
          2226,
          2461,
          2630,
          2811,
          2917,
          3091,
          3338,
          3439,
          3865,
          4032,
          4493,
          4555,
          4877,
          4922,
          4920,
          4951,
          4818,
          4960,
          5160,
          5177,
          5420,
          5459,
          5689,
          6002,
          6070,
          6388,
          6856,
          6915,
          7533,
          7580,
          7588,
          7708,
          7857,
          7894,
          7905,
          8004,
          8168,
          8235,
          8235,
          8265,
          8295,
          8377,
          8377,
          8429,
          8459,
          8483,
          8609,
          8641,
          8641,
          8683,
          8690,
          8752,
          8810,
          8810,
          8833,
          8844,
          8936,
          8974,
          8981,
          8994,
          9019,
          9177,
          9177,
          9209,
          9268,
          9368,
          9380,
          9380,
          9452,
          9457,
          9556,
          9604,
          9652,
          9675,
          9729,
          9729,
          9838,
          9855,
          9976,
          9976,
          10019,
          10111,
          10159,
          10194,
          10194,
          10251,
          10314,
          10326,
          10326,
          10353,
          10365,
          10588,
          10599,
          10619,
          10626,
          10704,
          10714,
          10717,
          10730,
          10736,
          10823,
          10835,
          10839,
          10857,
          10899,
          10905,
          10907,
          10910,
          10995,
          11020,
          11022,
          11022,
          11079,
          11080,
          11079,
          11087,
          11089,
          11132,
          11135,
          11135,
          11137,
          11140,
          11147,
          11149,
          11149,
          11155,
          11157,
          11160,
          11162,
          11162,
          11164,
          11164,
          11169,
          11173,
          11173,
          11178,
          11178,
          11183,
          11184,
          11184,
          11188,
          11193,
          11205,
          11222,
          11222,
          11232,
          11232,
          11235,
          11235,
          11235,
          11244,
          11253,
          11260,
          11261,
          11261,
          11268,
          11268,
          11274,
          11276,
          11276,
          11276,
          11279,
          11283,
          11284,
          11284,
          11288,
          11289,
          11293,
          11294,
          11294,
          11295,
          11295,
          11296,
          11296,
          11296,
          11298,
          11298,
          11298,
          11298,
          11298,
          11298,
          11299,
          11299,
          11299,
          11299,
          11301,
          11301,
          11302,
          11302,
          11302,
          11303,
          11303,
          11304,
          11305,
          11305,
          11305,
          11305,
          11306,
          11306,
          11306,
          11306,
          11306,
          11306,
          11306,
          11306,
          11308,
          11309,
          11310,
          11310,
          11310,
          11311,
          11311,
          11311,
          11311,
          11311,
          11311,
          11311,
          11312,
          11312,
          11312,
          11312,
          11312,
          11312,
          11312,
          11313,
          11313,
          11313,
          11313,
          11313,
          11313,
          11314,
          11314,
          11314,
          11314,
          11314,
          11314,
          11314,
          11314,
          11314,
          11314,
          11314,
          11314,
          11314,
          11314,
          11315,
          11315,
          11315,
          11315,
          11315,
          11315,
          11315,
          11315,
          11315,
          11315,
          11315,
          11319
         ],
         "yaxis": "y"
        }
       ],
       "layout": {
        "autosize": false,
        "height": 800,
        "legend": {
         "title": {
          "text": "epidemic"
         },
         "tracegroupgap": 0
        },
        "margin": {
         "t": 60
        },
        "template": {
         "data": {
          "bar": [
           {
            "error_x": {
             "color": "rgb(36,36,36)"
            },
            "error_y": {
             "color": "rgb(36,36,36)"
            },
            "marker": {
             "line": {
              "color": "white",
              "width": 0.5
             }
            },
            "type": "bar"
           }
          ],
          "barpolar": [
           {
            "marker": {
             "line": {
              "color": "white",
              "width": 0.5
             }
            },
            "type": "barpolar"
           }
          ],
          "carpet": [
           {
            "aaxis": {
             "endlinecolor": "rgb(36,36,36)",
             "gridcolor": "white",
             "linecolor": "white",
             "minorgridcolor": "white",
             "startlinecolor": "rgb(36,36,36)"
            },
            "baxis": {
             "endlinecolor": "rgb(36,36,36)",
             "gridcolor": "white",
             "linecolor": "white",
             "minorgridcolor": "white",
             "startlinecolor": "rgb(36,36,36)"
            },
            "type": "carpet"
           }
          ],
          "choropleth": [
           {
            "colorbar": {
             "outlinewidth": 1,
             "tickcolor": "rgb(36,36,36)",
             "ticks": "outside"
            },
            "type": "choropleth"
           }
          ],
          "contour": [
           {
            "colorbar": {
             "outlinewidth": 1,
             "tickcolor": "rgb(36,36,36)",
             "ticks": "outside"
            },
            "colorscale": [
             [
              0,
              "#440154"
             ],
             [
              0.1111111111111111,
              "#482878"
             ],
             [
              0.2222222222222222,
              "#3e4989"
             ],
             [
              0.3333333333333333,
              "#31688e"
             ],
             [
              0.4444444444444444,
              "#26828e"
             ],
             [
              0.5555555555555556,
              "#1f9e89"
             ],
             [
              0.6666666666666666,
              "#35b779"
             ],
             [
              0.7777777777777778,
              "#6ece58"
             ],
             [
              0.8888888888888888,
              "#b5de2b"
             ],
             [
              1,
              "#fde725"
             ]
            ],
            "type": "contour"
           }
          ],
          "contourcarpet": [
           {
            "colorbar": {
             "outlinewidth": 1,
             "tickcolor": "rgb(36,36,36)",
             "ticks": "outside"
            },
            "type": "contourcarpet"
           }
          ],
          "heatmap": [
           {
            "colorbar": {
             "outlinewidth": 1,
             "tickcolor": "rgb(36,36,36)",
             "ticks": "outside"
            },
            "colorscale": [
             [
              0,
              "#440154"
             ],
             [
              0.1111111111111111,
              "#482878"
             ],
             [
              0.2222222222222222,
              "#3e4989"
             ],
             [
              0.3333333333333333,
              "#31688e"
             ],
             [
              0.4444444444444444,
              "#26828e"
             ],
             [
              0.5555555555555556,
              "#1f9e89"
             ],
             [
              0.6666666666666666,
              "#35b779"
             ],
             [
              0.7777777777777778,
              "#6ece58"
             ],
             [
              0.8888888888888888,
              "#b5de2b"
             ],
             [
              1,
              "#fde725"
             ]
            ],
            "type": "heatmap"
           }
          ],
          "heatmapgl": [
           {
            "colorbar": {
             "outlinewidth": 1,
             "tickcolor": "rgb(36,36,36)",
             "ticks": "outside"
            },
            "colorscale": [
             [
              0,
              "#440154"
             ],
             [
              0.1111111111111111,
              "#482878"
             ],
             [
              0.2222222222222222,
              "#3e4989"
             ],
             [
              0.3333333333333333,
              "#31688e"
             ],
             [
              0.4444444444444444,
              "#26828e"
             ],
             [
              0.5555555555555556,
              "#1f9e89"
             ],
             [
              0.6666666666666666,
              "#35b779"
             ],
             [
              0.7777777777777778,
              "#6ece58"
             ],
             [
              0.8888888888888888,
              "#b5de2b"
             ],
             [
              1,
              "#fde725"
             ]
            ],
            "type": "heatmapgl"
           }
          ],
          "histogram": [
           {
            "marker": {
             "line": {
              "color": "white",
              "width": 0.6
             }
            },
            "type": "histogram"
           }
          ],
          "histogram2d": [
           {
            "colorbar": {
             "outlinewidth": 1,
             "tickcolor": "rgb(36,36,36)",
             "ticks": "outside"
            },
            "colorscale": [
             [
              0,
              "#440154"
             ],
             [
              0.1111111111111111,
              "#482878"
             ],
             [
              0.2222222222222222,
              "#3e4989"
             ],
             [
              0.3333333333333333,
              "#31688e"
             ],
             [
              0.4444444444444444,
              "#26828e"
             ],
             [
              0.5555555555555556,
              "#1f9e89"
             ],
             [
              0.6666666666666666,
              "#35b779"
             ],
             [
              0.7777777777777778,
              "#6ece58"
             ],
             [
              0.8888888888888888,
              "#b5de2b"
             ],
             [
              1,
              "#fde725"
             ]
            ],
            "type": "histogram2d"
           }
          ],
          "histogram2dcontour": [
           {
            "colorbar": {
             "outlinewidth": 1,
             "tickcolor": "rgb(36,36,36)",
             "ticks": "outside"
            },
            "colorscale": [
             [
              0,
              "#440154"
             ],
             [
              0.1111111111111111,
              "#482878"
             ],
             [
              0.2222222222222222,
              "#3e4989"
             ],
             [
              0.3333333333333333,
              "#31688e"
             ],
             [
              0.4444444444444444,
              "#26828e"
             ],
             [
              0.5555555555555556,
              "#1f9e89"
             ],
             [
              0.6666666666666666,
              "#35b779"
             ],
             [
              0.7777777777777778,
              "#6ece58"
             ],
             [
              0.8888888888888888,
              "#b5de2b"
             ],
             [
              1,
              "#fde725"
             ]
            ],
            "type": "histogram2dcontour"
           }
          ],
          "mesh3d": [
           {
            "colorbar": {
             "outlinewidth": 1,
             "tickcolor": "rgb(36,36,36)",
             "ticks": "outside"
            },
            "type": "mesh3d"
           }
          ],
          "parcoords": [
           {
            "line": {
             "colorbar": {
              "outlinewidth": 1,
              "tickcolor": "rgb(36,36,36)",
              "ticks": "outside"
             }
            },
            "type": "parcoords"
           }
          ],
          "pie": [
           {
            "automargin": true,
            "type": "pie"
           }
          ],
          "scatter": [
           {
            "marker": {
             "colorbar": {
              "outlinewidth": 1,
              "tickcolor": "rgb(36,36,36)",
              "ticks": "outside"
             }
            },
            "type": "scatter"
           }
          ],
          "scatter3d": [
           {
            "line": {
             "colorbar": {
              "outlinewidth": 1,
              "tickcolor": "rgb(36,36,36)",
              "ticks": "outside"
             }
            },
            "marker": {
             "colorbar": {
              "outlinewidth": 1,
              "tickcolor": "rgb(36,36,36)",
              "ticks": "outside"
             }
            },
            "type": "scatter3d"
           }
          ],
          "scattercarpet": [
           {
            "marker": {
             "colorbar": {
              "outlinewidth": 1,
              "tickcolor": "rgb(36,36,36)",
              "ticks": "outside"
             }
            },
            "type": "scattercarpet"
           }
          ],
          "scattergeo": [
           {
            "marker": {
             "colorbar": {
              "outlinewidth": 1,
              "tickcolor": "rgb(36,36,36)",
              "ticks": "outside"
             }
            },
            "type": "scattergeo"
           }
          ],
          "scattergl": [
           {
            "marker": {
             "colorbar": {
              "outlinewidth": 1,
              "tickcolor": "rgb(36,36,36)",
              "ticks": "outside"
             }
            },
            "type": "scattergl"
           }
          ],
          "scattermapbox": [
           {
            "marker": {
             "colorbar": {
              "outlinewidth": 1,
              "tickcolor": "rgb(36,36,36)",
              "ticks": "outside"
             }
            },
            "type": "scattermapbox"
           }
          ],
          "scatterpolar": [
           {
            "marker": {
             "colorbar": {
              "outlinewidth": 1,
              "tickcolor": "rgb(36,36,36)",
              "ticks": "outside"
             }
            },
            "type": "scatterpolar"
           }
          ],
          "scatterpolargl": [
           {
            "marker": {
             "colorbar": {
              "outlinewidth": 1,
              "tickcolor": "rgb(36,36,36)",
              "ticks": "outside"
             }
            },
            "type": "scatterpolargl"
           }
          ],
          "scatterternary": [
           {
            "marker": {
             "colorbar": {
              "outlinewidth": 1,
              "tickcolor": "rgb(36,36,36)",
              "ticks": "outside"
             }
            },
            "type": "scatterternary"
           }
          ],
          "surface": [
           {
            "colorbar": {
             "outlinewidth": 1,
             "tickcolor": "rgb(36,36,36)",
             "ticks": "outside"
            },
            "colorscale": [
             [
              0,
              "#440154"
             ],
             [
              0.1111111111111111,
              "#482878"
             ],
             [
              0.2222222222222222,
              "#3e4989"
             ],
             [
              0.3333333333333333,
              "#31688e"
             ],
             [
              0.4444444444444444,
              "#26828e"
             ],
             [
              0.5555555555555556,
              "#1f9e89"
             ],
             [
              0.6666666666666666,
              "#35b779"
             ],
             [
              0.7777777777777778,
              "#6ece58"
             ],
             [
              0.8888888888888888,
              "#b5de2b"
             ],
             [
              1,
              "#fde725"
             ]
            ],
            "type": "surface"
           }
          ],
          "table": [
           {
            "cells": {
             "fill": {
              "color": "rgb(237,237,237)"
             },
             "line": {
              "color": "white"
             }
            },
            "header": {
             "fill": {
              "color": "rgb(217,217,217)"
             },
             "line": {
              "color": "white"
             }
            },
            "type": "table"
           }
          ]
         },
         "layout": {
          "annotationdefaults": {
           "arrowhead": 0,
           "arrowwidth": 1
          },
          "coloraxis": {
           "colorbar": {
            "outlinewidth": 1,
            "tickcolor": "rgb(36,36,36)",
            "ticks": "outside"
           }
          },
          "colorscale": {
           "diverging": [
            [
             0,
             "rgb(103,0,31)"
            ],
            [
             0.1,
             "rgb(178,24,43)"
            ],
            [
             0.2,
             "rgb(214,96,77)"
            ],
            [
             0.3,
             "rgb(244,165,130)"
            ],
            [
             0.4,
             "rgb(253,219,199)"
            ],
            [
             0.5,
             "rgb(247,247,247)"
            ],
            [
             0.6,
             "rgb(209,229,240)"
            ],
            [
             0.7,
             "rgb(146,197,222)"
            ],
            [
             0.8,
             "rgb(67,147,195)"
            ],
            [
             0.9,
             "rgb(33,102,172)"
            ],
            [
             1,
             "rgb(5,48,97)"
            ]
           ],
           "sequential": [
            [
             0,
             "#440154"
            ],
            [
             0.1111111111111111,
             "#482878"
            ],
            [
             0.2222222222222222,
             "#3e4989"
            ],
            [
             0.3333333333333333,
             "#31688e"
            ],
            [
             0.4444444444444444,
             "#26828e"
            ],
            [
             0.5555555555555556,
             "#1f9e89"
            ],
            [
             0.6666666666666666,
             "#35b779"
            ],
            [
             0.7777777777777778,
             "#6ece58"
            ],
            [
             0.8888888888888888,
             "#b5de2b"
            ],
            [
             1,
             "#fde725"
            ]
           ],
           "sequentialminus": [
            [
             0,
             "#440154"
            ],
            [
             0.1111111111111111,
             "#482878"
            ],
            [
             0.2222222222222222,
             "#3e4989"
            ],
            [
             0.3333333333333333,
             "#31688e"
            ],
            [
             0.4444444444444444,
             "#26828e"
            ],
            [
             0.5555555555555556,
             "#1f9e89"
            ],
            [
             0.6666666666666666,
             "#35b779"
            ],
            [
             0.7777777777777778,
             "#6ece58"
            ],
            [
             0.8888888888888888,
             "#b5de2b"
            ],
            [
             1,
             "#fde725"
            ]
           ]
          },
          "colorway": [
           "#1F77B4",
           "#FF7F0E",
           "#2CA02C",
           "#D62728",
           "#9467BD",
           "#8C564B",
           "#E377C2",
           "#7F7F7F",
           "#BCBD22",
           "#17BECF"
          ],
          "font": {
           "color": "rgb(36,36,36)"
          },
          "geo": {
           "bgcolor": "white",
           "lakecolor": "white",
           "landcolor": "white",
           "showlakes": true,
           "showland": true,
           "subunitcolor": "white"
          },
          "hoverlabel": {
           "align": "left"
          },
          "hovermode": "closest",
          "mapbox": {
           "style": "light"
          },
          "paper_bgcolor": "white",
          "plot_bgcolor": "white",
          "polar": {
           "angularaxis": {
            "gridcolor": "rgb(232,232,232)",
            "linecolor": "rgb(36,36,36)",
            "showgrid": false,
            "showline": true,
            "ticks": "outside"
           },
           "bgcolor": "white",
           "radialaxis": {
            "gridcolor": "rgb(232,232,232)",
            "linecolor": "rgb(36,36,36)",
            "showgrid": false,
            "showline": true,
            "ticks": "outside"
           }
          },
          "scene": {
           "xaxis": {
            "backgroundcolor": "white",
            "gridcolor": "rgb(232,232,232)",
            "gridwidth": 2,
            "linecolor": "rgb(36,36,36)",
            "showbackground": true,
            "showgrid": false,
            "showline": true,
            "ticks": "outside",
            "zeroline": false,
            "zerolinecolor": "rgb(36,36,36)"
           },
           "yaxis": {
            "backgroundcolor": "white",
            "gridcolor": "rgb(232,232,232)",
            "gridwidth": 2,
            "linecolor": "rgb(36,36,36)",
            "showbackground": true,
            "showgrid": false,
            "showline": true,
            "ticks": "outside",
            "zeroline": false,
            "zerolinecolor": "rgb(36,36,36)"
           },
           "zaxis": {
            "backgroundcolor": "white",
            "gridcolor": "rgb(232,232,232)",
            "gridwidth": 2,
            "linecolor": "rgb(36,36,36)",
            "showbackground": true,
            "showgrid": false,
            "showline": true,
            "ticks": "outside",
            "zeroline": false,
            "zerolinecolor": "rgb(36,36,36)"
           }
          },
          "shapedefaults": {
           "fillcolor": "black",
           "line": {
            "width": 0
           },
           "opacity": 0.3
          },
          "ternary": {
           "aaxis": {
            "gridcolor": "rgb(232,232,232)",
            "linecolor": "rgb(36,36,36)",
            "showgrid": false,
            "showline": true,
            "ticks": "outside"
           },
           "baxis": {
            "gridcolor": "rgb(232,232,232)",
            "linecolor": "rgb(36,36,36)",
            "showgrid": false,
            "showline": true,
            "ticks": "outside"
           },
           "bgcolor": "white",
           "caxis": {
            "gridcolor": "rgb(232,232,232)",
            "linecolor": "rgb(36,36,36)",
            "showgrid": false,
            "showline": true,
            "ticks": "outside"
           }
          },
          "title": {
           "x": 0.05
          },
          "xaxis": {
           "automargin": true,
           "gridcolor": "rgb(232,232,232)",
           "linecolor": "rgb(36,36,36)",
           "showgrid": false,
           "showline": true,
           "ticks": "outside",
           "title": {
            "standoff": 15
           },
           "zeroline": false,
           "zerolinecolor": "rgb(36,36,36)"
          },
          "yaxis": {
           "automargin": true,
           "gridcolor": "rgb(232,232,232)",
           "linecolor": "rgb(36,36,36)",
           "showgrid": false,
           "showline": true,
           "ticks": "outside",
           "title": {
            "standoff": 15
           },
           "zeroline": false,
           "zerolinecolor": "rgb(36,36,36)"
          }
         }
        },
        "title": {
         "text": "The first 100 days of COVID-19"
        },
        "width": 800,
        "xaxis": {
         "anchor": "y",
         "domain": [
          0,
          1
         ],
         "range": [
          0,
          100
         ],
         "title": {
          "text": "nth_day"
         }
        },
        "yaxis": {
         "anchor": "x",
         "domain": [
          0,
          1
         ],
         "title": {
          "text": "Deaths"
         },
         "type": "linear"
        }
       }
      }
     },
     "metadata": {}
    }
   ],
   "source": [
    "df = temp\n",
    "\n",
    "fig = px.line(df, x=\"nth_day\", y=\"Deaths\", color='epidemic', range_x=[0, 100])\n",
    "\n",
    "\n",
    "fig.update_layout(\n",
    "    title='The first 100 days of COVID-19',\n",
    "    autosize=False,\n",
    "    width=800,\n",
    "    height=800,\n",
    "    template='simple_white',  \n",
    ")\n",
    "\n",
    "fig.update_yaxes(type=\"linear\")\n",
    "\n",
    "#fig.write_image(\"images/linear_comparison_2.pdf\")\n",
    "fig.show()"
   ]
  },
  {
   "cell_type": "code",
   "execution_count": 30,
   "metadata": {},
   "outputs": [
    {
     "output_type": "display_data",
     "data": {
      "application/vnd.plotly.v1+json": {
       "config": {
        "plotlyServerURL": "https://plot.ly"
       },
       "data": [
        {
         "hovertemplate": "epidemic=COVID-19<br>nth_day=%{x}<br>Deaths=%{y}<extra></extra>",
         "legendgroup": "COVID-19",
         "line": {
          "color": "#636efa",
          "dash": "solid"
         },
         "mode": "lines",
         "name": "COVID-19",
         "showlegend": true,
         "type": "scatter",
         "x": [
          0,
          1,
          2,
          3,
          4,
          5,
          6,
          7,
          8,
          9,
          10,
          11,
          12,
          13,
          14,
          15,
          16,
          17,
          18,
          19,
          20,
          21,
          22,
          23,
          24,
          25,
          26,
          27,
          28,
          29,
          30,
          31,
          32,
          33,
          34,
          35,
          36,
          37,
          38,
          39,
          40,
          41,
          42,
          43,
          44,
          45,
          46,
          47,
          48,
          49,
          50,
          51,
          52,
          53,
          54,
          55,
          56,
          57,
          58,
          59,
          60,
          61,
          62,
          63,
          64,
          65,
          66,
          67,
          68,
          69,
          70,
          71,
          72,
          73,
          74,
          75,
          76,
          77,
          78,
          79,
          80,
          81,
          82,
          83,
          84,
          85,
          86,
          87,
          88,
          89,
          90,
          91,
          92,
          93,
          94,
          95,
          96
         ],
         "xaxis": "x",
         "y": [
          17,
          18,
          26,
          42,
          56,
          82,
          131,
          133,
          171,
          213,
          259,
          362,
          426,
          492,
          564,
          634,
          719,
          806,
          906,
          1013,
          1113,
          1118,
          1371,
          1523,
          1666,
          1770,
          1868,
          2007,
          2122,
          2247,
          2251,
          2458,
          2469,
          2629,
          2708,
          2770,
          2814,
          2872,
          2941,
          2996,
          3085,
          3160,
          3254,
          3348,
          3460,
          3558,
          3802,
          3988,
          4262,
          4615,
          4720,
          5404,
          5819,
          6440,
          7126,
          7905,
          8733,
          9867,
          11300,
          12973,
          14652,
          16506,
          18626,
          21182,
          23972,
          27202,
          30656,
          33929,
          37590,
          42109,
          47191,
          52999,
          58800,
          64626,
          69389,
          74596,
          81953,
          88380,
          95541,
          102573,
          108551,
          114123,
          119529,
          126071,
          134234,
          143853,
          153897,
          159615,
          165081,
          170013,
          176729,
          183180,
          190858,
          197174,
          202868,
          206568,
          211167
         ],
         "yaxis": "y"
        },
        {
         "hovertemplate": "epidemic=SARS<br>nth_day=%{x}<br>Deaths=%{y}<extra></extra>",
         "legendgroup": "SARS",
         "line": {
          "color": "#EF553B",
          "dash": "solid"
         },
         "mode": "lines",
         "name": "SARS",
         "showlegend": true,
         "type": "scatter",
         "x": [
          0,
          1,
          2,
          3,
          4,
          5,
          7,
          8,
          9,
          10,
          11,
          12,
          14,
          15,
          16,
          17,
          18,
          19,
          21,
          22,
          23,
          24,
          25,
          26,
          28,
          29,
          30,
          31,
          32,
          33,
          35,
          36,
          37,
          38,
          39,
          40,
          42,
          43,
          44,
          45,
          46,
          47,
          49,
          50,
          51,
          52,
          53,
          54,
          56,
          57,
          58,
          59,
          60,
          61,
          63,
          64,
          65,
          66,
          67,
          68,
          70,
          71,
          72,
          73,
          74,
          75,
          77,
          78,
          79,
          80,
          81,
          84,
          85,
          86,
          87,
          88,
          91,
          92,
          93,
          94,
          95,
          98,
          99,
          100,
          101,
          102,
          105,
          106,
          107,
          108,
          109,
          112,
          113,
          114,
          115,
          116
         ],
         "xaxis": "x",
         "y": [
          4,
          4,
          9,
          10,
          10,
          11,
          17,
          17,
          49,
          53,
          53,
          54,
          58,
          62,
          78,
          79,
          84,
          89,
          98,
          103,
          106,
          111,
          116,
          119,
          144,
          154,
          159,
          165,
          182,
          182,
          217,
          229,
          251,
          263,
          274,
          293,
          321,
          353,
          372,
          391,
          417,
          435,
          461,
          478,
          495,
          506,
          514,
          526,
          552,
          573,
          587,
          598,
          611,
          623,
          643,
          662,
          666,
          682,
          689,
          696,
          725,
          735,
          745,
          750,
          754,
          764,
          770,
          772,
          772,
          775,
          779,
          784,
          789,
          789,
          790,
          792,
          799,
          799,
          801,
          804,
          804,
          805,
          807,
          808,
          809,
          810,
          811,
          812,
          812,
          812,
          812,
          812,
          812,
          812,
          812,
          813
         ],
         "yaxis": "y"
        },
        {
         "hovertemplate": "epidemic=EBOLA<br>nth_day=%{x}<br>Deaths=%{y}<extra></extra>",
         "legendgroup": "EBOLA",
         "line": {
          "color": "#00cc96",
          "dash": "solid"
         },
         "mode": "lines",
         "name": "EBOLA",
         "showlegend": true,
         "type": "scatter",
         "x": [
          0,
          7,
          10,
          14,
          18,
          20,
          24,
          26,
          28,
          33,
          35,
          40,
          42,
          47,
          49,
          54,
          57,
          61,
          63,
          68,
          70,
          75,
          77,
          82,
          84,
          89,
          94,
          96,
          103,
          108,
          110,
          115,
          116,
          117,
          119,
          122,
          123,
          124,
          126,
          129,
          130,
          131,
          132,
          133,
          136,
          137,
          138,
          139,
          140,
          143,
          144,
          145,
          146,
          147,
          150,
          151,
          152,
          153,
          154,
          157,
          158,
          159,
          160,
          161,
          165,
          166,
          167,
          168,
          171,
          172,
          173,
          174,
          175,
          178,
          180,
          181,
          182,
          185,
          187,
          188,
          189,
          193,
          194,
          195,
          196,
          199,
          200,
          201,
          203,
          206,
          207,
          208,
          209,
          210,
          221,
          223,
          227,
          228,
          229,
          230,
          231,
          234,
          235,
          236,
          237,
          238,
          241,
          242,
          244,
          245,
          248,
          249,
          250,
          251,
          252,
          255,
          256,
          257,
          258,
          259,
          262,
          263,
          264,
          265,
          266,
          269,
          270,
          271,
          272,
          273,
          276,
          277,
          278,
          279,
          280,
          283,
          284,
          285,
          286,
          287,
          290,
          291,
          292,
          293,
          294,
          297,
          298,
          299,
          300,
          301,
          304,
          305,
          306,
          307,
          308,
          311,
          312,
          313,
          314,
          315,
          318,
          319,
          320,
          321,
          322,
          325,
          326,
          327,
          328,
          329,
          332,
          333,
          334,
          335,
          336,
          339,
          340,
          341,
          342,
          343,
          346,
          347,
          348,
          349,
          350,
          353,
          354,
          355,
          356,
          357,
          360,
          361,
          362,
          363,
          364,
          367,
          368,
          369,
          370,
          371,
          374,
          375,
          376,
          377,
          378,
          381,
          382,
          383,
          384,
          385,
          388,
          389,
          390,
          391,
          392,
          395,
          396,
          397,
          398,
          399,
          402,
          403,
          404,
          405,
          406,
          410,
          412,
          413,
          417,
          419,
          420,
          423,
          424,
          426,
          427,
          431,
          433,
          434,
          438,
          439,
          440,
          444,
          445,
          448,
          452,
          454,
          459,
          460,
          461,
          467,
          468,
          469,
          473,
          474,
          475,
          480,
          481,
          487,
          572
         ],
         "xaxis": "x",
         "y": [
          1553,
          2105,
          2296,
          2226,
          2461,
          2630,
          2811,
          2917,
          3091,
          3338,
          3439,
          3865,
          4032,
          4493,
          4555,
          4877,
          4922,
          4920,
          4951,
          4818,
          4960,
          5160,
          5177,
          5420,
          5459,
          5689,
          6002,
          6070,
          6388,
          6856,
          6915,
          7533,
          7580,
          7588,
          7708,
          7857,
          7894,
          7905,
          8004,
          8168,
          8235,
          8235,
          8265,
          8295,
          8377,
          8377,
          8429,
          8459,
          8483,
          8609,
          8641,
          8641,
          8683,
          8690,
          8752,
          8810,
          8810,
          8833,
          8844,
          8936,
          8974,
          8981,
          8994,
          9019,
          9177,
          9177,
          9209,
          9268,
          9368,
          9380,
          9380,
          9452,
          9457,
          9556,
          9604,
          9652,
          9675,
          9729,
          9729,
          9838,
          9855,
          9976,
          9976,
          10019,
          10111,
          10159,
          10194,
          10194,
          10251,
          10314,
          10326,
          10326,
          10353,
          10365,
          10588,
          10599,
          10619,
          10626,
          10704,
          10714,
          10717,
          10730,
          10736,
          10823,
          10835,
          10839,
          10857,
          10899,
          10905,
          10907,
          10910,
          10995,
          11020,
          11022,
          11022,
          11079,
          11080,
          11079,
          11087,
          11089,
          11132,
          11135,
          11135,
          11137,
          11140,
          11147,
          11149,
          11149,
          11155,
          11157,
          11160,
          11162,
          11162,
          11164,
          11164,
          11169,
          11173,
          11173,
          11178,
          11178,
          11183,
          11184,
          11184,
          11188,
          11193,
          11205,
          11222,
          11222,
          11232,
          11232,
          11235,
          11235,
          11235,
          11244,
          11253,
          11260,
          11261,
          11261,
          11268,
          11268,
          11274,
          11276,
          11276,
          11276,
          11279,
          11283,
          11284,
          11284,
          11288,
          11289,
          11293,
          11294,
          11294,
          11295,
          11295,
          11296,
          11296,
          11296,
          11298,
          11298,
          11298,
          11298,
          11298,
          11298,
          11299,
          11299,
          11299,
          11299,
          11301,
          11301,
          11302,
          11302,
          11302,
          11303,
          11303,
          11304,
          11305,
          11305,
          11305,
          11305,
          11306,
          11306,
          11306,
          11306,
          11306,
          11306,
          11306,
          11306,
          11308,
          11309,
          11310,
          11310,
          11310,
          11311,
          11311,
          11311,
          11311,
          11311,
          11311,
          11311,
          11312,
          11312,
          11312,
          11312,
          11312,
          11312,
          11312,
          11313,
          11313,
          11313,
          11313,
          11313,
          11313,
          11314,
          11314,
          11314,
          11314,
          11314,
          11314,
          11314,
          11314,
          11314,
          11314,
          11314,
          11314,
          11314,
          11314,
          11315,
          11315,
          11315,
          11315,
          11315,
          11315,
          11315,
          11315,
          11315,
          11315,
          11315,
          11319
         ],
         "yaxis": "y"
        }
       ],
       "layout": {
        "autosize": false,
        "height": 800,
        "legend": {
         "title": {
          "text": "epidemic"
         },
         "tracegroupgap": 0
        },
        "margin": {
         "t": 60
        },
        "template": {
         "data": {
          "bar": [
           {
            "error_x": {
             "color": "rgb(36,36,36)"
            },
            "error_y": {
             "color": "rgb(36,36,36)"
            },
            "marker": {
             "line": {
              "color": "white",
              "width": 0.5
             }
            },
            "type": "bar"
           }
          ],
          "barpolar": [
           {
            "marker": {
             "line": {
              "color": "white",
              "width": 0.5
             }
            },
            "type": "barpolar"
           }
          ],
          "carpet": [
           {
            "aaxis": {
             "endlinecolor": "rgb(36,36,36)",
             "gridcolor": "white",
             "linecolor": "white",
             "minorgridcolor": "white",
             "startlinecolor": "rgb(36,36,36)"
            },
            "baxis": {
             "endlinecolor": "rgb(36,36,36)",
             "gridcolor": "white",
             "linecolor": "white",
             "minorgridcolor": "white",
             "startlinecolor": "rgb(36,36,36)"
            },
            "type": "carpet"
           }
          ],
          "choropleth": [
           {
            "colorbar": {
             "outlinewidth": 1,
             "tickcolor": "rgb(36,36,36)",
             "ticks": "outside"
            },
            "type": "choropleth"
           }
          ],
          "contour": [
           {
            "colorbar": {
             "outlinewidth": 1,
             "tickcolor": "rgb(36,36,36)",
             "ticks": "outside"
            },
            "colorscale": [
             [
              0,
              "#440154"
             ],
             [
              0.1111111111111111,
              "#482878"
             ],
             [
              0.2222222222222222,
              "#3e4989"
             ],
             [
              0.3333333333333333,
              "#31688e"
             ],
             [
              0.4444444444444444,
              "#26828e"
             ],
             [
              0.5555555555555556,
              "#1f9e89"
             ],
             [
              0.6666666666666666,
              "#35b779"
             ],
             [
              0.7777777777777778,
              "#6ece58"
             ],
             [
              0.8888888888888888,
              "#b5de2b"
             ],
             [
              1,
              "#fde725"
             ]
            ],
            "type": "contour"
           }
          ],
          "contourcarpet": [
           {
            "colorbar": {
             "outlinewidth": 1,
             "tickcolor": "rgb(36,36,36)",
             "ticks": "outside"
            },
            "type": "contourcarpet"
           }
          ],
          "heatmap": [
           {
            "colorbar": {
             "outlinewidth": 1,
             "tickcolor": "rgb(36,36,36)",
             "ticks": "outside"
            },
            "colorscale": [
             [
              0,
              "#440154"
             ],
             [
              0.1111111111111111,
              "#482878"
             ],
             [
              0.2222222222222222,
              "#3e4989"
             ],
             [
              0.3333333333333333,
              "#31688e"
             ],
             [
              0.4444444444444444,
              "#26828e"
             ],
             [
              0.5555555555555556,
              "#1f9e89"
             ],
             [
              0.6666666666666666,
              "#35b779"
             ],
             [
              0.7777777777777778,
              "#6ece58"
             ],
             [
              0.8888888888888888,
              "#b5de2b"
             ],
             [
              1,
              "#fde725"
             ]
            ],
            "type": "heatmap"
           }
          ],
          "heatmapgl": [
           {
            "colorbar": {
             "outlinewidth": 1,
             "tickcolor": "rgb(36,36,36)",
             "ticks": "outside"
            },
            "colorscale": [
             [
              0,
              "#440154"
             ],
             [
              0.1111111111111111,
              "#482878"
             ],
             [
              0.2222222222222222,
              "#3e4989"
             ],
             [
              0.3333333333333333,
              "#31688e"
             ],
             [
              0.4444444444444444,
              "#26828e"
             ],
             [
              0.5555555555555556,
              "#1f9e89"
             ],
             [
              0.6666666666666666,
              "#35b779"
             ],
             [
              0.7777777777777778,
              "#6ece58"
             ],
             [
              0.8888888888888888,
              "#b5de2b"
             ],
             [
              1,
              "#fde725"
             ]
            ],
            "type": "heatmapgl"
           }
          ],
          "histogram": [
           {
            "marker": {
             "line": {
              "color": "white",
              "width": 0.6
             }
            },
            "type": "histogram"
           }
          ],
          "histogram2d": [
           {
            "colorbar": {
             "outlinewidth": 1,
             "tickcolor": "rgb(36,36,36)",
             "ticks": "outside"
            },
            "colorscale": [
             [
              0,
              "#440154"
             ],
             [
              0.1111111111111111,
              "#482878"
             ],
             [
              0.2222222222222222,
              "#3e4989"
             ],
             [
              0.3333333333333333,
              "#31688e"
             ],
             [
              0.4444444444444444,
              "#26828e"
             ],
             [
              0.5555555555555556,
              "#1f9e89"
             ],
             [
              0.6666666666666666,
              "#35b779"
             ],
             [
              0.7777777777777778,
              "#6ece58"
             ],
             [
              0.8888888888888888,
              "#b5de2b"
             ],
             [
              1,
              "#fde725"
             ]
            ],
            "type": "histogram2d"
           }
          ],
          "histogram2dcontour": [
           {
            "colorbar": {
             "outlinewidth": 1,
             "tickcolor": "rgb(36,36,36)",
             "ticks": "outside"
            },
            "colorscale": [
             [
              0,
              "#440154"
             ],
             [
              0.1111111111111111,
              "#482878"
             ],
             [
              0.2222222222222222,
              "#3e4989"
             ],
             [
              0.3333333333333333,
              "#31688e"
             ],
             [
              0.4444444444444444,
              "#26828e"
             ],
             [
              0.5555555555555556,
              "#1f9e89"
             ],
             [
              0.6666666666666666,
              "#35b779"
             ],
             [
              0.7777777777777778,
              "#6ece58"
             ],
             [
              0.8888888888888888,
              "#b5de2b"
             ],
             [
              1,
              "#fde725"
             ]
            ],
            "type": "histogram2dcontour"
           }
          ],
          "mesh3d": [
           {
            "colorbar": {
             "outlinewidth": 1,
             "tickcolor": "rgb(36,36,36)",
             "ticks": "outside"
            },
            "type": "mesh3d"
           }
          ],
          "parcoords": [
           {
            "line": {
             "colorbar": {
              "outlinewidth": 1,
              "tickcolor": "rgb(36,36,36)",
              "ticks": "outside"
             }
            },
            "type": "parcoords"
           }
          ],
          "pie": [
           {
            "automargin": true,
            "type": "pie"
           }
          ],
          "scatter": [
           {
            "marker": {
             "colorbar": {
              "outlinewidth": 1,
              "tickcolor": "rgb(36,36,36)",
              "ticks": "outside"
             }
            },
            "type": "scatter"
           }
          ],
          "scatter3d": [
           {
            "line": {
             "colorbar": {
              "outlinewidth": 1,
              "tickcolor": "rgb(36,36,36)",
              "ticks": "outside"
             }
            },
            "marker": {
             "colorbar": {
              "outlinewidth": 1,
              "tickcolor": "rgb(36,36,36)",
              "ticks": "outside"
             }
            },
            "type": "scatter3d"
           }
          ],
          "scattercarpet": [
           {
            "marker": {
             "colorbar": {
              "outlinewidth": 1,
              "tickcolor": "rgb(36,36,36)",
              "ticks": "outside"
             }
            },
            "type": "scattercarpet"
           }
          ],
          "scattergeo": [
           {
            "marker": {
             "colorbar": {
              "outlinewidth": 1,
              "tickcolor": "rgb(36,36,36)",
              "ticks": "outside"
             }
            },
            "type": "scattergeo"
           }
          ],
          "scattergl": [
           {
            "marker": {
             "colorbar": {
              "outlinewidth": 1,
              "tickcolor": "rgb(36,36,36)",
              "ticks": "outside"
             }
            },
            "type": "scattergl"
           }
          ],
          "scattermapbox": [
           {
            "marker": {
             "colorbar": {
              "outlinewidth": 1,
              "tickcolor": "rgb(36,36,36)",
              "ticks": "outside"
             }
            },
            "type": "scattermapbox"
           }
          ],
          "scatterpolar": [
           {
            "marker": {
             "colorbar": {
              "outlinewidth": 1,
              "tickcolor": "rgb(36,36,36)",
              "ticks": "outside"
             }
            },
            "type": "scatterpolar"
           }
          ],
          "scatterpolargl": [
           {
            "marker": {
             "colorbar": {
              "outlinewidth": 1,
              "tickcolor": "rgb(36,36,36)",
              "ticks": "outside"
             }
            },
            "type": "scatterpolargl"
           }
          ],
          "scatterternary": [
           {
            "marker": {
             "colorbar": {
              "outlinewidth": 1,
              "tickcolor": "rgb(36,36,36)",
              "ticks": "outside"
             }
            },
            "type": "scatterternary"
           }
          ],
          "surface": [
           {
            "colorbar": {
             "outlinewidth": 1,
             "tickcolor": "rgb(36,36,36)",
             "ticks": "outside"
            },
            "colorscale": [
             [
              0,
              "#440154"
             ],
             [
              0.1111111111111111,
              "#482878"
             ],
             [
              0.2222222222222222,
              "#3e4989"
             ],
             [
              0.3333333333333333,
              "#31688e"
             ],
             [
              0.4444444444444444,
              "#26828e"
             ],
             [
              0.5555555555555556,
              "#1f9e89"
             ],
             [
              0.6666666666666666,
              "#35b779"
             ],
             [
              0.7777777777777778,
              "#6ece58"
             ],
             [
              0.8888888888888888,
              "#b5de2b"
             ],
             [
              1,
              "#fde725"
             ]
            ],
            "type": "surface"
           }
          ],
          "table": [
           {
            "cells": {
             "fill": {
              "color": "rgb(237,237,237)"
             },
             "line": {
              "color": "white"
             }
            },
            "header": {
             "fill": {
              "color": "rgb(217,217,217)"
             },
             "line": {
              "color": "white"
             }
            },
            "type": "table"
           }
          ]
         },
         "layout": {
          "annotationdefaults": {
           "arrowhead": 0,
           "arrowwidth": 1
          },
          "coloraxis": {
           "colorbar": {
            "outlinewidth": 1,
            "tickcolor": "rgb(36,36,36)",
            "ticks": "outside"
           }
          },
          "colorscale": {
           "diverging": [
            [
             0,
             "rgb(103,0,31)"
            ],
            [
             0.1,
             "rgb(178,24,43)"
            ],
            [
             0.2,
             "rgb(214,96,77)"
            ],
            [
             0.3,
             "rgb(244,165,130)"
            ],
            [
             0.4,
             "rgb(253,219,199)"
            ],
            [
             0.5,
             "rgb(247,247,247)"
            ],
            [
             0.6,
             "rgb(209,229,240)"
            ],
            [
             0.7,
             "rgb(146,197,222)"
            ],
            [
             0.8,
             "rgb(67,147,195)"
            ],
            [
             0.9,
             "rgb(33,102,172)"
            ],
            [
             1,
             "rgb(5,48,97)"
            ]
           ],
           "sequential": [
            [
             0,
             "#440154"
            ],
            [
             0.1111111111111111,
             "#482878"
            ],
            [
             0.2222222222222222,
             "#3e4989"
            ],
            [
             0.3333333333333333,
             "#31688e"
            ],
            [
             0.4444444444444444,
             "#26828e"
            ],
            [
             0.5555555555555556,
             "#1f9e89"
            ],
            [
             0.6666666666666666,
             "#35b779"
            ],
            [
             0.7777777777777778,
             "#6ece58"
            ],
            [
             0.8888888888888888,
             "#b5de2b"
            ],
            [
             1,
             "#fde725"
            ]
           ],
           "sequentialminus": [
            [
             0,
             "#440154"
            ],
            [
             0.1111111111111111,
             "#482878"
            ],
            [
             0.2222222222222222,
             "#3e4989"
            ],
            [
             0.3333333333333333,
             "#31688e"
            ],
            [
             0.4444444444444444,
             "#26828e"
            ],
            [
             0.5555555555555556,
             "#1f9e89"
            ],
            [
             0.6666666666666666,
             "#35b779"
            ],
            [
             0.7777777777777778,
             "#6ece58"
            ],
            [
             0.8888888888888888,
             "#b5de2b"
            ],
            [
             1,
             "#fde725"
            ]
           ]
          },
          "colorway": [
           "#1F77B4",
           "#FF7F0E",
           "#2CA02C",
           "#D62728",
           "#9467BD",
           "#8C564B",
           "#E377C2",
           "#7F7F7F",
           "#BCBD22",
           "#17BECF"
          ],
          "font": {
           "color": "rgb(36,36,36)"
          },
          "geo": {
           "bgcolor": "white",
           "lakecolor": "white",
           "landcolor": "white",
           "showlakes": true,
           "showland": true,
           "subunitcolor": "white"
          },
          "hoverlabel": {
           "align": "left"
          },
          "hovermode": "closest",
          "mapbox": {
           "style": "light"
          },
          "paper_bgcolor": "white",
          "plot_bgcolor": "white",
          "polar": {
           "angularaxis": {
            "gridcolor": "rgb(232,232,232)",
            "linecolor": "rgb(36,36,36)",
            "showgrid": false,
            "showline": true,
            "ticks": "outside"
           },
           "bgcolor": "white",
           "radialaxis": {
            "gridcolor": "rgb(232,232,232)",
            "linecolor": "rgb(36,36,36)",
            "showgrid": false,
            "showline": true,
            "ticks": "outside"
           }
          },
          "scene": {
           "xaxis": {
            "backgroundcolor": "white",
            "gridcolor": "rgb(232,232,232)",
            "gridwidth": 2,
            "linecolor": "rgb(36,36,36)",
            "showbackground": true,
            "showgrid": false,
            "showline": true,
            "ticks": "outside",
            "zeroline": false,
            "zerolinecolor": "rgb(36,36,36)"
           },
           "yaxis": {
            "backgroundcolor": "white",
            "gridcolor": "rgb(232,232,232)",
            "gridwidth": 2,
            "linecolor": "rgb(36,36,36)",
            "showbackground": true,
            "showgrid": false,
            "showline": true,
            "ticks": "outside",
            "zeroline": false,
            "zerolinecolor": "rgb(36,36,36)"
           },
           "zaxis": {
            "backgroundcolor": "white",
            "gridcolor": "rgb(232,232,232)",
            "gridwidth": 2,
            "linecolor": "rgb(36,36,36)",
            "showbackground": true,
            "showgrid": false,
            "showline": true,
            "ticks": "outside",
            "zeroline": false,
            "zerolinecolor": "rgb(36,36,36)"
           }
          },
          "shapedefaults": {
           "fillcolor": "black",
           "line": {
            "width": 0
           },
           "opacity": 0.3
          },
          "ternary": {
           "aaxis": {
            "gridcolor": "rgb(232,232,232)",
            "linecolor": "rgb(36,36,36)",
            "showgrid": false,
            "showline": true,
            "ticks": "outside"
           },
           "baxis": {
            "gridcolor": "rgb(232,232,232)",
            "linecolor": "rgb(36,36,36)",
            "showgrid": false,
            "showline": true,
            "ticks": "outside"
           },
           "bgcolor": "white",
           "caxis": {
            "gridcolor": "rgb(232,232,232)",
            "linecolor": "rgb(36,36,36)",
            "showgrid": false,
            "showline": true,
            "ticks": "outside"
           }
          },
          "title": {
           "x": 0.05
          },
          "xaxis": {
           "automargin": true,
           "gridcolor": "rgb(232,232,232)",
           "linecolor": "rgb(36,36,36)",
           "showgrid": false,
           "showline": true,
           "ticks": "outside",
           "title": {
            "standoff": 15
           },
           "zeroline": false,
           "zerolinecolor": "rgb(36,36,36)"
          },
          "yaxis": {
           "automargin": true,
           "gridcolor": "rgb(232,232,232)",
           "linecolor": "rgb(36,36,36)",
           "showgrid": false,
           "showline": true,
           "ticks": "outside",
           "title": {
            "standoff": 15
           },
           "zeroline": false,
           "zerolinecolor": "rgb(36,36,36)"
          }
         }
        },
        "title": {
         "text": "The first 100 days of COVID-19"
        },
        "width": 800,
        "xaxis": {
         "anchor": "y",
         "domain": [
          0,
          1
         ],
         "range": [
          0,
          100
         ],
         "title": {
          "text": "nth_day"
         }
        },
        "yaxis": {
         "anchor": "x",
         "domain": [
          0,
          1
         ],
         "title": {
          "text": "Deaths"
         },
         "type": "log"
        }
       }
      }
     },
     "metadata": {}
    }
   ],
   "source": [
    "df = temp\n",
    "\n",
    "fig = px.line(df, x=\"nth_day\", y=\"Deaths\", color='epidemic', range_x=[0, 100])\n",
    "\n",
    "\n",
    "fig.update_layout(\n",
    "    title='The first 100 days of COVID-19',\n",
    "    autosize=False,\n",
    "    width=800,\n",
    "    height=800,\n",
    "    template='simple_white',\n",
    "    #shapes=[\n",
    "    #dict(\n",
    "    #  type= 'line',\n",
    "    #  yref= 'y', y0 = max(e_dbd['Cases']), y1 = max(e_dbd['Cases']),\n",
    "    #  xref= 'paper', x0 = 0, x1 = 1\n",
    "    #    )\n",
    "    #] \n",
    ")\n",
    "\n",
    "fig.update_yaxes(type=\"log\")\n",
    "\n",
    "\n",
    "#fig.write_image(\"images/log_comparison_2.pdf\")\n",
    "fig.show()"
   ]
  },
  {
   "cell_type": "code",
   "execution_count": null,
   "metadata": {},
   "outputs": [],
   "source": []
  }
 ],
 "metadata": {
  "language_info": {
   "codemirror_mode": {
    "name": "ipython",
    "version": 3
   },
   "file_extension": ".py",
   "mimetype": "text/x-python",
   "name": "python",
   "nbconvert_exporter": "python",
   "pygments_lexer": "ipython3",
   "version": "3.8.1-final"
  },
  "orig_nbformat": 2,
  "kernelspec": {
   "name": "python38164bit381pyenv80f8106dbcde49aa8072c8f85b1ed604",
   "display_name": "Python 3.8.1 64-bit ('3.8.1': pyenv)"
  }
 },
 "nbformat": 4,
 "nbformat_minor": 2
}