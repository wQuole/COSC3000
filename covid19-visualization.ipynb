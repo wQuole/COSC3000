{
 "cells": [
  {
   "cell_type": "markdown",
   "metadata": {},
   "source": [
    "# COVID-19 Visualization Project\n",
    "### COSC3000: Visualization, Computer Graphics & Data Analytics\n",
    "#### William Kvaale"
   ]
  },
  {
   "cell_type": "markdown",
   "metadata": {},
   "source": [
    "### Import dependencies"
   ]
  },
  {
   "cell_type": "code",
   "execution_count": 33,
   "metadata": {},
   "outputs": [],
   "source": [
    "from os import path\n",
    "from glob import glob\n",
    "import numpy as np\n",
    "import pandas as pd\n",
    "import matplotlib.pyplot as plt\n",
    "import wget"
   ]
  },
  {
   "cell_type": "code",
   "execution_count": 84,
   "metadata": {},
   "outputs": [],
   "source": [
    "pd.set_option('display.max_colwidth', -1)"
   ]
  },
  {
   "cell_type": "code",
   "execution_count": 77,
   "metadata": {},
   "outputs": [],
   "source": [
    "# URL for the CSV files \n",
    "urls = [\n",
    "    'https://raw.githubusercontent.com/CSSEGISandData/COVID-19/master/csse_covid_19_data/csse_covid_19_time_series/time_series_covid19_confirmed_global.csv',\n",
    "    'https://raw.githubusercontent.com/CSSEGISandData/COVID-19/master/csse_covid_19_data/csse_covid_19_time_series/time_series_covid19_deaths_global.csv',\n",
    "    'https://raw.githubusercontent.com/CSSEGISandData/COVID-19/master/csse_covid_19_data/csse_covid_19_time_series/time_series_covid19_recovered_global.csv'\n",
    "]"
   ]
  },
  {
   "cell_type": "code",
   "execution_count": 78,
   "metadata": {},
   "outputs": [],
   "source": [
    "def download_data(urls):\n",
    "    dataset = [file for file in glob(\"dataset/*.csv\")]\n",
    "    N = len(dataset)\n",
    "    empty = True if N == 3 else False\n",
    "    if not empty:        \n",
    "        for url in urls:\n",
    "            print(f\"Downloading csv from {url} ...\")\n",
    "            wget.download(url, out=\"dataset\")\n",
    "    print(f\"The dataset contains {N}CSV-files:\")\n",
    "    print(*dataset, sep='\\n')\n",
    "            "
   ]
  },
  {
   "cell_type": "code",
   "execution_count": 79,
   "metadata": {},
   "outputs": [
    {
     "output_type": "stream",
     "name": "stdout",
     "text": "The dataset contains 3CSV-files:\ndataset/time_series_covid19_confirmed_global.csv\ndataset/time_series_covid19_recovered_global.csv\ndataset/time_series_covid19_deaths_global.csv\n"
    }
   ],
   "source": [
    "download_data(urls)"
   ]
  },
  {
   "cell_type": "code",
   "execution_count": 80,
   "metadata": {},
   "outputs": [],
   "source": [
    "COVID_19_CONFIRMED = \"dataset/time_series_covid19_confirmed_global.csv\"\n",
    "COVID_19_RECOVERD = \"dataset/time_series_covid19_recovered_global.csv\"\n",
    "COVID_19_DEATHS = \"dataset/time_series_covid19_deaths_global.csv\""
   ]
  },
  {
   "cell_type": "code",
   "execution_count": 81,
   "metadata": {},
   "outputs": [],
   "source": [
    "def load_data(filePath):\n",
    "    df = pd.read_csv(filePath)\n",
    "    return df"
   ]
  },
  {
   "cell_type": "code",
   "execution_count": 82,
   "metadata": {},
   "outputs": [],
   "source": [
    "confirmed_df = load_data(COVID_19_CONFIRMED)\n",
    "recovered_df = load_data(COVID_19_RECOVERD)\n",
    "deaths_df = load_data(COVID_19_DEATHS)"
   ]
  },
  {
   "cell_type": "code",
   "execution_count": 85,
   "metadata": {},
   "outputs": [
    {
     "output_type": "execute_result",
     "data": {
      "text/plain": "Index(['Province/State', 'Country/Region', 'Lat', 'Long', '1/22/20', '1/23/20',\n       '1/24/20', '1/25/20', '1/26/20', '1/27/20',\n       ...\n       '4/18/20', '4/19/20', '4/20/20', '4/21/20', '4/22/20', '4/23/20',\n       '4/24/20', '4/25/20', '4/26/20', '4/27/20'],\n      dtype='object', length=101)"
     },
     "metadata": {},
     "execution_count": 85
    }
   ],
   "source": [
    "confirmed_df.columns"
   ]
  },
  {
   "cell_type": "code",
   "execution_count": 86,
   "metadata": {},
   "outputs": [
    {
     "output_type": "execute_result",
     "data": {
      "text/plain": "Index(['Province/State', 'Country/Region', 'Lat', 'Long'], dtype='object')"
     },
     "metadata": {},
     "execution_count": 86
    }
   ],
   "source": [
    "confirmed_df.columns[4:]"
   ]
  },
  {
   "cell_type": "code",
   "execution_count": null,
   "metadata": {},
   "outputs": [],
   "source": []
  }
 ],
 "metadata": {
  "language_info": {
   "name": "python",
   "codemirror_mode": {
    "name": "ipython",
    "version": 3
   },
   "version": "3.8.1-final"
  },
  "orig_nbformat": 2,
  "file_extension": ".py",
  "mimetype": "text/x-python",
  "name": "python",
  "npconvert_exporter": "python",
  "pygments_lexer": "ipython3",
  "version": 3,
  "kernelspec": {
   "name": "python38164bit381pyenv80f8106dbcde49aa8072c8f85b1ed604",
   "display_name": "Python 3.8.1 64-bit ('3.8.1': pyenv)"
  }
 },
 "nbformat": 4,
 "nbformat_minor": 2
}