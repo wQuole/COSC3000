{
 "nbformat": 4,
 "nbformat_minor": 2,
 "metadata": {
  "language_info": {
   "name": "python",
   "codemirror_mode": {
    "name": "ipython",
    "version": 3
   },
   "version": "3.8.1-final"
  },
  "orig_nbformat": 2,
  "file_extension": ".py",
  "mimetype": "text/x-python",
  "name": "python",
  "npconvert_exporter": "python",
  "pygments_lexer": "ipython3",
  "version": 3,
  "kernelspec": {
   "name": "python38164bitb0ef59785fd84760b94c38dc1ede7146",
   "display_name": "Python 3.8.1 64-bit"
  }
 },
 "cells": [
  {
   "cell_type": "markdown",
   "metadata": {},
   "source": [
    "# COSC3000: Visualization & Gaphics \n",
    "### COVID-19 Project\n",
    "#### William Kvaale"
   ]
  },
  {
   "cell_type": "markdown",
   "metadata": {},
   "source": [
    "### Import dependencies"
   ]
  },
  {
   "cell_type": "code",
   "execution_count": 4,
   "metadata": {},
   "outputs": [],
   "source": [
    "from os import path\n",
    "import numpy as np\n",
    "import pandas as pd\n",
    "import matplotlib.pyplot as plt"
   ]
  },
  {
   "cell_type": "code",
   "execution_count": 8,
   "metadata": {},
   "outputs": [],
   "source": [
    "WHO_COVID_19_SIT_REP_TS = \"dataset/dataset/csse_covid_19_data/csse_covid_19_daily_reports/03-11-2020.csv\""
   ]
  },
  {
   "cell_type": "code",
   "execution_count": 9,
   "metadata": {},
   "outputs": [],
   "source": [
    "def load_data(filePath):\n",
    "    df = pd.read_csv(filePath)\n",
    "    return df"
   ]
  },
  {
   "cell_type": "code",
   "execution_count": 10,
   "metadata": {},
   "outputs": [],
   "source": [
    "df = load_data(WHO_COVID_19_SIT_REP_TS)"
   ]
  },
  {
   "cell_type": "code",
   "execution_count": 12,
   "metadata": {},
   "outputs": [
    {
     "data": {
      "text/html": "<div>\n<style scoped>\n    .dataframe tbody tr th:only-of-type {\n        vertical-align: middle;\n    }\n\n    .dataframe tbody tr th {\n        vertical-align: top;\n    }\n\n    .dataframe thead th {\n        text-align: right;\n    }\n</style>\n<table border=\"1\" class=\"dataframe\">\n  <thead>\n    <tr style=\"text-align: right;\">\n      <th></th>\n      <th>Province/States</th>\n      <th>Country/Region</th>\n      <th>WHO region</th>\n      <th>1/21/20</th>\n      <th>1/22/20</th>\n      <th>1/23/20</th>\n      <th>1/24/20</th>\n      <th>1/25/20</th>\n      <th>1/26/20</th>\n      <th>1/27/20</th>\n      <th>...</th>\n      <th>2/23/20</th>\n      <th>2/24/20</th>\n      <th>2/25/20</th>\n      <th>2/26/20</th>\n      <th>2/27/20</th>\n      <th>2/28/20</th>\n      <th>2/29/20</th>\n      <th>3/1/20</th>\n      <th>3/2/20</th>\n      <th>3/3/20</th>\n    </tr>\n  </thead>\n  <tbody>\n    <tr>\n      <th>0</th>\n      <td>Confirmed</td>\n      <td>Globally</td>\n      <td>NaN</td>\n      <td>282.0</td>\n      <td>314.0</td>\n      <td>581.0</td>\n      <td>846.0</td>\n      <td>1320.0</td>\n      <td>2014.0</td>\n      <td>2798.0</td>\n      <td>...</td>\n      <td>78811.0</td>\n      <td>79331.0</td>\n      <td>80239.0</td>\n      <td>81109.0</td>\n      <td>82294.0</td>\n      <td>83652.0</td>\n      <td>85403.0</td>\n      <td>87137.0</td>\n      <td>88948.0</td>\n      <td>90870.0</td>\n    </tr>\n    <tr>\n      <th>1</th>\n      <td>Confirmed</td>\n      <td>Mainland China</td>\n      <td>Western Pacific Region</td>\n      <td>278.0</td>\n      <td>309.0</td>\n      <td>571.0</td>\n      <td>830.0</td>\n      <td>1297.0</td>\n      <td>1985.0</td>\n      <td>2741.0</td>\n      <td>...</td>\n      <td>77042.0</td>\n      <td>77262.0</td>\n      <td>77780.0</td>\n      <td>78191.0</td>\n      <td>78630.0</td>\n      <td>78961.0</td>\n      <td>79394.0</td>\n      <td>79968.0</td>\n      <td>80174.0</td>\n      <td>80304.0</td>\n    </tr>\n    <tr>\n      <th>2</th>\n      <td>Confirmed</td>\n      <td>Outside of China</td>\n      <td>NaN</td>\n      <td>4.0</td>\n      <td>5.0</td>\n      <td>10.0</td>\n      <td>16.0</td>\n      <td>23.0</td>\n      <td>29.0</td>\n      <td>57.0</td>\n      <td>...</td>\n      <td>1769.0</td>\n      <td>2069.0</td>\n      <td>2459.0</td>\n      <td>2918.0</td>\n      <td>3664.0</td>\n      <td>4691.0</td>\n      <td>6009.0</td>\n      <td>7169.0</td>\n      <td>8774.0</td>\n      <td>10566.0</td>\n    </tr>\n    <tr>\n      <th>3</th>\n      <td>Suspected</td>\n      <td>Mainland China</td>\n      <td>Western Pacific Region</td>\n      <td>NaN</td>\n      <td>NaN</td>\n      <td>NaN</td>\n      <td>NaN</td>\n      <td>NaN</td>\n      <td>NaN</td>\n      <td>5794.0</td>\n      <td>...</td>\n      <td>NaN</td>\n      <td>NaN</td>\n      <td>NaN</td>\n      <td>NaN</td>\n      <td>NaN</td>\n      <td>NaN</td>\n      <td>NaN</td>\n      <td>NaN</td>\n      <td>NaN</td>\n      <td>NaN</td>\n    </tr>\n    <tr>\n      <th>4</th>\n      <td>Severe</td>\n      <td>Mainland China</td>\n      <td>Western Pacific Region</td>\n      <td>NaN</td>\n      <td>NaN</td>\n      <td>NaN</td>\n      <td>NaN</td>\n      <td>NaN</td>\n      <td>NaN</td>\n      <td>461.0</td>\n      <td>...</td>\n      <td>NaN</td>\n      <td>NaN</td>\n      <td>NaN</td>\n      <td>NaN</td>\n      <td>NaN</td>\n      <td>NaN</td>\n      <td>NaN</td>\n      <td>NaN</td>\n      <td>NaN</td>\n      <td>NaN</td>\n    </tr>\n    <tr>\n      <th>5</th>\n      <td>Deaths</td>\n      <td>Mainland China</td>\n      <td>Western Pacific Region</td>\n      <td>NaN</td>\n      <td>NaN</td>\n      <td>NaN</td>\n      <td>NaN</td>\n      <td>NaN</td>\n      <td>NaN</td>\n      <td>80.0</td>\n      <td>...</td>\n      <td>2445.0</td>\n      <td>2595.0</td>\n      <td>2666.0</td>\n      <td>2718.0</td>\n      <td>2747.0</td>\n      <td>2791.0</td>\n      <td>2838.0</td>\n      <td>2873.0</td>\n      <td>2915.0</td>\n      <td>2946.0</td>\n    </tr>\n    <tr>\n      <th>6</th>\n      <td>Hubei</td>\n      <td>China</td>\n      <td>Western Pacific Region</td>\n      <td>258.0</td>\n      <td>270.0</td>\n      <td>375.0</td>\n      <td>375.0</td>\n      <td>NaN</td>\n      <td>NaN</td>\n      <td>NaN</td>\n      <td>...</td>\n      <td>64084.0</td>\n      <td>64287.0</td>\n      <td>64786.0</td>\n      <td>65187.0</td>\n      <td>65596.0</td>\n      <td>65914.0</td>\n      <td>66337.0</td>\n      <td>66907.0</td>\n      <td>67103.0</td>\n      <td>67217.0</td>\n    </tr>\n    <tr>\n      <th>7</th>\n      <td>Guangdong</td>\n      <td>China</td>\n      <td>Western Pacific Region</td>\n      <td>14.0</td>\n      <td>17.0</td>\n      <td>26.0</td>\n      <td>32.0</td>\n      <td>NaN</td>\n      <td>NaN</td>\n      <td>NaN</td>\n      <td>...</td>\n      <td>1342.0</td>\n      <td>1345.0</td>\n      <td>1347.0</td>\n      <td>1347.0</td>\n      <td>1347.0</td>\n      <td>1348.0</td>\n      <td>1349.0</td>\n      <td>1349.0</td>\n      <td>1350.0</td>\n      <td>1350.0</td>\n    </tr>\n    <tr>\n      <th>8</th>\n      <td>Henan</td>\n      <td>China</td>\n      <td>Western Pacific Region</td>\n      <td>NaN</td>\n      <td>1.0</td>\n      <td>1.0</td>\n      <td>1.0</td>\n      <td>NaN</td>\n      <td>NaN</td>\n      <td>NaN</td>\n      <td>...</td>\n      <td>1271.0</td>\n      <td>1271.0</td>\n      <td>1271.0</td>\n      <td>1271.0</td>\n      <td>1272.0</td>\n      <td>1272.0</td>\n      <td>1272.0</td>\n      <td>1272.0</td>\n      <td>1272.0</td>\n      <td>1272.0</td>\n    </tr>\n    <tr>\n      <th>9</th>\n      <td>Zhejiang</td>\n      <td>China</td>\n      <td>Western Pacific Region</td>\n      <td>NaN</td>\n      <td>5.0</td>\n      <td>5.0</td>\n      <td>5.0</td>\n      <td>NaN</td>\n      <td>NaN</td>\n      <td>NaN</td>\n      <td>...</td>\n      <td>1205.0</td>\n      <td>1205.0</td>\n      <td>1205.0</td>\n      <td>1205.0</td>\n      <td>1205.0</td>\n      <td>1205.0</td>\n      <td>1205.0</td>\n      <td>1205.0</td>\n      <td>1206.0</td>\n      <td>1213.0</td>\n    </tr>\n    <tr>\n      <th>10</th>\n      <td>Hunan</td>\n      <td>China</td>\n      <td>Western Pacific Region</td>\n      <td>NaN</td>\n      <td>1.0</td>\n      <td>1.0</td>\n      <td>1.0</td>\n      <td>NaN</td>\n      <td>NaN</td>\n      <td>NaN</td>\n      <td>...</td>\n      <td>1016.0</td>\n      <td>1016.0</td>\n      <td>1016.0</td>\n      <td>1016.0</td>\n      <td>1017.0</td>\n      <td>1017.0</td>\n      <td>1018.0</td>\n      <td>1018.0</td>\n      <td>1018.0</td>\n      <td>1018.0</td>\n    </tr>\n    <tr>\n      <th>11</th>\n      <td>Anhui</td>\n      <td>China</td>\n      <td>Western Pacific Region</td>\n      <td>NaN</td>\n      <td>NaN</td>\n      <td>NaN</td>\n      <td>NaN</td>\n      <td>NaN</td>\n      <td>NaN</td>\n      <td>NaN</td>\n      <td>...</td>\n      <td>989.0</td>\n      <td>989.0</td>\n      <td>989.0</td>\n      <td>989.0</td>\n      <td>989.0</td>\n      <td>990.0</td>\n      <td>990.0</td>\n      <td>990.0</td>\n      <td>990.0</td>\n      <td>990.0</td>\n    </tr>\n    <tr>\n      <th>12</th>\n      <td>Jiangxi</td>\n      <td>China</td>\n      <td>Western Pacific Region</td>\n      <td>NaN</td>\n      <td>1.0</td>\n      <td>2.0</td>\n      <td>2.0</td>\n      <td>NaN</td>\n      <td>NaN</td>\n      <td>NaN</td>\n      <td>...</td>\n      <td>934.0</td>\n      <td>934.0</td>\n      <td>934.0</td>\n      <td>934.0</td>\n      <td>934.0</td>\n      <td>935.0</td>\n      <td>935.0</td>\n      <td>935.0</td>\n      <td>935.0</td>\n      <td>935.0</td>\n    </tr>\n    <tr>\n      <th>13</th>\n      <td>Shandong</td>\n      <td>China</td>\n      <td>Western Pacific Region</td>\n      <td>NaN</td>\n      <td>1.0</td>\n      <td>1.0</td>\n      <td>1.0</td>\n      <td>NaN</td>\n      <td>NaN</td>\n      <td>NaN</td>\n      <td>...</td>\n      <td>754.0</td>\n      <td>755.0</td>\n      <td>755.0</td>\n      <td>756.0</td>\n      <td>756.0</td>\n      <td>756.0</td>\n      <td>756.0</td>\n      <td>756.0</td>\n      <td>758.0</td>\n      <td>758.0</td>\n    </tr>\n    <tr>\n      <th>14</th>\n      <td>Jiangsu</td>\n      <td>China</td>\n      <td>Western Pacific Region</td>\n      <td>NaN</td>\n      <td>NaN</td>\n      <td>NaN</td>\n      <td>NaN</td>\n      <td>NaN</td>\n      <td>NaN</td>\n      <td>NaN</td>\n      <td>...</td>\n      <td>631.0</td>\n      <td>631.0</td>\n      <td>631.0</td>\n      <td>631.0</td>\n      <td>631.0</td>\n      <td>631.0</td>\n      <td>631.0</td>\n      <td>631.0</td>\n      <td>631.0</td>\n      <td>631.0</td>\n    </tr>\n    <tr>\n      <th>15</th>\n      <td>Chongqing</td>\n      <td>China</td>\n      <td>Western Pacific Region</td>\n      <td>NaN</td>\n      <td>1.0</td>\n      <td>5.0</td>\n      <td>5.0</td>\n      <td>NaN</td>\n      <td>NaN</td>\n      <td>NaN</td>\n      <td>...</td>\n      <td>573.0</td>\n      <td>575.0</td>\n      <td>576.0</td>\n      <td>576.0</td>\n      <td>576.0</td>\n      <td>576.0</td>\n      <td>576.0</td>\n      <td>576.0</td>\n      <td>576.0</td>\n      <td>576.0</td>\n    </tr>\n    <tr>\n      <th>16</th>\n      <td>Sichuan</td>\n      <td>China</td>\n      <td>Western Pacific Region</td>\n      <td>NaN</td>\n      <td>1.0</td>\n      <td>2.0</td>\n      <td>2.0</td>\n      <td>NaN</td>\n      <td>NaN</td>\n      <td>NaN</td>\n      <td>...</td>\n      <td>526.0</td>\n      <td>527.0</td>\n      <td>529.0</td>\n      <td>531.0</td>\n      <td>534.0</td>\n      <td>538.0</td>\n      <td>538.0</td>\n      <td>538.0</td>\n      <td>538.0</td>\n      <td>538.0</td>\n    </tr>\n    <tr>\n      <th>17</th>\n      <td>Heilongjiang</td>\n      <td>China</td>\n      <td>Western Pacific Region</td>\n      <td>NaN</td>\n      <td>NaN</td>\n      <td>NaN</td>\n      <td>NaN</td>\n      <td>NaN</td>\n      <td>NaN</td>\n      <td>NaN</td>\n      <td>...</td>\n      <td>480.0</td>\n      <td>480.0</td>\n      <td>480.0</td>\n      <td>480.0</td>\n      <td>480.0</td>\n      <td>480.0</td>\n      <td>480.0</td>\n      <td>480.0</td>\n      <td>480.0</td>\n      <td>480.0</td>\n    </tr>\n    <tr>\n      <th>18</th>\n      <td>Beijing</td>\n      <td>China</td>\n      <td>Western Pacific Region</td>\n      <td>5.0</td>\n      <td>5.0</td>\n      <td>10.0</td>\n      <td>10.0</td>\n      <td>NaN</td>\n      <td>NaN</td>\n      <td>NaN</td>\n      <td>...</td>\n      <td>399.0</td>\n      <td>399.0</td>\n      <td>400.0</td>\n      <td>400.0</td>\n      <td>410.0</td>\n      <td>410.0</td>\n      <td>411.0</td>\n      <td>413.0</td>\n      <td>414.0</td>\n      <td>414.0</td>\n    </tr>\n    <tr>\n      <th>19</th>\n      <td>Shanghai</td>\n      <td>China</td>\n      <td>Western Pacific Region</td>\n      <td>1.0</td>\n      <td>2.0</td>\n      <td>9.0</td>\n      <td>9.0</td>\n      <td>NaN</td>\n      <td>NaN</td>\n      <td>NaN</td>\n      <td>...</td>\n      <td>335.0</td>\n      <td>335.0</td>\n      <td>335.0</td>\n      <td>336.0</td>\n      <td>337.0</td>\n      <td>337.0</td>\n      <td>337.0</td>\n      <td>337.0</td>\n      <td>337.0</td>\n      <td>338.0</td>\n    </tr>\n  </tbody>\n</table>\n<p>20 rows × 46 columns</p>\n</div>",
      "text/plain": "   Province/States    Country/Region              WHO region  1/21/20  \\\n0        Confirmed          Globally                     NaN    282.0   \n1        Confirmed    Mainland China  Western Pacific Region    278.0   \n2        Confirmed  Outside of China                     NaN      4.0   \n3        Suspected    Mainland China  Western Pacific Region      NaN   \n4           Severe    Mainland China  Western Pacific Region      NaN   \n5           Deaths    Mainland China  Western Pacific Region      NaN   \n6           Hubei              China  Western Pacific Region    258.0   \n7        Guangdong             China  Western Pacific Region     14.0   \n8            Henan             China  Western Pacific Region      NaN   \n9         Zhejiang             China  Western Pacific Region      NaN   \n10           Hunan             China  Western Pacific Region      NaN   \n11           Anhui             China  Western Pacific Region      NaN   \n12         Jiangxi             China  Western Pacific Region      NaN   \n13        Shandong             China  Western Pacific Region      NaN   \n14         Jiangsu             China  Western Pacific Region      NaN   \n15       Chongqing             China  Western Pacific Region      NaN   \n16         Sichuan             China  Western Pacific Region      NaN   \n17    Heilongjiang             China  Western Pacific Region      NaN   \n18         Beijing             China  Western Pacific Region      5.0   \n19        Shanghai             China  Western Pacific Region      1.0   \n\n    1/22/20  1/23/20  1/24/20  1/25/20  1/26/20  1/27/20  ...  2/23/20  \\\n0     314.0    581.0    846.0   1320.0   2014.0   2798.0  ...  78811.0   \n1     309.0    571.0    830.0   1297.0   1985.0   2741.0  ...  77042.0   \n2       5.0     10.0     16.0     23.0     29.0     57.0  ...   1769.0   \n3       NaN      NaN      NaN      NaN      NaN   5794.0  ...      NaN   \n4       NaN      NaN      NaN      NaN      NaN    461.0  ...      NaN   \n5       NaN      NaN      NaN      NaN      NaN     80.0  ...   2445.0   \n6     270.0    375.0    375.0      NaN      NaN      NaN  ...  64084.0   \n7      17.0     26.0     32.0      NaN      NaN      NaN  ...   1342.0   \n8       1.0      1.0      1.0      NaN      NaN      NaN  ...   1271.0   \n9       5.0      5.0      5.0      NaN      NaN      NaN  ...   1205.0   \n10      1.0      1.0      1.0      NaN      NaN      NaN  ...   1016.0   \n11      NaN      NaN      NaN      NaN      NaN      NaN  ...    989.0   \n12      1.0      2.0      2.0      NaN      NaN      NaN  ...    934.0   \n13      1.0      1.0      1.0      NaN      NaN      NaN  ...    754.0   \n14      NaN      NaN      NaN      NaN      NaN      NaN  ...    631.0   \n15      1.0      5.0      5.0      NaN      NaN      NaN  ...    573.0   \n16      1.0      2.0      2.0      NaN      NaN      NaN  ...    526.0   \n17      NaN      NaN      NaN      NaN      NaN      NaN  ...    480.0   \n18      5.0     10.0     10.0      NaN      NaN      NaN  ...    399.0   \n19      2.0      9.0      9.0      NaN      NaN      NaN  ...    335.0   \n\n    2/24/20  2/25/20  2/26/20  2/27/20  2/28/20  2/29/20   3/1/20   3/2/20  \\\n0   79331.0  80239.0  81109.0  82294.0  83652.0  85403.0  87137.0  88948.0   \n1   77262.0  77780.0  78191.0  78630.0  78961.0  79394.0  79968.0  80174.0   \n2    2069.0   2459.0   2918.0   3664.0   4691.0   6009.0   7169.0   8774.0   \n3       NaN      NaN      NaN      NaN      NaN      NaN      NaN      NaN   \n4       NaN      NaN      NaN      NaN      NaN      NaN      NaN      NaN   \n5    2595.0   2666.0   2718.0   2747.0   2791.0   2838.0   2873.0   2915.0   \n6   64287.0  64786.0  65187.0  65596.0  65914.0  66337.0  66907.0  67103.0   \n7    1345.0   1347.0   1347.0   1347.0   1348.0   1349.0   1349.0   1350.0   \n8    1271.0   1271.0   1271.0   1272.0   1272.0   1272.0   1272.0   1272.0   \n9    1205.0   1205.0   1205.0   1205.0   1205.0   1205.0   1205.0   1206.0   \n10   1016.0   1016.0   1016.0   1017.0   1017.0   1018.0   1018.0   1018.0   \n11    989.0    989.0    989.0    989.0    990.0    990.0    990.0    990.0   \n12    934.0    934.0    934.0    934.0    935.0    935.0    935.0    935.0   \n13    755.0    755.0    756.0    756.0    756.0    756.0    756.0    758.0   \n14    631.0    631.0    631.0    631.0    631.0    631.0    631.0    631.0   \n15    575.0    576.0    576.0    576.0    576.0    576.0    576.0    576.0   \n16    527.0    529.0    531.0    534.0    538.0    538.0    538.0    538.0   \n17    480.0    480.0    480.0    480.0    480.0    480.0    480.0    480.0   \n18    399.0    400.0    400.0    410.0    410.0    411.0    413.0    414.0   \n19    335.0    335.0    336.0    337.0    337.0    337.0    337.0    337.0   \n\n     3/3/20  \n0   90870.0  \n1   80304.0  \n2   10566.0  \n3       NaN  \n4       NaN  \n5    2946.0  \n6   67217.0  \n7    1350.0  \n8    1272.0  \n9    1213.0  \n10   1018.0  \n11    990.0  \n12    935.0  \n13    758.0  \n14    631.0  \n15    576.0  \n16    538.0  \n17    480.0  \n18    414.0  \n19    338.0  \n\n[20 rows x 46 columns]"
     },
     "execution_count": 12,
     "metadata": {},
     "output_type": "execute_result"
    }
   ],
   "source": [
    "df.head(20)"
   ]
  },
  {
   "cell_type": "code",
   "execution_count": null,
   "metadata": {},
   "outputs": [],
   "source": []
  }
 ]
}