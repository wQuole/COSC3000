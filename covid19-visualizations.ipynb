{
 "cells": [
  {
   "cell_type": "code",
   "execution_count": 1,
   "metadata": {},
   "outputs": [],
   "source": [
    "import os\n",
    "from glob import glob\n",
    "import numpy as np\n",
    "import pandas as pd\n",
    "import matplotlib.pyplot as plt\n",
    "import wget"
   ]
  },
  {
   "cell_type": "code",
   "execution_count": 2,
   "metadata": {},
   "outputs": [],
   "source": [
    "def load_data(filePath):\n",
    "    df = pd.read_csv(filePath)\n",
    "    return df"
   ]
  },
  {
   "cell_type": "markdown",
   "metadata": {},
   "source": [
    "## Load CSV-data into DataFrames"
   ]
  },
  {
   "cell_type": "code",
   "execution_count": 3,
   "metadata": {},
   "outputs": [],
   "source": [
    "# Prepped Time Series Data with datapoints for each date, for each country\n",
    "PREPPED_DATA = \"output/COVID9-cleaned_03-05-2020_21:13.csv\"\n",
    "complete_df = load_data(PREPPED_DATA)\n",
    "\n",
    "# Prepped data per country\n",
    "COUNTRY_DATA = \"https://raw.githubusercontent.com/CSSEGISandData/COVID-19/web-data/data/cases_country.csv\"\n",
    "country_df = pd.read_csv(COUNTRY_DATA)\n",
    "country_df.rename(columns={'Country_Region':'Country', 'Last_Update':'Date', 'Long_':'Long'}, inplace=True)\n",
    "country_df = country_df[['Country', 'Date', 'Lat', 'Long', 'Confirmed', 'Deaths', 'Recovered', 'Active', 'UID', 'ISO3']]\n"
   ]
  },
  {
   "cell_type": "markdown",
   "metadata": {},
   "source": [
    "## Prepare DataFrames for plotting with Plotly"
   ]
  },
  {
   "cell_type": "code",
   "execution_count": 4,
   "metadata": {},
   "outputs": [],
   "source": [
    "top_5 = ['US', 'Spain', 'Italy', 'UK', 'France']\n",
    "top_10 = ['US', 'Spain', 'Italy', 'UK', 'France', 'Germany', 'Turkey', 'Russia', 'Brazil', 'Iran'] \n",
    "\n",
    "# Create a new DataFrame for the chosen countries\n",
    "top_countries_df = complete_df[pd.DataFrame(complete_df['Country'].tolist()).isin(top_10).any(1)]\n",
    "# Sort out data from before 100 Confirmed cases\n",
    "top_countries_100_df = top_countries_df[top_countries_df['Confirmed'] >= 100] \n",
    "\n",
    "norge = complete_df[complete_df['Country'] == 'Norway']\n",
    "norge = norge[norge['Confirmed'] >= 100]"
   ]
  },
  {
   "cell_type": "code",
   "execution_count": 5,
   "metadata": {},
   "outputs": [
    {
     "output_type": "display_data",
     "data": {
      "application/vnd.plotly.v1+json": {
       "config": {
        "plotlyServerURL": "https://plot.ly"
       },
       "data": [
        {
         "hovertemplate": "<b>%{hovertext}</b><br><br>Country=%{x}<br>Deaths=%{y}<br>Confirmed=%{marker.size}<extra></extra>",
         "hovertext": [
          "US"
         ],
         "legendgroup": "US",
         "marker": {
          "color": "#636efa",
          "size": [
           1149197
          ],
          "sizemode": "area",
          "sizeref": 179.56203125,
          "symbol": "circle"
         },
         "mode": "markers",
         "name": "US",
         "showlegend": true,
         "type": "scatter",
         "x": [
          "US"
         ],
         "xaxis": "x",
         "y": [
          67200
         ],
         "yaxis": "y"
        },
        {
         "hovertemplate": "<b>%{hovertext}</b><br><br>Country=%{x}<br>Deaths=%{y}<br>Confirmed=%{marker.size}<extra></extra>",
         "hovertext": [
          "Spain"
         ],
         "legendgroup": "Spain",
         "marker": {
          "color": "#EF553B",
          "size": [
           216582
          ],
          "sizemode": "area",
          "sizeref": 179.56203125,
          "symbol": "circle"
         },
         "mode": "markers",
         "name": "Spain",
         "showlegend": true,
         "type": "scatter",
         "x": [
          "Spain"
         ],
         "xaxis": "x",
         "y": [
          25100
         ],
         "yaxis": "y"
        },
        {
         "hovertemplate": "<b>%{hovertext}</b><br><br>Country=%{x}<br>Deaths=%{y}<br>Confirmed=%{marker.size}<extra></extra>",
         "hovertext": [
          "Italy"
         ],
         "legendgroup": "Italy",
         "marker": {
          "color": "#00cc96",
          "size": [
           210717
          ],
          "sizemode": "area",
          "sizeref": 179.56203125,
          "symbol": "circle"
         },
         "mode": "markers",
         "name": "Italy",
         "showlegend": true,
         "type": "scatter",
         "x": [
          "Italy"
         ],
         "xaxis": "x",
         "y": [
          28884
         ],
         "yaxis": "y"
        },
        {
         "hovertemplate": "<b>%{hovertext}</b><br><br>Country=%{x}<br>Deaths=%{y}<br>Confirmed=%{marker.size}<extra></extra>",
         "hovertext": [
          "United Kingdom"
         ],
         "legendgroup": "United Kingdom",
         "marker": {
          "color": "#ab63fa",
          "size": [
           187840
          ],
          "sizemode": "area",
          "sizeref": 179.56203125,
          "symbol": "circle"
         },
         "mode": "markers",
         "name": "United Kingdom",
         "showlegend": true,
         "type": "scatter",
         "x": [
          "United Kingdom"
         ],
         "xaxis": "x",
         "y": [
          28520
         ],
         "yaxis": "y"
        },
        {
         "hovertemplate": "<b>%{hovertext}</b><br><br>Country=%{x}<br>Deaths=%{y}<br>Confirmed=%{marker.size}<extra></extra>",
         "hovertext": [
          "France"
         ],
         "legendgroup": "France",
         "marker": {
          "color": "#FFA15A",
          "size": [
           168518
          ],
          "sizemode": "area",
          "sizeref": 179.56203125,
          "symbol": "circle"
         },
         "mode": "markers",
         "name": "France",
         "showlegend": true,
         "type": "scatter",
         "x": [
          "France"
         ],
         "xaxis": "x",
         "y": [
          24763
         ],
         "yaxis": "y"
        },
        {
         "hovertemplate": "<b>%{hovertext}</b><br><br>Country=%{x}<br>Deaths=%{y}<br>Confirmed=%{marker.size}<extra></extra>",
         "hovertext": [
          "Germany"
         ],
         "legendgroup": "Germany",
         "marker": {
          "color": "#19d3f3",
          "size": [
           165383
          ],
          "sizemode": "area",
          "sizeref": 179.56203125,
          "symbol": "circle"
         },
         "mode": "markers",
         "name": "Germany",
         "showlegend": true,
         "type": "scatter",
         "x": [
          "Germany"
         ],
         "xaxis": "x",
         "y": [
          6840
         ],
         "yaxis": "y"
        },
        {
         "hovertemplate": "<b>%{hovertext}</b><br><br>Country=%{x}<br>Deaths=%{y}<br>Confirmed=%{marker.size}<extra></extra>",
         "hovertext": [
          "Russia"
         ],
         "legendgroup": "Russia",
         "marker": {
          "color": "#FF6692",
          "size": [
           134687
          ],
          "sizemode": "area",
          "sizeref": 179.56203125,
          "symbol": "circle"
         },
         "mode": "markers",
         "name": "Russia",
         "showlegend": true,
         "type": "scatter",
         "x": [
          "Russia"
         ],
         "xaxis": "x",
         "y": [
          1280
         ],
         "yaxis": "y"
        },
        {
         "hovertemplate": "<b>%{hovertext}</b><br><br>Country=%{x}<br>Deaths=%{y}<br>Confirmed=%{marker.size}<extra></extra>",
         "hovertext": [
          "Turkey"
         ],
         "legendgroup": "Turkey",
         "marker": {
          "color": "#B6E880",
          "size": [
           126045
          ],
          "sizemode": "area",
          "sizeref": 179.56203125,
          "symbol": "circle"
         },
         "mode": "markers",
         "name": "Turkey",
         "showlegend": true,
         "type": "scatter",
         "x": [
          "Turkey"
         ],
         "xaxis": "x",
         "y": [
          3397
         ],
         "yaxis": "y"
        },
        {
         "hovertemplate": "<b>%{hovertext}</b><br><br>Country=%{x}<br>Deaths=%{y}<br>Confirmed=%{marker.size}<extra></extra>",
         "hovertext": [
          "Brazil"
         ],
         "legendgroup": "Brazil",
         "marker": {
          "color": "#FF97FF",
          "size": [
           97929
          ],
          "sizemode": "area",
          "sizeref": 179.56203125,
          "symbol": "circle"
         },
         "mode": "markers",
         "name": "Brazil",
         "showlegend": true,
         "type": "scatter",
         "x": [
          "Brazil"
         ],
         "xaxis": "x",
         "y": [
          6777
         ],
         "yaxis": "y"
        },
        {
         "hovertemplate": "<b>%{hovertext}</b><br><br>Country=%{x}<br>Deaths=%{y}<br>Confirmed=%{marker.size}<extra></extra>",
         "hovertext": [
          "Iran"
         ],
         "legendgroup": "Iran",
         "marker": {
          "color": "#FECB52",
          "size": [
           97424
          ],
          "sizemode": "area",
          "sizeref": 179.56203125,
          "symbol": "circle"
         },
         "mode": "markers",
         "name": "Iran",
         "showlegend": true,
         "type": "scatter",
         "x": [
          "Iran"
         ],
         "xaxis": "x",
         "y": [
          6203
         ],
         "yaxis": "y"
        }
       ],
       "layout": {
        "autosize": false,
        "height": 450,
        "legend": {
         "itemsizing": "constant",
         "title": {
          "text": "Country"
         },
         "tracegroupgap": 0
        },
        "margin": {
         "t": 60
        },
        "plot_bgcolor": "white",
        "template": {
         "data": {
          "bar": [
           {
            "error_x": {
             "color": "#2a3f5f"
            },
            "error_y": {
             "color": "#2a3f5f"
            },
            "marker": {
             "line": {
              "color": "#E5ECF6",
              "width": 0.5
             }
            },
            "type": "bar"
           }
          ],
          "barpolar": [
           {
            "marker": {
             "line": {
              "color": "#E5ECF6",
              "width": 0.5
             }
            },
            "type": "barpolar"
           }
          ],
          "carpet": [
           {
            "aaxis": {
             "endlinecolor": "#2a3f5f",
             "gridcolor": "white",
             "linecolor": "white",
             "minorgridcolor": "white",
             "startlinecolor": "#2a3f5f"
            },
            "baxis": {
             "endlinecolor": "#2a3f5f",
             "gridcolor": "white",
             "linecolor": "white",
             "minorgridcolor": "white",
             "startlinecolor": "#2a3f5f"
            },
            "type": "carpet"
           }
          ],
          "choropleth": [
           {
            "colorbar": {
             "outlinewidth": 0,
             "ticks": ""
            },
            "type": "choropleth"
           }
          ],
          "contour": [
           {
            "colorbar": {
             "outlinewidth": 0,
             "ticks": ""
            },
            "colorscale": [
             [
              0,
              "#0d0887"
             ],
             [
              0.1111111111111111,
              "#46039f"
             ],
             [
              0.2222222222222222,
              "#7201a8"
             ],
             [
              0.3333333333333333,
              "#9c179e"
             ],
             [
              0.4444444444444444,
              "#bd3786"
             ],
             [
              0.5555555555555556,
              "#d8576b"
             ],
             [
              0.6666666666666666,
              "#ed7953"
             ],
             [
              0.7777777777777778,
              "#fb9f3a"
             ],
             [
              0.8888888888888888,
              "#fdca26"
             ],
             [
              1,
              "#f0f921"
             ]
            ],
            "type": "contour"
           }
          ],
          "contourcarpet": [
           {
            "colorbar": {
             "outlinewidth": 0,
             "ticks": ""
            },
            "type": "contourcarpet"
           }
          ],
          "heatmap": [
           {
            "colorbar": {
             "outlinewidth": 0,
             "ticks": ""
            },
            "colorscale": [
             [
              0,
              "#0d0887"
             ],
             [
              0.1111111111111111,
              "#46039f"
             ],
             [
              0.2222222222222222,
              "#7201a8"
             ],
             [
              0.3333333333333333,
              "#9c179e"
             ],
             [
              0.4444444444444444,
              "#bd3786"
             ],
             [
              0.5555555555555556,
              "#d8576b"
             ],
             [
              0.6666666666666666,
              "#ed7953"
             ],
             [
              0.7777777777777778,
              "#fb9f3a"
             ],
             [
              0.8888888888888888,
              "#fdca26"
             ],
             [
              1,
              "#f0f921"
             ]
            ],
            "type": "heatmap"
           }
          ],
          "heatmapgl": [
           {
            "colorbar": {
             "outlinewidth": 0,
             "ticks": ""
            },
            "colorscale": [
             [
              0,
              "#0d0887"
             ],
             [
              0.1111111111111111,
              "#46039f"
             ],
             [
              0.2222222222222222,
              "#7201a8"
             ],
             [
              0.3333333333333333,
              "#9c179e"
             ],
             [
              0.4444444444444444,
              "#bd3786"
             ],
             [
              0.5555555555555556,
              "#d8576b"
             ],
             [
              0.6666666666666666,
              "#ed7953"
             ],
             [
              0.7777777777777778,
              "#fb9f3a"
             ],
             [
              0.8888888888888888,
              "#fdca26"
             ],
             [
              1,
              "#f0f921"
             ]
            ],
            "type": "heatmapgl"
           }
          ],
          "histogram": [
           {
            "marker": {
             "colorbar": {
              "outlinewidth": 0,
              "ticks": ""
             }
            },
            "type": "histogram"
           }
          ],
          "histogram2d": [
           {
            "colorbar": {
             "outlinewidth": 0,
             "ticks": ""
            },
            "colorscale": [
             [
              0,
              "#0d0887"
             ],
             [
              0.1111111111111111,
              "#46039f"
             ],
             [
              0.2222222222222222,
              "#7201a8"
             ],
             [
              0.3333333333333333,
              "#9c179e"
             ],
             [
              0.4444444444444444,
              "#bd3786"
             ],
             [
              0.5555555555555556,
              "#d8576b"
             ],
             [
              0.6666666666666666,
              "#ed7953"
             ],
             [
              0.7777777777777778,
              "#fb9f3a"
             ],
             [
              0.8888888888888888,
              "#fdca26"
             ],
             [
              1,
              "#f0f921"
             ]
            ],
            "type": "histogram2d"
           }
          ],
          "histogram2dcontour": [
           {
            "colorbar": {
             "outlinewidth": 0,
             "ticks": ""
            },
            "colorscale": [
             [
              0,
              "#0d0887"
             ],
             [
              0.1111111111111111,
              "#46039f"
             ],
             [
              0.2222222222222222,
              "#7201a8"
             ],
             [
              0.3333333333333333,
              "#9c179e"
             ],
             [
              0.4444444444444444,
              "#bd3786"
             ],
             [
              0.5555555555555556,
              "#d8576b"
             ],
             [
              0.6666666666666666,
              "#ed7953"
             ],
             [
              0.7777777777777778,
              "#fb9f3a"
             ],
             [
              0.8888888888888888,
              "#fdca26"
             ],
             [
              1,
              "#f0f921"
             ]
            ],
            "type": "histogram2dcontour"
           }
          ],
          "mesh3d": [
           {
            "colorbar": {
             "outlinewidth": 0,
             "ticks": ""
            },
            "type": "mesh3d"
           }
          ],
          "parcoords": [
           {
            "line": {
             "colorbar": {
              "outlinewidth": 0,
              "ticks": ""
             }
            },
            "type": "parcoords"
           }
          ],
          "pie": [
           {
            "automargin": true,
            "type": "pie"
           }
          ],
          "scatter": [
           {
            "marker": {
             "colorbar": {
              "outlinewidth": 0,
              "ticks": ""
             }
            },
            "type": "scatter"
           }
          ],
          "scatter3d": [
           {
            "line": {
             "colorbar": {
              "outlinewidth": 0,
              "ticks": ""
             }
            },
            "marker": {
             "colorbar": {
              "outlinewidth": 0,
              "ticks": ""
             }
            },
            "type": "scatter3d"
           }
          ],
          "scattercarpet": [
           {
            "marker": {
             "colorbar": {
              "outlinewidth": 0,
              "ticks": ""
             }
            },
            "type": "scattercarpet"
           }
          ],
          "scattergeo": [
           {
            "marker": {
             "colorbar": {
              "outlinewidth": 0,
              "ticks": ""
             }
            },
            "type": "scattergeo"
           }
          ],
          "scattergl": [
           {
            "marker": {
             "colorbar": {
              "outlinewidth": 0,
              "ticks": ""
             }
            },
            "type": "scattergl"
           }
          ],
          "scattermapbox": [
           {
            "marker": {
             "colorbar": {
              "outlinewidth": 0,
              "ticks": ""
             }
            },
            "type": "scattermapbox"
           }
          ],
          "scatterpolar": [
           {
            "marker": {
             "colorbar": {
              "outlinewidth": 0,
              "ticks": ""
             }
            },
            "type": "scatterpolar"
           }
          ],
          "scatterpolargl": [
           {
            "marker": {
             "colorbar": {
              "outlinewidth": 0,
              "ticks": ""
             }
            },
            "type": "scatterpolargl"
           }
          ],
          "scatterternary": [
           {
            "marker": {
             "colorbar": {
              "outlinewidth": 0,
              "ticks": ""
             }
            },
            "type": "scatterternary"
           }
          ],
          "surface": [
           {
            "colorbar": {
             "outlinewidth": 0,
             "ticks": ""
            },
            "colorscale": [
             [
              0,
              "#0d0887"
             ],
             [
              0.1111111111111111,
              "#46039f"
             ],
             [
              0.2222222222222222,
              "#7201a8"
             ],
             [
              0.3333333333333333,
              "#9c179e"
             ],
             [
              0.4444444444444444,
              "#bd3786"
             ],
             [
              0.5555555555555556,
              "#d8576b"
             ],
             [
              0.6666666666666666,
              "#ed7953"
             ],
             [
              0.7777777777777778,
              "#fb9f3a"
             ],
             [
              0.8888888888888888,
              "#fdca26"
             ],
             [
              1,
              "#f0f921"
             ]
            ],
            "type": "surface"
           }
          ],
          "table": [
           {
            "cells": {
             "fill": {
              "color": "#EBF0F8"
             },
             "line": {
              "color": "white"
             }
            },
            "header": {
             "fill": {
              "color": "#C8D4E3"
             },
             "line": {
              "color": "white"
             }
            },
            "type": "table"
           }
          ]
         },
         "layout": {
          "annotationdefaults": {
           "arrowcolor": "#2a3f5f",
           "arrowhead": 0,
           "arrowwidth": 1
          },
          "coloraxis": {
           "colorbar": {
            "outlinewidth": 0,
            "ticks": ""
           }
          },
          "colorscale": {
           "diverging": [
            [
             0,
             "#8e0152"
            ],
            [
             0.1,
             "#c51b7d"
            ],
            [
             0.2,
             "#de77ae"
            ],
            [
             0.3,
             "#f1b6da"
            ],
            [
             0.4,
             "#fde0ef"
            ],
            [
             0.5,
             "#f7f7f7"
            ],
            [
             0.6,
             "#e6f5d0"
            ],
            [
             0.7,
             "#b8e186"
            ],
            [
             0.8,
             "#7fbc41"
            ],
            [
             0.9,
             "#4d9221"
            ],
            [
             1,
             "#276419"
            ]
           ],
           "sequential": [
            [
             0,
             "#0d0887"
            ],
            [
             0.1111111111111111,
             "#46039f"
            ],
            [
             0.2222222222222222,
             "#7201a8"
            ],
            [
             0.3333333333333333,
             "#9c179e"
            ],
            [
             0.4444444444444444,
             "#bd3786"
            ],
            [
             0.5555555555555556,
             "#d8576b"
            ],
            [
             0.6666666666666666,
             "#ed7953"
            ],
            [
             0.7777777777777778,
             "#fb9f3a"
            ],
            [
             0.8888888888888888,
             "#fdca26"
            ],
            [
             1,
             "#f0f921"
            ]
           ],
           "sequentialminus": [
            [
             0,
             "#0d0887"
            ],
            [
             0.1111111111111111,
             "#46039f"
            ],
            [
             0.2222222222222222,
             "#7201a8"
            ],
            [
             0.3333333333333333,
             "#9c179e"
            ],
            [
             0.4444444444444444,
             "#bd3786"
            ],
            [
             0.5555555555555556,
             "#d8576b"
            ],
            [
             0.6666666666666666,
             "#ed7953"
            ],
            [
             0.7777777777777778,
             "#fb9f3a"
            ],
            [
             0.8888888888888888,
             "#fdca26"
            ],
            [
             1,
             "#f0f921"
            ]
           ]
          },
          "colorway": [
           "#636efa",
           "#EF553B",
           "#00cc96",
           "#ab63fa",
           "#FFA15A",
           "#19d3f3",
           "#FF6692",
           "#B6E880",
           "#FF97FF",
           "#FECB52"
          ],
          "font": {
           "color": "#2a3f5f"
          },
          "geo": {
           "bgcolor": "white",
           "lakecolor": "white",
           "landcolor": "#E5ECF6",
           "showlakes": true,
           "showland": true,
           "subunitcolor": "white"
          },
          "hoverlabel": {
           "align": "left"
          },
          "hovermode": "closest",
          "mapbox": {
           "style": "light"
          },
          "paper_bgcolor": "white",
          "plot_bgcolor": "#E5ECF6",
          "polar": {
           "angularaxis": {
            "gridcolor": "white",
            "linecolor": "white",
            "ticks": ""
           },
           "bgcolor": "#E5ECF6",
           "radialaxis": {
            "gridcolor": "white",
            "linecolor": "white",
            "ticks": ""
           }
          },
          "scene": {
           "xaxis": {
            "backgroundcolor": "#E5ECF6",
            "gridcolor": "white",
            "gridwidth": 2,
            "linecolor": "white",
            "showbackground": true,
            "ticks": "",
            "zerolinecolor": "white"
           },
           "yaxis": {
            "backgroundcolor": "#E5ECF6",
            "gridcolor": "white",
            "gridwidth": 2,
            "linecolor": "white",
            "showbackground": true,
            "ticks": "",
            "zerolinecolor": "white"
           },
           "zaxis": {
            "backgroundcolor": "#E5ECF6",
            "gridcolor": "white",
            "gridwidth": 2,
            "linecolor": "white",
            "showbackground": true,
            "ticks": "",
            "zerolinecolor": "white"
           }
          },
          "shapedefaults": {
           "line": {
            "color": "#2a3f5f"
           }
          },
          "ternary": {
           "aaxis": {
            "gridcolor": "white",
            "linecolor": "white",
            "ticks": ""
           },
           "baxis": {
            "gridcolor": "white",
            "linecolor": "white",
            "ticks": ""
           },
           "bgcolor": "#E5ECF6",
           "caxis": {
            "gridcolor": "white",
            "linecolor": "white",
            "ticks": ""
           }
          },
          "title": {
           "x": 0.05
          },
          "xaxis": {
           "automargin": true,
           "gridcolor": "white",
           "linecolor": "white",
           "ticks": "",
           "title": {
            "standoff": 15
           },
           "zerolinecolor": "white",
           "zerolinewidth": 2
          },
          "yaxis": {
           "automargin": true,
           "gridcolor": "white",
           "linecolor": "white",
           "ticks": "",
           "title": {
            "standoff": 15
           },
           "zerolinecolor": "white",
           "zerolinewidth": 2
          }
         }
        },
        "title": {
         "text": "Top 10 worst hit countries"
        },
        "width": 800,
        "xaxis": {
         "anchor": "y",
         "categoryarray": [
          "US",
          "Spain",
          "Italy",
          "United Kingdom",
          "France",
          "Germany",
          "Russia",
          "Turkey",
          "Brazil",
          "Iran"
         ],
         "categoryorder": "array",
         "domain": [
          0,
          1
         ],
         "title": {
          "text": "Countries"
         }
        },
        "yaxis": {
         "anchor": "x",
         "domain": [
          0,
          1
         ],
         "title": {
          "text": "Deaths"
         }
        }
       }
      }
     },
     "metadata": {}
    }
   ],
   "source": [
    "import plotly.express as px\n",
    "n=10\n",
    "sorted_country_df = country_df.sort_values('Confirmed', ascending=False)\n",
    "\n",
    "fig = px.scatter(sorted_country_df.head(n), x=\"Country\", y=\"Deaths\", size=\"Confirmed\", color=\"Country\",hover_name=\"Country\", size_max=80)\n",
    "\n",
    "fig.update_layout(\n",
    "title=f\"Top {n} worst hit countries\",\n",
    "xaxis_title=\"Countries\",\n",
    "yaxis_title=\"Deaths\",\n",
    ")\n",
    "\n",
    "fig.update_layout(\n",
    "    autosize=False,\n",
    "    width=800,\n",
    "    height=450,\n",
    "    plot_bgcolor='white')\n",
    "\n",
    "\n",
    "fig.show()"
   ]
  },
  {
   "cell_type": "code",
   "execution_count": 6,
   "metadata": {},
   "outputs": [
    {
     "output_type": "display_data",
     "data": {
      "application/vnd.plotly.v1+json": {
       "config": {
        "plotlyServerURL": "https://plot.ly"
       },
       "data": [
        {
         "hovertemplate": "Confirmed=%{marker.size}<br>Lat=%{lat}<br>Long=%{lon}<br>Deaths=%{marker.color}<extra></extra>",
         "lat": [
          -25,
          47.5162,
          60.00100000000001,
          30.5928,
          56,
          61.9241,
          46.2276,
          51.1657,
          64.9631,
          53.1424,
          41.8719,
          52.3167,
          60.472,
          61.524,
          60.1282,
          46.8182,
          55,
          40,
          33.93911,
          41.1533,
          28.0339,
          42.5063,
          -11.2027,
          17.0608,
          -38.4161,
          40.0691,
          40.1431,
          25.025885,
          26.0275,
          23.685,
          13.1939,
          53.7098,
          50.8333,
          17.1899,
          9.3077,
          27.5142,
          -16.2902,
          43.9159,
          -22.3285,
          -14.235,
          4.5353,
          42.7339,
          12.2383,
          21.9162,
          -3.3731,
          16.5388,
          11.55,
          3.8480000000000003,
          6.6111,
          15.4542,
          -35.6751,
          4.5709,
          -11.6455,
          -4.2634,
          -4.322447,
          9.7489,
          7.54,
          45.1,
          21.521757,
          35.1264,
          49.8175,
          null,
          11.8251,
          15.415,
          18.7357,
          -1.8312,
          26.820553000000004,
          13.7942,
          1.6508,
          15.1794,
          58.5953,
          -26.5225,
          9.145,
          -17.7134,
          -0.8037,
          13.4432,
          42.3154,
          7.9465,
          39.0742,
          12.1165,
          15.7835,
          9.9456,
          11.8037,
          4.860416000000002,
          18.9712,
          41.9029,
          15.2,
          47.1625,
          20.593684,
          -0.7893,
          32.427908,
          33.223191,
          31.046051000000002,
          18.1096,
          36.204824,
          31.24,
          48.0196,
          -0.0236,
          35.90775700000001,
          42.602636,
          29.311659999999996,
          41.20438,
          19.856270000000002,
          56.8796,
          33.8547,
          6.4280550000000005,
          26.3351,
          47.14,
          55.1694,
          49.8153,
          null,
          -18.766947000000002,
          -13.254307999999998,
          4.210483999999999,
          3.2028,
          17.570692,
          35.9375,
          21.0079,
          -20.348404000000002,
          23.6345,
          47.4116,
          43.7333,
          46.8625,
          42.708678000000006,
          31.7917,
          -18.665695,
          -22.9576,
          28.1667,
          -40.9006,
          12.865416,
          17.607789,
          9.082,
          41.6086,
          21.512583,
          30.3753,
          8.538,
          -6.314993,
          -23.4425,
          -9.19,
          12.879721,
          51.9194,
          39.3999,
          25.3548,
          45.9432,
          -1.9403,
          17.357822,
          13.9094,
          12.9843,
          43.9424,
          0.18636,
          23.885942,
          14.4974,
          44.0165,
          -4.6796,
          8.460555000000001,
          1.2833,
          48.669,
          46.1512,
          5.152149,
          -30.5595,
          6.8770000000000024,
          40.463667,
          7.873054,
          12.8628,
          3.9193,
          34.802075,
          23.7,
          38.861034000000004,
          -6.369028,
          15.870032,
          -8.874217,
          8.6195,
          10.6918,
          33.886917,
          38.9637,
          1.373333,
          48.3794,
          23.424076,
          -32.5228,
          41.377491,
          6.4238,
          14.058323999999999,
          31.9522,
          24.2155,
          15.552726999999999,
          -13.133897,
          -19.015438
         ],
         "legendgroup": "",
         "lon": [
          133,
          14.5501,
          -95.001,
          114.3055,
          10,
          25.7482,
          2.2137,
          10.4515,
          -19.0208,
          -7.6921,
          12.5674,
          5.55,
          8.4689,
          105.3188,
          18.6435,
          8.2275,
          -3,
          -100,
          67.709953,
          20.1683,
          1.6596,
          1.5218,
          17.8739,
          -61.7964,
          -63.6167,
          45.0382,
          47.5769,
          -78.035889,
          50.55,
          90.3563,
          -59.5432,
          27.9534,
          4.469936,
          -88.4976,
          2.3158,
          90.4336,
          -63.5887,
          17.6791,
          24.6849,
          -51.9253,
          114.7277,
          25.4858,
          -1.5616,
          95.956,
          29.9189,
          -23.0418,
          104.9167,
          11.5021,
          20.9394,
          18.7322,
          -71.543,
          -74.2973,
          43.3333,
          15.2832,
          15.307045,
          -83.7534,
          -5.5471,
          15.2,
          -77.78116700000002,
          33.4299,
          15.472999999999999,
          null,
          42.5903,
          -61.371,
          -70.1627,
          -78.1834,
          30.802497999999996,
          -88.8965,
          10.2679,
          39.7823,
          25.0136,
          31.4659,
          40.4897,
          178.065,
          11.6094,
          -15.3101,
          43.3569,
          -1.0232,
          21.8243,
          -61.678999999999995,
          -90.2308,
          -9.6966,
          -15.1804,
          -58.93018000000001,
          -72.2852,
          12.4534,
          -86.2419,
          19.5033,
          78.96288,
          113.9213,
          53.68804599999999,
          43.679291,
          34.851612,
          -77.2975,
          138.252924,
          36.51,
          66.9237,
          37.9062,
          127.766922,
          20.902977,
          47.481766,
          74.766098,
          102.495496,
          24.6032,
          35.8623,
          -9.429499,
          17.228331,
          9.55,
          23.8813,
          6.1296,
          null,
          46.869107,
          34.301525,
          101.97576600000001,
          73.2207,
          -3.996166000000001,
          14.3754,
          -10.9408,
          57.552152,
          -102.5528,
          28.3699,
          7.4167,
          103.8467,
          19.37439,
          -7.0926,
          35.529562,
          18.4904,
          84.25,
          174.886,
          -85.207229,
          8.081666,
          8.6753,
          21.7453,
          55.92325500000001,
          69.3451,
          -80.7821,
          143.95555,
          -58.4438,
          -75.0152,
          121.77401699999999,
          19.1451,
          -8.2245,
          51.1839,
          24.9668,
          29.8739,
          -62.782998,
          -60.9789,
          -61.2872,
          12.4578,
          6.613081,
          45.079162,
          -14.4524,
          21.0059,
          55.492,
          -11.779889,
          103.8333,
          19.699,
          14.9955,
          46.199616,
          22.9375,
          31.307,
          -3.74922,
          80.77179699999998,
          30.2176,
          -56.0278,
          38.99681500000001,
          121,
          71.276093,
          34.888822,
          100.992541,
          125.727539,
          0.8248,
          -61.2225,
          9.537499,
          35.2433,
          32.290275,
          31.1656,
          53.847818000000004,
          -55.7658,
          64.585262,
          -66.5897,
          108.277199,
          35.2332,
          -12.8858,
          48.516388,
          27.849332,
          29.154857
         ],
         "marker": {
          "color": [
           95,
           598,
           3779,
           4637,
           484,
           230,
           24763,
           6840,
           10,
           1303,
           28884,
           5072,
           211,
           1280,
           2679,
           1762,
           28520,
           67200,
           85,
           31,
           463,
           44,
           2,
           3,
           241,
           35,
           25,
           11,
           8,
           177,
           7,
           99,
           7844,
           2,
           2,
           0,
           71,
           77,
           1,
           6777,
           1,
           73,
           44,
           6,
           1,
           2,
           0,
           64,
           0,
           10,
           260,
           324,
           0,
           9,
           33,
           6,
           15,
           79,
           67,
           15,
           245,
           13,
           2,
           0,
           333,
           1564,
           429,
           11,
           1,
           0,
           55,
           1,
           3,
           0,
           5,
           1,
           9,
           18,
           144,
           0,
           17,
           7,
           1,
           9,
           8,
           0,
           76,
           340,
           1391,
           845,
           6203,
           97,
           230,
           8,
           474,
           9,
           27,
           24,
           250,
           22,
           38,
           10,
           0,
           16,
           25,
           18,
           3,
           1,
           46,
           96,
           2,
           0,
           3,
           105,
           1,
           27,
           4,
           1,
           10,
           2061,
           125,
           4,
           0,
           8,
           174,
           0,
           0,
           0,
           20,
           3,
           35,
           85,
           84,
           12,
           457,
           197,
           0,
           10,
           1200,
           607,
           678,
           1043,
           12,
           790,
           0,
           0,
           0,
           0,
           41,
           1,
           184,
           9,
           189,
           0,
           8,
           18,
           24,
           96,
           32,
           131,
           0,
           25100,
           7,
           41,
           1,
           3,
           6,
           2,
           16,
           54,
           0,
           9,
           8,
           42,
           3397,
           0,
           288,
           126,
           17,
           10,
           10,
           0,
           2,
           0,
           2,
           3,
           4
          ],
          "coloraxis": "coloraxis",
          "size": [
           6799,
           15597,
           60345,
           83959,
           9721,
           5254,
           168518,
           165383,
           1799,
           21506,
           210717,
           40769,
           7833,
           134687,
           22317,
           29905,
           187840,
           1149197,
           2704,
           795,
           4474,
           747,
           35,
           25,
           4681,
           2386,
           1932,
           83,
           3383,
           9455,
           81,
           16705,
           49906,
           18,
           90,
           7,
           1470,
           1857,
           23,
           97929,
           138,
           1618,
           652,
           155,
           15,
           152,
           122,
           2077,
           72,
           117,
           19663,
           7285,
           3,
           229,
           674,
           739,
           1362,
           2096,
           1649,
           872,
           7764,
           712,
           1112,
           16,
           7954,
           29538,
           6465,
           490,
           315,
           39,
           1700,
           112,
           135,
           18,
           335,
           17,
           589,
           2169,
           2626,
           21,
           688,
           1586,
           257,
           82,
           85,
           11,
           1010,
           2998,
           42505,
           11192,
           97424,
           2296,
           16193,
           463,
           14571,
           461,
           3913,
           465,
           10793,
           823,
           4983,
           795,
           19,
           879,
           737,
           154,
           63,
           82,
           1410,
           3824,
           9,
           149,
           39,
           6298,
           527,
           563,
           477,
           8,
           332,
           22088,
           4121,
           95,
           39,
           322,
           4903,
           79,
           16,
           75,
           1487,
           14,
           736,
           2388,
           1511,
           2568,
           20084,
           7090,
           8,
           370,
           42534,
           9223,
           13693,
           25282,
           15551,
           13163,
           255,
           15,
           17,
           16,
           582,
           16,
           27011,
           1182,
           9362,
           11,
           157,
           18205,
           1408,
           1439,
           722,
           6783,
           46,
           216582,
           718,
           592,
           10,
           44,
           432,
           128,
           480,
           2969,
           24,
           124,
           116,
           1009,
           126045,
           88,
           11913,
           14163,
           652,
           2136,
           345,
           271,
           353,
           6,
           10,
           124,
           34
          ],
          "sizemode": "area",
          "sizeref": 718.248125
         },
         "mode": "markers",
         "name": "",
         "showlegend": false,
         "subplot": "mapbox",
         "type": "scattermapbox"
        }
       ],
       "layout": {
        "autosize": false,
        "coloraxis": {
         "colorbar": {
          "title": {
           "text": "Deaths"
          }
         },
         "colorscale": [
          [
           0,
           "#440154"
          ],
          [
           0.1111111111111111,
           "#482878"
          ],
          [
           0.2222222222222222,
           "#3e4989"
          ],
          [
           0.3333333333333333,
           "#31688e"
          ],
          [
           0.4444444444444444,
           "#26828e"
          ],
          [
           0.5555555555555556,
           "#1f9e89"
          ],
          [
           0.6666666666666666,
           "#35b779"
          ],
          [
           0.7777777777777778,
           "#6ece58"
          ],
          [
           0.8888888888888888,
           "#b5de2b"
          ],
          [
           1,
           "#fde725"
          ]
         ]
        },
        "height": 450,
        "legend": {
         "itemsizing": "constant",
         "tracegroupgap": 0
        },
        "mapbox": {
         "accesstoken": "pk.eyJ1Ijoid3F1b2xlIiwiYSI6ImNrOW8xNGg0ajAxb2MzbXJ5ZnloNTZwNTgifQ.fWUAE9efVih5rjtoFyNTeg",
         "center": {
          "lat": 20.440420454054056,
          "lon": 17.470469318918916
         },
         "domain": {
          "x": [
           0,
           1
          ],
          "y": [
           0,
           1
          ]
         },
         "zoom": 0
        },
        "margin": {
         "t": 60
        },
        "template": {
         "data": {
          "bar": [
           {
            "error_x": {
             "color": "#2a3f5f"
            },
            "error_y": {
             "color": "#2a3f5f"
            },
            "marker": {
             "line": {
              "color": "#E5ECF6",
              "width": 0.5
             }
            },
            "type": "bar"
           }
          ],
          "barpolar": [
           {
            "marker": {
             "line": {
              "color": "#E5ECF6",
              "width": 0.5
             }
            },
            "type": "barpolar"
           }
          ],
          "carpet": [
           {
            "aaxis": {
             "endlinecolor": "#2a3f5f",
             "gridcolor": "white",
             "linecolor": "white",
             "minorgridcolor": "white",
             "startlinecolor": "#2a3f5f"
            },
            "baxis": {
             "endlinecolor": "#2a3f5f",
             "gridcolor": "white",
             "linecolor": "white",
             "minorgridcolor": "white",
             "startlinecolor": "#2a3f5f"
            },
            "type": "carpet"
           }
          ],
          "choropleth": [
           {
            "colorbar": {
             "outlinewidth": 0,
             "ticks": ""
            },
            "type": "choropleth"
           }
          ],
          "contour": [
           {
            "colorbar": {
             "outlinewidth": 0,
             "ticks": ""
            },
            "colorscale": [
             [
              0,
              "#0d0887"
             ],
             [
              0.1111111111111111,
              "#46039f"
             ],
             [
              0.2222222222222222,
              "#7201a8"
             ],
             [
              0.3333333333333333,
              "#9c179e"
             ],
             [
              0.4444444444444444,
              "#bd3786"
             ],
             [
              0.5555555555555556,
              "#d8576b"
             ],
             [
              0.6666666666666666,
              "#ed7953"
             ],
             [
              0.7777777777777778,
              "#fb9f3a"
             ],
             [
              0.8888888888888888,
              "#fdca26"
             ],
             [
              1,
              "#f0f921"
             ]
            ],
            "type": "contour"
           }
          ],
          "contourcarpet": [
           {
            "colorbar": {
             "outlinewidth": 0,
             "ticks": ""
            },
            "type": "contourcarpet"
           }
          ],
          "heatmap": [
           {
            "colorbar": {
             "outlinewidth": 0,
             "ticks": ""
            },
            "colorscale": [
             [
              0,
              "#0d0887"
             ],
             [
              0.1111111111111111,
              "#46039f"
             ],
             [
              0.2222222222222222,
              "#7201a8"
             ],
             [
              0.3333333333333333,
              "#9c179e"
             ],
             [
              0.4444444444444444,
              "#bd3786"
             ],
             [
              0.5555555555555556,
              "#d8576b"
             ],
             [
              0.6666666666666666,
              "#ed7953"
             ],
             [
              0.7777777777777778,
              "#fb9f3a"
             ],
             [
              0.8888888888888888,
              "#fdca26"
             ],
             [
              1,
              "#f0f921"
             ]
            ],
            "type": "heatmap"
           }
          ],
          "heatmapgl": [
           {
            "colorbar": {
             "outlinewidth": 0,
             "ticks": ""
            },
            "colorscale": [
             [
              0,
              "#0d0887"
             ],
             [
              0.1111111111111111,
              "#46039f"
             ],
             [
              0.2222222222222222,
              "#7201a8"
             ],
             [
              0.3333333333333333,
              "#9c179e"
             ],
             [
              0.4444444444444444,
              "#bd3786"
             ],
             [
              0.5555555555555556,
              "#d8576b"
             ],
             [
              0.6666666666666666,
              "#ed7953"
             ],
             [
              0.7777777777777778,
              "#fb9f3a"
             ],
             [
              0.8888888888888888,
              "#fdca26"
             ],
             [
              1,
              "#f0f921"
             ]
            ],
            "type": "heatmapgl"
           }
          ],
          "histogram": [
           {
            "marker": {
             "colorbar": {
              "outlinewidth": 0,
              "ticks": ""
             }
            },
            "type": "histogram"
           }
          ],
          "histogram2d": [
           {
            "colorbar": {
             "outlinewidth": 0,
             "ticks": ""
            },
            "colorscale": [
             [
              0,
              "#0d0887"
             ],
             [
              0.1111111111111111,
              "#46039f"
             ],
             [
              0.2222222222222222,
              "#7201a8"
             ],
             [
              0.3333333333333333,
              "#9c179e"
             ],
             [
              0.4444444444444444,
              "#bd3786"
             ],
             [
              0.5555555555555556,
              "#d8576b"
             ],
             [
              0.6666666666666666,
              "#ed7953"
             ],
             [
              0.7777777777777778,
              "#fb9f3a"
             ],
             [
              0.8888888888888888,
              "#fdca26"
             ],
             [
              1,
              "#f0f921"
             ]
            ],
            "type": "histogram2d"
           }
          ],
          "histogram2dcontour": [
           {
            "colorbar": {
             "outlinewidth": 0,
             "ticks": ""
            },
            "colorscale": [
             [
              0,
              "#0d0887"
             ],
             [
              0.1111111111111111,
              "#46039f"
             ],
             [
              0.2222222222222222,
              "#7201a8"
             ],
             [
              0.3333333333333333,
              "#9c179e"
             ],
             [
              0.4444444444444444,
              "#bd3786"
             ],
             [
              0.5555555555555556,
              "#d8576b"
             ],
             [
              0.6666666666666666,
              "#ed7953"
             ],
             [
              0.7777777777777778,
              "#fb9f3a"
             ],
             [
              0.8888888888888888,
              "#fdca26"
             ],
             [
              1,
              "#f0f921"
             ]
            ],
            "type": "histogram2dcontour"
           }
          ],
          "mesh3d": [
           {
            "colorbar": {
             "outlinewidth": 0,
             "ticks": ""
            },
            "type": "mesh3d"
           }
          ],
          "parcoords": [
           {
            "line": {
             "colorbar": {
              "outlinewidth": 0,
              "ticks": ""
             }
            },
            "type": "parcoords"
           }
          ],
          "pie": [
           {
            "automargin": true,
            "type": "pie"
           }
          ],
          "scatter": [
           {
            "marker": {
             "colorbar": {
              "outlinewidth": 0,
              "ticks": ""
             }
            },
            "type": "scatter"
           }
          ],
          "scatter3d": [
           {
            "line": {
             "colorbar": {
              "outlinewidth": 0,
              "ticks": ""
             }
            },
            "marker": {
             "colorbar": {
              "outlinewidth": 0,
              "ticks": ""
             }
            },
            "type": "scatter3d"
           }
          ],
          "scattercarpet": [
           {
            "marker": {
             "colorbar": {
              "outlinewidth": 0,
              "ticks": ""
             }
            },
            "type": "scattercarpet"
           }
          ],
          "scattergeo": [
           {
            "marker": {
             "colorbar": {
              "outlinewidth": 0,
              "ticks": ""
             }
            },
            "type": "scattergeo"
           }
          ],
          "scattergl": [
           {
            "marker": {
             "colorbar": {
              "outlinewidth": 0,
              "ticks": ""
             }
            },
            "type": "scattergl"
           }
          ],
          "scattermapbox": [
           {
            "marker": {
             "colorbar": {
              "outlinewidth": 0,
              "ticks": ""
             }
            },
            "type": "scattermapbox"
           }
          ],
          "scatterpolar": [
           {
            "marker": {
             "colorbar": {
              "outlinewidth": 0,
              "ticks": ""
             }
            },
            "type": "scatterpolar"
           }
          ],
          "scatterpolargl": [
           {
            "marker": {
             "colorbar": {
              "outlinewidth": 0,
              "ticks": ""
             }
            },
            "type": "scatterpolargl"
           }
          ],
          "scatterternary": [
           {
            "marker": {
             "colorbar": {
              "outlinewidth": 0,
              "ticks": ""
             }
            },
            "type": "scatterternary"
           }
          ],
          "surface": [
           {
            "colorbar": {
             "outlinewidth": 0,
             "ticks": ""
            },
            "colorscale": [
             [
              0,
              "#0d0887"
             ],
             [
              0.1111111111111111,
              "#46039f"
             ],
             [
              0.2222222222222222,
              "#7201a8"
             ],
             [
              0.3333333333333333,
              "#9c179e"
             ],
             [
              0.4444444444444444,
              "#bd3786"
             ],
             [
              0.5555555555555556,
              "#d8576b"
             ],
             [
              0.6666666666666666,
              "#ed7953"
             ],
             [
              0.7777777777777778,
              "#fb9f3a"
             ],
             [
              0.8888888888888888,
              "#fdca26"
             ],
             [
              1,
              "#f0f921"
             ]
            ],
            "type": "surface"
           }
          ],
          "table": [
           {
            "cells": {
             "fill": {
              "color": "#EBF0F8"
             },
             "line": {
              "color": "white"
             }
            },
            "header": {
             "fill": {
              "color": "#C8D4E3"
             },
             "line": {
              "color": "white"
             }
            },
            "type": "table"
           }
          ]
         },
         "layout": {
          "annotationdefaults": {
           "arrowcolor": "#2a3f5f",
           "arrowhead": 0,
           "arrowwidth": 1
          },
          "coloraxis": {
           "colorbar": {
            "outlinewidth": 0,
            "ticks": ""
           }
          },
          "colorscale": {
           "diverging": [
            [
             0,
             "#8e0152"
            ],
            [
             0.1,
             "#c51b7d"
            ],
            [
             0.2,
             "#de77ae"
            ],
            [
             0.3,
             "#f1b6da"
            ],
            [
             0.4,
             "#fde0ef"
            ],
            [
             0.5,
             "#f7f7f7"
            ],
            [
             0.6,
             "#e6f5d0"
            ],
            [
             0.7,
             "#b8e186"
            ],
            [
             0.8,
             "#7fbc41"
            ],
            [
             0.9,
             "#4d9221"
            ],
            [
             1,
             "#276419"
            ]
           ],
           "sequential": [
            [
             0,
             "#0d0887"
            ],
            [
             0.1111111111111111,
             "#46039f"
            ],
            [
             0.2222222222222222,
             "#7201a8"
            ],
            [
             0.3333333333333333,
             "#9c179e"
            ],
            [
             0.4444444444444444,
             "#bd3786"
            ],
            [
             0.5555555555555556,
             "#d8576b"
            ],
            [
             0.6666666666666666,
             "#ed7953"
            ],
            [
             0.7777777777777778,
             "#fb9f3a"
            ],
            [
             0.8888888888888888,
             "#fdca26"
            ],
            [
             1,
             "#f0f921"
            ]
           ],
           "sequentialminus": [
            [
             0,
             "#0d0887"
            ],
            [
             0.1111111111111111,
             "#46039f"
            ],
            [
             0.2222222222222222,
             "#7201a8"
            ],
            [
             0.3333333333333333,
             "#9c179e"
            ],
            [
             0.4444444444444444,
             "#bd3786"
            ],
            [
             0.5555555555555556,
             "#d8576b"
            ],
            [
             0.6666666666666666,
             "#ed7953"
            ],
            [
             0.7777777777777778,
             "#fb9f3a"
            ],
            [
             0.8888888888888888,
             "#fdca26"
            ],
            [
             1,
             "#f0f921"
            ]
           ]
          },
          "colorway": [
           "#636efa",
           "#EF553B",
           "#00cc96",
           "#ab63fa",
           "#FFA15A",
           "#19d3f3",
           "#FF6692",
           "#B6E880",
           "#FF97FF",
           "#FECB52"
          ],
          "font": {
           "color": "#2a3f5f"
          },
          "geo": {
           "bgcolor": "white",
           "lakecolor": "white",
           "landcolor": "#E5ECF6",
           "showlakes": true,
           "showland": true,
           "subunitcolor": "white"
          },
          "hoverlabel": {
           "align": "left"
          },
          "hovermode": "closest",
          "mapbox": {
           "style": "light"
          },
          "paper_bgcolor": "white",
          "plot_bgcolor": "#E5ECF6",
          "polar": {
           "angularaxis": {
            "gridcolor": "white",
            "linecolor": "white",
            "ticks": ""
           },
           "bgcolor": "#E5ECF6",
           "radialaxis": {
            "gridcolor": "white",
            "linecolor": "white",
            "ticks": ""
           }
          },
          "scene": {
           "xaxis": {
            "backgroundcolor": "#E5ECF6",
            "gridcolor": "white",
            "gridwidth": 2,
            "linecolor": "white",
            "showbackground": true,
            "ticks": "",
            "zerolinecolor": "white"
           },
           "yaxis": {
            "backgroundcolor": "#E5ECF6",
            "gridcolor": "white",
            "gridwidth": 2,
            "linecolor": "white",
            "showbackground": true,
            "ticks": "",
            "zerolinecolor": "white"
           },
           "zaxis": {
            "backgroundcolor": "#E5ECF6",
            "gridcolor": "white",
            "gridwidth": 2,
            "linecolor": "white",
            "showbackground": true,
            "ticks": "",
            "zerolinecolor": "white"
           }
          },
          "shapedefaults": {
           "line": {
            "color": "#2a3f5f"
           }
          },
          "ternary": {
           "aaxis": {
            "gridcolor": "white",
            "linecolor": "white",
            "ticks": ""
           },
           "baxis": {
            "gridcolor": "white",
            "linecolor": "white",
            "ticks": ""
           },
           "bgcolor": "#E5ECF6",
           "caxis": {
            "gridcolor": "white",
            "linecolor": "white",
            "ticks": ""
           }
          },
          "title": {
           "x": 0.05
          },
          "xaxis": {
           "automargin": true,
           "gridcolor": "white",
           "linecolor": "white",
           "ticks": "",
           "title": {
            "standoff": 15
           },
           "zerolinecolor": "white",
           "zerolinewidth": 2
          },
          "yaxis": {
           "automargin": true,
           "gridcolor": "white",
           "linecolor": "white",
           "ticks": "",
           "title": {
            "standoff": 15
           },
           "zerolinecolor": "white",
           "zerolinewidth": 2
          }
         }
        },
        "width": 800
       }
      }
     },
     "metadata": {}
    }
   ],
   "source": [
    "import plotly.express as px\n",
    "px.set_mapbox_access_token(open(\".mapbox_token\").read())\n",
    "\n",
    "\n",
    "df = country_df\n",
    "fig = px.scatter_mapbox(\n",
    "    df, lat=\"Lat\", lon=\"Long\",\n",
    "    color=\"Deaths\", size=\"Confirmed\",\n",
    "    size_max=40,\n",
    "    zoom=0,\n",
    "    color_continuous_scale=\"viridis\"\n",
    "    )\n",
    "# \"open-street-map\", \"carto-positron\", \"carto-darkmatter\", \"stamen-terrain\", \"stamen-toner\" or \"stamen-watercolor\" yeild maps composed of raster tiles from various public tile servers which do not  require signups or access tokens\n",
    "\n",
    "# \"basic\", \"streets\", \"outdoors\", \"light\", \"dark\", \"satellite\", or \"satellite-streets\" yeild maps composed of vector tiles from the Mapbox service, and do require a Mapbox Access Token or an on-premise Mapbox installation.\n",
    "\n",
    "# https://plotly.com/python/builtin-colorscales/\n",
    "# https://plotly.com/python/discrete-color/\n",
    "\n",
    "# https://plotly.com/python/mapbox-layers/\n",
    "\n",
    "\n",
    "fig.update_layout(\n",
    "    autosize=False,\n",
    "    width=800,\n",
    "    height=450,\n",
    "    #mapbox_style='carto-darkmatter'\n",
    ")\n",
    "\n",
    "fig.show()"
   ]
  },
  {
   "cell_type": "code",
   "execution_count": 7,
   "metadata": {},
   "outputs": [
    {
     "output_type": "display_data",
     "data": {
      "application/vnd.plotly.v1+json": {
       "config": {
        "plotlyServerURL": "https://plot.ly"
       },
       "data": [
        {
         "hovertemplate": "<b>%{hovertext}</b><br><br>Country=%{x}<br>Confirmed=%{y}<br>Deaths=%{marker.size}<br>Recovered=%{marker.color}<extra></extra>",
         "hovertext": [
          "US",
          "Italy",
          "United Kingdom",
          "Spain",
          "France"
         ],
         "legendgroup": "",
         "marker": {
          "color": [
           175382,
           81654,
           901,
           117248,
           50663
          ],
          "coloraxis": "coloraxis",
          "size": [
           67200,
           28884,
           28520,
           25100,
           24763
          ],
          "sizemode": "area",
          "sizeref": 4.3008,
          "symbol": "circle"
         },
         "mode": "markers",
         "name": "",
         "scene": "scene",
         "showlegend": false,
         "type": "scatter3d",
         "x": [
          "US",
          "Italy",
          "United Kingdom",
          "Spain",
          "France"
         ],
         "y": [
          1149197,
          210717,
          187840,
          216582,
          168518
         ],
         "z": [
          67200,
          28884,
          28520,
          25100,
          24763
         ]
        }
       ],
       "layout": {
        "autosize": false,
        "coloraxis": {
         "colorbar": {
          "title": {
           "text": "Recovered"
          }
         },
         "colorscale": [
          [
           0,
           "#440154"
          ],
          [
           0.1111111111111111,
           "#482878"
          ],
          [
           0.2222222222222222,
           "#3e4989"
          ],
          [
           0.3333333333333333,
           "#31688e"
          ],
          [
           0.4444444444444444,
           "#26828e"
          ],
          [
           0.5555555555555556,
           "#1f9e89"
          ],
          [
           0.6666666666666666,
           "#35b779"
          ],
          [
           0.7777777777777778,
           "#6ece58"
          ],
          [
           0.8888888888888888,
           "#b5de2b"
          ],
          [
           1,
           "#fde725"
          ]
         ]
        },
        "height": 600,
        "legend": {
         "itemsizing": "constant",
         "tracegroupgap": 0
        },
        "margin": {
         "t": 60
        },
        "scene": {
         "domain": {
          "x": [
           0,
           1
          ],
          "y": [
           0,
           1
          ]
         },
         "xaxis": {
          "title": {
           "text": "Country"
          }
         },
         "yaxis": {
          "title": {
           "text": "Confirmed"
          }
         },
         "zaxis": {
          "title": {
           "text": "Deaths"
          }
         }
        },
        "template": {
         "data": {
          "bar": [
           {
            "error_x": {
             "color": "#2a3f5f"
            },
            "error_y": {
             "color": "#2a3f5f"
            },
            "marker": {
             "line": {
              "color": "white",
              "width": 0.5
             }
            },
            "type": "bar"
           }
          ],
          "barpolar": [
           {
            "marker": {
             "line": {
              "color": "white",
              "width": 0.5
             }
            },
            "type": "barpolar"
           }
          ],
          "carpet": [
           {
            "aaxis": {
             "endlinecolor": "#2a3f5f",
             "gridcolor": "#C8D4E3",
             "linecolor": "#C8D4E3",
             "minorgridcolor": "#C8D4E3",
             "startlinecolor": "#2a3f5f"
            },
            "baxis": {
             "endlinecolor": "#2a3f5f",
             "gridcolor": "#C8D4E3",
             "linecolor": "#C8D4E3",
             "minorgridcolor": "#C8D4E3",
             "startlinecolor": "#2a3f5f"
            },
            "type": "carpet"
           }
          ],
          "choropleth": [
           {
            "colorbar": {
             "outlinewidth": 0,
             "ticks": ""
            },
            "type": "choropleth"
           }
          ],
          "contour": [
           {
            "colorbar": {
             "outlinewidth": 0,
             "ticks": ""
            },
            "colorscale": [
             [
              0,
              "#0d0887"
             ],
             [
              0.1111111111111111,
              "#46039f"
             ],
             [
              0.2222222222222222,
              "#7201a8"
             ],
             [
              0.3333333333333333,
              "#9c179e"
             ],
             [
              0.4444444444444444,
              "#bd3786"
             ],
             [
              0.5555555555555556,
              "#d8576b"
             ],
             [
              0.6666666666666666,
              "#ed7953"
             ],
             [
              0.7777777777777778,
              "#fb9f3a"
             ],
             [
              0.8888888888888888,
              "#fdca26"
             ],
             [
              1,
              "#f0f921"
             ]
            ],
            "type": "contour"
           }
          ],
          "contourcarpet": [
           {
            "colorbar": {
             "outlinewidth": 0,
             "ticks": ""
            },
            "type": "contourcarpet"
           }
          ],
          "heatmap": [
           {
            "colorbar": {
             "outlinewidth": 0,
             "ticks": ""
            },
            "colorscale": [
             [
              0,
              "#0d0887"
             ],
             [
              0.1111111111111111,
              "#46039f"
             ],
             [
              0.2222222222222222,
              "#7201a8"
             ],
             [
              0.3333333333333333,
              "#9c179e"
             ],
             [
              0.4444444444444444,
              "#bd3786"
             ],
             [
              0.5555555555555556,
              "#d8576b"
             ],
             [
              0.6666666666666666,
              "#ed7953"
             ],
             [
              0.7777777777777778,
              "#fb9f3a"
             ],
             [
              0.8888888888888888,
              "#fdca26"
             ],
             [
              1,
              "#f0f921"
             ]
            ],
            "type": "heatmap"
           }
          ],
          "heatmapgl": [
           {
            "colorbar": {
             "outlinewidth": 0,
             "ticks": ""
            },
            "colorscale": [
             [
              0,
              "#0d0887"
             ],
             [
              0.1111111111111111,
              "#46039f"
             ],
             [
              0.2222222222222222,
              "#7201a8"
             ],
             [
              0.3333333333333333,
              "#9c179e"
             ],
             [
              0.4444444444444444,
              "#bd3786"
             ],
             [
              0.5555555555555556,
              "#d8576b"
             ],
             [
              0.6666666666666666,
              "#ed7953"
             ],
             [
              0.7777777777777778,
              "#fb9f3a"
             ],
             [
              0.8888888888888888,
              "#fdca26"
             ],
             [
              1,
              "#f0f921"
             ]
            ],
            "type": "heatmapgl"
           }
          ],
          "histogram": [
           {
            "marker": {
             "colorbar": {
              "outlinewidth": 0,
              "ticks": ""
             }
            },
            "type": "histogram"
           }
          ],
          "histogram2d": [
           {
            "colorbar": {
             "outlinewidth": 0,
             "ticks": ""
            },
            "colorscale": [
             [
              0,
              "#0d0887"
             ],
             [
              0.1111111111111111,
              "#46039f"
             ],
             [
              0.2222222222222222,
              "#7201a8"
             ],
             [
              0.3333333333333333,
              "#9c179e"
             ],
             [
              0.4444444444444444,
              "#bd3786"
             ],
             [
              0.5555555555555556,
              "#d8576b"
             ],
             [
              0.6666666666666666,
              "#ed7953"
             ],
             [
              0.7777777777777778,
              "#fb9f3a"
             ],
             [
              0.8888888888888888,
              "#fdca26"
             ],
             [
              1,
              "#f0f921"
             ]
            ],
            "type": "histogram2d"
           }
          ],
          "histogram2dcontour": [
           {
            "colorbar": {
             "outlinewidth": 0,
             "ticks": ""
            },
            "colorscale": [
             [
              0,
              "#0d0887"
             ],
             [
              0.1111111111111111,
              "#46039f"
             ],
             [
              0.2222222222222222,
              "#7201a8"
             ],
             [
              0.3333333333333333,
              "#9c179e"
             ],
             [
              0.4444444444444444,
              "#bd3786"
             ],
             [
              0.5555555555555556,
              "#d8576b"
             ],
             [
              0.6666666666666666,
              "#ed7953"
             ],
             [
              0.7777777777777778,
              "#fb9f3a"
             ],
             [
              0.8888888888888888,
              "#fdca26"
             ],
             [
              1,
              "#f0f921"
             ]
            ],
            "type": "histogram2dcontour"
           }
          ],
          "mesh3d": [
           {
            "colorbar": {
             "outlinewidth": 0,
             "ticks": ""
            },
            "type": "mesh3d"
           }
          ],
          "parcoords": [
           {
            "line": {
             "colorbar": {
              "outlinewidth": 0,
              "ticks": ""
             }
            },
            "type": "parcoords"
           }
          ],
          "pie": [
           {
            "automargin": true,
            "type": "pie"
           }
          ],
          "scatter": [
           {
            "marker": {
             "colorbar": {
              "outlinewidth": 0,
              "ticks": ""
             }
            },
            "type": "scatter"
           }
          ],
          "scatter3d": [
           {
            "line": {
             "colorbar": {
              "outlinewidth": 0,
              "ticks": ""
             }
            },
            "marker": {
             "colorbar": {
              "outlinewidth": 0,
              "ticks": ""
             }
            },
            "type": "scatter3d"
           }
          ],
          "scattercarpet": [
           {
            "marker": {
             "colorbar": {
              "outlinewidth": 0,
              "ticks": ""
             }
            },
            "type": "scattercarpet"
           }
          ],
          "scattergeo": [
           {
            "marker": {
             "colorbar": {
              "outlinewidth": 0,
              "ticks": ""
             }
            },
            "type": "scattergeo"
           }
          ],
          "scattergl": [
           {
            "marker": {
             "colorbar": {
              "outlinewidth": 0,
              "ticks": ""
             }
            },
            "type": "scattergl"
           }
          ],
          "scattermapbox": [
           {
            "marker": {
             "colorbar": {
              "outlinewidth": 0,
              "ticks": ""
             }
            },
            "type": "scattermapbox"
           }
          ],
          "scatterpolar": [
           {
            "marker": {
             "colorbar": {
              "outlinewidth": 0,
              "ticks": ""
             }
            },
            "type": "scatterpolar"
           }
          ],
          "scatterpolargl": [
           {
            "marker": {
             "colorbar": {
              "outlinewidth": 0,
              "ticks": ""
             }
            },
            "type": "scatterpolargl"
           }
          ],
          "scatterternary": [
           {
            "marker": {
             "colorbar": {
              "outlinewidth": 0,
              "ticks": ""
             }
            },
            "type": "scatterternary"
           }
          ],
          "surface": [
           {
            "colorbar": {
             "outlinewidth": 0,
             "ticks": ""
            },
            "colorscale": [
             [
              0,
              "#0d0887"
             ],
             [
              0.1111111111111111,
              "#46039f"
             ],
             [
              0.2222222222222222,
              "#7201a8"
             ],
             [
              0.3333333333333333,
              "#9c179e"
             ],
             [
              0.4444444444444444,
              "#bd3786"
             ],
             [
              0.5555555555555556,
              "#d8576b"
             ],
             [
              0.6666666666666666,
              "#ed7953"
             ],
             [
              0.7777777777777778,
              "#fb9f3a"
             ],
             [
              0.8888888888888888,
              "#fdca26"
             ],
             [
              1,
              "#f0f921"
             ]
            ],
            "type": "surface"
           }
          ],
          "table": [
           {
            "cells": {
             "fill": {
              "color": "#EBF0F8"
             },
             "line": {
              "color": "white"
             }
            },
            "header": {
             "fill": {
              "color": "#C8D4E3"
             },
             "line": {
              "color": "white"
             }
            },
            "type": "table"
           }
          ]
         },
         "layout": {
          "annotationdefaults": {
           "arrowcolor": "#2a3f5f",
           "arrowhead": 0,
           "arrowwidth": 1
          },
          "coloraxis": {
           "colorbar": {
            "outlinewidth": 0,
            "ticks": ""
           }
          },
          "colorscale": {
           "diverging": [
            [
             0,
             "#8e0152"
            ],
            [
             0.1,
             "#c51b7d"
            ],
            [
             0.2,
             "#de77ae"
            ],
            [
             0.3,
             "#f1b6da"
            ],
            [
             0.4,
             "#fde0ef"
            ],
            [
             0.5,
             "#f7f7f7"
            ],
            [
             0.6,
             "#e6f5d0"
            ],
            [
             0.7,
             "#b8e186"
            ],
            [
             0.8,
             "#7fbc41"
            ],
            [
             0.9,
             "#4d9221"
            ],
            [
             1,
             "#276419"
            ]
           ],
           "sequential": [
            [
             0,
             "#0d0887"
            ],
            [
             0.1111111111111111,
             "#46039f"
            ],
            [
             0.2222222222222222,
             "#7201a8"
            ],
            [
             0.3333333333333333,
             "#9c179e"
            ],
            [
             0.4444444444444444,
             "#bd3786"
            ],
            [
             0.5555555555555556,
             "#d8576b"
            ],
            [
             0.6666666666666666,
             "#ed7953"
            ],
            [
             0.7777777777777778,
             "#fb9f3a"
            ],
            [
             0.8888888888888888,
             "#fdca26"
            ],
            [
             1,
             "#f0f921"
            ]
           ],
           "sequentialminus": [
            [
             0,
             "#0d0887"
            ],
            [
             0.1111111111111111,
             "#46039f"
            ],
            [
             0.2222222222222222,
             "#7201a8"
            ],
            [
             0.3333333333333333,
             "#9c179e"
            ],
            [
             0.4444444444444444,
             "#bd3786"
            ],
            [
             0.5555555555555556,
             "#d8576b"
            ],
            [
             0.6666666666666666,
             "#ed7953"
            ],
            [
             0.7777777777777778,
             "#fb9f3a"
            ],
            [
             0.8888888888888888,
             "#fdca26"
            ],
            [
             1,
             "#f0f921"
            ]
           ]
          },
          "colorway": [
           "#636efa",
           "#EF553B",
           "#00cc96",
           "#ab63fa",
           "#FFA15A",
           "#19d3f3",
           "#FF6692",
           "#B6E880",
           "#FF97FF",
           "#FECB52"
          ],
          "font": {
           "color": "#2a3f5f"
          },
          "geo": {
           "bgcolor": "white",
           "lakecolor": "white",
           "landcolor": "white",
           "showlakes": true,
           "showland": true,
           "subunitcolor": "#C8D4E3"
          },
          "hoverlabel": {
           "align": "left"
          },
          "hovermode": "closest",
          "mapbox": {
           "style": "light"
          },
          "paper_bgcolor": "white",
          "plot_bgcolor": "white",
          "polar": {
           "angularaxis": {
            "gridcolor": "#EBF0F8",
            "linecolor": "#EBF0F8",
            "ticks": ""
           },
           "bgcolor": "white",
           "radialaxis": {
            "gridcolor": "#EBF0F8",
            "linecolor": "#EBF0F8",
            "ticks": ""
           }
          },
          "scene": {
           "xaxis": {
            "backgroundcolor": "white",
            "gridcolor": "#DFE8F3",
            "gridwidth": 2,
            "linecolor": "#EBF0F8",
            "showbackground": true,
            "ticks": "",
            "zerolinecolor": "#EBF0F8"
           },
           "yaxis": {
            "backgroundcolor": "white",
            "gridcolor": "#DFE8F3",
            "gridwidth": 2,
            "linecolor": "#EBF0F8",
            "showbackground": true,
            "ticks": "",
            "zerolinecolor": "#EBF0F8"
           },
           "zaxis": {
            "backgroundcolor": "white",
            "gridcolor": "#DFE8F3",
            "gridwidth": 2,
            "linecolor": "#EBF0F8",
            "showbackground": true,
            "ticks": "",
            "zerolinecolor": "#EBF0F8"
           }
          },
          "shapedefaults": {
           "line": {
            "color": "#2a3f5f"
           }
          },
          "ternary": {
           "aaxis": {
            "gridcolor": "#DFE8F3",
            "linecolor": "#A2B1C6",
            "ticks": ""
           },
           "baxis": {
            "gridcolor": "#DFE8F3",
            "linecolor": "#A2B1C6",
            "ticks": ""
           },
           "bgcolor": "white",
           "caxis": {
            "gridcolor": "#DFE8F3",
            "linecolor": "#A2B1C6",
            "ticks": ""
           }
          },
          "title": {
           "x": 0.05
          },
          "xaxis": {
           "automargin": true,
           "gridcolor": "#EBF0F8",
           "linecolor": "#EBF0F8",
           "ticks": "",
           "title": {
            "standoff": 15
           },
           "zerolinecolor": "#EBF0F8",
           "zerolinewidth": 2
          },
          "yaxis": {
           "automargin": true,
           "gridcolor": "#EBF0F8",
           "linecolor": "#EBF0F8",
           "ticks": "",
           "title": {
            "standoff": 15
           },
           "zerolinecolor": "#EBF0F8",
           "zerolinewidth": 2
          }
         }
        },
        "width": 800
       }
      }
     },
     "metadata": {}
    }
   ],
   "source": [
    "import plotly.express as px\n",
    "df = country_df.sort_values('Deaths', ascending=False).head(5)\n",
    "fig = px.scatter_3d(\n",
    "    df, x=\"Country\", y=\"Confirmed\", z=\"Deaths\",\n",
    "    color=\"Recovered\", size=\"Deaths\", size_max=125, hover_name=\"Country\",\n",
    "    color_continuous_scale=\"Viridis\")\n",
    "\n",
    "fig.update_layout(\n",
    "    autosize=False,\n",
    "    width=800,\n",
    "    height=600,\n",
    "    template='plotly_white'\n",
    ")\n",
    "\n",
    "\n",
    "fig.show()"
   ]
  },
  {
   "cell_type": "code",
   "execution_count": 8,
   "metadata": {},
   "outputs": [],
   "source": [
    "confirmed_df = pd.read_csv('https://raw.githubusercontent.com/CSSEGISandData/COVID-19/master/csse_covid_19_data/csse_covid_19_time_series/time_series_covid19_confirmed_global.csv')\n",
    "death_df = pd.read_csv('https://raw.githubusercontent.com/CSSEGISandData/COVID-19/master/csse_covid_19_data/csse_covid_19_time_series/time_series_covid19_deaths_global.csv')\n",
    "\n",
    "import plotly.graph_objects as go\n",
    "\n",
    "def plot_cases_of_a_country(country):\n",
    "    labels = ['confirmed', 'deaths']\n",
    "    colors = ['blue', 'red']\n",
    "    mode_size = [6, 8]\n",
    "    line_size = [4, 5]\n",
    "    \n",
    "    df_list = [confirmed_df, death_df]\n",
    "    \n",
    "    fig = go.Figure()\n",
    "    \n",
    "    for i, df in enumerate(df_list):\n",
    "        if country == 'World' or country == 'world':\n",
    "            x_data = np.array(list(df.iloc[:, 20:].columns))\n",
    "            y_data = np.sum(np.asarray(df.iloc[:,4:]),axis = 0)\n",
    "            \n",
    "        else:    \n",
    "            x_data = np.array(list(df.iloc[:, 20:].columns))\n",
    "            y_data = np.sum(np.asarray(df[df['Country/Region'] == country].iloc[:,20:]),axis = 0)\n",
    "            \n",
    "        fig.add_trace(go.Scatter(x=x_data, y=y_data, mode='lines+markers',\n",
    "        name=labels[i],\n",
    "        line=dict(color=colors[i], width=line_size[i]),\n",
    "        connectgaps=True,\n",
    "        text = \"Total \" + str(labels[i]) +\": \"+ str(y_data[-1])\n",
    "        ))\n",
    "    \n",
    "    fig.update_layout(\n",
    "        title=\"COVID 19 cases of \" + country,\n",
    "        xaxis_title='Date',\n",
    "        yaxis_title='No. of Confirmed Cases',\n",
    "        margin=dict(l=20, r=20, t=40, b=20),\n",
    "        plot_bgcolor='white'\n",
    "    )\n",
    "    \n",
    "    fig.update_yaxes(type=\"linear\")\n",
    "    fig.show()"
   ]
  },
  {
   "cell_type": "code",
   "execution_count": 9,
   "metadata": {},
   "outputs": [
    {
     "output_type": "display_data",
     "data": {
      "application/vnd.plotly.v1+json": {
       "config": {
        "plotlyServerURL": "https://plot.ly"
       },
       "data": [
        {
         "connectgaps": true,
         "line": {
          "color": "blue",
          "width": 4
         },
         "mode": "lines+markers",
         "name": "confirmed",
         "text": "Total confirmed: 7809",
         "type": "scatter",
         "x": [
          "2/7/20",
          "2/8/20",
          "2/9/20",
          "2/10/20",
          "2/11/20",
          "2/12/20",
          "2/13/20",
          "2/14/20",
          "2/15/20",
          "2/16/20",
          "2/17/20",
          "2/18/20",
          "2/19/20",
          "2/20/20",
          "2/21/20",
          "2/22/20",
          "2/23/20",
          "2/24/20",
          "2/25/20",
          "2/26/20",
          "2/27/20",
          "2/28/20",
          "2/29/20",
          "3/1/20",
          "3/2/20",
          "3/3/20",
          "3/4/20",
          "3/5/20",
          "3/6/20",
          "3/7/20",
          "3/8/20",
          "3/9/20",
          "3/10/20",
          "3/11/20",
          "3/12/20",
          "3/13/20",
          "3/14/20",
          "3/15/20",
          "3/16/20",
          "3/17/20",
          "3/18/20",
          "3/19/20",
          "3/20/20",
          "3/21/20",
          "3/22/20",
          "3/23/20",
          "3/24/20",
          "3/25/20",
          "3/26/20",
          "3/27/20",
          "3/28/20",
          "3/29/20",
          "3/30/20",
          "3/31/20",
          "4/1/20",
          "4/2/20",
          "4/3/20",
          "4/4/20",
          "4/5/20",
          "4/6/20",
          "4/7/20",
          "4/8/20",
          "4/9/20",
          "4/10/20",
          "4/11/20",
          "4/12/20",
          "4/13/20",
          "4/14/20",
          "4/15/20",
          "4/16/20",
          "4/17/20",
          "4/18/20",
          "4/19/20",
          "4/20/20",
          "4/21/20",
          "4/22/20",
          "4/23/20",
          "4/24/20",
          "4/25/20",
          "4/26/20",
          "4/27/20",
          "4/28/20",
          "4/29/20",
          "4/30/20",
          "5/1/20",
          "5/2/20"
         ],
         "y": [
          0,
          0,
          0,
          0,
          0,
          0,
          0,
          0,
          0,
          0,
          0,
          0,
          0,
          0,
          0,
          0,
          0,
          0,
          0,
          1,
          1,
          6,
          15,
          19,
          25,
          32,
          56,
          87,
          108,
          147,
          176,
          205,
          400,
          598,
          702,
          996,
          1090,
          1221,
          1333,
          1463,
          1550,
          1746,
          1914,
          2118,
          2385,
          2621,
          2863,
          3084,
          3369,
          3755,
          4015,
          4284,
          4445,
          4641,
          4863,
          5147,
          5370,
          5550,
          5687,
          5865,
          6086,
          6086,
          6211,
          6314,
          6409,
          6525,
          6603,
          6623,
          6740,
          6896,
          6937,
          7036,
          7078,
          7156,
          7191,
          7338,
          7401,
          7463,
          7499,
          7527,
          7599,
          7660,
          7710,
          7738,
          7783,
          7809
         ]
        },
        {
         "connectgaps": true,
         "line": {
          "color": "red",
          "width": 5
         },
         "mode": "lines+markers",
         "name": "deaths",
         "text": "Total deaths: 211",
         "type": "scatter",
         "x": [
          "2/7/20",
          "2/8/20",
          "2/9/20",
          "2/10/20",
          "2/11/20",
          "2/12/20",
          "2/13/20",
          "2/14/20",
          "2/15/20",
          "2/16/20",
          "2/17/20",
          "2/18/20",
          "2/19/20",
          "2/20/20",
          "2/21/20",
          "2/22/20",
          "2/23/20",
          "2/24/20",
          "2/25/20",
          "2/26/20",
          "2/27/20",
          "2/28/20",
          "2/29/20",
          "3/1/20",
          "3/2/20",
          "3/3/20",
          "3/4/20",
          "3/5/20",
          "3/6/20",
          "3/7/20",
          "3/8/20",
          "3/9/20",
          "3/10/20",
          "3/11/20",
          "3/12/20",
          "3/13/20",
          "3/14/20",
          "3/15/20",
          "3/16/20",
          "3/17/20",
          "3/18/20",
          "3/19/20",
          "3/20/20",
          "3/21/20",
          "3/22/20",
          "3/23/20",
          "3/24/20",
          "3/25/20",
          "3/26/20",
          "3/27/20",
          "3/28/20",
          "3/29/20",
          "3/30/20",
          "3/31/20",
          "4/1/20",
          "4/2/20",
          "4/3/20",
          "4/4/20",
          "4/5/20",
          "4/6/20",
          "4/7/20",
          "4/8/20",
          "4/9/20",
          "4/10/20",
          "4/11/20",
          "4/12/20",
          "4/13/20",
          "4/14/20",
          "4/15/20",
          "4/16/20",
          "4/17/20",
          "4/18/20",
          "4/19/20",
          "4/20/20",
          "4/21/20",
          "4/22/20",
          "4/23/20",
          "4/24/20",
          "4/25/20",
          "4/26/20",
          "4/27/20",
          "4/28/20",
          "4/29/20",
          "4/30/20",
          "5/1/20",
          "5/2/20"
         ],
         "y": [
          0,
          0,
          0,
          0,
          0,
          0,
          0,
          0,
          0,
          0,
          0,
          0,
          0,
          0,
          0,
          0,
          0,
          0,
          0,
          0,
          0,
          0,
          0,
          0,
          0,
          0,
          0,
          0,
          0,
          0,
          0,
          0,
          0,
          0,
          0,
          0,
          3,
          3,
          3,
          3,
          6,
          7,
          7,
          7,
          7,
          10,
          12,
          14,
          14,
          19,
          23,
          25,
          32,
          39,
          44,
          50,
          59,
          62,
          71,
          76,
          89,
          101,
          108,
          113,
          119,
          128,
          134,
          139,
          150,
          152,
          161,
          164,
          165,
          181,
          182,
          187,
          194,
          199,
          201,
          201,
          205,
          206,
          207,
          210,
          210,
          211
         ]
        }
       ],
       "layout": {
        "margin": {
         "b": 20,
         "l": 20,
         "r": 20,
         "t": 40
        },
        "plot_bgcolor": "white",
        "template": {
         "data": {
          "bar": [
           {
            "error_x": {
             "color": "#2a3f5f"
            },
            "error_y": {
             "color": "#2a3f5f"
            },
            "marker": {
             "line": {
              "color": "#E5ECF6",
              "width": 0.5
             }
            },
            "type": "bar"
           }
          ],
          "barpolar": [
           {
            "marker": {
             "line": {
              "color": "#E5ECF6",
              "width": 0.5
             }
            },
            "type": "barpolar"
           }
          ],
          "carpet": [
           {
            "aaxis": {
             "endlinecolor": "#2a3f5f",
             "gridcolor": "white",
             "linecolor": "white",
             "minorgridcolor": "white",
             "startlinecolor": "#2a3f5f"
            },
            "baxis": {
             "endlinecolor": "#2a3f5f",
             "gridcolor": "white",
             "linecolor": "white",
             "minorgridcolor": "white",
             "startlinecolor": "#2a3f5f"
            },
            "type": "carpet"
           }
          ],
          "choropleth": [
           {
            "colorbar": {
             "outlinewidth": 0,
             "ticks": ""
            },
            "type": "choropleth"
           }
          ],
          "contour": [
           {
            "colorbar": {
             "outlinewidth": 0,
             "ticks": ""
            },
            "colorscale": [
             [
              0,
              "#0d0887"
             ],
             [
              0.1111111111111111,
              "#46039f"
             ],
             [
              0.2222222222222222,
              "#7201a8"
             ],
             [
              0.3333333333333333,
              "#9c179e"
             ],
             [
              0.4444444444444444,
              "#bd3786"
             ],
             [
              0.5555555555555556,
              "#d8576b"
             ],
             [
              0.6666666666666666,
              "#ed7953"
             ],
             [
              0.7777777777777778,
              "#fb9f3a"
             ],
             [
              0.8888888888888888,
              "#fdca26"
             ],
             [
              1,
              "#f0f921"
             ]
            ],
            "type": "contour"
           }
          ],
          "contourcarpet": [
           {
            "colorbar": {
             "outlinewidth": 0,
             "ticks": ""
            },
            "type": "contourcarpet"
           }
          ],
          "heatmap": [
           {
            "colorbar": {
             "outlinewidth": 0,
             "ticks": ""
            },
            "colorscale": [
             [
              0,
              "#0d0887"
             ],
             [
              0.1111111111111111,
              "#46039f"
             ],
             [
              0.2222222222222222,
              "#7201a8"
             ],
             [
              0.3333333333333333,
              "#9c179e"
             ],
             [
              0.4444444444444444,
              "#bd3786"
             ],
             [
              0.5555555555555556,
              "#d8576b"
             ],
             [
              0.6666666666666666,
              "#ed7953"
             ],
             [
              0.7777777777777778,
              "#fb9f3a"
             ],
             [
              0.8888888888888888,
              "#fdca26"
             ],
             [
              1,
              "#f0f921"
             ]
            ],
            "type": "heatmap"
           }
          ],
          "heatmapgl": [
           {
            "colorbar": {
             "outlinewidth": 0,
             "ticks": ""
            },
            "colorscale": [
             [
              0,
              "#0d0887"
             ],
             [
              0.1111111111111111,
              "#46039f"
             ],
             [
              0.2222222222222222,
              "#7201a8"
             ],
             [
              0.3333333333333333,
              "#9c179e"
             ],
             [
              0.4444444444444444,
              "#bd3786"
             ],
             [
              0.5555555555555556,
              "#d8576b"
             ],
             [
              0.6666666666666666,
              "#ed7953"
             ],
             [
              0.7777777777777778,
              "#fb9f3a"
             ],
             [
              0.8888888888888888,
              "#fdca26"
             ],
             [
              1,
              "#f0f921"
             ]
            ],
            "type": "heatmapgl"
           }
          ],
          "histogram": [
           {
            "marker": {
             "colorbar": {
              "outlinewidth": 0,
              "ticks": ""
             }
            },
            "type": "histogram"
           }
          ],
          "histogram2d": [
           {
            "colorbar": {
             "outlinewidth": 0,
             "ticks": ""
            },
            "colorscale": [
             [
              0,
              "#0d0887"
             ],
             [
              0.1111111111111111,
              "#46039f"
             ],
             [
              0.2222222222222222,
              "#7201a8"
             ],
             [
              0.3333333333333333,
              "#9c179e"
             ],
             [
              0.4444444444444444,
              "#bd3786"
             ],
             [
              0.5555555555555556,
              "#d8576b"
             ],
             [
              0.6666666666666666,
              "#ed7953"
             ],
             [
              0.7777777777777778,
              "#fb9f3a"
             ],
             [
              0.8888888888888888,
              "#fdca26"
             ],
             [
              1,
              "#f0f921"
             ]
            ],
            "type": "histogram2d"
           }
          ],
          "histogram2dcontour": [
           {
            "colorbar": {
             "outlinewidth": 0,
             "ticks": ""
            },
            "colorscale": [
             [
              0,
              "#0d0887"
             ],
             [
              0.1111111111111111,
              "#46039f"
             ],
             [
              0.2222222222222222,
              "#7201a8"
             ],
             [
              0.3333333333333333,
              "#9c179e"
             ],
             [
              0.4444444444444444,
              "#bd3786"
             ],
             [
              0.5555555555555556,
              "#d8576b"
             ],
             [
              0.6666666666666666,
              "#ed7953"
             ],
             [
              0.7777777777777778,
              "#fb9f3a"
             ],
             [
              0.8888888888888888,
              "#fdca26"
             ],
             [
              1,
              "#f0f921"
             ]
            ],
            "type": "histogram2dcontour"
           }
          ],
          "mesh3d": [
           {
            "colorbar": {
             "outlinewidth": 0,
             "ticks": ""
            },
            "type": "mesh3d"
           }
          ],
          "parcoords": [
           {
            "line": {
             "colorbar": {
              "outlinewidth": 0,
              "ticks": ""
             }
            },
            "type": "parcoords"
           }
          ],
          "pie": [
           {
            "automargin": true,
            "type": "pie"
           }
          ],
          "scatter": [
           {
            "marker": {
             "colorbar": {
              "outlinewidth": 0,
              "ticks": ""
             }
            },
            "type": "scatter"
           }
          ],
          "scatter3d": [
           {
            "line": {
             "colorbar": {
              "outlinewidth": 0,
              "ticks": ""
             }
            },
            "marker": {
             "colorbar": {
              "outlinewidth": 0,
              "ticks": ""
             }
            },
            "type": "scatter3d"
           }
          ],
          "scattercarpet": [
           {
            "marker": {
             "colorbar": {
              "outlinewidth": 0,
              "ticks": ""
             }
            },
            "type": "scattercarpet"
           }
          ],
          "scattergeo": [
           {
            "marker": {
             "colorbar": {
              "outlinewidth": 0,
              "ticks": ""
             }
            },
            "type": "scattergeo"
           }
          ],
          "scattergl": [
           {
            "marker": {
             "colorbar": {
              "outlinewidth": 0,
              "ticks": ""
             }
            },
            "type": "scattergl"
           }
          ],
          "scattermapbox": [
           {
            "marker": {
             "colorbar": {
              "outlinewidth": 0,
              "ticks": ""
             }
            },
            "type": "scattermapbox"
           }
          ],
          "scatterpolar": [
           {
            "marker": {
             "colorbar": {
              "outlinewidth": 0,
              "ticks": ""
             }
            },
            "type": "scatterpolar"
           }
          ],
          "scatterpolargl": [
           {
            "marker": {
             "colorbar": {
              "outlinewidth": 0,
              "ticks": ""
             }
            },
            "type": "scatterpolargl"
           }
          ],
          "scatterternary": [
           {
            "marker": {
             "colorbar": {
              "outlinewidth": 0,
              "ticks": ""
             }
            },
            "type": "scatterternary"
           }
          ],
          "surface": [
           {
            "colorbar": {
             "outlinewidth": 0,
             "ticks": ""
            },
            "colorscale": [
             [
              0,
              "#0d0887"
             ],
             [
              0.1111111111111111,
              "#46039f"
             ],
             [
              0.2222222222222222,
              "#7201a8"
             ],
             [
              0.3333333333333333,
              "#9c179e"
             ],
             [
              0.4444444444444444,
              "#bd3786"
             ],
             [
              0.5555555555555556,
              "#d8576b"
             ],
             [
              0.6666666666666666,
              "#ed7953"
             ],
             [
              0.7777777777777778,
              "#fb9f3a"
             ],
             [
              0.8888888888888888,
              "#fdca26"
             ],
             [
              1,
              "#f0f921"
             ]
            ],
            "type": "surface"
           }
          ],
          "table": [
           {
            "cells": {
             "fill": {
              "color": "#EBF0F8"
             },
             "line": {
              "color": "white"
             }
            },
            "header": {
             "fill": {
              "color": "#C8D4E3"
             },
             "line": {
              "color": "white"
             }
            },
            "type": "table"
           }
          ]
         },
         "layout": {
          "annotationdefaults": {
           "arrowcolor": "#2a3f5f",
           "arrowhead": 0,
           "arrowwidth": 1
          },
          "coloraxis": {
           "colorbar": {
            "outlinewidth": 0,
            "ticks": ""
           }
          },
          "colorscale": {
           "diverging": [
            [
             0,
             "#8e0152"
            ],
            [
             0.1,
             "#c51b7d"
            ],
            [
             0.2,
             "#de77ae"
            ],
            [
             0.3,
             "#f1b6da"
            ],
            [
             0.4,
             "#fde0ef"
            ],
            [
             0.5,
             "#f7f7f7"
            ],
            [
             0.6,
             "#e6f5d0"
            ],
            [
             0.7,
             "#b8e186"
            ],
            [
             0.8,
             "#7fbc41"
            ],
            [
             0.9,
             "#4d9221"
            ],
            [
             1,
             "#276419"
            ]
           ],
           "sequential": [
            [
             0,
             "#0d0887"
            ],
            [
             0.1111111111111111,
             "#46039f"
            ],
            [
             0.2222222222222222,
             "#7201a8"
            ],
            [
             0.3333333333333333,
             "#9c179e"
            ],
            [
             0.4444444444444444,
             "#bd3786"
            ],
            [
             0.5555555555555556,
             "#d8576b"
            ],
            [
             0.6666666666666666,
             "#ed7953"
            ],
            [
             0.7777777777777778,
             "#fb9f3a"
            ],
            [
             0.8888888888888888,
             "#fdca26"
            ],
            [
             1,
             "#f0f921"
            ]
           ],
           "sequentialminus": [
            [
             0,
             "#0d0887"
            ],
            [
             0.1111111111111111,
             "#46039f"
            ],
            [
             0.2222222222222222,
             "#7201a8"
            ],
            [
             0.3333333333333333,
             "#9c179e"
            ],
            [
             0.4444444444444444,
             "#bd3786"
            ],
            [
             0.5555555555555556,
             "#d8576b"
            ],
            [
             0.6666666666666666,
             "#ed7953"
            ],
            [
             0.7777777777777778,
             "#fb9f3a"
            ],
            [
             0.8888888888888888,
             "#fdca26"
            ],
            [
             1,
             "#f0f921"
            ]
           ]
          },
          "colorway": [
           "#636efa",
           "#EF553B",
           "#00cc96",
           "#ab63fa",
           "#FFA15A",
           "#19d3f3",
           "#FF6692",
           "#B6E880",
           "#FF97FF",
           "#FECB52"
          ],
          "font": {
           "color": "#2a3f5f"
          },
          "geo": {
           "bgcolor": "white",
           "lakecolor": "white",
           "landcolor": "#E5ECF6",
           "showlakes": true,
           "showland": true,
           "subunitcolor": "white"
          },
          "hoverlabel": {
           "align": "left"
          },
          "hovermode": "closest",
          "mapbox": {
           "style": "light"
          },
          "paper_bgcolor": "white",
          "plot_bgcolor": "#E5ECF6",
          "polar": {
           "angularaxis": {
            "gridcolor": "white",
            "linecolor": "white",
            "ticks": ""
           },
           "bgcolor": "#E5ECF6",
           "radialaxis": {
            "gridcolor": "white",
            "linecolor": "white",
            "ticks": ""
           }
          },
          "scene": {
           "xaxis": {
            "backgroundcolor": "#E5ECF6",
            "gridcolor": "white",
            "gridwidth": 2,
            "linecolor": "white",
            "showbackground": true,
            "ticks": "",
            "zerolinecolor": "white"
           },
           "yaxis": {
            "backgroundcolor": "#E5ECF6",
            "gridcolor": "white",
            "gridwidth": 2,
            "linecolor": "white",
            "showbackground": true,
            "ticks": "",
            "zerolinecolor": "white"
           },
           "zaxis": {
            "backgroundcolor": "#E5ECF6",
            "gridcolor": "white",
            "gridwidth": 2,
            "linecolor": "white",
            "showbackground": true,
            "ticks": "",
            "zerolinecolor": "white"
           }
          },
          "shapedefaults": {
           "line": {
            "color": "#2a3f5f"
           }
          },
          "ternary": {
           "aaxis": {
            "gridcolor": "white",
            "linecolor": "white",
            "ticks": ""
           },
           "baxis": {
            "gridcolor": "white",
            "linecolor": "white",
            "ticks": ""
           },
           "bgcolor": "#E5ECF6",
           "caxis": {
            "gridcolor": "white",
            "linecolor": "white",
            "ticks": ""
           }
          },
          "title": {
           "x": 0.05
          },
          "xaxis": {
           "automargin": true,
           "gridcolor": "white",
           "linecolor": "white",
           "ticks": "",
           "title": {
            "standoff": 15
           },
           "zerolinecolor": "white",
           "zerolinewidth": 2
          },
          "yaxis": {
           "automargin": true,
           "gridcolor": "white",
           "linecolor": "white",
           "ticks": "",
           "title": {
            "standoff": 15
           },
           "zerolinecolor": "white",
           "zerolinewidth": 2
          }
         }
        },
        "title": {
         "text": "COVID 19 cases of Norway"
        },
        "xaxis": {
         "title": {
          "text": "Date"
         }
        },
        "yaxis": {
         "title": {
          "text": "No. of Confirmed Cases"
         },
         "type": "linear"
        }
       }
      }
     },
     "metadata": {}
    }
   ],
   "source": [
    "plot_cases_of_a_country(\"Norway\")"
   ]
  },
  {
   "cell_type": "code",
   "execution_count": 10,
   "metadata": {},
   "outputs": [
    {
     "output_type": "display_data",
     "data": {
      "application/vnd.plotly.v1+json": {
       "config": {
        "plotlyServerURL": "https://plot.ly"
       },
       "data": [
        {
         "alignmentgroup": "True",
         "hovertemplate": "Country=%{x}<br>Active=%{y}<extra></extra>",
         "legendgroup": "",
         "marker": {
          "color": "#636efa"
         },
         "name": "",
         "offsetgroup": "",
         "orientation": "v",
         "showlegend": false,
         "textposition": "auto",
         "type": "bar",
         "x": [
          "US",
          "Spain",
          "Italy",
          "United Kingdom",
          "France",
          "Germany",
          "Russia",
          "Turkey",
          "Brazil",
          "Iran"
         ],
         "xaxis": "x",
         "y": [
          931847,
          74234,
          100179,
          158419,
          93092,
          27943,
          116768,
          59497,
          50215,
          12799
         ],
         "yaxis": "y"
        }
       ],
       "layout": {
        "autosize": false,
        "barmode": "relative",
        "height": 450,
        "legend": {
         "tracegroupgap": 0
        },
        "margin": {
         "t": 60
        },
        "plot_bgcolor": "white",
        "template": {
         "data": {
          "bar": [
           {
            "error_x": {
             "color": "#2a3f5f"
            },
            "error_y": {
             "color": "#2a3f5f"
            },
            "marker": {
             "line": {
              "color": "#E5ECF6",
              "width": 0.5
             }
            },
            "type": "bar"
           }
          ],
          "barpolar": [
           {
            "marker": {
             "line": {
              "color": "#E5ECF6",
              "width": 0.5
             }
            },
            "type": "barpolar"
           }
          ],
          "carpet": [
           {
            "aaxis": {
             "endlinecolor": "#2a3f5f",
             "gridcolor": "white",
             "linecolor": "white",
             "minorgridcolor": "white",
             "startlinecolor": "#2a3f5f"
            },
            "baxis": {
             "endlinecolor": "#2a3f5f",
             "gridcolor": "white",
             "linecolor": "white",
             "minorgridcolor": "white",
             "startlinecolor": "#2a3f5f"
            },
            "type": "carpet"
           }
          ],
          "choropleth": [
           {
            "colorbar": {
             "outlinewidth": 0,
             "ticks": ""
            },
            "type": "choropleth"
           }
          ],
          "contour": [
           {
            "colorbar": {
             "outlinewidth": 0,
             "ticks": ""
            },
            "colorscale": [
             [
              0,
              "#0d0887"
             ],
             [
              0.1111111111111111,
              "#46039f"
             ],
             [
              0.2222222222222222,
              "#7201a8"
             ],
             [
              0.3333333333333333,
              "#9c179e"
             ],
             [
              0.4444444444444444,
              "#bd3786"
             ],
             [
              0.5555555555555556,
              "#d8576b"
             ],
             [
              0.6666666666666666,
              "#ed7953"
             ],
             [
              0.7777777777777778,
              "#fb9f3a"
             ],
             [
              0.8888888888888888,
              "#fdca26"
             ],
             [
              1,
              "#f0f921"
             ]
            ],
            "type": "contour"
           }
          ],
          "contourcarpet": [
           {
            "colorbar": {
             "outlinewidth": 0,
             "ticks": ""
            },
            "type": "contourcarpet"
           }
          ],
          "heatmap": [
           {
            "colorbar": {
             "outlinewidth": 0,
             "ticks": ""
            },
            "colorscale": [
             [
              0,
              "#0d0887"
             ],
             [
              0.1111111111111111,
              "#46039f"
             ],
             [
              0.2222222222222222,
              "#7201a8"
             ],
             [
              0.3333333333333333,
              "#9c179e"
             ],
             [
              0.4444444444444444,
              "#bd3786"
             ],
             [
              0.5555555555555556,
              "#d8576b"
             ],
             [
              0.6666666666666666,
              "#ed7953"
             ],
             [
              0.7777777777777778,
              "#fb9f3a"
             ],
             [
              0.8888888888888888,
              "#fdca26"
             ],
             [
              1,
              "#f0f921"
             ]
            ],
            "type": "heatmap"
           }
          ],
          "heatmapgl": [
           {
            "colorbar": {
             "outlinewidth": 0,
             "ticks": ""
            },
            "colorscale": [
             [
              0,
              "#0d0887"
             ],
             [
              0.1111111111111111,
              "#46039f"
             ],
             [
              0.2222222222222222,
              "#7201a8"
             ],
             [
              0.3333333333333333,
              "#9c179e"
             ],
             [
              0.4444444444444444,
              "#bd3786"
             ],
             [
              0.5555555555555556,
              "#d8576b"
             ],
             [
              0.6666666666666666,
              "#ed7953"
             ],
             [
              0.7777777777777778,
              "#fb9f3a"
             ],
             [
              0.8888888888888888,
              "#fdca26"
             ],
             [
              1,
              "#f0f921"
             ]
            ],
            "type": "heatmapgl"
           }
          ],
          "histogram": [
           {
            "marker": {
             "colorbar": {
              "outlinewidth": 0,
              "ticks": ""
             }
            },
            "type": "histogram"
           }
          ],
          "histogram2d": [
           {
            "colorbar": {
             "outlinewidth": 0,
             "ticks": ""
            },
            "colorscale": [
             [
              0,
              "#0d0887"
             ],
             [
              0.1111111111111111,
              "#46039f"
             ],
             [
              0.2222222222222222,
              "#7201a8"
             ],
             [
              0.3333333333333333,
              "#9c179e"
             ],
             [
              0.4444444444444444,
              "#bd3786"
             ],
             [
              0.5555555555555556,
              "#d8576b"
             ],
             [
              0.6666666666666666,
              "#ed7953"
             ],
             [
              0.7777777777777778,
              "#fb9f3a"
             ],
             [
              0.8888888888888888,
              "#fdca26"
             ],
             [
              1,
              "#f0f921"
             ]
            ],
            "type": "histogram2d"
           }
          ],
          "histogram2dcontour": [
           {
            "colorbar": {
             "outlinewidth": 0,
             "ticks": ""
            },
            "colorscale": [
             [
              0,
              "#0d0887"
             ],
             [
              0.1111111111111111,
              "#46039f"
             ],
             [
              0.2222222222222222,
              "#7201a8"
             ],
             [
              0.3333333333333333,
              "#9c179e"
             ],
             [
              0.4444444444444444,
              "#bd3786"
             ],
             [
              0.5555555555555556,
              "#d8576b"
             ],
             [
              0.6666666666666666,
              "#ed7953"
             ],
             [
              0.7777777777777778,
              "#fb9f3a"
             ],
             [
              0.8888888888888888,
              "#fdca26"
             ],
             [
              1,
              "#f0f921"
             ]
            ],
            "type": "histogram2dcontour"
           }
          ],
          "mesh3d": [
           {
            "colorbar": {
             "outlinewidth": 0,
             "ticks": ""
            },
            "type": "mesh3d"
           }
          ],
          "parcoords": [
           {
            "line": {
             "colorbar": {
              "outlinewidth": 0,
              "ticks": ""
             }
            },
            "type": "parcoords"
           }
          ],
          "pie": [
           {
            "automargin": true,
            "type": "pie"
           }
          ],
          "scatter": [
           {
            "marker": {
             "colorbar": {
              "outlinewidth": 0,
              "ticks": ""
             }
            },
            "type": "scatter"
           }
          ],
          "scatter3d": [
           {
            "line": {
             "colorbar": {
              "outlinewidth": 0,
              "ticks": ""
             }
            },
            "marker": {
             "colorbar": {
              "outlinewidth": 0,
              "ticks": ""
             }
            },
            "type": "scatter3d"
           }
          ],
          "scattercarpet": [
           {
            "marker": {
             "colorbar": {
              "outlinewidth": 0,
              "ticks": ""
             }
            },
            "type": "scattercarpet"
           }
          ],
          "scattergeo": [
           {
            "marker": {
             "colorbar": {
              "outlinewidth": 0,
              "ticks": ""
             }
            },
            "type": "scattergeo"
           }
          ],
          "scattergl": [
           {
            "marker": {
             "colorbar": {
              "outlinewidth": 0,
              "ticks": ""
             }
            },
            "type": "scattergl"
           }
          ],
          "scattermapbox": [
           {
            "marker": {
             "colorbar": {
              "outlinewidth": 0,
              "ticks": ""
             }
            },
            "type": "scattermapbox"
           }
          ],
          "scatterpolar": [
           {
            "marker": {
             "colorbar": {
              "outlinewidth": 0,
              "ticks": ""
             }
            },
            "type": "scatterpolar"
           }
          ],
          "scatterpolargl": [
           {
            "marker": {
             "colorbar": {
              "outlinewidth": 0,
              "ticks": ""
             }
            },
            "type": "scatterpolargl"
           }
          ],
          "scatterternary": [
           {
            "marker": {
             "colorbar": {
              "outlinewidth": 0,
              "ticks": ""
             }
            },
            "type": "scatterternary"
           }
          ],
          "surface": [
           {
            "colorbar": {
             "outlinewidth": 0,
             "ticks": ""
            },
            "colorscale": [
             [
              0,
              "#0d0887"
             ],
             [
              0.1111111111111111,
              "#46039f"
             ],
             [
              0.2222222222222222,
              "#7201a8"
             ],
             [
              0.3333333333333333,
              "#9c179e"
             ],
             [
              0.4444444444444444,
              "#bd3786"
             ],
             [
              0.5555555555555556,
              "#d8576b"
             ],
             [
              0.6666666666666666,
              "#ed7953"
             ],
             [
              0.7777777777777778,
              "#fb9f3a"
             ],
             [
              0.8888888888888888,
              "#fdca26"
             ],
             [
              1,
              "#f0f921"
             ]
            ],
            "type": "surface"
           }
          ],
          "table": [
           {
            "cells": {
             "fill": {
              "color": "#EBF0F8"
             },
             "line": {
              "color": "white"
             }
            },
            "header": {
             "fill": {
              "color": "#C8D4E3"
             },
             "line": {
              "color": "white"
             }
            },
            "type": "table"
           }
          ]
         },
         "layout": {
          "annotationdefaults": {
           "arrowcolor": "#2a3f5f",
           "arrowhead": 0,
           "arrowwidth": 1
          },
          "coloraxis": {
           "colorbar": {
            "outlinewidth": 0,
            "ticks": ""
           }
          },
          "colorscale": {
           "diverging": [
            [
             0,
             "#8e0152"
            ],
            [
             0.1,
             "#c51b7d"
            ],
            [
             0.2,
             "#de77ae"
            ],
            [
             0.3,
             "#f1b6da"
            ],
            [
             0.4,
             "#fde0ef"
            ],
            [
             0.5,
             "#f7f7f7"
            ],
            [
             0.6,
             "#e6f5d0"
            ],
            [
             0.7,
             "#b8e186"
            ],
            [
             0.8,
             "#7fbc41"
            ],
            [
             0.9,
             "#4d9221"
            ],
            [
             1,
             "#276419"
            ]
           ],
           "sequential": [
            [
             0,
             "#0d0887"
            ],
            [
             0.1111111111111111,
             "#46039f"
            ],
            [
             0.2222222222222222,
             "#7201a8"
            ],
            [
             0.3333333333333333,
             "#9c179e"
            ],
            [
             0.4444444444444444,
             "#bd3786"
            ],
            [
             0.5555555555555556,
             "#d8576b"
            ],
            [
             0.6666666666666666,
             "#ed7953"
            ],
            [
             0.7777777777777778,
             "#fb9f3a"
            ],
            [
             0.8888888888888888,
             "#fdca26"
            ],
            [
             1,
             "#f0f921"
            ]
           ],
           "sequentialminus": [
            [
             0,
             "#0d0887"
            ],
            [
             0.1111111111111111,
             "#46039f"
            ],
            [
             0.2222222222222222,
             "#7201a8"
            ],
            [
             0.3333333333333333,
             "#9c179e"
            ],
            [
             0.4444444444444444,
             "#bd3786"
            ],
            [
             0.5555555555555556,
             "#d8576b"
            ],
            [
             0.6666666666666666,
             "#ed7953"
            ],
            [
             0.7777777777777778,
             "#fb9f3a"
            ],
            [
             0.8888888888888888,
             "#fdca26"
            ],
            [
             1,
             "#f0f921"
            ]
           ]
          },
          "colorway": [
           "#636efa",
           "#EF553B",
           "#00cc96",
           "#ab63fa",
           "#FFA15A",
           "#19d3f3",
           "#FF6692",
           "#B6E880",
           "#FF97FF",
           "#FECB52"
          ],
          "font": {
           "color": "#2a3f5f"
          },
          "geo": {
           "bgcolor": "white",
           "lakecolor": "white",
           "landcolor": "#E5ECF6",
           "showlakes": true,
           "showland": true,
           "subunitcolor": "white"
          },
          "hoverlabel": {
           "align": "left"
          },
          "hovermode": "closest",
          "mapbox": {
           "style": "light"
          },
          "paper_bgcolor": "white",
          "plot_bgcolor": "#E5ECF6",
          "polar": {
           "angularaxis": {
            "gridcolor": "white",
            "linecolor": "white",
            "ticks": ""
           },
           "bgcolor": "#E5ECF6",
           "radialaxis": {
            "gridcolor": "white",
            "linecolor": "white",
            "ticks": ""
           }
          },
          "scene": {
           "xaxis": {
            "backgroundcolor": "#E5ECF6",
            "gridcolor": "white",
            "gridwidth": 2,
            "linecolor": "white",
            "showbackground": true,
            "ticks": "",
            "zerolinecolor": "white"
           },
           "yaxis": {
            "backgroundcolor": "#E5ECF6",
            "gridcolor": "white",
            "gridwidth": 2,
            "linecolor": "white",
            "showbackground": true,
            "ticks": "",
            "zerolinecolor": "white"
           },
           "zaxis": {
            "backgroundcolor": "#E5ECF6",
            "gridcolor": "white",
            "gridwidth": 2,
            "linecolor": "white",
            "showbackground": true,
            "ticks": "",
            "zerolinecolor": "white"
           }
          },
          "shapedefaults": {
           "line": {
            "color": "#2a3f5f"
           }
          },
          "ternary": {
           "aaxis": {
            "gridcolor": "white",
            "linecolor": "white",
            "ticks": ""
           },
           "baxis": {
            "gridcolor": "white",
            "linecolor": "white",
            "ticks": ""
           },
           "bgcolor": "#E5ECF6",
           "caxis": {
            "gridcolor": "white",
            "linecolor": "white",
            "ticks": ""
           }
          },
          "title": {
           "x": 0.05
          },
          "xaxis": {
           "automargin": true,
           "gridcolor": "white",
           "linecolor": "white",
           "ticks": "",
           "title": {
            "standoff": 15
           },
           "zerolinecolor": "white",
           "zerolinewidth": 2
          },
          "yaxis": {
           "automargin": true,
           "gridcolor": "white",
           "linecolor": "white",
           "ticks": "",
           "title": {
            "standoff": 15
           },
           "zerolinecolor": "white",
           "zerolinewidth": 2
          }
         }
        },
        "width": 800,
        "xaxis": {
         "anchor": "y",
         "domain": [
          0,
          1
         ],
         "title": {
          "text": "Country"
         }
        },
        "yaxis": {
         "anchor": "x",
         "domain": [
          0,
          1
         ],
         "title": {
          "text": "Active"
         },
         "type": "log"
        }
       }
      }
     },
     "metadata": {}
    }
   ],
   "source": [
    "sorted_country_df = country_df.sort_values('Confirmed', ascending= False)\n",
    "\n",
    "fig = px.bar(sorted_country_df.head(10), x='Country', y='Active')\n",
    "\n",
    "fig.update_layout(\n",
    "    autosize=False,\n",
    "    width=800,\n",
    "    height=450,\n",
    "    plot_bgcolor='white')\n",
    "\n",
    "fig.update_yaxes(type=\"log\")\n",
    "fig.show()"
   ]
  },
  {
   "cell_type": "code",
   "execution_count": 48,
   "metadata": {},
   "outputs": [
    {
     "output_type": "display_data",
     "data": {
      "application/vnd.plotly.v1+json": {
       "config": {
        "plotlyServerURL": "https://plot.ly"
       },
       "data": [
        {
         "hovertemplate": "Country=US<br>Date=%{x}<br>Confirmed=%{y}<extra></extra>",
         "legendgroup": "US",
         "line": {
          "color": "#636efa",
          "dash": "solid"
         },
         "mode": "lines",
         "name": "US",
         "showlegend": true,
         "type": "scatter",
         "x": [
          "2020-04-27",
          "2020-04-26",
          "2020-04-25",
          "2020-04-24",
          "2020-04-23",
          "2020-04-22",
          "2020-04-21",
          "2020-04-20",
          "2020-04-19",
          "2020-04-18",
          "2020-04-17",
          "2020-04-16",
          "2020-04-15",
          "2020-04-14",
          "2020-04-13",
          "2020-04-12",
          "2020-04-11",
          "2020-04-10",
          "2020-04-09",
          "2020-04-08",
          "2020-04-07",
          "2020-04-06",
          "2020-04-05",
          "2020-04-04",
          "2020-04-03",
          "2020-04-02",
          "2020-04-01",
          "2020-03-31",
          "2020-03-30",
          "2020-03-29",
          "2020-03-28",
          "2020-03-27",
          "2020-03-26",
          "2020-03-25",
          "2020-03-24",
          "2020-03-23",
          "2020-03-22",
          "2020-03-21",
          "2020-03-20",
          "2020-03-19",
          "2020-03-18",
          "2020-03-17",
          "2020-03-16",
          "2020-03-15",
          "2020-03-14",
          "2020-03-13",
          "2020-03-12",
          "2020-03-11",
          "2020-03-10",
          "2020-03-09",
          "2020-03-08",
          "2020-03-07",
          "2020-03-06",
          "2020-03-05",
          "2020-03-04",
          "2020-03-03"
         ],
         "xaxis": "x",
         "y": [
          988197,
          965785,
          938154,
          905358,
          869170,
          840351,
          811865,
          784326,
          758809,
          732197,
          699706,
          667592,
          636350,
          607670,
          580619,
          555313,
          526396,
          496535,
          462780,
          428654,
          397121,
          366317,
          336802,
          308650,
          275367,
          243622,
          213242,
          188172,
          161831,
          140909,
          121465,
          101657,
          83836,
          65778,
          53736,
          43843,
          33276,
          25600,
          19273,
          13747,
          7783,
          6421,
          4632,
          3499,
          2727,
          2179,
          1663,
          1281,
          959,
          583,
          518,
          402,
          262,
          217,
          149,
          118
         ],
         "yaxis": "y"
        },
        {
         "hovertemplate": "Country=Spain<br>Date=%{x}<br>Confirmed=%{y}<extra></extra>",
         "legendgroup": "Spain",
         "line": {
          "color": "#EF553B",
          "dash": "solid"
         },
         "mode": "lines",
         "name": "Spain",
         "showlegend": true,
         "type": "scatter",
         "x": [
          "2020-04-27",
          "2020-04-26",
          "2020-04-25",
          "2020-04-24",
          "2020-04-23",
          "2020-04-22",
          "2020-04-21",
          "2020-04-20",
          "2020-04-19",
          "2020-04-18",
          "2020-04-17",
          "2020-04-16",
          "2020-04-15",
          "2020-04-14",
          "2020-04-13",
          "2020-04-12",
          "2020-04-11",
          "2020-04-10",
          "2020-04-09",
          "2020-04-08",
          "2020-04-07",
          "2020-04-06",
          "2020-04-05",
          "2020-04-04",
          "2020-04-03",
          "2020-04-02",
          "2020-04-01",
          "2020-03-31",
          "2020-03-30",
          "2020-03-29",
          "2020-03-28",
          "2020-03-27",
          "2020-03-26",
          "2020-03-25",
          "2020-03-24",
          "2020-03-23",
          "2020-03-22",
          "2020-03-21",
          "2020-03-20",
          "2020-03-19",
          "2020-03-18",
          "2020-03-17",
          "2020-03-16",
          "2020-03-15",
          "2020-03-14",
          "2020-03-13",
          "2020-03-11",
          "2020-03-12",
          "2020-03-10",
          "2020-03-09",
          "2020-03-08",
          "2020-03-07",
          "2020-03-06",
          "2020-03-05",
          "2020-03-04",
          "2020-03-03",
          "2020-03-02"
         ],
         "xaxis": "x",
         "y": [
          229422,
          226629,
          223759,
          219764,
          213024,
          208389,
          204178,
          200210,
          198674,
          191726,
          190839,
          184948,
          177644,
          172541,
          170099,
          166831,
          163027,
          158273,
          153222,
          148220,
          141942,
          136675,
          131646,
          126168,
          119199,
          112065,
          104118,
          95923,
          87956,
          80110,
          73235,
          65719,
          57786,
          49515,
          39885,
          35136,
          28768,
          25374,
          20410,
          17963,
          13910,
          11748,
          9942,
          7798,
          6391,
          5232,
          2277,
          2277,
          1695,
          1073,
          673,
          500,
          400,
          259,
          222,
          165,
          120
         ],
         "yaxis": "y"
        },
        {
         "hovertemplate": "Country=Italy<br>Date=%{x}<br>Confirmed=%{y}<extra></extra>",
         "legendgroup": "Italy",
         "line": {
          "color": "#00cc96",
          "dash": "solid"
         },
         "mode": "lines",
         "name": "Italy",
         "showlegend": true,
         "type": "scatter",
         "x": [
          "2020-04-27",
          "2020-04-26",
          "2020-04-25",
          "2020-04-24",
          "2020-04-23",
          "2020-04-22",
          "2020-04-21",
          "2020-04-20",
          "2020-04-19",
          "2020-04-18",
          "2020-04-17",
          "2020-04-16",
          "2020-04-15",
          "2020-04-14",
          "2020-04-13",
          "2020-04-12",
          "2020-04-11",
          "2020-04-10",
          "2020-04-09",
          "2020-04-08",
          "2020-04-07",
          "2020-04-06",
          "2020-04-05",
          "2020-04-04",
          "2020-04-03",
          "2020-04-02",
          "2020-04-01",
          "2020-03-31",
          "2020-03-30",
          "2020-03-29",
          "2020-03-28",
          "2020-03-27",
          "2020-03-26",
          "2020-03-25",
          "2020-03-24",
          "2020-03-23",
          "2020-03-22",
          "2020-03-21",
          "2020-03-20",
          "2020-03-19",
          "2020-03-18",
          "2020-03-17",
          "2020-03-16",
          "2020-03-15",
          "2020-03-14",
          "2020-03-13",
          "2020-03-11",
          "2020-03-12",
          "2020-03-10",
          "2020-03-09",
          "2020-03-08",
          "2020-03-07",
          "2020-03-06",
          "2020-03-05",
          "2020-03-04",
          "2020-03-03",
          "2020-03-02",
          "2020-03-01",
          "2020-02-29",
          "2020-02-28",
          "2020-02-27",
          "2020-02-26",
          "2020-02-25",
          "2020-02-24",
          "2020-02-23"
         ],
         "xaxis": "x",
         "y": [
          199414,
          197675,
          195351,
          192994,
          189973,
          187327,
          183957,
          181228,
          178972,
          175925,
          172434,
          168941,
          165155,
          162488,
          159516,
          156363,
          152271,
          147577,
          143626,
          139422,
          135586,
          132547,
          128948,
          124632,
          119827,
          115242,
          110574,
          105792,
          101739,
          97689,
          92472,
          86498,
          80589,
          74386,
          69176,
          63927,
          59138,
          53578,
          47021,
          41035,
          35713,
          31506,
          27980,
          24747,
          21157,
          17660,
          12462,
          12462,
          10149,
          9172,
          7375,
          5883,
          4636,
          3858,
          3089,
          2502,
          2036,
          1694,
          1128,
          888,
          655,
          453,
          322,
          229,
          155
         ],
         "yaxis": "y"
        },
        {
         "hovertemplate": "Country=France<br>Date=%{x}<br>Confirmed=%{y}<extra></extra>",
         "legendgroup": "France",
         "line": {
          "color": "#ab63fa",
          "dash": "solid"
         },
         "mode": "lines",
         "name": "France",
         "showlegend": true,
         "type": "scatter",
         "x": [
          "2020-04-27",
          "2020-04-26",
          "2020-04-25",
          "2020-04-24",
          "2020-04-23",
          "2020-04-21",
          "2020-04-22",
          "2020-04-20",
          "2020-04-19",
          "2020-04-18",
          "2020-04-17",
          "2020-04-16",
          "2020-04-15",
          "2020-04-14",
          "2020-04-13",
          "2020-04-12",
          "2020-04-11",
          "2020-04-10",
          "2020-04-09",
          "2020-04-08",
          "2020-04-07",
          "2020-04-06",
          "2020-04-05",
          "2020-04-04",
          "2020-04-03",
          "2020-04-02",
          "2020-04-01",
          "2020-03-31",
          "2020-03-30",
          "2020-03-29",
          "2020-03-28",
          "2020-03-27",
          "2020-03-26",
          "2020-03-25",
          "2020-03-24",
          "2020-03-23",
          "2020-03-22",
          "2020-03-21",
          "2020-03-20",
          "2020-03-19",
          "2020-03-18",
          "2020-03-17",
          "2020-03-16",
          "2020-03-15",
          "2020-03-14",
          "2020-03-13",
          "2020-03-12",
          "2020-03-11",
          "2020-03-10",
          "2020-03-09",
          "2020-03-08",
          "2020-03-07",
          "2020-03-06",
          "2020-03-05",
          "2020-03-04",
          "2020-03-03",
          "2020-03-02",
          "2020-03-01",
          "2020-02-29"
         ],
         "xaxis": "x",
         "y": [
          165963,
          162220,
          161644,
          159952,
          158303,
          158168,
          155980,
          155393,
          153011,
          148086,
          148084,
          146075,
          133585,
          130365,
          125394,
          121712,
          94863,
          91738,
          87366,
          83057,
          79163,
          75343,
          71412,
          69500,
          65202,
          59929,
          57749,
          52827,
          45170,
          40708,
          38105,
          33402,
          29551,
          25600,
          22622,
          20123,
          16243,
          14463,
          12758,
          10970,
          9124,
          7715,
          6683,
          4532,
          4496,
          3681,
          2293,
          2293,
          1794,
          1219,
          1136,
          959,
          656,
          380,
          288,
          204,
          191,
          130,
          100
         ],
         "yaxis": "y"
        },
        {
         "hovertemplate": "Country=Germany<br>Date=%{x}<br>Confirmed=%{y}<extra></extra>",
         "legendgroup": "Germany",
         "line": {
          "color": "#FFA15A",
          "dash": "solid"
         },
         "mode": "lines",
         "name": "Germany",
         "showlegend": true,
         "type": "scatter",
         "x": [
          "2020-04-27",
          "2020-04-26",
          "2020-04-25",
          "2020-04-24",
          "2020-04-23",
          "2020-04-22",
          "2020-04-21",
          "2020-04-20",
          "2020-04-19",
          "2020-04-18",
          "2020-04-17",
          "2020-04-16",
          "2020-04-15",
          "2020-04-14",
          "2020-04-13",
          "2020-04-12",
          "2020-04-11",
          "2020-04-10",
          "2020-04-09",
          "2020-04-08",
          "2020-04-07",
          "2020-04-06",
          "2020-04-05",
          "2020-04-04",
          "2020-04-03",
          "2020-04-02",
          "2020-04-01",
          "2020-03-31",
          "2020-03-30",
          "2020-03-29",
          "2020-03-28",
          "2020-03-27",
          "2020-03-26",
          "2020-03-25",
          "2020-03-24",
          "2020-03-23",
          "2020-03-22",
          "2020-03-21",
          "2020-03-20",
          "2020-03-19",
          "2020-03-18",
          "2020-03-17",
          "2020-03-16",
          "2020-03-15",
          "2020-03-14",
          "2020-03-13",
          "2020-03-12",
          "2020-03-11",
          "2020-03-10",
          "2020-03-09",
          "2020-03-08",
          "2020-03-07",
          "2020-03-06",
          "2020-03-05",
          "2020-03-04",
          "2020-03-03",
          "2020-03-02",
          "2020-03-01"
         ],
         "xaxis": "x",
         "y": [
          158758,
          157770,
          156513,
          154999,
          153129,
          150648,
          148291,
          147065,
          145184,
          143342,
          141397,
          137698,
          134753,
          131359,
          130072,
          127854,
          124908,
          122171,
          118181,
          113296,
          107663,
          103374,
          100123,
          96092,
          91159,
          84794,
          77872,
          71808,
          66885,
          62095,
          57695,
          50871,
          43938,
          37323,
          32986,
          29056,
          24873,
          22213,
          19848,
          15320,
          12327,
          9257,
          7272,
          5795,
          4585,
          3675,
          2078,
          1908,
          1457,
          1176,
          1040,
          799,
          670,
          482,
          262,
          196,
          159,
          130
         ],
         "yaxis": "y"
        },
        {
         "hovertemplate": "Country=UK<br>Date=%{x}<br>Confirmed=%{y}<extra></extra>",
         "legendgroup": "UK",
         "line": {
          "color": "#19d3f3",
          "dash": "solid"
         },
         "mode": "lines",
         "name": "UK",
         "showlegend": true,
         "type": "scatter",
         "x": [
          "2020-04-27",
          "2020-04-26",
          "2020-04-25",
          "2020-04-24",
          "2020-04-23",
          "2020-04-22",
          "2020-04-21",
          "2020-04-20",
          "2020-04-19",
          "2020-04-18",
          "2020-04-17",
          "2020-04-16",
          "2020-04-15",
          "2020-04-14",
          "2020-04-13",
          "2020-04-12",
          "2020-04-11",
          "2020-04-10",
          "2020-04-09",
          "2020-04-08",
          "2020-04-07",
          "2020-04-06",
          "2020-04-05",
          "2020-04-04",
          "2020-04-03",
          "2020-04-02",
          "2020-04-01",
          "2020-03-31",
          "2020-03-30",
          "2020-03-29",
          "2020-03-28",
          "2020-03-27",
          "2020-03-26",
          "2020-03-25",
          "2020-03-24",
          "2020-03-23",
          "2020-03-22",
          "2020-03-21",
          "2020-03-20",
          "2020-03-19",
          "2020-03-18",
          "2020-03-17",
          "2020-03-16",
          "2020-03-15",
          "2020-03-14",
          "2020-03-13",
          "2020-03-11",
          "2020-03-12",
          "2020-03-10",
          "2020-03-09",
          "2020-03-08",
          "2020-03-07",
          "2020-03-06",
          "2020-03-05"
         ],
         "xaxis": "x",
         "y": [
          158348,
          154037,
          149569,
          144640,
          139246,
          134638,
          130172,
          125856,
          121172,
          115314,
          109769,
          104145,
          99483,
          94845,
          89570,
          85206,
          79874,
          74605,
          65872,
          61474,
          55949,
          52279,
          48436,
          42477,
          38689,
          34173,
          29865,
          25481,
          22453,
          19780,
          17312,
          14745,
          11812,
          9640,
          8164,
          6726,
          5745,
          5067,
          4014,
          2716,
          2642,
          1960,
          1551,
          1145,
          1144,
          802,
          459,
          459,
          384,
          322,
          274,
          207,
          164,
          116
         ],
         "yaxis": "y"
        },
        {
         "hovertemplate": "Country=Turkey<br>Date=%{x}<br>Confirmed=%{y}<extra></extra>",
         "legendgroup": "Turkey",
         "line": {
          "color": "#FF6692",
          "dash": "solid"
         },
         "mode": "lines",
         "name": "Turkey",
         "showlegend": true,
         "type": "scatter",
         "x": [
          "2020-04-27",
          "2020-04-26",
          "2020-04-25",
          "2020-04-24",
          "2020-04-23",
          "2020-04-22",
          "2020-04-21",
          "2020-04-20",
          "2020-04-19",
          "2020-04-18",
          "2020-04-17",
          "2020-04-16",
          "2020-04-15",
          "2020-04-14",
          "2020-04-13",
          "2020-04-12",
          "2020-04-11",
          "2020-04-10",
          "2020-04-09",
          "2020-04-08",
          "2020-04-07",
          "2020-04-06",
          "2020-04-05",
          "2020-04-04",
          "2020-04-03",
          "2020-04-02",
          "2020-04-01",
          "2020-03-31",
          "2020-03-30",
          "2020-03-29",
          "2020-03-28",
          "2020-03-27",
          "2020-03-26",
          "2020-03-25",
          "2020-03-24",
          "2020-03-23",
          "2020-03-22",
          "2020-03-21",
          "2020-03-20",
          "2020-03-19"
         ],
         "xaxis": "x",
         "y": [
          112261,
          110130,
          107773,
          104912,
          101790,
          98674,
          95591,
          90980,
          86306,
          82329,
          78546,
          74193,
          69392,
          65111,
          61049,
          56956,
          52167,
          47029,
          42282,
          38226,
          34109,
          30217,
          27069,
          23934,
          20921,
          18135,
          15679,
          13531,
          10827,
          9217,
          7402,
          5698,
          3629,
          2433,
          1872,
          1529,
          1236,
          670,
          359,
          192
         ],
         "yaxis": "y"
        },
        {
         "hovertemplate": "Country=Iran<br>Date=%{x}<br>Confirmed=%{y}<extra></extra>",
         "legendgroup": "Iran",
         "line": {
          "color": "#B6E880",
          "dash": "solid"
         },
         "mode": "lines",
         "name": "Iran",
         "showlegend": true,
         "type": "scatter",
         "x": [
          "2020-04-27",
          "2020-04-26",
          "2020-04-25",
          "2020-04-24",
          "2020-04-23",
          "2020-04-22",
          "2020-04-21",
          "2020-04-20",
          "2020-04-19",
          "2020-04-18",
          "2020-04-17",
          "2020-04-16",
          "2020-04-15",
          "2020-04-14",
          "2020-04-13",
          "2020-04-12",
          "2020-04-11",
          "2020-04-10",
          "2020-04-09",
          "2020-04-08",
          "2020-04-07",
          "2020-04-06",
          "2020-04-05",
          "2020-04-04",
          "2020-04-03",
          "2020-04-02",
          "2020-04-01",
          "2020-03-31",
          "2020-03-30",
          "2020-03-29",
          "2020-03-28",
          "2020-03-27",
          "2020-03-26",
          "2020-03-25",
          "2020-03-24",
          "2020-03-23",
          "2020-03-22",
          "2020-03-21",
          "2020-03-20",
          "2020-03-19",
          "2020-03-18",
          "2020-03-17",
          "2020-03-16",
          "2020-03-15",
          "2020-03-14",
          "2020-03-13",
          "2020-03-12",
          "2020-03-11",
          "2020-03-10",
          "2020-03-09",
          "2020-03-08",
          "2020-03-07",
          "2020-03-06",
          "2020-03-05",
          "2020-03-04",
          "2020-03-03",
          "2020-03-02",
          "2020-03-01",
          "2020-02-29",
          "2020-02-28",
          "2020-02-27",
          "2020-02-26"
         ],
         "xaxis": "x",
         "y": [
          91472,
          90481,
          89328,
          88194,
          87026,
          85996,
          84802,
          83505,
          82211,
          80868,
          79494,
          77995,
          76389,
          74877,
          73303,
          71686,
          70029,
          68192,
          66220,
          64586,
          62589,
          60500,
          58226,
          55743,
          53183,
          50468,
          47593,
          44605,
          41495,
          38309,
          35408,
          32332,
          29406,
          27017,
          24811,
          23049,
          21638,
          20610,
          19644,
          18407,
          17361,
          16169,
          14991,
          13938,
          12729,
          11364,
          10075,
          9000,
          8042,
          7161,
          6566,
          5823,
          4747,
          3513,
          2922,
          2336,
          1501,
          978,
          593,
          388,
          245,
          139
         ],
         "yaxis": "y"
        },
        {
         "hovertemplate": "Country=Russia<br>Date=%{x}<br>Confirmed=%{y}<extra></extra>",
         "legendgroup": "Russia",
         "line": {
          "color": "#FF97FF",
          "dash": "solid"
         },
         "mode": "lines",
         "name": "Russia",
         "showlegend": true,
         "type": "scatter",
         "x": [
          "2020-04-27",
          "2020-04-26",
          "2020-04-25",
          "2020-04-24",
          "2020-04-23",
          "2020-04-22",
          "2020-04-21",
          "2020-04-20",
          "2020-04-19",
          "2020-04-18",
          "2020-04-17",
          "2020-04-16",
          "2020-04-15",
          "2020-04-14",
          "2020-04-13",
          "2020-04-12",
          "2020-04-11",
          "2020-04-10",
          "2020-04-09",
          "2020-04-08",
          "2020-04-07",
          "2020-04-06",
          "2020-04-05",
          "2020-04-04",
          "2020-04-03",
          "2020-04-02",
          "2020-04-01",
          "2020-03-31",
          "2020-03-30",
          "2020-03-29",
          "2020-03-28",
          "2020-03-27",
          "2020-03-26",
          "2020-03-25",
          "2020-03-24",
          "2020-03-23",
          "2020-03-22",
          "2020-03-21",
          "2020-03-20",
          "2020-03-19",
          "2020-03-18",
          "2020-03-17"
         ],
         "xaxis": "x",
         "y": [
          87147,
          80949,
          74588,
          68622,
          62773,
          57999,
          52763,
          47121,
          42853,
          36793,
          32008,
          27938,
          24490,
          21102,
          18328,
          15770,
          13584,
          11917,
          10131,
          8672,
          7497,
          6343,
          5389,
          4731,
          4149,
          3548,
          2777,
          2337,
          1836,
          1534,
          1264,
          1036,
          840,
          658,
          495,
          438,
          367,
          306,
          253,
          199,
          147,
          114
         ],
         "yaxis": "y"
        },
        {
         "hovertemplate": "Country=Brazil<br>Date=%{x}<br>Confirmed=%{y}<extra></extra>",
         "legendgroup": "Brazil",
         "line": {
          "color": "#FECB52",
          "dash": "solid"
         },
         "mode": "lines",
         "name": "Brazil",
         "showlegend": true,
         "type": "scatter",
         "x": [
          "2020-04-27",
          "2020-04-26",
          "2020-04-25",
          "2020-04-24",
          "2020-04-23",
          "2020-04-22",
          "2020-04-21",
          "2020-04-20",
          "2020-04-19",
          "2020-04-18",
          "2020-04-17",
          "2020-04-16",
          "2020-04-15",
          "2020-04-14",
          "2020-04-13",
          "2020-04-12",
          "2020-04-11",
          "2020-04-10",
          "2020-04-09",
          "2020-04-08",
          "2020-04-07",
          "2020-04-06",
          "2020-04-05",
          "2020-04-04",
          "2020-04-03",
          "2020-04-02",
          "2020-04-01",
          "2020-03-31",
          "2020-03-30",
          "2020-03-29",
          "2020-03-28",
          "2020-03-27",
          "2020-03-26",
          "2020-03-25",
          "2020-03-24",
          "2020-03-23",
          "2020-03-22",
          "2020-03-21",
          "2020-03-20",
          "2020-03-19",
          "2020-03-18",
          "2020-03-17",
          "2020-03-16",
          "2020-03-15",
          "2020-03-13",
          "2020-03-14"
         ],
         "xaxis": "x",
         "y": [
          67446,
          63100,
          59324,
          54043,
          50036,
          45757,
          43079,
          40743,
          38654,
          36658,
          33682,
          30425,
          28320,
          25262,
          23430,
          22192,
          20727,
          19638,
          18092,
          16170,
          14034,
          12161,
          11130,
          10360,
          9056,
          8044,
          6836,
          5717,
          4579,
          4256,
          3904,
          3417,
          2985,
          2554,
          2247,
          1924,
          1546,
          1021,
          793,
          621,
          372,
          321,
          200,
          162,
          151,
          151
         ],
         "yaxis": "y"
        }
       ],
       "layout": {
        "autosize": false,
        "height": 800,
        "legend": {
         "title": {
          "text": "Country"
         },
         "tracegroupgap": 0
        },
        "plot_bgcolor": "white",
        "template": {
         "data": {
          "bar": [
           {
            "error_x": {
             "color": "#2a3f5f"
            },
            "error_y": {
             "color": "#2a3f5f"
            },
            "marker": {
             "line": {
              "color": "#E5ECF6",
              "width": 0.5
             }
            },
            "type": "bar"
           }
          ],
          "barpolar": [
           {
            "marker": {
             "line": {
              "color": "#E5ECF6",
              "width": 0.5
             }
            },
            "type": "barpolar"
           }
          ],
          "carpet": [
           {
            "aaxis": {
             "endlinecolor": "#2a3f5f",
             "gridcolor": "white",
             "linecolor": "white",
             "minorgridcolor": "white",
             "startlinecolor": "#2a3f5f"
            },
            "baxis": {
             "endlinecolor": "#2a3f5f",
             "gridcolor": "white",
             "linecolor": "white",
             "minorgridcolor": "white",
             "startlinecolor": "#2a3f5f"
            },
            "type": "carpet"
           }
          ],
          "choropleth": [
           {
            "colorbar": {
             "outlinewidth": 0,
             "ticks": ""
            },
            "type": "choropleth"
           }
          ],
          "contour": [
           {
            "colorbar": {
             "outlinewidth": 0,
             "ticks": ""
            },
            "colorscale": [
             [
              0,
              "#0d0887"
             ],
             [
              0.1111111111111111,
              "#46039f"
             ],
             [
              0.2222222222222222,
              "#7201a8"
             ],
             [
              0.3333333333333333,
              "#9c179e"
             ],
             [
              0.4444444444444444,
              "#bd3786"
             ],
             [
              0.5555555555555556,
              "#d8576b"
             ],
             [
              0.6666666666666666,
              "#ed7953"
             ],
             [
              0.7777777777777778,
              "#fb9f3a"
             ],
             [
              0.8888888888888888,
              "#fdca26"
             ],
             [
              1,
              "#f0f921"
             ]
            ],
            "type": "contour"
           }
          ],
          "contourcarpet": [
           {
            "colorbar": {
             "outlinewidth": 0,
             "ticks": ""
            },
            "type": "contourcarpet"
           }
          ],
          "heatmap": [
           {
            "colorbar": {
             "outlinewidth": 0,
             "ticks": ""
            },
            "colorscale": [
             [
              0,
              "#0d0887"
             ],
             [
              0.1111111111111111,
              "#46039f"
             ],
             [
              0.2222222222222222,
              "#7201a8"
             ],
             [
              0.3333333333333333,
              "#9c179e"
             ],
             [
              0.4444444444444444,
              "#bd3786"
             ],
             [
              0.5555555555555556,
              "#d8576b"
             ],
             [
              0.6666666666666666,
              "#ed7953"
             ],
             [
              0.7777777777777778,
              "#fb9f3a"
             ],
             [
              0.8888888888888888,
              "#fdca26"
             ],
             [
              1,
              "#f0f921"
             ]
            ],
            "type": "heatmap"
           }
          ],
          "heatmapgl": [
           {
            "colorbar": {
             "outlinewidth": 0,
             "ticks": ""
            },
            "colorscale": [
             [
              0,
              "#0d0887"
             ],
             [
              0.1111111111111111,
              "#46039f"
             ],
             [
              0.2222222222222222,
              "#7201a8"
             ],
             [
              0.3333333333333333,
              "#9c179e"
             ],
             [
              0.4444444444444444,
              "#bd3786"
             ],
             [
              0.5555555555555556,
              "#d8576b"
             ],
             [
              0.6666666666666666,
              "#ed7953"
             ],
             [
              0.7777777777777778,
              "#fb9f3a"
             ],
             [
              0.8888888888888888,
              "#fdca26"
             ],
             [
              1,
              "#f0f921"
             ]
            ],
            "type": "heatmapgl"
           }
          ],
          "histogram": [
           {
            "marker": {
             "colorbar": {
              "outlinewidth": 0,
              "ticks": ""
             }
            },
            "type": "histogram"
           }
          ],
          "histogram2d": [
           {
            "colorbar": {
             "outlinewidth": 0,
             "ticks": ""
            },
            "colorscale": [
             [
              0,
              "#0d0887"
             ],
             [
              0.1111111111111111,
              "#46039f"
             ],
             [
              0.2222222222222222,
              "#7201a8"
             ],
             [
              0.3333333333333333,
              "#9c179e"
             ],
             [
              0.4444444444444444,
              "#bd3786"
             ],
             [
              0.5555555555555556,
              "#d8576b"
             ],
             [
              0.6666666666666666,
              "#ed7953"
             ],
             [
              0.7777777777777778,
              "#fb9f3a"
             ],
             [
              0.8888888888888888,
              "#fdca26"
             ],
             [
              1,
              "#f0f921"
             ]
            ],
            "type": "histogram2d"
           }
          ],
          "histogram2dcontour": [
           {
            "colorbar": {
             "outlinewidth": 0,
             "ticks": ""
            },
            "colorscale": [
             [
              0,
              "#0d0887"
             ],
             [
              0.1111111111111111,
              "#46039f"
             ],
             [
              0.2222222222222222,
              "#7201a8"
             ],
             [
              0.3333333333333333,
              "#9c179e"
             ],
             [
              0.4444444444444444,
              "#bd3786"
             ],
             [
              0.5555555555555556,
              "#d8576b"
             ],
             [
              0.6666666666666666,
              "#ed7953"
             ],
             [
              0.7777777777777778,
              "#fb9f3a"
             ],
             [
              0.8888888888888888,
              "#fdca26"
             ],
             [
              1,
              "#f0f921"
             ]
            ],
            "type": "histogram2dcontour"
           }
          ],
          "mesh3d": [
           {
            "colorbar": {
             "outlinewidth": 0,
             "ticks": ""
            },
            "type": "mesh3d"
           }
          ],
          "parcoords": [
           {
            "line": {
             "colorbar": {
              "outlinewidth": 0,
              "ticks": ""
             }
            },
            "type": "parcoords"
           }
          ],
          "pie": [
           {
            "automargin": true,
            "type": "pie"
           }
          ],
          "scatter": [
           {
            "marker": {
             "colorbar": {
              "outlinewidth": 0,
              "ticks": ""
             }
            },
            "type": "scatter"
           }
          ],
          "scatter3d": [
           {
            "line": {
             "colorbar": {
              "outlinewidth": 0,
              "ticks": ""
             }
            },
            "marker": {
             "colorbar": {
              "outlinewidth": 0,
              "ticks": ""
             }
            },
            "type": "scatter3d"
           }
          ],
          "scattercarpet": [
           {
            "marker": {
             "colorbar": {
              "outlinewidth": 0,
              "ticks": ""
             }
            },
            "type": "scattercarpet"
           }
          ],
          "scattergeo": [
           {
            "marker": {
             "colorbar": {
              "outlinewidth": 0,
              "ticks": ""
             }
            },
            "type": "scattergeo"
           }
          ],
          "scattergl": [
           {
            "marker": {
             "colorbar": {
              "outlinewidth": 0,
              "ticks": ""
             }
            },
            "type": "scattergl"
           }
          ],
          "scattermapbox": [
           {
            "marker": {
             "colorbar": {
              "outlinewidth": 0,
              "ticks": ""
             }
            },
            "type": "scattermapbox"
           }
          ],
          "scatterpolar": [
           {
            "marker": {
             "colorbar": {
              "outlinewidth": 0,
              "ticks": ""
             }
            },
            "type": "scatterpolar"
           }
          ],
          "scatterpolargl": [
           {
            "marker": {
             "colorbar": {
              "outlinewidth": 0,
              "ticks": ""
             }
            },
            "type": "scatterpolargl"
           }
          ],
          "scatterternary": [
           {
            "marker": {
             "colorbar": {
              "outlinewidth": 0,
              "ticks": ""
             }
            },
            "type": "scatterternary"
           }
          ],
          "surface": [
           {
            "colorbar": {
             "outlinewidth": 0,
             "ticks": ""
            },
            "colorscale": [
             [
              0,
              "#0d0887"
             ],
             [
              0.1111111111111111,
              "#46039f"
             ],
             [
              0.2222222222222222,
              "#7201a8"
             ],
             [
              0.3333333333333333,
              "#9c179e"
             ],
             [
              0.4444444444444444,
              "#bd3786"
             ],
             [
              0.5555555555555556,
              "#d8576b"
             ],
             [
              0.6666666666666666,
              "#ed7953"
             ],
             [
              0.7777777777777778,
              "#fb9f3a"
             ],
             [
              0.8888888888888888,
              "#fdca26"
             ],
             [
              1,
              "#f0f921"
             ]
            ],
            "type": "surface"
           }
          ],
          "table": [
           {
            "cells": {
             "fill": {
              "color": "#EBF0F8"
             },
             "line": {
              "color": "white"
             }
            },
            "header": {
             "fill": {
              "color": "#C8D4E3"
             },
             "line": {
              "color": "white"
             }
            },
            "type": "table"
           }
          ]
         },
         "layout": {
          "annotationdefaults": {
           "arrowcolor": "#2a3f5f",
           "arrowhead": 0,
           "arrowwidth": 1
          },
          "coloraxis": {
           "colorbar": {
            "outlinewidth": 0,
            "ticks": ""
           }
          },
          "colorscale": {
           "diverging": [
            [
             0,
             "#8e0152"
            ],
            [
             0.1,
             "#c51b7d"
            ],
            [
             0.2,
             "#de77ae"
            ],
            [
             0.3,
             "#f1b6da"
            ],
            [
             0.4,
             "#fde0ef"
            ],
            [
             0.5,
             "#f7f7f7"
            ],
            [
             0.6,
             "#e6f5d0"
            ],
            [
             0.7,
             "#b8e186"
            ],
            [
             0.8,
             "#7fbc41"
            ],
            [
             0.9,
             "#4d9221"
            ],
            [
             1,
             "#276419"
            ]
           ],
           "sequential": [
            [
             0,
             "#0d0887"
            ],
            [
             0.1111111111111111,
             "#46039f"
            ],
            [
             0.2222222222222222,
             "#7201a8"
            ],
            [
             0.3333333333333333,
             "#9c179e"
            ],
            [
             0.4444444444444444,
             "#bd3786"
            ],
            [
             0.5555555555555556,
             "#d8576b"
            ],
            [
             0.6666666666666666,
             "#ed7953"
            ],
            [
             0.7777777777777778,
             "#fb9f3a"
            ],
            [
             0.8888888888888888,
             "#fdca26"
            ],
            [
             1,
             "#f0f921"
            ]
           ],
           "sequentialminus": [
            [
             0,
             "#0d0887"
            ],
            [
             0.1111111111111111,
             "#46039f"
            ],
            [
             0.2222222222222222,
             "#7201a8"
            ],
            [
             0.3333333333333333,
             "#9c179e"
            ],
            [
             0.4444444444444444,
             "#bd3786"
            ],
            [
             0.5555555555555556,
             "#d8576b"
            ],
            [
             0.6666666666666666,
             "#ed7953"
            ],
            [
             0.7777777777777778,
             "#fb9f3a"
            ],
            [
             0.8888888888888888,
             "#fdca26"
            ],
            [
             1,
             "#f0f921"
            ]
           ]
          },
          "colorway": [
           "#636efa",
           "#EF553B",
           "#00cc96",
           "#ab63fa",
           "#FFA15A",
           "#19d3f3",
           "#FF6692",
           "#B6E880",
           "#FF97FF",
           "#FECB52"
          ],
          "font": {
           "color": "#2a3f5f"
          },
          "geo": {
           "bgcolor": "white",
           "lakecolor": "white",
           "landcolor": "#E5ECF6",
           "showlakes": true,
           "showland": true,
           "subunitcolor": "white"
          },
          "hoverlabel": {
           "align": "left"
          },
          "hovermode": "closest",
          "mapbox": {
           "style": "light"
          },
          "paper_bgcolor": "white",
          "plot_bgcolor": "#E5ECF6",
          "polar": {
           "angularaxis": {
            "gridcolor": "white",
            "linecolor": "white",
            "ticks": ""
           },
           "bgcolor": "#E5ECF6",
           "radialaxis": {
            "gridcolor": "white",
            "linecolor": "white",
            "ticks": ""
           }
          },
          "scene": {
           "xaxis": {
            "backgroundcolor": "#E5ECF6",
            "gridcolor": "white",
            "gridwidth": 2,
            "linecolor": "white",
            "showbackground": true,
            "ticks": "",
            "zerolinecolor": "white"
           },
           "yaxis": {
            "backgroundcolor": "#E5ECF6",
            "gridcolor": "white",
            "gridwidth": 2,
            "linecolor": "white",
            "showbackground": true,
            "ticks": "",
            "zerolinecolor": "white"
           },
           "zaxis": {
            "backgroundcolor": "#E5ECF6",
            "gridcolor": "white",
            "gridwidth": 2,
            "linecolor": "white",
            "showbackground": true,
            "ticks": "",
            "zerolinecolor": "white"
           }
          },
          "shapedefaults": {
           "line": {
            "color": "#2a3f5f"
           }
          },
          "ternary": {
           "aaxis": {
            "gridcolor": "white",
            "linecolor": "white",
            "ticks": ""
           },
           "baxis": {
            "gridcolor": "white",
            "linecolor": "white",
            "ticks": ""
           },
           "bgcolor": "#E5ECF6",
           "caxis": {
            "gridcolor": "white",
            "linecolor": "white",
            "ticks": ""
           }
          },
          "title": {
           "x": 0.05
          },
          "xaxis": {
           "automargin": true,
           "gridcolor": "white",
           "linecolor": "white",
           "ticks": "",
           "title": {
            "standoff": 15
           },
           "zerolinecolor": "white",
           "zerolinewidth": 2
          },
          "yaxis": {
           "automargin": true,
           "gridcolor": "white",
           "linecolor": "white",
           "ticks": "",
           "title": {
            "standoff": 15
           },
           "zerolinecolor": "white",
           "zerolinewidth": 2
          }
         }
        },
        "title": {
         "text": "Confirmed cases comparison"
        },
        "width": 800,
        "xaxis": {
         "anchor": "y",
         "domain": [
          0,
          1
         ],
         "linecolor": "rgb(204, 204, 204)",
         "linewidth": 2,
         "showgrid": false,
         "showline": true,
         "showticklabels": true,
         "tickfont": {
          "family": "Arial",
          "size": 14
         },
         "ticks": "outside",
         "title": {
          "text": "Date"
         }
        },
        "yaxis": {
         "anchor": "x",
         "domain": [
          0,
          1
         ],
         "title": {
          "text": "Confirmed"
         },
         "type": "log"
        }
       }
      }
     },
     "metadata": {}
    }
   ],
   "source": [
    "\n",
    "fig = px.line(top_countries_100_df, x='Date', y='Confirmed', color='Country', line_group='Country', title='Confirmed cases comparison')\n",
    "fig.update_layout(\n",
    "        xaxis=dict(\n",
    "            showline=True,\n",
    "            showgrid=False,\n",
    "            showticklabels=True,\n",
    "            linecolor='rgb(204, 204, 204)',\n",
    "            linewidth=2,\n",
    "            ticks='outside',\n",
    "            tickfont=dict(\n",
    "                family='Arial',\n",
    "                size=14)\n",
    "        ))\n",
    "\n",
    "fig.update_yaxes(type=\"log\")\n",
    "#fig.update_layout(xaxis_rangeslider_visible=True)\n",
    "\n",
    "fig.update_layout(\n",
    "    autosize=False,\n",
    "    width=800,\n",
    "    height=800,\n",
    "    plot_bgcolor='white')\n",
    "\n",
    "\n",
    "#fig.write_image(\"images/CONFIRMED_CASES_NORWAY.pdf\")\n",
    "fig.show()\n"
   ]
  },
  {
   "cell_type": "code",
   "execution_count": 39,
   "metadata": {},
   "outputs": [
    {
     "output_type": "display_data",
     "data": {
      "application/vnd.plotly.v1+json": {
       "config": {
        "plotlyServerURL": "https://plot.ly"
       },
       "data": [
        {
         "marker": {
          "color": [
           22412,
           27631,
           32796,
           36188,
           28819,
           28486,
           27539,
           25517,
           26612,
           32491,
           32114,
           31242,
           28680,
           27051,
           25306,
           28917,
           29861,
           33755,
           34126,
           31533,
           30804,
           29515,
           28152,
           33283,
           31745,
           30380,
           2793,
           2870,
           3995,
           6740,
           25070,
           4635,
           4211,
           3968,
           1536,
           1739,
           6948,
           2324,
           2357,
           3021,
           887,
           5891,
           2646,
           26341,
           3370,
           7304,
           2729,
           2256,
           3047,
           5103,
           3491,
           2442,
           3493,
           3268,
           3786,
           3804,
           3743,
           2667,
           4754,
           2972,
           576,
           20922,
           1692,
           1649,
           3153,
           988,
           4311,
           2323,
           5051,
           2775,
           1257,
           1514,
           4092,
           0,
           2382,
           1870,
           4468,
           5002,
           2481,
           4925,
           4694,
           2357,
           4929,
           1226,
           6278,
           2,
           2009,
           3951,
           1881,
           12490,
           1842,
           5394,
           4204,
           1945,
           5267,
           3699,
           19444,
           3836,
           4608,
           2945,
           5029,
           3039,
           3394,
           4466,
           3220,
           3599,
           5478,
           1287,
           4971,
           4316,
           2218,
           4316,
           2946,
           6969,
           4684,
           3682,
           2737,
           4805,
           3990,
           26849,
           19808,
           5858,
           4585,
           7134,
           4885,
           5545,
           4668,
           5633,
           2131,
           7947,
           4782,
           2357,
           5624,
           2861,
           4289,
           4053,
           3122,
           4662,
           8195,
           3251,
           3116,
           4050,
           17821,
           4031,
           4638,
           3083,
           5217,
           4933,
           7967,
           4611,
           3125,
           5275,
           5974,
           4372,
           991,
           6365,
           4674,
           1153,
           4364,
           1134,
           1168,
           7846,
           4309,
           6198,
           1030,
           5909,
           3977,
           1194,
           5332,
           1297,
           6922,
           18058,
           1294,
           3894,
           3783,
           1343,
           6361,
           1374,
           6203,
           6875,
           5269,
           1499,
           3820,
           4353,
           1606,
           6064,
           1512,
           3931,
           1574,
           8733,
           5966,
           5210,
           4801,
           1617,
           7516,
           4923,
           1657,
           1912,
           1837,
           4298,
           4281,
           5249,
           5849,
           1972,
           4346,
           4790,
           1634,
           4398,
           12042,
           7933,
           5273,
           4062,
           1997,
           4789,
           3776,
           4774,
           2089,
           4400,
           5525,
           4093,
           2274,
           2180,
           5281,
           5560,
           2483,
           5236,
           8271,
           4922,
           6824,
           4789,
           3670,
           2560,
           4007,
           9893,
           6557,
           2715,
           7657,
           5642,
           3843,
           5138,
           6933,
           2875,
           4279,
           9630,
           5959,
           2988,
           4268,
           4747,
           5986,
           2678,
           4462,
           3110,
           6615,
           10567,
           2336,
           6060,
           3788,
           4056,
           3186,
           5322,
           2089,
           2603,
           4749,
           4516,
           1996,
           2901,
           4117,
           4703,
           4337,
           4785,
           2976,
           4207,
           3076,
           6368,
           4308,
           3892,
           3257,
           3851,
           7676,
           3930,
           2926,
           4070,
           3526,
           2105,
           3148,
           4384,
           3951,
           2389,
           4183,
           3394,
           3058,
           3233,
           3448,
           3135,
           2206,
           2978,
           6327,
           3028,
           4964,
           1832,
           2660,
           1762,
           3590,
           3388,
           3013,
           1238,
           1411,
           2499,
           2673,
           2365,
           1465,
           1028,
           3497,
           2774,
           2786,
           1089,
           966,
           2447,
           3880,
           4528,
           2468,
           1237,
           1546,
           5526,
           1046,
           2558,
           2456,
           1922,
           4053,
           5198,
           1192,
           2567,
           1780,
           2136,
           1178,
           2186,
           2148,
           2993,
           1053,
           2933,
           1705,
           1873,
           1209,
           2162,
           5964,
           1667,
           2704,
           1788,
           1365,
           2313,
           0,
           3070,
           1031,
           1786,
           2172,
           1806,
           1289,
           770,
           1846,
           1610,
           1304,
           977,
           1459,
           1075,
           2144,
           1476,
           1985,
           1815,
           1797,
           1409,
           1012,
           958,
           1175,
           1438,
           1208,
           881,
           1407,
           1362,
           1032,
           1154,
           1704,
           1492,
           1477,
           595,
           1119,
           981,
           2151,
           743,
           1789,
           1159,
           954,
           1247,
           1076,
           1210,
           678,
           1138,
           2069,
           658,
           2955,
           1053,
           1234,
           582,
           778,
           1133,
           910,
           323,
           36,
           815,
           352,
           601,
           1298,
           487,
           769,
           1388,
           1597,
           1196,
           771,
           591,
           772,
           432,
           587,
           431,
           586,
           440,
           548,
           74,
           682,
           307,
           466,
           561,
           501,
           835,
           0,
           499,
           582,
           0,
           323,
           516,
           170,
           342,
           409,
           378,
           451,
           343,
           302,
           575,
           622,
           566,
           382,
           406,
           525,
           270,
           293,
           523,
           281,
           322,
           228,
           566,
           83,
           136,
           1,
           342,
           177,
           240,
           400,
           241,
           196,
           228,
           385,
           376,
           303,
           233,
           182,
           343,
           129,
           172,
           173,
           311,
           188,
           163,
           276,
           202,
           249,
           205,
           65,
           116,
           100,
           57,
           220,
           75,
           0,
           131,
           71,
           140,
           141,
           143,
           62,
           92,
           51,
           61,
           167,
           93,
           48,
           121,
           53,
           84,
           67,
           45,
           66,
           37,
           54,
           106,
           74,
           57,
           68,
           43,
           13,
           38,
           52,
           37,
           94,
           61,
           45,
           48,
           11,
           29,
           93,
           99,
           0,
           31,
           33,
           44,
           30,
           51,
           36,
           20,
           30,
           24,
           43
          ],
          "colorbar": {
           "title": {
            "text": "Deaths"
           }
          },
          "colorscale": [
           [
            0,
            "#440154"
           ],
           [
            0.1111111111111111,
            "#482878"
           ],
           [
            0.2222222222222222,
            "#3e4989"
           ],
           [
            0.3333333333333333,
            "#31688e"
           ],
           [
            0.4444444444444444,
            "#26828e"
           ],
           [
            0.5555555555555556,
            "#1f9e89"
           ],
           [
            0.6666666666666666,
            "#35b779"
           ],
           [
            0.7777777777777778,
            "#6ece58"
           ],
           [
            0.8888888888888888,
            "#b5de2b"
           ],
           [
            1,
            "#fde725"
           ]
          ],
          "line": {
           "color": "rgb(128, 128, 128)"
          },
          "size": [
           56259,
           54881,
           53755,
           51949,
           49954,
           46622,
           44444,
           42094,
           40661,
           38664,
           36787,
           32930,
           28338,
           25843,
           23538,
           22029,
           20471,
           18595,
           16544,
           14704,
           12794,
           10783,
           9619,
           8408,
           7090,
           5929,
           23521,
           23190,
           22902,
           22524,
           4760,
           22157,
           21717,
           21282,
           20852,
           26977,
           20453,
           26644,
           26384,
           25969,
           20043,
           20002,
           25549,
           3874,
           25085,
           19315,
           24648,
           24114,
           23660,
           18708,
           23227,
           18056,
           22745,
           17756,
           22170,
           17209,
           23327,
           21645,
           16606,
           21067,
           22890,
           2978,
           22648,
           22279,
           20465,
           6126,
           21157,
           21889,
           16081,
           20829,
           5976,
           5877,
           19899,
           21373,
           20292,
           5760,
           20794,
           15447,
           5575,
           19744,
           19468,
           5279,
           20381,
           5033,
           14792,
           19345,
           18703,
           18849,
           4862,
           17941,
           4586,
           19567,
           18279,
           4459,
           14045,
           4352,
           2467,
           17669,
           18791,
           4052,
           13341,
           17127,
           3804,
           18151,
           17188,
           16523,
           12641,
           3294,
           15748,
           17378,
           3194,
           15887,
           3022,
           11947,
           16550,
           14986,
           2736,
           15362,
           2767,
           14412,
           2026,
           16095,
           14681,
           11198,
           2607,
           15498,
           13915,
           2349,
           2900,
           10348,
           13155,
           2805,
           14607,
           2706,
           2016,
           12428,
           2600,
           13759,
           9387,
           1810,
           2491,
           11591,
           1581,
           1584,
           12894,
           2376,
           10779,
           1444,
           8464,
           2259,
           13851,
           12129,
           10023,
           13215,
           5806,
           1275,
           2140,
           5710,
           11347,
           5650,
           5574,
           7716,
           12228,
           794,
           5481,
           9134,
           2017,
           5391,
           10629,
           5297,
           1107,
           1209,
           5209,
           10887,
           1890,
           5118,
           747,
           5031,
           8215,
           6803,
           9892,
           4958,
           10343,
           1769,
           4869,
           920,
           4777,
           8926,
           4683,
           8974,
           681,
           7503,
           1643,
           4585,
           5982,
           775,
           4474,
           8093,
           4357,
           7574,
           1518,
           6820,
           615,
           4232,
           4603,
           645,
           4110,
           7993,
           942,
           5138,
           6520,
           1403,
           3993,
           6077,
           4286,
           555,
           3872,
           533,
           7111,
           1296,
           3739,
           5398,
           4057,
           5476,
           3603,
           513,
           4365,
           4414,
           433,
           1198,
           6171,
           3452,
           3704,
           706,
           4825,
           3294,
           3532,
           456,
           5385,
           1101,
           342,
           3160,
           3331,
           3647,
           4943,
           3036,
           405,
           1006,
           4032,
           2906,
           3030,
           2898,
           267,
           557,
           2741,
           361,
           4320,
           908,
           2757,
           3405,
           2587,
           2611,
           2808,
           3611,
           2462,
           2640,
           812,
           2317,
           206,
           313,
           2354,
           2978,
           2517,
           2311,
           2926,
           725,
           2141,
           1997,
           417,
           157,
           2378,
           273,
           2503,
           1924,
           649,
           2357,
           1698,
           2234,
           123,
           1772,
           1736,
           2158,
           232,
           574,
           2077,
           1333,
           307,
           1793,
           1375,
           1532,
           94,
           1934,
           1809,
           198,
           501,
           1328,
           1812,
           1102,
           1411,
           84,
           1223,
           1685,
           1441,
           170,
           425,
           1124,
           1556,
           1043,
           862,
           67,
           1231,
           1433,
           1057,
           244,
           1284,
           148,
           356,
           950,
           830,
           1266,
           1135,
           1021,
           676,
           819,
           988,
           130,
           277,
           44,
           853,
           761,
           563,
           686,
           724,
           623,
           200,
           106,
           214,
           451,
           611,
           827,
           827,
           28,
           564,
           94,
           580,
           533,
           514,
           486,
           244,
           168,
           445,
           631,
           76,
           429,
           342,
           466,
           24,
           131,
           463,
           149,
           359,
           354,
           63,
           423,
           324,
           291,
           289,
           118,
           149,
           58,
           108,
           366,
           17,
           237,
           240,
           336,
           149,
           194,
           108,
           195,
           47,
           233,
           145,
           11,
           282,
           201,
           92,
           45,
           133,
           234,
           124,
           43,
           197,
           85,
           9,
           159,
           91,
           91,
           136,
           34,
           178,
           111,
           148,
           79,
           7,
           75,
           30,
           107,
           63,
           92,
           107,
           77,
           92,
           24,
           54,
           138,
           72,
           59,
           79,
           59,
           17,
           77,
           48,
           48,
           54,
           55,
           46,
           47,
           3,
           52,
           56,
           34,
           3,
           44,
           9,
           33,
           35,
           34,
           40,
           56,
           25,
           8,
           37,
           66,
           2,
           36,
           4,
           30,
           19,
           2,
           21,
           21,
           19,
           29,
           28,
           0,
           4,
           15,
           54,
           28,
           11,
           21,
           3,
           8,
           0,
           11,
           17,
           9,
           0,
           3,
           9,
           17,
           6,
           43,
           22,
           21,
           10,
           1,
           0,
           8,
           8,
           12,
           1,
           17,
           5,
           34,
           6,
           6,
           3,
           1,
           4,
           10,
           4,
           1,
           1,
           4,
           3,
           14,
           0,
           3,
           1,
           26,
           7,
           2,
           12,
           2,
           4,
           0,
           1,
           0,
           3,
           3,
           1,
           2,
           0,
           0,
           3,
           0,
           0,
           11,
           0,
           19,
           2,
           0,
           0,
           7,
           1,
           0,
           2
          ],
          "sizemode": "diameter",
          "sizeref": 800
         },
         "mode": "markers",
         "text": [
          "US",
          "US",
          "US",
          "US",
          "US",
          "US",
          "US",
          "US",
          "US",
          "US",
          "US",
          "US",
          "US",
          "US",
          "US",
          "US",
          "US",
          "US",
          "US",
          "US",
          "US",
          "US",
          "US",
          "US",
          "US",
          "US",
          "Spain",
          "Spain",
          "Spain",
          "Spain",
          "US",
          "Spain",
          "Spain",
          "Spain",
          "Spain",
          "Italy",
          "Spain",
          "Italy",
          "Italy",
          "Italy",
          "Spain",
          "Spain",
          "Italy",
          "US",
          "Italy",
          "Spain",
          "Italy",
          "Italy",
          "Italy",
          "Spain",
          "Italy",
          "Spain",
          "Italy",
          "Spain",
          "Italy",
          "Spain",
          "France",
          "Italy",
          "Spain",
          "Italy",
          "France",
          "US",
          "France",
          "France",
          "Italy",
          "Germany",
          "UK",
          "France",
          "Spain",
          "France",
          "Germany",
          "Germany",
          "Italy",
          "France",
          "France",
          "Germany",
          "UK",
          "Spain",
          "Germany",
          "France",
          "Italy",
          "Germany",
          "UK",
          "Germany",
          "Spain",
          "France",
          "France",
          "Italy",
          "Germany",
          "France",
          "Germany",
          "UK",
          "Italy",
          "Germany",
          "Spain",
          "Germany",
          "US",
          "Italy",
          "UK",
          "Germany",
          "Spain",
          "Italy",
          "Germany",
          "UK",
          "France",
          "Italy",
          "Spain",
          "Germany",
          "France",
          "UK",
          "Germany",
          "Italy",
          "Germany",
          "Spain",
          "UK",
          "France",
          "Germany",
          "Italy",
          "Germany",
          "France",
          "US",
          "UK",
          "Italy",
          "Spain",
          "Germany",
          "UK",
          "Italy",
          "Germany",
          "Turkey",
          "Spain",
          "Italy",
          "Turkey",
          "UK",
          "Turkey",
          "Germany",
          "Italy",
          "Turkey",
          "UK",
          "Spain",
          "Germany",
          "Turkey",
          "Italy",
          "US",
          "Germany",
          "UK",
          "Turkey",
          "Italy",
          "Germany",
          "Spain",
          "Turkey",
          "France",
          "UK",
          "Italy",
          "France",
          "Iran",
          "Germany",
          "Turkey",
          "Iran",
          "UK",
          "Iran",
          "Iran",
          "Spain",
          "France",
          "Russia",
          "Iran",
          "Italy",
          "Turkey",
          "Iran",
          "UK",
          "Iran",
          "Germany",
          "US",
          "Iran",
          "France",
          "Turkey",
          "Iran",
          "Russia",
          "Iran",
          "Italy",
          "Spain",
          "UK",
          "Iran",
          "France",
          "Turkey",
          "Iran",
          "Germany",
          "Iran",
          "France",
          "Iran",
          "UK",
          "Russia",
          "Italy",
          "Turkey",
          "Iran",
          "Spain",
          "Germany",
          "Iran",
          "France",
          "Iran",
          "France",
          "Turkey",
          "Italy",
          "Russia",
          "Iran",
          "Brazil",
          "Germany",
          "Iran",
          "UK",
          "US",
          "Spain",
          "France",
          "Turkey",
          "Iran",
          "Italy",
          "Brazil",
          "Russia",
          "Iran",
          "Germany",
          "UK",
          "Turkey",
          "Iran",
          "France",
          "Brazil",
          "Italy",
          "Iran",
          "Russia",
          "Spain",
          "France",
          "Germany",
          "Turkey",
          "UK",
          "Iran",
          "Brazil",
          "US",
          "Italy",
          "Iran",
          "France",
          "Russia",
          "UK",
          "Turkey",
          "Germany",
          "Iran",
          "Brazil",
          "Spain",
          "UK",
          "Iran",
          "Russia",
          "Turkey",
          "Italy",
          "Brazil",
          "France",
          "Iran",
          "Germany",
          "US",
          "Brazil",
          "Russia",
          "UK",
          "Turkey",
          "Iran",
          "Italy",
          "Brazil",
          "France",
          "Spain",
          "UK",
          "Brazil",
          "Iran",
          "Turkey",
          "France",
          "Germany",
          "Russia",
          "Brazil",
          "Italy",
          "Iran",
          "Spain",
          "UK",
          "Turkey",
          "Brazil",
          "France",
          "US",
          "Germany",
          "Iran",
          "Russia",
          "Italy",
          "Brazil",
          "Turkey",
          "UK",
          "France",
          "Iran",
          "Germany",
          "Spain",
          "Brazil",
          "Italy",
          "Russia",
          "Turkey",
          "Iran",
          "France",
          "US",
          "UK",
          "Spain",
          "Brazil",
          "Germany",
          "Iran",
          "Italy",
          "Russia",
          "Turkey",
          "Brazil",
          "Iran",
          "France",
          "UK",
          "Germany",
          "Brazil",
          "Iran",
          "Italy",
          "Russia",
          "Turkey",
          "Brazil",
          "Iran",
          "Spain",
          "France",
          "Germany",
          "UK",
          "Iran",
          "Brazil",
          "US",
          "Iran",
          "Russia",
          "Turkey",
          "Brazil",
          "Spain",
          "Italy",
          "Iran",
          "UK",
          "France",
          "Brazil",
          "Iran",
          "Russia",
          "Turkey",
          "Germany",
          "Iran",
          "UK",
          "France",
          "Brazil",
          "Iran",
          "Spain",
          "US",
          "Russia",
          "Turkey",
          "France",
          "Iran",
          "Italy",
          "Italy",
          "Germany",
          "Brazil",
          "Russia",
          "UK",
          "Spain",
          "Iran",
          "Brazil",
          "France",
          "Turkey",
          "Brazil",
          "Italy",
          "Russia",
          "Iran",
          "Spain",
          "UK",
          "Germany",
          "Turkey",
          "Italy",
          "France",
          "Brazil",
          "Iran",
          "Russia",
          "UK",
          "Brazil",
          "Iran",
          "Spain",
          "US",
          "France",
          "Russia",
          "Turkey",
          "Italy",
          "Germany",
          "Iran",
          "Brazil",
          "UK",
          "France",
          "Iran",
          "US",
          "Spain",
          "Russia",
          "Italy",
          "Iran",
          "Germany",
          "UK",
          "Brazil",
          "Turkey",
          "Russia",
          "Spain",
          "UK",
          "Iran",
          "Russia",
          "Italy",
          "US",
          "Germany",
          "Brazil",
          "France",
          "France",
          "Brazil",
          "Russia",
          "UK",
          "Brazil",
          "Italy",
          "France",
          "Germany",
          "Turkey",
          "Russia",
          "Iran",
          "US",
          "Brazil",
          "Italy",
          "Brazil",
          "Iran",
          "Russia",
          "US",
          "UK",
          "UK",
          "Brazil",
          "Italy",
          "Turkey",
          "Russia",
          "Iran",
          "France",
          "France",
          "Spain",
          "Spain",
          "Brazil",
          "US",
          "Germany",
          "Italy",
          "UK",
          "Brazil",
          "Germany",
          "Turkey",
          "Russia",
          "France",
          "Spain",
          "Italy",
          "US",
          "UK",
          "Brazil",
          "Russia",
          "Turkey",
          "Iran",
          "Germany",
          "US",
          "Russia",
          "Turkey",
          "France",
          "Germany",
          "UK",
          "UK",
          "France",
          "Italy",
          "Spain",
          "Germany",
          "Russia",
          "Brazil",
          "Iran",
          "US",
          "France",
          "Italy",
          "Russia",
          "UK",
          "Germany",
          "Brazil",
          "Spain",
          "Turkey",
          "Germany",
          "Russia",
          "France",
          "Italy",
          "Brazil",
          "Iran",
          "US",
          "US",
          "Spain",
          "Russia",
          "Germany",
          "UK",
          "UK",
          "Italy",
          "Russia",
          "US",
          "Spain",
          "Iran",
          "UK",
          "France",
          "Brazil",
          "Russia",
          "Turkey",
          "Italy",
          "UK",
          "Brazil",
          "Russia",
          "France",
          "UK",
          "US",
          "Germany",
          "Spain",
          "Russia",
          "Iran",
          "Italy",
          "Spain",
          "US",
          "UK",
          "France",
          "Brazil",
          "Russia",
          "Germany",
          "Turkey",
          "France",
          "Spain",
          "UK",
          "Brazil",
          "Germany",
          "Italy",
          "Brazil",
          "Brazil",
          "US",
          "Russia",
          "Iran",
          "France",
          "Germany",
          "Spain",
          "US",
          "UK",
          "Russia",
          "France"
         ],
         "type": "scatter3d",
         "x": [
          "2020-04-27",
          "2020-04-26",
          "2020-04-25",
          "2020-04-24",
          "2020-04-23",
          "2020-04-22",
          "2020-04-21",
          "2020-04-20",
          "2020-04-19",
          "2020-04-18",
          "2020-04-17",
          "2020-04-16",
          "2020-04-15",
          "2020-04-14",
          "2020-04-13",
          "2020-04-12",
          "2020-04-11",
          "2020-04-10",
          "2020-04-09",
          "2020-04-08",
          "2020-04-07",
          "2020-04-06",
          "2020-04-05",
          "2020-04-04",
          "2020-04-03",
          "2020-04-02",
          "2020-04-27",
          "2020-04-26",
          "2020-04-25",
          "2020-04-24",
          "2020-04-01",
          "2020-04-23",
          "2020-04-22",
          "2020-04-21",
          "2020-04-20",
          "2020-04-27",
          "2020-04-19",
          "2020-04-26",
          "2020-04-25",
          "2020-04-24",
          "2020-04-18",
          "2020-04-17",
          "2020-04-23",
          "2020-03-31",
          "2020-04-22",
          "2020-04-16",
          "2020-04-21",
          "2020-04-20",
          "2020-04-19",
          "2020-04-15",
          "2020-04-18",
          "2020-04-14",
          "2020-04-17",
          "2020-04-13",
          "2020-04-16",
          "2020-04-12",
          "2020-04-27",
          "2020-04-15",
          "2020-04-11",
          "2020-04-14",
          "2020-04-26",
          "2020-03-30",
          "2020-04-25",
          "2020-04-24",
          "2020-04-13",
          "2020-04-27",
          "2020-04-27",
          "2020-04-23",
          "2020-04-10",
          "2020-04-21",
          "2020-04-26",
          "2020-04-25",
          "2020-04-12",
          "2020-04-22",
          "2020-04-20",
          "2020-04-24",
          "2020-04-26",
          "2020-04-09",
          "2020-04-23",
          "2020-04-19",
          "2020-04-11",
          "2020-04-22",
          "2020-04-25",
          "2020-04-21",
          "2020-04-08",
          "2020-04-18",
          "2020-04-17",
          "2020-04-10",
          "2020-04-20",
          "2020-04-16",
          "2020-04-19",
          "2020-04-24",
          "2020-04-09",
          "2020-04-18",
          "2020-04-07",
          "2020-04-17",
          "2020-03-29",
          "2020-04-08",
          "2020-04-23",
          "2020-04-16",
          "2020-04-06",
          "2020-04-07",
          "2020-04-15",
          "2020-04-22",
          "2020-04-15",
          "2020-04-06",
          "2020-04-05",
          "2020-04-14",
          "2020-04-14",
          "2020-04-21",
          "2020-04-13",
          "2020-04-05",
          "2020-04-12",
          "2020-04-04",
          "2020-04-20",
          "2020-04-13",
          "2020-04-11",
          "2020-04-04",
          "2020-04-10",
          "2020-04-12",
          "2020-03-28",
          "2020-04-19",
          "2020-04-03",
          "2020-04-03",
          "2020-04-09",
          "2020-04-18",
          "2020-04-02",
          "2020-04-08",
          "2020-04-27",
          "2020-04-02",
          "2020-04-01",
          "2020-04-26",
          "2020-04-17",
          "2020-04-25",
          "2020-04-07",
          "2020-03-31",
          "2020-04-24",
          "2020-04-16",
          "2020-04-01",
          "2020-04-06",
          "2020-04-23",
          "2020-03-30",
          "2020-03-27",
          "2020-04-05",
          "2020-04-15",
          "2020-04-22",
          "2020-03-29",
          "2020-04-04",
          "2020-03-31",
          "2020-04-21",
          "2020-04-11",
          "2020-04-14",
          "2020-03-28",
          "2020-04-10",
          "2020-04-27",
          "2020-04-03",
          "2020-04-20",
          "2020-04-26",
          "2020-04-13",
          "2020-04-25",
          "2020-04-24",
          "2020-03-30",
          "2020-04-09",
          "2020-04-27",
          "2020-04-23",
          "2020-03-27",
          "2020-04-19",
          "2020-04-22",
          "2020-04-12",
          "2020-04-21",
          "2020-04-02",
          "2020-03-26",
          "2020-04-20",
          "2020-04-08",
          "2020-04-18",
          "2020-04-19",
          "2020-04-26",
          "2020-04-18",
          "2020-03-26",
          "2020-03-29",
          "2020-04-11",
          "2020-04-17",
          "2020-04-07",
          "2020-04-17",
          "2020-04-16",
          "2020-04-01",
          "2020-04-15",
          "2020-04-06",
          "2020-04-14",
          "2020-04-10",
          "2020-04-25",
          "2020-03-25",
          "2020-04-16",
          "2020-04-13",
          "2020-03-28",
          "2020-03-31",
          "2020-04-12",
          "2020-04-05",
          "2020-04-11",
          "2020-04-04",
          "2020-04-15",
          "2020-03-24",
          "2020-04-24",
          "2020-04-10",
          "2020-04-27",
          "2020-03-30",
          "2020-04-09",
          "2020-04-09",
          "2020-03-25",
          "2020-03-27",
          "2020-04-03",
          "2020-04-14",
          "2020-04-08",
          "2020-03-23",
          "2020-04-26",
          "2020-04-23",
          "2020-04-07",
          "2020-03-29",
          "2020-04-08",
          "2020-04-13",
          "2020-04-06",
          "2020-04-02",
          "2020-04-25",
          "2020-03-22",
          "2020-04-05",
          "2020-04-22",
          "2020-03-26",
          "2020-04-01",
          "2020-03-28",
          "2020-04-12",
          "2020-04-07",
          "2020-04-04",
          "2020-04-24",
          "2020-03-24",
          "2020-03-21",
          "2020-04-03",
          "2020-03-31",
          "2020-04-21",
          "2020-04-06",
          "2020-04-11",
          "2020-03-27",
          "2020-04-02",
          "2020-04-23",
          "2020-03-25",
          "2020-04-05",
          "2020-04-01",
          "2020-04-20",
          "2020-04-10",
          "2020-03-20",
          "2020-04-22",
          "2020-03-30",
          "2020-03-31",
          "2020-03-26",
          "2020-03-23",
          "2020-04-21",
          "2020-04-19",
          "2020-04-04",
          "2020-04-09",
          "2020-03-30",
          "2020-03-19",
          "2020-04-20",
          "2020-03-29",
          "2020-03-24",
          "2020-04-03",
          "2020-04-19",
          "2020-03-29",
          "2020-04-08",
          "2020-03-28",
          "2020-03-25",
          "2020-04-18",
          "2020-04-18",
          "2020-03-18",
          "2020-03-28",
          "2020-03-23",
          "2020-04-02",
          "2020-04-07",
          "2020-04-17",
          "2020-03-27",
          "2020-03-22",
          "2020-03-24",
          "2020-03-27",
          "2020-04-17",
          "2020-03-17",
          "2020-04-16",
          "2020-04-06",
          "2020-04-01",
          "2020-03-26",
          "2020-03-26",
          "2020-03-23",
          "2020-03-22",
          "2020-04-15",
          "2020-03-16",
          "2020-04-16",
          "2020-04-05",
          "2020-03-25",
          "2020-03-25",
          "2020-03-21",
          "2020-03-31",
          "2020-03-21",
          "2020-04-14",
          "2020-03-22",
          "2020-03-24",
          "2020-03-15",
          "2020-04-15",
          "2020-04-04",
          "2020-04-13",
          "2020-03-23",
          "2020-03-24",
          "2020-03-30",
          "2020-03-21",
          "2020-04-12",
          "2020-03-22",
          "2020-03-14",
          "2020-04-14",
          "2020-04-03",
          "2020-04-11",
          "2020-03-21",
          "2020-03-20",
          "2020-03-23",
          "2020-03-20",
          "2020-03-29",
          "2020-03-20",
          "2020-04-10",
          "2020-03-20",
          "2020-03-19",
          "2020-04-13",
          "2020-04-02",
          "2020-04-09",
          "2020-03-19",
          "2020-03-13",
          "2020-03-18",
          "2020-03-28",
          "2020-03-22",
          "2020-04-08",
          "2020-03-17",
          "2020-04-12",
          "2020-04-01",
          "2020-03-19",
          "2020-03-16",
          "2020-03-27",
          "2020-03-21",
          "2020-04-07",
          "2020-03-15",
          "2020-03-18",
          "2020-03-19",
          "2020-04-11",
          "2020-03-31",
          "2020-03-20",
          "2020-03-14",
          "2020-03-11",
          "2020-03-12",
          "2020-03-18",
          "2020-04-06",
          "2020-04-10",
          "2020-03-26",
          "2020-03-17",
          "2020-03-13",
          "2020-04-05",
          "2020-03-19",
          "2020-03-30",
          "2020-04-04",
          "2020-03-10",
          "2020-04-09",
          "2020-03-12",
          "2020-03-16",
          "2020-03-25",
          "2020-03-17",
          "2020-03-29",
          "2020-03-09",
          "2020-03-18",
          "2020-04-03",
          "2020-03-11",
          "2020-04-08",
          "2020-03-24",
          "2020-04-02",
          "2020-03-10",
          "2020-03-15",
          "2020-03-18",
          "2020-03-17",
          "2020-04-07",
          "2020-03-28",
          "2020-03-08",
          "2020-03-16",
          "2020-03-09",
          "2020-04-01",
          "2020-03-23",
          "2020-03-16",
          "2020-03-08",
          "2020-03-17",
          "2020-03-14",
          "2020-04-06",
          "2020-03-07",
          "2020-03-07",
          "2020-03-15",
          "2020-03-22",
          "2020-03-31",
          "2020-03-27",
          "2020-04-05",
          "2020-03-13",
          "2020-03-21",
          "2020-03-06",
          "2020-04-04",
          "2020-03-06",
          "2020-03-16",
          "2020-03-14",
          "2020-03-30",
          "2020-03-15",
          "2020-03-14",
          "2020-03-29",
          "2020-04-03",
          "2020-03-20",
          "2020-03-28",
          "2020-03-05",
          "2020-03-13",
          "2020-03-13",
          "2020-03-26",
          "2020-04-02",
          "2020-03-05",
          "2020-03-15",
          "2020-03-27",
          "2020-03-04",
          "2020-03-26",
          "2020-03-04",
          "2020-04-01",
          "2020-03-14",
          "2020-03-19",
          "2020-03-18",
          "2020-03-25",
          "2020-03-03",
          "2020-03-25",
          "2020-03-31",
          "2020-03-03",
          "2020-03-12",
          "2020-03-11",
          "2020-03-11",
          "2020-03-12",
          "2020-03-24",
          "2020-03-13",
          "2020-03-12",
          "2020-03-02",
          "2020-03-17",
          "2020-03-23",
          "2020-03-11",
          "2020-03-24",
          "2020-03-30",
          "2020-03-10",
          "2020-03-10",
          "2020-03-01",
          "2020-03-12",
          "2020-03-16",
          "2020-03-22",
          "2020-03-29",
          "2020-03-23",
          "2020-03-02",
          "2020-03-10",
          "2020-03-11",
          "2020-03-28",
          "2020-03-22",
          "2020-03-09",
          "2020-03-09",
          "2020-03-15",
          "2020-03-14",
          "2020-03-08",
          "2020-02-29",
          "2020-03-09",
          "2020-03-08",
          "2020-03-27",
          "2020-03-21",
          "2020-03-01",
          "2020-03-10",
          "2020-03-07",
          "2020-02-28",
          "2020-03-26",
          "2020-03-13",
          "2020-03-07",
          "2020-03-20",
          "2020-03-08",
          "2020-03-21",
          "2020-03-06",
          "2020-03-25",
          "2020-03-06",
          "2020-02-27",
          "2020-03-19",
          "2020-02-29",
          "2020-03-09",
          "2020-03-08",
          "2020-03-07",
          "2020-03-24",
          "2020-03-05",
          "2020-03-11",
          "2020-03-12",
          "2020-02-26",
          "2020-03-23",
          "2020-03-07",
          "2020-03-06",
          "2020-02-28",
          "2020-03-10",
          "2020-03-05",
          "2020-03-18",
          "2020-03-22",
          "2020-03-20",
          "2020-02-25",
          "2020-03-09",
          "2020-03-17",
          "2020-03-21",
          "2020-03-04",
          "2020-03-08",
          "2020-03-06",
          "2020-03-04",
          "2020-03-05",
          "2020-03-20",
          "2020-02-27",
          "2020-02-24",
          "2020-03-04",
          "2020-03-05",
          "2020-03-07",
          "2020-03-03",
          "2020-03-16",
          "2020-03-19",
          "2020-03-03",
          "2020-03-19",
          "2020-03-02",
          "2020-03-03",
          "2020-03-06",
          "2020-03-15",
          "2020-03-02",
          "2020-02-23",
          "2020-03-13",
          "2020-03-14",
          "2020-03-04",
          "2020-03-18",
          "2020-02-26",
          "2020-03-01",
          "2020-03-01",
          "2020-03-02",
          "2020-03-03",
          "2020-03-05",
          "2020-03-17",
          "2020-02-29"
         ],
         "y": [
          "US",
          "US",
          "US",
          "US",
          "US",
          "US",
          "US",
          "US",
          "US",
          "US",
          "US",
          "US",
          "US",
          "US",
          "US",
          "US",
          "US",
          "US",
          "US",
          "US",
          "US",
          "US",
          "US",
          "US",
          "US",
          "US",
          "Spain",
          "Spain",
          "Spain",
          "Spain",
          "US",
          "Spain",
          "Spain",
          "Spain",
          "Spain",
          "Italy",
          "Spain",
          "Italy",
          "Italy",
          "Italy",
          "Spain",
          "Spain",
          "Italy",
          "US",
          "Italy",
          "Spain",
          "Italy",
          "Italy",
          "Italy",
          "Spain",
          "Italy",
          "Spain",
          "Italy",
          "Spain",
          "Italy",
          "Spain",
          "France",
          "Italy",
          "Spain",
          "Italy",
          "France",
          "US",
          "France",
          "France",
          "Italy",
          "Germany",
          "UK",
          "France",
          "Spain",
          "France",
          "Germany",
          "Germany",
          "Italy",
          "France",
          "France",
          "Germany",
          "UK",
          "Spain",
          "Germany",
          "France",
          "Italy",
          "Germany",
          "UK",
          "Germany",
          "Spain",
          "France",
          "France",
          "Italy",
          "Germany",
          "France",
          "Germany",
          "UK",
          "Italy",
          "Germany",
          "Spain",
          "Germany",
          "US",
          "Italy",
          "UK",
          "Germany",
          "Spain",
          "Italy",
          "Germany",
          "UK",
          "France",
          "Italy",
          "Spain",
          "Germany",
          "France",
          "UK",
          "Germany",
          "Italy",
          "Germany",
          "Spain",
          "UK",
          "France",
          "Germany",
          "Italy",
          "Germany",
          "France",
          "US",
          "UK",
          "Italy",
          "Spain",
          "Germany",
          "UK",
          "Italy",
          "Germany",
          "Turkey",
          "Spain",
          "Italy",
          "Turkey",
          "UK",
          "Turkey",
          "Germany",
          "Italy",
          "Turkey",
          "UK",
          "Spain",
          "Germany",
          "Turkey",
          "Italy",
          "US",
          "Germany",
          "UK",
          "Turkey",
          "Italy",
          "Germany",
          "Spain",
          "Turkey",
          "France",
          "UK",
          "Italy",
          "France",
          "Iran",
          "Germany",
          "Turkey",
          "Iran",
          "UK",
          "Iran",
          "Iran",
          "Spain",
          "France",
          "Russia",
          "Iran",
          "Italy",
          "Turkey",
          "Iran",
          "UK",
          "Iran",
          "Germany",
          "US",
          "Iran",
          "France",
          "Turkey",
          "Iran",
          "Russia",
          "Iran",
          "Italy",
          "Spain",
          "UK",
          "Iran",
          "France",
          "Turkey",
          "Iran",
          "Germany",
          "Iran",
          "France",
          "Iran",
          "UK",
          "Russia",
          "Italy",
          "Turkey",
          "Iran",
          "Spain",
          "Germany",
          "Iran",
          "France",
          "Iran",
          "France",
          "Turkey",
          "Italy",
          "Russia",
          "Iran",
          "Brazil",
          "Germany",
          "Iran",
          "UK",
          "US",
          "Spain",
          "France",
          "Turkey",
          "Iran",
          "Italy",
          "Brazil",
          "Russia",
          "Iran",
          "Germany",
          "UK",
          "Turkey",
          "Iran",
          "France",
          "Brazil",
          "Italy",
          "Iran",
          "Russia",
          "Spain",
          "France",
          "Germany",
          "Turkey",
          "UK",
          "Iran",
          "Brazil",
          "US",
          "Italy",
          "Iran",
          "France",
          "Russia",
          "UK",
          "Turkey",
          "Germany",
          "Iran",
          "Brazil",
          "Spain",
          "UK",
          "Iran",
          "Russia",
          "Turkey",
          "Italy",
          "Brazil",
          "France",
          "Iran",
          "Germany",
          "US",
          "Brazil",
          "Russia",
          "UK",
          "Turkey",
          "Iran",
          "Italy",
          "Brazil",
          "France",
          "Spain",
          "UK",
          "Brazil",
          "Iran",
          "Turkey",
          "France",
          "Germany",
          "Russia",
          "Brazil",
          "Italy",
          "Iran",
          "Spain",
          "UK",
          "Turkey",
          "Brazil",
          "France",
          "US",
          "Germany",
          "Iran",
          "Russia",
          "Italy",
          "Brazil",
          "Turkey",
          "UK",
          "France",
          "Iran",
          "Germany",
          "Spain",
          "Brazil",
          "Italy",
          "Russia",
          "Turkey",
          "Iran",
          "France",
          "US",
          "UK",
          "Spain",
          "Brazil",
          "Germany",
          "Iran",
          "Italy",
          "Russia",
          "Turkey",
          "Brazil",
          "Iran",
          "France",
          "UK",
          "Germany",
          "Brazil",
          "Iran",
          "Italy",
          "Russia",
          "Turkey",
          "Brazil",
          "Iran",
          "Spain",
          "France",
          "Germany",
          "UK",
          "Iran",
          "Brazil",
          "US",
          "Iran",
          "Russia",
          "Turkey",
          "Brazil",
          "Spain",
          "Italy",
          "Iran",
          "UK",
          "France",
          "Brazil",
          "Iran",
          "Russia",
          "Turkey",
          "Germany",
          "Iran",
          "UK",
          "France",
          "Brazil",
          "Iran",
          "Spain",
          "US",
          "Russia",
          "Turkey",
          "France",
          "Iran",
          "Italy",
          "Italy",
          "Germany",
          "Brazil",
          "Russia",
          "UK",
          "Spain",
          "Iran",
          "Brazil",
          "France",
          "Turkey",
          "Brazil",
          "Italy",
          "Russia",
          "Iran",
          "Spain",
          "UK",
          "Germany",
          "Turkey",
          "Italy",
          "France",
          "Brazil",
          "Iran",
          "Russia",
          "UK",
          "Brazil",
          "Iran",
          "Spain",
          "US",
          "France",
          "Russia",
          "Turkey",
          "Italy",
          "Germany",
          "Iran",
          "Brazil",
          "UK",
          "France",
          "Iran",
          "US",
          "Spain",
          "Russia",
          "Italy",
          "Iran",
          "Germany",
          "UK",
          "Brazil",
          "Turkey",
          "Russia",
          "Spain",
          "UK",
          "Iran",
          "Russia",
          "Italy",
          "US",
          "Germany",
          "Brazil",
          "France",
          "France",
          "Brazil",
          "Russia",
          "UK",
          "Brazil",
          "Italy",
          "France",
          "Germany",
          "Turkey",
          "Russia",
          "Iran",
          "US",
          "Brazil",
          "Italy",
          "Brazil",
          "Iran",
          "Russia",
          "US",
          "UK",
          "UK",
          "Brazil",
          "Italy",
          "Turkey",
          "Russia",
          "Iran",
          "France",
          "France",
          "Spain",
          "Spain",
          "Brazil",
          "US",
          "Germany",
          "Italy",
          "UK",
          "Brazil",
          "Germany",
          "Turkey",
          "Russia",
          "France",
          "Spain",
          "Italy",
          "US",
          "UK",
          "Brazil",
          "Russia",
          "Turkey",
          "Iran",
          "Germany",
          "US",
          "Russia",
          "Turkey",
          "France",
          "Germany",
          "UK",
          "UK",
          "France",
          "Italy",
          "Spain",
          "Germany",
          "Russia",
          "Brazil",
          "Iran",
          "US",
          "France",
          "Italy",
          "Russia",
          "UK",
          "Germany",
          "Brazil",
          "Spain",
          "Turkey",
          "Germany",
          "Russia",
          "France",
          "Italy",
          "Brazil",
          "Iran",
          "US",
          "US",
          "Spain",
          "Russia",
          "Germany",
          "UK",
          "UK",
          "Italy",
          "Russia",
          "US",
          "Spain",
          "Iran",
          "UK",
          "France",
          "Brazil",
          "Russia",
          "Turkey",
          "Italy",
          "UK",
          "Brazil",
          "Russia",
          "France",
          "UK",
          "US",
          "Germany",
          "Spain",
          "Russia",
          "Iran",
          "Italy",
          "Spain",
          "US",
          "UK",
          "France",
          "Brazil",
          "Russia",
          "Germany",
          "Turkey",
          "France",
          "Spain",
          "UK",
          "Brazil",
          "Germany",
          "Italy",
          "Brazil",
          "Brazil",
          "US",
          "Russia",
          "Iran",
          "France",
          "Germany",
          "Spain",
          "US",
          "UK",
          "Russia",
          "France"
         ],
         "z": [
          22412,
          27631,
          32796,
          36188,
          28819,
          28486,
          27539,
          25517,
          26612,
          32491,
          32114,
          31242,
          28680,
          27051,
          25306,
          28917,
          29861,
          33755,
          34126,
          31533,
          30804,
          29515,
          28152,
          33283,
          31745,
          30380,
          2793,
          2870,
          3995,
          6740,
          25070,
          4635,
          4211,
          3968,
          1536,
          1739,
          6948,
          2324,
          2357,
          3021,
          887,
          5891,
          2646,
          26341,
          3370,
          7304,
          2729,
          2256,
          3047,
          5103,
          3491,
          2442,
          3493,
          3268,
          3786,
          3804,
          3743,
          2667,
          4754,
          2972,
          576,
          20922,
          1692,
          1649,
          3153,
          988,
          4311,
          2323,
          5051,
          2775,
          1257,
          1514,
          4092,
          0,
          2382,
          1870,
          4468,
          5002,
          2481,
          4925,
          4694,
          2357,
          4929,
          1226,
          6278,
          2,
          2009,
          3951,
          1881,
          12490,
          1842,
          5394,
          4204,
          1945,
          5267,
          3699,
          19444,
          3836,
          4608,
          2945,
          5029,
          3039,
          3394,
          4466,
          3220,
          3599,
          5478,
          1287,
          4971,
          4316,
          2218,
          4316,
          2946,
          6969,
          4684,
          3682,
          2737,
          4805,
          3990,
          26849,
          19808,
          5858,
          4585,
          7134,
          4885,
          5545,
          4668,
          5633,
          2131,
          7947,
          4782,
          2357,
          5624,
          2861,
          4289,
          4053,
          3122,
          4662,
          8195,
          3251,
          3116,
          4050,
          17821,
          4031,
          4638,
          3083,
          5217,
          4933,
          7967,
          4611,
          3125,
          5275,
          5974,
          4372,
          991,
          6365,
          4674,
          1153,
          4364,
          1134,
          1168,
          7846,
          4309,
          6198,
          1030,
          5909,
          3977,
          1194,
          5332,
          1297,
          6922,
          18058,
          1294,
          3894,
          3783,
          1343,
          6361,
          1374,
          6203,
          6875,
          5269,
          1499,
          3820,
          4353,
          1606,
          6064,
          1512,
          3931,
          1574,
          8733,
          5966,
          5210,
          4801,
          1617,
          7516,
          4923,
          1657,
          1912,
          1837,
          4298,
          4281,
          5249,
          5849,
          1972,
          4346,
          4790,
          1634,
          4398,
          12042,
          7933,
          5273,
          4062,
          1997,
          4789,
          3776,
          4774,
          2089,
          4400,
          5525,
          4093,
          2274,
          2180,
          5281,
          5560,
          2483,
          5236,
          8271,
          4922,
          6824,
          4789,
          3670,
          2560,
          4007,
          9893,
          6557,
          2715,
          7657,
          5642,
          3843,
          5138,
          6933,
          2875,
          4279,
          9630,
          5959,
          2988,
          4268,
          4747,
          5986,
          2678,
          4462,
          3110,
          6615,
          10567,
          2336,
          6060,
          3788,
          4056,
          3186,
          5322,
          2089,
          2603,
          4749,
          4516,
          1996,
          2901,
          4117,
          4703,
          4337,
          4785,
          2976,
          4207,
          3076,
          6368,
          4308,
          3892,
          3257,
          3851,
          7676,
          3930,
          2926,
          4070,
          3526,
          2105,
          3148,
          4384,
          3951,
          2389,
          4183,
          3394,
          3058,
          3233,
          3448,
          3135,
          2206,
          2978,
          6327,
          3028,
          4964,
          1832,
          2660,
          1762,
          3590,
          3388,
          3013,
          1238,
          1411,
          2499,
          2673,
          2365,
          1465,
          1028,
          3497,
          2774,
          2786,
          1089,
          966,
          2447,
          3880,
          4528,
          2468,
          1237,
          1546,
          5526,
          1046,
          2558,
          2456,
          1922,
          4053,
          5198,
          1192,
          2567,
          1780,
          2136,
          1178,
          2186,
          2148,
          2993,
          1053,
          2933,
          1705,
          1873,
          1209,
          2162,
          5964,
          1667,
          2704,
          1788,
          1365,
          2313,
          0,
          3070,
          1031,
          1786,
          2172,
          1806,
          1289,
          770,
          1846,
          1610,
          1304,
          977,
          1459,
          1075,
          2144,
          1476,
          1985,
          1815,
          1797,
          1409,
          1012,
          958,
          1175,
          1438,
          1208,
          881,
          1407,
          1362,
          1032,
          1154,
          1704,
          1492,
          1477,
          595,
          1119,
          981,
          2151,
          743,
          1789,
          1159,
          954,
          1247,
          1076,
          1210,
          678,
          1138,
          2069,
          658,
          2955,
          1053,
          1234,
          582,
          778,
          1133,
          910,
          323,
          36,
          815,
          352,
          601,
          1298,
          487,
          769,
          1388,
          1597,
          1196,
          771,
          591,
          772,
          432,
          587,
          431,
          586,
          440,
          548,
          74,
          682,
          307,
          466,
          561,
          501,
          835,
          0,
          499,
          582,
          0,
          323,
          516,
          170,
          342,
          409,
          378,
          451,
          343,
          302,
          575,
          622,
          566,
          382,
          406,
          525,
          270,
          293,
          523,
          281,
          322,
          228,
          566,
          83,
          136,
          1,
          342,
          177,
          240,
          400,
          241,
          196,
          228,
          385,
          376,
          303,
          233,
          182,
          343,
          129,
          172,
          173,
          311,
          188,
          163,
          276,
          202,
          249,
          205,
          65,
          116,
          100,
          57,
          220,
          75,
          0,
          131,
          71,
          140,
          141,
          143,
          62,
          92,
          51,
          61,
          167,
          93,
          48,
          121,
          53,
          84,
          67,
          45,
          66,
          37,
          54,
          106,
          74,
          57,
          68,
          43,
          13,
          38,
          52,
          37,
          94,
          61,
          45,
          48,
          11,
          29,
          93,
          99,
          0,
          31,
          33,
          44,
          30,
          51,
          36,
          20,
          30,
          24,
          43
         ]
        }
       ],
       "layout": {
        "height": 800,
        "scene": {
         "aspectmode": "manual",
         "aspectratio": {
          "x": 3,
          "y": 1,
          "z": 2
         },
         "xaxis": {
          "title": {
           "text": "Date"
          }
         },
         "yaxis": {
          "title": {
           "text": "Country"
          }
         },
         "zaxis": {
          "title": {
           "text": "Daily New Cases"
          },
          "type": "log"
         }
        },
        "template": {
         "data": {
          "bar": [
           {
            "error_x": {
             "color": "#2a3f5f"
            },
            "error_y": {
             "color": "#2a3f5f"
            },
            "marker": {
             "line": {
              "color": "#E5ECF6",
              "width": 0.5
             }
            },
            "type": "bar"
           }
          ],
          "barpolar": [
           {
            "marker": {
             "line": {
              "color": "#E5ECF6",
              "width": 0.5
             }
            },
            "type": "barpolar"
           }
          ],
          "carpet": [
           {
            "aaxis": {
             "endlinecolor": "#2a3f5f",
             "gridcolor": "white",
             "linecolor": "white",
             "minorgridcolor": "white",
             "startlinecolor": "#2a3f5f"
            },
            "baxis": {
             "endlinecolor": "#2a3f5f",
             "gridcolor": "white",
             "linecolor": "white",
             "minorgridcolor": "white",
             "startlinecolor": "#2a3f5f"
            },
            "type": "carpet"
           }
          ],
          "choropleth": [
           {
            "colorbar": {
             "outlinewidth": 0,
             "ticks": ""
            },
            "type": "choropleth"
           }
          ],
          "contour": [
           {
            "colorbar": {
             "outlinewidth": 0,
             "ticks": ""
            },
            "colorscale": [
             [
              0,
              "#0d0887"
             ],
             [
              0.1111111111111111,
              "#46039f"
             ],
             [
              0.2222222222222222,
              "#7201a8"
             ],
             [
              0.3333333333333333,
              "#9c179e"
             ],
             [
              0.4444444444444444,
              "#bd3786"
             ],
             [
              0.5555555555555556,
              "#d8576b"
             ],
             [
              0.6666666666666666,
              "#ed7953"
             ],
             [
              0.7777777777777778,
              "#fb9f3a"
             ],
             [
              0.8888888888888888,
              "#fdca26"
             ],
             [
              1,
              "#f0f921"
             ]
            ],
            "type": "contour"
           }
          ],
          "contourcarpet": [
           {
            "colorbar": {
             "outlinewidth": 0,
             "ticks": ""
            },
            "type": "contourcarpet"
           }
          ],
          "heatmap": [
           {
            "colorbar": {
             "outlinewidth": 0,
             "ticks": ""
            },
            "colorscale": [
             [
              0,
              "#0d0887"
             ],
             [
              0.1111111111111111,
              "#46039f"
             ],
             [
              0.2222222222222222,
              "#7201a8"
             ],
             [
              0.3333333333333333,
              "#9c179e"
             ],
             [
              0.4444444444444444,
              "#bd3786"
             ],
             [
              0.5555555555555556,
              "#d8576b"
             ],
             [
              0.6666666666666666,
              "#ed7953"
             ],
             [
              0.7777777777777778,
              "#fb9f3a"
             ],
             [
              0.8888888888888888,
              "#fdca26"
             ],
             [
              1,
              "#f0f921"
             ]
            ],
            "type": "heatmap"
           }
          ],
          "heatmapgl": [
           {
            "colorbar": {
             "outlinewidth": 0,
             "ticks": ""
            },
            "colorscale": [
             [
              0,
              "#0d0887"
             ],
             [
              0.1111111111111111,
              "#46039f"
             ],
             [
              0.2222222222222222,
              "#7201a8"
             ],
             [
              0.3333333333333333,
              "#9c179e"
             ],
             [
              0.4444444444444444,
              "#bd3786"
             ],
             [
              0.5555555555555556,
              "#d8576b"
             ],
             [
              0.6666666666666666,
              "#ed7953"
             ],
             [
              0.7777777777777778,
              "#fb9f3a"
             ],
             [
              0.8888888888888888,
              "#fdca26"
             ],
             [
              1,
              "#f0f921"
             ]
            ],
            "type": "heatmapgl"
           }
          ],
          "histogram": [
           {
            "marker": {
             "colorbar": {
              "outlinewidth": 0,
              "ticks": ""
             }
            },
            "type": "histogram"
           }
          ],
          "histogram2d": [
           {
            "colorbar": {
             "outlinewidth": 0,
             "ticks": ""
            },
            "colorscale": [
             [
              0,
              "#0d0887"
             ],
             [
              0.1111111111111111,
              "#46039f"
             ],
             [
              0.2222222222222222,
              "#7201a8"
             ],
             [
              0.3333333333333333,
              "#9c179e"
             ],
             [
              0.4444444444444444,
              "#bd3786"
             ],
             [
              0.5555555555555556,
              "#d8576b"
             ],
             [
              0.6666666666666666,
              "#ed7953"
             ],
             [
              0.7777777777777778,
              "#fb9f3a"
             ],
             [
              0.8888888888888888,
              "#fdca26"
             ],
             [
              1,
              "#f0f921"
             ]
            ],
            "type": "histogram2d"
           }
          ],
          "histogram2dcontour": [
           {
            "colorbar": {
             "outlinewidth": 0,
             "ticks": ""
            },
            "colorscale": [
             [
              0,
              "#0d0887"
             ],
             [
              0.1111111111111111,
              "#46039f"
             ],
             [
              0.2222222222222222,
              "#7201a8"
             ],
             [
              0.3333333333333333,
              "#9c179e"
             ],
             [
              0.4444444444444444,
              "#bd3786"
             ],
             [
              0.5555555555555556,
              "#d8576b"
             ],
             [
              0.6666666666666666,
              "#ed7953"
             ],
             [
              0.7777777777777778,
              "#fb9f3a"
             ],
             [
              0.8888888888888888,
              "#fdca26"
             ],
             [
              1,
              "#f0f921"
             ]
            ],
            "type": "histogram2dcontour"
           }
          ],
          "mesh3d": [
           {
            "colorbar": {
             "outlinewidth": 0,
             "ticks": ""
            },
            "type": "mesh3d"
           }
          ],
          "parcoords": [
           {
            "line": {
             "colorbar": {
              "outlinewidth": 0,
              "ticks": ""
             }
            },
            "type": "parcoords"
           }
          ],
          "pie": [
           {
            "automargin": true,
            "type": "pie"
           }
          ],
          "scatter": [
           {
            "marker": {
             "colorbar": {
              "outlinewidth": 0,
              "ticks": ""
             }
            },
            "type": "scatter"
           }
          ],
          "scatter3d": [
           {
            "line": {
             "colorbar": {
              "outlinewidth": 0,
              "ticks": ""
             }
            },
            "marker": {
             "colorbar": {
              "outlinewidth": 0,
              "ticks": ""
             }
            },
            "type": "scatter3d"
           }
          ],
          "scattercarpet": [
           {
            "marker": {
             "colorbar": {
              "outlinewidth": 0,
              "ticks": ""
             }
            },
            "type": "scattercarpet"
           }
          ],
          "scattergeo": [
           {
            "marker": {
             "colorbar": {
              "outlinewidth": 0,
              "ticks": ""
             }
            },
            "type": "scattergeo"
           }
          ],
          "scattergl": [
           {
            "marker": {
             "colorbar": {
              "outlinewidth": 0,
              "ticks": ""
             }
            },
            "type": "scattergl"
           }
          ],
          "scattermapbox": [
           {
            "marker": {
             "colorbar": {
              "outlinewidth": 0,
              "ticks": ""
             }
            },
            "type": "scattermapbox"
           }
          ],
          "scatterpolar": [
           {
            "marker": {
             "colorbar": {
              "outlinewidth": 0,
              "ticks": ""
             }
            },
            "type": "scatterpolar"
           }
          ],
          "scatterpolargl": [
           {
            "marker": {
             "colorbar": {
              "outlinewidth": 0,
              "ticks": ""
             }
            },
            "type": "scatterpolargl"
           }
          ],
          "scatterternary": [
           {
            "marker": {
             "colorbar": {
              "outlinewidth": 0,
              "ticks": ""
             }
            },
            "type": "scatterternary"
           }
          ],
          "surface": [
           {
            "colorbar": {
             "outlinewidth": 0,
             "ticks": ""
            },
            "colorscale": [
             [
              0,
              "#0d0887"
             ],
             [
              0.1111111111111111,
              "#46039f"
             ],
             [
              0.2222222222222222,
              "#7201a8"
             ],
             [
              0.3333333333333333,
              "#9c179e"
             ],
             [
              0.4444444444444444,
              "#bd3786"
             ],
             [
              0.5555555555555556,
              "#d8576b"
             ],
             [
              0.6666666666666666,
              "#ed7953"
             ],
             [
              0.7777777777777778,
              "#fb9f3a"
             ],
             [
              0.8888888888888888,
              "#fdca26"
             ],
             [
              1,
              "#f0f921"
             ]
            ],
            "type": "surface"
           }
          ],
          "table": [
           {
            "cells": {
             "fill": {
              "color": "#EBF0F8"
             },
             "line": {
              "color": "white"
             }
            },
            "header": {
             "fill": {
              "color": "#C8D4E3"
             },
             "line": {
              "color": "white"
             }
            },
            "type": "table"
           }
          ]
         },
         "layout": {
          "annotationdefaults": {
           "arrowcolor": "#2a3f5f",
           "arrowhead": 0,
           "arrowwidth": 1
          },
          "coloraxis": {
           "colorbar": {
            "outlinewidth": 0,
            "ticks": ""
           }
          },
          "colorscale": {
           "diverging": [
            [
             0,
             "#8e0152"
            ],
            [
             0.1,
             "#c51b7d"
            ],
            [
             0.2,
             "#de77ae"
            ],
            [
             0.3,
             "#f1b6da"
            ],
            [
             0.4,
             "#fde0ef"
            ],
            [
             0.5,
             "#f7f7f7"
            ],
            [
             0.6,
             "#e6f5d0"
            ],
            [
             0.7,
             "#b8e186"
            ],
            [
             0.8,
             "#7fbc41"
            ],
            [
             0.9,
             "#4d9221"
            ],
            [
             1,
             "#276419"
            ]
           ],
           "sequential": [
            [
             0,
             "#0d0887"
            ],
            [
             0.1111111111111111,
             "#46039f"
            ],
            [
             0.2222222222222222,
             "#7201a8"
            ],
            [
             0.3333333333333333,
             "#9c179e"
            ],
            [
             0.4444444444444444,
             "#bd3786"
            ],
            [
             0.5555555555555556,
             "#d8576b"
            ],
            [
             0.6666666666666666,
             "#ed7953"
            ],
            [
             0.7777777777777778,
             "#fb9f3a"
            ],
            [
             0.8888888888888888,
             "#fdca26"
            ],
            [
             1,
             "#f0f921"
            ]
           ],
           "sequentialminus": [
            [
             0,
             "#0d0887"
            ],
            [
             0.1111111111111111,
             "#46039f"
            ],
            [
             0.2222222222222222,
             "#7201a8"
            ],
            [
             0.3333333333333333,
             "#9c179e"
            ],
            [
             0.4444444444444444,
             "#bd3786"
            ],
            [
             0.5555555555555556,
             "#d8576b"
            ],
            [
             0.6666666666666666,
             "#ed7953"
            ],
            [
             0.7777777777777778,
             "#fb9f3a"
            ],
            [
             0.8888888888888888,
             "#fdca26"
            ],
            [
             1,
             "#f0f921"
            ]
           ]
          },
          "colorway": [
           "#636efa",
           "#EF553B",
           "#00cc96",
           "#ab63fa",
           "#FFA15A",
           "#19d3f3",
           "#FF6692",
           "#B6E880",
           "#FF97FF",
           "#FECB52"
          ],
          "font": {
           "color": "#2a3f5f"
          },
          "geo": {
           "bgcolor": "white",
           "lakecolor": "white",
           "landcolor": "#E5ECF6",
           "showlakes": true,
           "showland": true,
           "subunitcolor": "white"
          },
          "hoverlabel": {
           "align": "left"
          },
          "hovermode": "closest",
          "mapbox": {
           "style": "light"
          },
          "paper_bgcolor": "white",
          "plot_bgcolor": "#E5ECF6",
          "polar": {
           "angularaxis": {
            "gridcolor": "white",
            "linecolor": "white",
            "ticks": ""
           },
           "bgcolor": "#E5ECF6",
           "radialaxis": {
            "gridcolor": "white",
            "linecolor": "white",
            "ticks": ""
           }
          },
          "scene": {
           "xaxis": {
            "backgroundcolor": "#E5ECF6",
            "gridcolor": "white",
            "gridwidth": 2,
            "linecolor": "white",
            "showbackground": true,
            "ticks": "",
            "zerolinecolor": "white"
           },
           "yaxis": {
            "backgroundcolor": "#E5ECF6",
            "gridcolor": "white",
            "gridwidth": 2,
            "linecolor": "white",
            "showbackground": true,
            "ticks": "",
            "zerolinecolor": "white"
           },
           "zaxis": {
            "backgroundcolor": "#E5ECF6",
            "gridcolor": "white",
            "gridwidth": 2,
            "linecolor": "white",
            "showbackground": true,
            "ticks": "",
            "zerolinecolor": "white"
           }
          },
          "shapedefaults": {
           "line": {
            "color": "#2a3f5f"
           }
          },
          "ternary": {
           "aaxis": {
            "gridcolor": "white",
            "linecolor": "white",
            "ticks": ""
           },
           "baxis": {
            "gridcolor": "white",
            "linecolor": "white",
            "ticks": ""
           },
           "bgcolor": "#E5ECF6",
           "caxis": {
            "gridcolor": "white",
            "linecolor": "white",
            "ticks": ""
           }
          },
          "title": {
           "x": 0.05
          },
          "xaxis": {
           "automargin": true,
           "gridcolor": "white",
           "linecolor": "white",
           "ticks": "",
           "title": {
            "standoff": 15
           },
           "zerolinecolor": "white",
           "zerolinewidth": 2
          },
          "yaxis": {
           "automargin": true,
           "gridcolor": "white",
           "linecolor": "white",
           "ticks": "",
           "title": {
            "standoff": 15
           },
           "zerolinecolor": "white",
           "zerolinewidth": 2
          }
         }
        },
        "title": {
         "text": "New Cases Over Time"
        },
        "width": 800
       }
      }
     },
     "metadata": {}
    }
   ],
   "source": [
    "import plotly.graph_objects as go\n",
    "\n",
    "import pandas as pd\n",
    "\n",
    "# Get Data: this ex will only use part of it (i.e. rows 750-1500)\n",
    "df = top_countries_100_df\n",
    "\n",
    "start, end = 0, -1\n",
    "\n",
    "fig = go.Figure(data=go.Scatter3d(\n",
    "    x=df['Date'],\n",
    "    y=df['Country'],\n",
    "    z=df['New Cases'],\n",
    "    text=df['Country'],\n",
    "    mode='markers',\n",
    "    marker=dict(\n",
    "        sizemode='diameter',\n",
    "        sizeref=800,\n",
    "        size=df['Deaths'],\n",
    "        color = df['New Cases'],\n",
    "        colorscale = 'Viridis',\n",
    "        colorbar_title = 'Deaths',\n",
    "        line_color='rgb(128, 128, 128)'\n",
    "        )\n",
    "    )\n",
    ")\n",
    "\n",
    "\n",
    "fig.update_layout(\n",
    "    title = 'New Cases Over Time',\n",
    "    width=800, height=800, \n",
    "    scene_aspectmode='manual',\n",
    "    scene_aspectratio=dict(x=3, y=1, z=2),\n",
    "    scene = dict(\n",
    "                xaxis=dict(title='Date'),\n",
    "                yaxis=dict(title='Country'),\n",
    "                zaxis=dict(title='Daily New Cases')\n",
    "                )\n",
    ")\n",
    "\n",
    "fig.update_layout(scene_zaxis_type=\"log\")\n",
    "\n",
    "fig.show()"
   ]
  },
  {
   "cell_type": "code",
   "execution_count": 19,
   "metadata": {},
   "outputs": [
    {
     "output_type": "display_data",
     "data": {
      "application/vnd.plotly.v1+json": {
       "config": {
        "plotlyServerURL": "https://plot.ly"
       },
       "data": [
        {
         "hovertemplate": "Country=%{y}<br>Date=%{x}<br>New Cases=%{marker.size}<extra></extra>",
         "legendgroup": "US",
         "marker": {
          "color": "#636efa",
          "size": [
           22412,
           27631,
           32796,
           36188,
           28819,
           28486,
           27539,
           25517,
           26612,
           32491,
           32114,
           31242,
           28680,
           27051,
           25306,
           28917,
           29861,
           33755,
           34126,
           31533,
           30804,
           29515,
           28152,
           33283,
           31745,
           30380,
           25070,
           26341,
           20922,
           19444,
           19808,
           17821,
           18058,
           12042,
           9893,
           10567,
           7676,
           6327,
           5526,
           5964,
           1362,
           1789,
           1133,
           772,
           548,
           516,
           382,
           322,
           376,
           65,
           116,
           140,
           45,
           68,
           31,
           20
          ],
          "sizemode": "area",
          "sizeref": 22.6175,
          "symbol": "circle"
         },
         "mode": "markers",
         "name": "US",
         "showlegend": true,
         "type": "scatter",
         "x": [
          "2020-04-27",
          "2020-04-26",
          "2020-04-25",
          "2020-04-24",
          "2020-04-23",
          "2020-04-22",
          "2020-04-21",
          "2020-04-20",
          "2020-04-19",
          "2020-04-18",
          "2020-04-17",
          "2020-04-16",
          "2020-04-15",
          "2020-04-14",
          "2020-04-13",
          "2020-04-12",
          "2020-04-11",
          "2020-04-10",
          "2020-04-09",
          "2020-04-08",
          "2020-04-07",
          "2020-04-06",
          "2020-04-05",
          "2020-04-04",
          "2020-04-03",
          "2020-04-02",
          "2020-04-01",
          "2020-03-31",
          "2020-03-30",
          "2020-03-29",
          "2020-03-28",
          "2020-03-27",
          "2020-03-26",
          "2020-03-25",
          "2020-03-24",
          "2020-03-23",
          "2020-03-22",
          "2020-03-21",
          "2020-03-20",
          "2020-03-19",
          "2020-03-18",
          "2020-03-17",
          "2020-03-16",
          "2020-03-15",
          "2020-03-14",
          "2020-03-13",
          "2020-03-12",
          "2020-03-11",
          "2020-03-10",
          "2020-03-09",
          "2020-03-08",
          "2020-03-07",
          "2020-03-06",
          "2020-03-05",
          "2020-03-04",
          "2020-03-03"
         ],
         "xaxis": "x",
         "y": [
          "US",
          "US",
          "US",
          "US",
          "US",
          "US",
          "US",
          "US",
          "US",
          "US",
          "US",
          "US",
          "US",
          "US",
          "US",
          "US",
          "US",
          "US",
          "US",
          "US",
          "US",
          "US",
          "US",
          "US",
          "US",
          "US",
          "US",
          "US",
          "US",
          "US",
          "US",
          "US",
          "US",
          "US",
          "US",
          "US",
          "US",
          "US",
          "US",
          "US",
          "US",
          "US",
          "US",
          "US",
          "US",
          "US",
          "US",
          "US",
          "US",
          "US",
          "US",
          "US",
          "US",
          "US",
          "US",
          "US"
         ],
         "yaxis": "y"
        },
        {
         "hovertemplate": "Country=%{y}<br>Date=%{x}<br>New Cases=%{marker.size}<extra></extra>",
         "legendgroup": "Spain",
         "marker": {
          "color": "#EF553B",
          "size": [
           2793,
           2870,
           3995,
           6740,
           4635,
           4211,
           3968,
           1536,
           6948,
           887,
           5891,
           7304,
           5103,
           2442,
           3268,
           3804,
           4754,
           5051,
           5002,
           6278,
           5267,
           5029,
           5478,
           6969,
           7134,
           7947,
           8195,
           7967,
           7846,
           6875,
           7516,
           7933,
           8271,
           9630,
           4749,
           6368,
           3394,
           4964,
           2447,
           4053,
           2162,
           1806,
           2144,
           1407,
           1159,
           2955,
           582,
           0,
           622,
           400,
           173,
           100,
           141,
           37,
           57,
           45,
           36
          ],
          "sizemode": "area",
          "sizeref": 22.6175,
          "symbol": "circle"
         },
         "mode": "markers",
         "name": "Spain",
         "showlegend": true,
         "type": "scatter",
         "x": [
          "2020-04-27",
          "2020-04-26",
          "2020-04-25",
          "2020-04-24",
          "2020-04-23",
          "2020-04-22",
          "2020-04-21",
          "2020-04-20",
          "2020-04-19",
          "2020-04-18",
          "2020-04-17",
          "2020-04-16",
          "2020-04-15",
          "2020-04-14",
          "2020-04-13",
          "2020-04-12",
          "2020-04-11",
          "2020-04-10",
          "2020-04-09",
          "2020-04-08",
          "2020-04-07",
          "2020-04-06",
          "2020-04-05",
          "2020-04-04",
          "2020-04-03",
          "2020-04-02",
          "2020-04-01",
          "2020-03-31",
          "2020-03-30",
          "2020-03-29",
          "2020-03-28",
          "2020-03-27",
          "2020-03-26",
          "2020-03-25",
          "2020-03-24",
          "2020-03-23",
          "2020-03-22",
          "2020-03-21",
          "2020-03-20",
          "2020-03-19",
          "2020-03-18",
          "2020-03-17",
          "2020-03-16",
          "2020-03-15",
          "2020-03-14",
          "2020-03-13",
          "2020-03-11",
          "2020-03-12",
          "2020-03-10",
          "2020-03-09",
          "2020-03-08",
          "2020-03-07",
          "2020-03-06",
          "2020-03-05",
          "2020-03-04",
          "2020-03-03",
          "2020-03-02"
         ],
         "xaxis": "x",
         "y": [
          "Spain",
          "Spain",
          "Spain",
          "Spain",
          "Spain",
          "Spain",
          "Spain",
          "Spain",
          "Spain",
          "Spain",
          "Spain",
          "Spain",
          "Spain",
          "Spain",
          "Spain",
          "Spain",
          "Spain",
          "Spain",
          "Spain",
          "Spain",
          "Spain",
          "Spain",
          "Spain",
          "Spain",
          "Spain",
          "Spain",
          "Spain",
          "Spain",
          "Spain",
          "Spain",
          "Spain",
          "Spain",
          "Spain",
          "Spain",
          "Spain",
          "Spain",
          "Spain",
          "Spain",
          "Spain",
          "Spain",
          "Spain",
          "Spain",
          "Spain",
          "Spain",
          "Spain",
          "Spain",
          "Spain",
          "Spain",
          "Spain",
          "Spain",
          "Spain",
          "Spain",
          "Spain",
          "Spain",
          "Spain",
          "Spain",
          "Spain"
         ],
         "yaxis": "y"
        },
        {
         "hovertemplate": "Country=%{y}<br>Date=%{x}<br>New Cases=%{marker.size}<extra></extra>",
         "legendgroup": "Italy",
         "marker": {
          "color": "#00cc96",
          "size": [
           1739,
           2324,
           2357,
           3021,
           2646,
           3370,
           2729,
           2256,
           3047,
           3491,
           3493,
           3786,
           2667,
           2972,
           3153,
           4092,
           4694,
           3951,
           4204,
           3836,
           3039,
           3599,
           4316,
           4805,
           4585,
           4668,
           4782,
           4053,
           4050,
           5217,
           5974,
           5909,
           6203,
           5210,
           5249,
           4789,
           5560,
           6557,
           5986,
           5322,
           4207,
           3526,
           3233,
           3590,
           3497,
           5198,
           2313,
           0,
           977,
           1797,
           1492,
           1247,
           778,
           769,
           587,
           466,
           342,
           566,
           240,
           233,
           202,
           131,
           93,
           74,
           93
          ],
          "sizemode": "area",
          "sizeref": 22.6175,
          "symbol": "circle"
         },
         "mode": "markers",
         "name": "Italy",
         "showlegend": true,
         "type": "scatter",
         "x": [
          "2020-04-27",
          "2020-04-26",
          "2020-04-25",
          "2020-04-24",
          "2020-04-23",
          "2020-04-22",
          "2020-04-21",
          "2020-04-20",
          "2020-04-19",
          "2020-04-18",
          "2020-04-17",
          "2020-04-16",
          "2020-04-15",
          "2020-04-14",
          "2020-04-13",
          "2020-04-12",
          "2020-04-11",
          "2020-04-10",
          "2020-04-09",
          "2020-04-08",
          "2020-04-07",
          "2020-04-06",
          "2020-04-05",
          "2020-04-04",
          "2020-04-03",
          "2020-04-02",
          "2020-04-01",
          "2020-03-31",
          "2020-03-30",
          "2020-03-29",
          "2020-03-28",
          "2020-03-27",
          "2020-03-26",
          "2020-03-25",
          "2020-03-24",
          "2020-03-23",
          "2020-03-22",
          "2020-03-21",
          "2020-03-20",
          "2020-03-19",
          "2020-03-18",
          "2020-03-17",
          "2020-03-16",
          "2020-03-15",
          "2020-03-14",
          "2020-03-13",
          "2020-03-11",
          "2020-03-12",
          "2020-03-10",
          "2020-03-09",
          "2020-03-08",
          "2020-03-07",
          "2020-03-06",
          "2020-03-05",
          "2020-03-04",
          "2020-03-03",
          "2020-03-02",
          "2020-03-01",
          "2020-02-29",
          "2020-02-28",
          "2020-02-27",
          "2020-02-26",
          "2020-02-25",
          "2020-02-24",
          "2020-02-23"
         ],
         "xaxis": "x",
         "y": [
          "Italy",
          "Italy",
          "Italy",
          "Italy",
          "Italy",
          "Italy",
          "Italy",
          "Italy",
          "Italy",
          "Italy",
          "Italy",
          "Italy",
          "Italy",
          "Italy",
          "Italy",
          "Italy",
          "Italy",
          "Italy",
          "Italy",
          "Italy",
          "Italy",
          "Italy",
          "Italy",
          "Italy",
          "Italy",
          "Italy",
          "Italy",
          "Italy",
          "Italy",
          "Italy",
          "Italy",
          "Italy",
          "Italy",
          "Italy",
          "Italy",
          "Italy",
          "Italy",
          "Italy",
          "Italy",
          "Italy",
          "Italy",
          "Italy",
          "Italy",
          "Italy",
          "Italy",
          "Italy",
          "Italy",
          "Italy",
          "Italy",
          "Italy",
          "Italy",
          "Italy",
          "Italy",
          "Italy",
          "Italy",
          "Italy",
          "Italy",
          "Italy",
          "Italy",
          "Italy",
          "Italy",
          "Italy",
          "Italy",
          "Italy",
          "Italy"
         ],
         "yaxis": "y"
        },
        {
         "hovertemplate": "Country=%{y}<br>Date=%{x}<br>New Cases=%{marker.size}<extra></extra>",
         "legendgroup": "France",
         "marker": {
          "color": "#ab63fa",
          "size": [
           3743,
           576,
           1692,
           1649,
           2323,
           2775,
           0,
           2382,
           4925,
           2,
           2009,
           12490,
           3220,
           4971,
           3682,
           26849,
           3125,
           4372,
           4309,
           3894,
           3820,
           3931,
           1912,
           4298,
           5273,
           2180,
           4922,
           7657,
           4462,
           2603,
           4703,
           3851,
           3951,
           2978,
           2499,
           3880,
           1780,
           1705,
           1788,
           1846,
           1409,
           1032,
           2151,
           36,
           815,
           1388,
           0,
           499,
           575,
           83,
           177,
           303,
           276,
           92,
           84,
           13,
           61,
           30,
           43
          ],
          "sizemode": "area",
          "sizeref": 22.6175,
          "symbol": "circle"
         },
         "mode": "markers",
         "name": "France",
         "showlegend": true,
         "type": "scatter",
         "x": [
          "2020-04-27",
          "2020-04-26",
          "2020-04-25",
          "2020-04-24",
          "2020-04-23",
          "2020-04-21",
          "2020-04-22",
          "2020-04-20",
          "2020-04-19",
          "2020-04-18",
          "2020-04-17",
          "2020-04-16",
          "2020-04-15",
          "2020-04-14",
          "2020-04-13",
          "2020-04-12",
          "2020-04-11",
          "2020-04-10",
          "2020-04-09",
          "2020-04-08",
          "2020-04-07",
          "2020-04-06",
          "2020-04-05",
          "2020-04-04",
          "2020-04-03",
          "2020-04-02",
          "2020-04-01",
          "2020-03-31",
          "2020-03-30",
          "2020-03-29",
          "2020-03-28",
          "2020-03-27",
          "2020-03-26",
          "2020-03-25",
          "2020-03-24",
          "2020-03-23",
          "2020-03-22",
          "2020-03-21",
          "2020-03-20",
          "2020-03-19",
          "2020-03-18",
          "2020-03-17",
          "2020-03-16",
          "2020-03-15",
          "2020-03-14",
          "2020-03-13",
          "2020-03-12",
          "2020-03-11",
          "2020-03-10",
          "2020-03-09",
          "2020-03-08",
          "2020-03-07",
          "2020-03-06",
          "2020-03-05",
          "2020-03-04",
          "2020-03-03",
          "2020-03-02",
          "2020-03-01",
          "2020-02-29"
         ],
         "xaxis": "x",
         "y": [
          "France",
          "France",
          "France",
          "France",
          "France",
          "France",
          "France",
          "France",
          "France",
          "France",
          "France",
          "France",
          "France",
          "France",
          "France",
          "France",
          "France",
          "France",
          "France",
          "France",
          "France",
          "France",
          "France",
          "France",
          "France",
          "France",
          "France",
          "France",
          "France",
          "France",
          "France",
          "France",
          "France",
          "France",
          "France",
          "France",
          "France",
          "France",
          "France",
          "France",
          "France",
          "France",
          "France",
          "France",
          "France",
          "France",
          "France",
          "France",
          "France",
          "France",
          "France",
          "France",
          "France",
          "France",
          "France",
          "France",
          "France",
          "France",
          "France"
         ],
         "yaxis": "y"
        },
        {
         "hovertemplate": "Country=%{y}<br>Date=%{x}<br>New Cases=%{marker.size}<extra></extra>",
         "legendgroup": "Germany",
         "marker": {
          "color": "#FFA15A",
          "size": [
           988,
           1257,
           1514,
           1870,
           2481,
           2357,
           1226,
           1881,
           1842,
           1945,
           3699,
           2945,
           3394,
           1287,
           2218,
           2946,
           2737,
           3990,
           4885,
           5633,
           4289,
           3251,
           4031,
           4933,
           6365,
           6922,
           6064,
           4923,
           4790,
           4400,
           6824,
           6933,
           6615,
           4337,
           3930,
           4183,
           2660,
           2365,
           4528,
           2993,
           3070,
           1985,
           1477,
           1210,
           910,
           1597,
           170,
           451,
           281,
           136,
           241,
           129,
           188,
           220,
           66,
           37,
           29,
           51
          ],
          "sizemode": "area",
          "sizeref": 22.6175,
          "symbol": "circle"
         },
         "mode": "markers",
         "name": "Germany",
         "showlegend": true,
         "type": "scatter",
         "x": [
          "2020-04-27",
          "2020-04-26",
          "2020-04-25",
          "2020-04-24",
          "2020-04-23",
          "2020-04-22",
          "2020-04-21",
          "2020-04-20",
          "2020-04-19",
          "2020-04-18",
          "2020-04-17",
          "2020-04-16",
          "2020-04-15",
          "2020-04-14",
          "2020-04-13",
          "2020-04-12",
          "2020-04-11",
          "2020-04-10",
          "2020-04-09",
          "2020-04-08",
          "2020-04-07",
          "2020-04-06",
          "2020-04-05",
          "2020-04-04",
          "2020-04-03",
          "2020-04-02",
          "2020-04-01",
          "2020-03-31",
          "2020-03-30",
          "2020-03-29",
          "2020-03-28",
          "2020-03-27",
          "2020-03-26",
          "2020-03-25",
          "2020-03-24",
          "2020-03-23",
          "2020-03-22",
          "2020-03-21",
          "2020-03-20",
          "2020-03-19",
          "2020-03-18",
          "2020-03-17",
          "2020-03-16",
          "2020-03-15",
          "2020-03-14",
          "2020-03-13",
          "2020-03-12",
          "2020-03-11",
          "2020-03-10",
          "2020-03-09",
          "2020-03-08",
          "2020-03-07",
          "2020-03-06",
          "2020-03-05",
          "2020-03-04",
          "2020-03-03",
          "2020-03-02",
          "2020-03-01"
         ],
         "xaxis": "x",
         "y": [
          "Germany",
          "Germany",
          "Germany",
          "Germany",
          "Germany",
          "Germany",
          "Germany",
          "Germany",
          "Germany",
          "Germany",
          "Germany",
          "Germany",
          "Germany",
          "Germany",
          "Germany",
          "Germany",
          "Germany",
          "Germany",
          "Germany",
          "Germany",
          "Germany",
          "Germany",
          "Germany",
          "Germany",
          "Germany",
          "Germany",
          "Germany",
          "Germany",
          "Germany",
          "Germany",
          "Germany",
          "Germany",
          "Germany",
          "Germany",
          "Germany",
          "Germany",
          "Germany",
          "Germany",
          "Germany",
          "Germany",
          "Germany",
          "Germany",
          "Germany",
          "Germany",
          "Germany",
          "Germany",
          "Germany",
          "Germany",
          "Germany",
          "Germany",
          "Germany",
          "Germany",
          "Germany",
          "Germany",
          "Germany",
          "Germany",
          "Germany",
          "Germany"
         ],
         "yaxis": "y"
        },
        {
         "hovertemplate": "Country=%{y}<br>Date=%{x}<br>New Cases=%{marker.size}<extra></extra>",
         "legendgroup": "UK",
         "marker": {
          "color": "#19d3f3",
          "size": [
           4311,
           4468,
           4929,
           5394,
           4608,
           4466,
           4316,
           4684,
           5858,
           5545,
           5624,
           4662,
           4638,
           5275,
           4364,
           5332,
           5269,
           8733,
           4398,
           5525,
           3670,
           3843,
           5959,
           3788,
           4516,
           4308,
           4384,
           3028,
           2673,
           2468,
           2567,
           2933,
           2172,
           1476,
           1438,
           981,
           678,
           1053,
           1298,
           74,
           682,
           409,
           406,
           1,
           342,
           343,
           75,
           0,
           62,
           48,
           67,
           43,
           48,
           30
          ],
          "sizemode": "area",
          "sizeref": 22.6175,
          "symbol": "circle"
         },
         "mode": "markers",
         "name": "UK",
         "showlegend": true,
         "type": "scatter",
         "x": [
          "2020-04-27",
          "2020-04-26",
          "2020-04-25",
          "2020-04-24",
          "2020-04-23",
          "2020-04-22",
          "2020-04-21",
          "2020-04-20",
          "2020-04-19",
          "2020-04-18",
          "2020-04-17",
          "2020-04-16",
          "2020-04-15",
          "2020-04-14",
          "2020-04-13",
          "2020-04-12",
          "2020-04-11",
          "2020-04-10",
          "2020-04-09",
          "2020-04-08",
          "2020-04-07",
          "2020-04-06",
          "2020-04-05",
          "2020-04-04",
          "2020-04-03",
          "2020-04-02",
          "2020-04-01",
          "2020-03-31",
          "2020-03-30",
          "2020-03-29",
          "2020-03-28",
          "2020-03-27",
          "2020-03-26",
          "2020-03-25",
          "2020-03-24",
          "2020-03-23",
          "2020-03-22",
          "2020-03-21",
          "2020-03-20",
          "2020-03-19",
          "2020-03-18",
          "2020-03-17",
          "2020-03-16",
          "2020-03-15",
          "2020-03-14",
          "2020-03-13",
          "2020-03-11",
          "2020-03-12",
          "2020-03-10",
          "2020-03-09",
          "2020-03-08",
          "2020-03-07",
          "2020-03-06",
          "2020-03-05"
         ],
         "xaxis": "x",
         "y": [
          "UK",
          "UK",
          "UK",
          "UK",
          "UK",
          "UK",
          "UK",
          "UK",
          "UK",
          "UK",
          "UK",
          "UK",
          "UK",
          "UK",
          "UK",
          "UK",
          "UK",
          "UK",
          "UK",
          "UK",
          "UK",
          "UK",
          "UK",
          "UK",
          "UK",
          "UK",
          "UK",
          "UK",
          "UK",
          "UK",
          "UK",
          "UK",
          "UK",
          "UK",
          "UK",
          "UK",
          "UK",
          "UK",
          "UK",
          "UK",
          "UK",
          "UK",
          "UK",
          "UK",
          "UK",
          "UK",
          "UK",
          "UK",
          "UK",
          "UK",
          "UK",
          "UK",
          "UK",
          "UK"
         ],
         "yaxis": "y"
        },
        {
         "hovertemplate": "Country=%{y}<br>Date=%{x}<br>New Cases=%{marker.size}<extra></extra>",
         "legendgroup": "Turkey",
         "marker": {
          "color": "#FF6692",
          "size": [
           2131,
           2357,
           2861,
           3122,
           3116,
           3083,
           4611,
           4674,
           3977,
           3783,
           4353,
           4801,
           4281,
           4062,
           4093,
           4789,
           5138,
           4747,
           4056,
           4117,
           3892,
           3148,
           3135,
           3013,
           2786,
           2456,
           2148,
           2704,
           1610,
           1815,
           1704,
           2069,
           1196,
           561,
           343,
           293,
           566,
           311,
           167,
           94
          ],
          "sizemode": "area",
          "sizeref": 22.6175,
          "symbol": "circle"
         },
         "mode": "markers",
         "name": "Turkey",
         "showlegend": true,
         "type": "scatter",
         "x": [
          "2020-04-27",
          "2020-04-26",
          "2020-04-25",
          "2020-04-24",
          "2020-04-23",
          "2020-04-22",
          "2020-04-21",
          "2020-04-20",
          "2020-04-19",
          "2020-04-18",
          "2020-04-17",
          "2020-04-16",
          "2020-04-15",
          "2020-04-14",
          "2020-04-13",
          "2020-04-12",
          "2020-04-11",
          "2020-04-10",
          "2020-04-09",
          "2020-04-08",
          "2020-04-07",
          "2020-04-06",
          "2020-04-05",
          "2020-04-04",
          "2020-04-03",
          "2020-04-02",
          "2020-04-01",
          "2020-03-31",
          "2020-03-30",
          "2020-03-29",
          "2020-03-28",
          "2020-03-27",
          "2020-03-26",
          "2020-03-25",
          "2020-03-24",
          "2020-03-23",
          "2020-03-22",
          "2020-03-21",
          "2020-03-20",
          "2020-03-19"
         ],
         "xaxis": "x",
         "y": [
          "Turkey",
          "Turkey",
          "Turkey",
          "Turkey",
          "Turkey",
          "Turkey",
          "Turkey",
          "Turkey",
          "Turkey",
          "Turkey",
          "Turkey",
          "Turkey",
          "Turkey",
          "Turkey",
          "Turkey",
          "Turkey",
          "Turkey",
          "Turkey",
          "Turkey",
          "Turkey",
          "Turkey",
          "Turkey",
          "Turkey",
          "Turkey",
          "Turkey",
          "Turkey",
          "Turkey",
          "Turkey",
          "Turkey",
          "Turkey",
          "Turkey",
          "Turkey",
          "Turkey",
          "Turkey",
          "Turkey",
          "Turkey",
          "Turkey",
          "Turkey",
          "Turkey",
          "Turkey"
         ],
         "yaxis": "y"
        },
        {
         "hovertemplate": "Country=%{y}<br>Date=%{x}<br>New Cases=%{marker.size}<extra></extra>",
         "legendgroup": "Iran",
         "marker": {
          "color": "#B6E880",
          "size": [
           991,
           1153,
           1134,
           1168,
           1030,
           1194,
           1297,
           1294,
           1343,
           1374,
           1499,
           1606,
           1512,
           1574,
           1617,
           1657,
           1837,
           1972,
           1634,
           1997,
           2089,
           2274,
           2483,
           2560,
           2715,
           2875,
           2988,
           3110,
           3186,
           2901,
           3076,
           2926,
           2389,
           2206,
           1762,
           1411,
           1028,
           966,
           1237,
           1046,
           1192,
           1178,
           1053,
           1209,
           1365,
           1289,
           1075,
           958,
           881,
           595,
           743,
           1076,
           1234,
           591,
           586,
           835,
           523,
           385,
           205,
           143,
           106,
           44
          ],
          "sizemode": "area",
          "sizeref": 22.6175,
          "symbol": "circle"
         },
         "mode": "markers",
         "name": "Iran",
         "showlegend": true,
         "type": "scatter",
         "x": [
          "2020-04-27",
          "2020-04-26",
          "2020-04-25",
          "2020-04-24",
          "2020-04-23",
          "2020-04-22",
          "2020-04-21",
          "2020-04-20",
          "2020-04-19",
          "2020-04-18",
          "2020-04-17",
          "2020-04-16",
          "2020-04-15",
          "2020-04-14",
          "2020-04-13",
          "2020-04-12",
          "2020-04-11",
          "2020-04-10",
          "2020-04-09",
          "2020-04-08",
          "2020-04-07",
          "2020-04-06",
          "2020-04-05",
          "2020-04-04",
          "2020-04-03",
          "2020-04-02",
          "2020-04-01",
          "2020-03-31",
          "2020-03-30",
          "2020-03-29",
          "2020-03-28",
          "2020-03-27",
          "2020-03-26",
          "2020-03-25",
          "2020-03-24",
          "2020-03-23",
          "2020-03-22",
          "2020-03-21",
          "2020-03-20",
          "2020-03-19",
          "2020-03-18",
          "2020-03-17",
          "2020-03-16",
          "2020-03-15",
          "2020-03-14",
          "2020-03-13",
          "2020-03-12",
          "2020-03-11",
          "2020-03-10",
          "2020-03-09",
          "2020-03-08",
          "2020-03-07",
          "2020-03-06",
          "2020-03-05",
          "2020-03-04",
          "2020-03-03",
          "2020-03-02",
          "2020-03-01",
          "2020-02-29",
          "2020-02-28",
          "2020-02-27",
          "2020-02-26"
         ],
         "xaxis": "x",
         "y": [
          "Iran",
          "Iran",
          "Iran",
          "Iran",
          "Iran",
          "Iran",
          "Iran",
          "Iran",
          "Iran",
          "Iran",
          "Iran",
          "Iran",
          "Iran",
          "Iran",
          "Iran",
          "Iran",
          "Iran",
          "Iran",
          "Iran",
          "Iran",
          "Iran",
          "Iran",
          "Iran",
          "Iran",
          "Iran",
          "Iran",
          "Iran",
          "Iran",
          "Iran",
          "Iran",
          "Iran",
          "Iran",
          "Iran",
          "Iran",
          "Iran",
          "Iran",
          "Iran",
          "Iran",
          "Iran",
          "Iran",
          "Iran",
          "Iran",
          "Iran",
          "Iran",
          "Iran",
          "Iran",
          "Iran",
          "Iran",
          "Iran",
          "Iran",
          "Iran",
          "Iran",
          "Iran",
          "Iran",
          "Iran",
          "Iran",
          "Iran",
          "Iran",
          "Iran",
          "Iran",
          "Iran",
          "Iran"
         ],
         "yaxis": "y"
        },
        {
         "hovertemplate": "Country=%{y}<br>Date=%{x}<br>New Cases=%{marker.size}<extra></extra>",
         "legendgroup": "Russia",
         "marker": {
          "color": "#FF97FF",
          "size": [
           6198,
           6361,
           5966,
           5849,
           4774,
           5236,
           5642,
           4268,
           6060,
           4785,
           4070,
           3448,
           3388,
           2774,
           2558,
           2186,
           1667,
           1786,
           1459,
           1175,
           1154,
           954,
           658,
           582,
           601,
           771,
           440,
           501,
           302,
           270,
           228,
           196,
           182,
           163,
           57,
           71,
           61,
           53,
           54,
           52,
           33,
           24
          ],
          "sizemode": "area",
          "sizeref": 22.6175,
          "symbol": "circle"
         },
         "mode": "markers",
         "name": "Russia",
         "showlegend": true,
         "type": "scatter",
         "x": [
          "2020-04-27",
          "2020-04-26",
          "2020-04-25",
          "2020-04-24",
          "2020-04-23",
          "2020-04-22",
          "2020-04-21",
          "2020-04-20",
          "2020-04-19",
          "2020-04-18",
          "2020-04-17",
          "2020-04-16",
          "2020-04-15",
          "2020-04-14",
          "2020-04-13",
          "2020-04-12",
          "2020-04-11",
          "2020-04-10",
          "2020-04-09",
          "2020-04-08",
          "2020-04-07",
          "2020-04-06",
          "2020-04-05",
          "2020-04-04",
          "2020-04-03",
          "2020-04-02",
          "2020-04-01",
          "2020-03-31",
          "2020-03-30",
          "2020-03-29",
          "2020-03-28",
          "2020-03-27",
          "2020-03-26",
          "2020-03-25",
          "2020-03-24",
          "2020-03-23",
          "2020-03-22",
          "2020-03-21",
          "2020-03-20",
          "2020-03-19",
          "2020-03-18",
          "2020-03-17"
         ],
         "xaxis": "x",
         "y": [
          "Russia",
          "Russia",
          "Russia",
          "Russia",
          "Russia",
          "Russia",
          "Russia",
          "Russia",
          "Russia",
          "Russia",
          "Russia",
          "Russia",
          "Russia",
          "Russia",
          "Russia",
          "Russia",
          "Russia",
          "Russia",
          "Russia",
          "Russia",
          "Russia",
          "Russia",
          "Russia",
          "Russia",
          "Russia",
          "Russia",
          "Russia",
          "Russia",
          "Russia",
          "Russia",
          "Russia",
          "Russia",
          "Russia",
          "Russia",
          "Russia",
          "Russia",
          "Russia",
          "Russia",
          "Russia",
          "Russia",
          "Russia",
          "Russia"
         ],
         "yaxis": "y"
        },
        {
         "hovertemplate": "Country=%{y}<br>Date=%{x}<br>New Cases=%{marker.size}<extra></extra>",
         "legendgroup": "Brazil",
         "marker": {
          "color": "#FECB52",
          "size": [
           4346,
           3776,
           5281,
           4007,
           4279,
           2678,
           2336,
           2089,
           1996,
           2976,
           3257,
           2105,
           3058,
           1832,
           1238,
           1465,
           1089,
           1546,
           1922,
           2136,
           1873,
           1031,
           770,
           1304,
           1012,
           1208,
           1119,
           1138,
           323,
           352,
           487,
           432,
           431,
           307,
           323,
           378,
           525,
           228,
           172,
           249,
           51,
           121,
           38,
           11,
           99,
           0
          ],
          "sizemode": "area",
          "sizeref": 22.6175,
          "symbol": "circle"
         },
         "mode": "markers",
         "name": "Brazil",
         "showlegend": true,
         "type": "scatter",
         "x": [
          "2020-04-27",
          "2020-04-26",
          "2020-04-25",
          "2020-04-24",
          "2020-04-23",
          "2020-04-22",
          "2020-04-21",
          "2020-04-20",
          "2020-04-19",
          "2020-04-18",
          "2020-04-17",
          "2020-04-16",
          "2020-04-15",
          "2020-04-14",
          "2020-04-13",
          "2020-04-12",
          "2020-04-11",
          "2020-04-10",
          "2020-04-09",
          "2020-04-08",
          "2020-04-07",
          "2020-04-06",
          "2020-04-05",
          "2020-04-04",
          "2020-04-03",
          "2020-04-02",
          "2020-04-01",
          "2020-03-31",
          "2020-03-30",
          "2020-03-29",
          "2020-03-28",
          "2020-03-27",
          "2020-03-26",
          "2020-03-25",
          "2020-03-24",
          "2020-03-23",
          "2020-03-22",
          "2020-03-21",
          "2020-03-20",
          "2020-03-19",
          "2020-03-18",
          "2020-03-17",
          "2020-03-16",
          "2020-03-15",
          "2020-03-13",
          "2020-03-14"
         ],
         "xaxis": "x",
         "y": [
          "Brazil",
          "Brazil",
          "Brazil",
          "Brazil",
          "Brazil",
          "Brazil",
          "Brazil",
          "Brazil",
          "Brazil",
          "Brazil",
          "Brazil",
          "Brazil",
          "Brazil",
          "Brazil",
          "Brazil",
          "Brazil",
          "Brazil",
          "Brazil",
          "Brazil",
          "Brazil",
          "Brazil",
          "Brazil",
          "Brazil",
          "Brazil",
          "Brazil",
          "Brazil",
          "Brazil",
          "Brazil",
          "Brazil",
          "Brazil",
          "Brazil",
          "Brazil",
          "Brazil",
          "Brazil",
          "Brazil",
          "Brazil",
          "Brazil",
          "Brazil",
          "Brazil",
          "Brazil",
          "Brazil",
          "Brazil",
          "Brazil",
          "Brazil",
          "Brazil",
          "Brazil"
         ],
         "yaxis": "y"
        }
       ],
       "layout": {
        "autosize": false,
        "height": 800,
        "legend": {
         "itemsizing": "constant",
         "title": {
          "text": "Country"
         },
         "tracegroupgap": 0
        },
        "margin": {
         "t": 60
        },
        "plot_bgcolor": "white",
        "scene": {
         "yaxis": {
          "type": "log"
         }
        },
        "template": {
         "data": {
          "bar": [
           {
            "error_x": {
             "color": "#2a3f5f"
            },
            "error_y": {
             "color": "#2a3f5f"
            },
            "marker": {
             "line": {
              "color": "#E5ECF6",
              "width": 0.5
             }
            },
            "type": "bar"
           }
          ],
          "barpolar": [
           {
            "marker": {
             "line": {
              "color": "#E5ECF6",
              "width": 0.5
             }
            },
            "type": "barpolar"
           }
          ],
          "carpet": [
           {
            "aaxis": {
             "endlinecolor": "#2a3f5f",
             "gridcolor": "white",
             "linecolor": "white",
             "minorgridcolor": "white",
             "startlinecolor": "#2a3f5f"
            },
            "baxis": {
             "endlinecolor": "#2a3f5f",
             "gridcolor": "white",
             "linecolor": "white",
             "minorgridcolor": "white",
             "startlinecolor": "#2a3f5f"
            },
            "type": "carpet"
           }
          ],
          "choropleth": [
           {
            "colorbar": {
             "outlinewidth": 0,
             "ticks": ""
            },
            "type": "choropleth"
           }
          ],
          "contour": [
           {
            "colorbar": {
             "outlinewidth": 0,
             "ticks": ""
            },
            "colorscale": [
             [
              0,
              "#0d0887"
             ],
             [
              0.1111111111111111,
              "#46039f"
             ],
             [
              0.2222222222222222,
              "#7201a8"
             ],
             [
              0.3333333333333333,
              "#9c179e"
             ],
             [
              0.4444444444444444,
              "#bd3786"
             ],
             [
              0.5555555555555556,
              "#d8576b"
             ],
             [
              0.6666666666666666,
              "#ed7953"
             ],
             [
              0.7777777777777778,
              "#fb9f3a"
             ],
             [
              0.8888888888888888,
              "#fdca26"
             ],
             [
              1,
              "#f0f921"
             ]
            ],
            "type": "contour"
           }
          ],
          "contourcarpet": [
           {
            "colorbar": {
             "outlinewidth": 0,
             "ticks": ""
            },
            "type": "contourcarpet"
           }
          ],
          "heatmap": [
           {
            "colorbar": {
             "outlinewidth": 0,
             "ticks": ""
            },
            "colorscale": [
             [
              0,
              "#0d0887"
             ],
             [
              0.1111111111111111,
              "#46039f"
             ],
             [
              0.2222222222222222,
              "#7201a8"
             ],
             [
              0.3333333333333333,
              "#9c179e"
             ],
             [
              0.4444444444444444,
              "#bd3786"
             ],
             [
              0.5555555555555556,
              "#d8576b"
             ],
             [
              0.6666666666666666,
              "#ed7953"
             ],
             [
              0.7777777777777778,
              "#fb9f3a"
             ],
             [
              0.8888888888888888,
              "#fdca26"
             ],
             [
              1,
              "#f0f921"
             ]
            ],
            "type": "heatmap"
           }
          ],
          "heatmapgl": [
           {
            "colorbar": {
             "outlinewidth": 0,
             "ticks": ""
            },
            "colorscale": [
             [
              0,
              "#0d0887"
             ],
             [
              0.1111111111111111,
              "#46039f"
             ],
             [
              0.2222222222222222,
              "#7201a8"
             ],
             [
              0.3333333333333333,
              "#9c179e"
             ],
             [
              0.4444444444444444,
              "#bd3786"
             ],
             [
              0.5555555555555556,
              "#d8576b"
             ],
             [
              0.6666666666666666,
              "#ed7953"
             ],
             [
              0.7777777777777778,
              "#fb9f3a"
             ],
             [
              0.8888888888888888,
              "#fdca26"
             ],
             [
              1,
              "#f0f921"
             ]
            ],
            "type": "heatmapgl"
           }
          ],
          "histogram": [
           {
            "marker": {
             "colorbar": {
              "outlinewidth": 0,
              "ticks": ""
             }
            },
            "type": "histogram"
           }
          ],
          "histogram2d": [
           {
            "colorbar": {
             "outlinewidth": 0,
             "ticks": ""
            },
            "colorscale": [
             [
              0,
              "#0d0887"
             ],
             [
              0.1111111111111111,
              "#46039f"
             ],
             [
              0.2222222222222222,
              "#7201a8"
             ],
             [
              0.3333333333333333,
              "#9c179e"
             ],
             [
              0.4444444444444444,
              "#bd3786"
             ],
             [
              0.5555555555555556,
              "#d8576b"
             ],
             [
              0.6666666666666666,
              "#ed7953"
             ],
             [
              0.7777777777777778,
              "#fb9f3a"
             ],
             [
              0.8888888888888888,
              "#fdca26"
             ],
             [
              1,
              "#f0f921"
             ]
            ],
            "type": "histogram2d"
           }
          ],
          "histogram2dcontour": [
           {
            "colorbar": {
             "outlinewidth": 0,
             "ticks": ""
            },
            "colorscale": [
             [
              0,
              "#0d0887"
             ],
             [
              0.1111111111111111,
              "#46039f"
             ],
             [
              0.2222222222222222,
              "#7201a8"
             ],
             [
              0.3333333333333333,
              "#9c179e"
             ],
             [
              0.4444444444444444,
              "#bd3786"
             ],
             [
              0.5555555555555556,
              "#d8576b"
             ],
             [
              0.6666666666666666,
              "#ed7953"
             ],
             [
              0.7777777777777778,
              "#fb9f3a"
             ],
             [
              0.8888888888888888,
              "#fdca26"
             ],
             [
              1,
              "#f0f921"
             ]
            ],
            "type": "histogram2dcontour"
           }
          ],
          "mesh3d": [
           {
            "colorbar": {
             "outlinewidth": 0,
             "ticks": ""
            },
            "type": "mesh3d"
           }
          ],
          "parcoords": [
           {
            "line": {
             "colorbar": {
              "outlinewidth": 0,
              "ticks": ""
             }
            },
            "type": "parcoords"
           }
          ],
          "pie": [
           {
            "automargin": true,
            "type": "pie"
           }
          ],
          "scatter": [
           {
            "marker": {
             "colorbar": {
              "outlinewidth": 0,
              "ticks": ""
             }
            },
            "type": "scatter"
           }
          ],
          "scatter3d": [
           {
            "line": {
             "colorbar": {
              "outlinewidth": 0,
              "ticks": ""
             }
            },
            "marker": {
             "colorbar": {
              "outlinewidth": 0,
              "ticks": ""
             }
            },
            "type": "scatter3d"
           }
          ],
          "scattercarpet": [
           {
            "marker": {
             "colorbar": {
              "outlinewidth": 0,
              "ticks": ""
             }
            },
            "type": "scattercarpet"
           }
          ],
          "scattergeo": [
           {
            "marker": {
             "colorbar": {
              "outlinewidth": 0,
              "ticks": ""
             }
            },
            "type": "scattergeo"
           }
          ],
          "scattergl": [
           {
            "marker": {
             "colorbar": {
              "outlinewidth": 0,
              "ticks": ""
             }
            },
            "type": "scattergl"
           }
          ],
          "scattermapbox": [
           {
            "marker": {
             "colorbar": {
              "outlinewidth": 0,
              "ticks": ""
             }
            },
            "type": "scattermapbox"
           }
          ],
          "scatterpolar": [
           {
            "marker": {
             "colorbar": {
              "outlinewidth": 0,
              "ticks": ""
             }
            },
            "type": "scatterpolar"
           }
          ],
          "scatterpolargl": [
           {
            "marker": {
             "colorbar": {
              "outlinewidth": 0,
              "ticks": ""
             }
            },
            "type": "scatterpolargl"
           }
          ],
          "scatterternary": [
           {
            "marker": {
             "colorbar": {
              "outlinewidth": 0,
              "ticks": ""
             }
            },
            "type": "scatterternary"
           }
          ],
          "surface": [
           {
            "colorbar": {
             "outlinewidth": 0,
             "ticks": ""
            },
            "colorscale": [
             [
              0,
              "#0d0887"
             ],
             [
              0.1111111111111111,
              "#46039f"
             ],
             [
              0.2222222222222222,
              "#7201a8"
             ],
             [
              0.3333333333333333,
              "#9c179e"
             ],
             [
              0.4444444444444444,
              "#bd3786"
             ],
             [
              0.5555555555555556,
              "#d8576b"
             ],
             [
              0.6666666666666666,
              "#ed7953"
             ],
             [
              0.7777777777777778,
              "#fb9f3a"
             ],
             [
              0.8888888888888888,
              "#fdca26"
             ],
             [
              1,
              "#f0f921"
             ]
            ],
            "type": "surface"
           }
          ],
          "table": [
           {
            "cells": {
             "fill": {
              "color": "#EBF0F8"
             },
             "line": {
              "color": "white"
             }
            },
            "header": {
             "fill": {
              "color": "#C8D4E3"
             },
             "line": {
              "color": "white"
             }
            },
            "type": "table"
           }
          ]
         },
         "layout": {
          "annotationdefaults": {
           "arrowcolor": "#2a3f5f",
           "arrowhead": 0,
           "arrowwidth": 1
          },
          "coloraxis": {
           "colorbar": {
            "outlinewidth": 0,
            "ticks": ""
           }
          },
          "colorscale": {
           "diverging": [
            [
             0,
             "#8e0152"
            ],
            [
             0.1,
             "#c51b7d"
            ],
            [
             0.2,
             "#de77ae"
            ],
            [
             0.3,
             "#f1b6da"
            ],
            [
             0.4,
             "#fde0ef"
            ],
            [
             0.5,
             "#f7f7f7"
            ],
            [
             0.6,
             "#e6f5d0"
            ],
            [
             0.7,
             "#b8e186"
            ],
            [
             0.8,
             "#7fbc41"
            ],
            [
             0.9,
             "#4d9221"
            ],
            [
             1,
             "#276419"
            ]
           ],
           "sequential": [
            [
             0,
             "#0d0887"
            ],
            [
             0.1111111111111111,
             "#46039f"
            ],
            [
             0.2222222222222222,
             "#7201a8"
            ],
            [
             0.3333333333333333,
             "#9c179e"
            ],
            [
             0.4444444444444444,
             "#bd3786"
            ],
            [
             0.5555555555555556,
             "#d8576b"
            ],
            [
             0.6666666666666666,
             "#ed7953"
            ],
            [
             0.7777777777777778,
             "#fb9f3a"
            ],
            [
             0.8888888888888888,
             "#fdca26"
            ],
            [
             1,
             "#f0f921"
            ]
           ],
           "sequentialminus": [
            [
             0,
             "#0d0887"
            ],
            [
             0.1111111111111111,
             "#46039f"
            ],
            [
             0.2222222222222222,
             "#7201a8"
            ],
            [
             0.3333333333333333,
             "#9c179e"
            ],
            [
             0.4444444444444444,
             "#bd3786"
            ],
            [
             0.5555555555555556,
             "#d8576b"
            ],
            [
             0.6666666666666666,
             "#ed7953"
            ],
            [
             0.7777777777777778,
             "#fb9f3a"
            ],
            [
             0.8888888888888888,
             "#fdca26"
            ],
            [
             1,
             "#f0f921"
            ]
           ]
          },
          "colorway": [
           "#636efa",
           "#EF553B",
           "#00cc96",
           "#ab63fa",
           "#FFA15A",
           "#19d3f3",
           "#FF6692",
           "#B6E880",
           "#FF97FF",
           "#FECB52"
          ],
          "font": {
           "color": "#2a3f5f"
          },
          "geo": {
           "bgcolor": "white",
           "lakecolor": "white",
           "landcolor": "#E5ECF6",
           "showlakes": true,
           "showland": true,
           "subunitcolor": "white"
          },
          "hoverlabel": {
           "align": "left"
          },
          "hovermode": "closest",
          "mapbox": {
           "style": "light"
          },
          "paper_bgcolor": "white",
          "plot_bgcolor": "#E5ECF6",
          "polar": {
           "angularaxis": {
            "gridcolor": "white",
            "linecolor": "white",
            "ticks": ""
           },
           "bgcolor": "#E5ECF6",
           "radialaxis": {
            "gridcolor": "white",
            "linecolor": "white",
            "ticks": ""
           }
          },
          "scene": {
           "xaxis": {
            "backgroundcolor": "#E5ECF6",
            "gridcolor": "white",
            "gridwidth": 2,
            "linecolor": "white",
            "showbackground": true,
            "ticks": "",
            "zerolinecolor": "white"
           },
           "yaxis": {
            "backgroundcolor": "#E5ECF6",
            "gridcolor": "white",
            "gridwidth": 2,
            "linecolor": "white",
            "showbackground": true,
            "ticks": "",
            "zerolinecolor": "white"
           },
           "zaxis": {
            "backgroundcolor": "#E5ECF6",
            "gridcolor": "white",
            "gridwidth": 2,
            "linecolor": "white",
            "showbackground": true,
            "ticks": "",
            "zerolinecolor": "white"
           }
          },
          "shapedefaults": {
           "line": {
            "color": "#2a3f5f"
           }
          },
          "ternary": {
           "aaxis": {
            "gridcolor": "white",
            "linecolor": "white",
            "ticks": ""
           },
           "baxis": {
            "gridcolor": "white",
            "linecolor": "white",
            "ticks": ""
           },
           "bgcolor": "#E5ECF6",
           "caxis": {
            "gridcolor": "white",
            "linecolor": "white",
            "ticks": ""
           }
          },
          "title": {
           "x": 0.05
          },
          "xaxis": {
           "automargin": true,
           "gridcolor": "white",
           "linecolor": "white",
           "ticks": "",
           "title": {
            "standoff": 15
           },
           "zerolinecolor": "white",
           "zerolinewidth": 2
          },
          "yaxis": {
           "automargin": true,
           "gridcolor": "white",
           "linecolor": "white",
           "ticks": "",
           "title": {
            "standoff": 15
           },
           "zerolinecolor": "white",
           "zerolinewidth": 2
          }
         }
        },
        "title": {
         "text": "Top 10 worst hit countries"
        },
        "width": 800,
        "xaxis": {
         "anchor": "y",
         "domain": [
          0,
          1
         ],
         "title": {
          "text": "Date"
         }
        },
        "yaxis": {
         "anchor": "x",
         "categoryarray": [
          "Brazil",
          "Russia",
          "Iran",
          "Turkey",
          "UK",
          "Germany",
          "France",
          "Italy",
          "Spain",
          "US"
         ],
         "categoryorder": "array",
         "domain": [
          0,
          1
         ],
         "title": {
          "text": "Conutry"
         }
        }
       }
      }
     },
     "metadata": {}
    }
   ],
   "source": [
    "import plotly.express as px\n",
    "\n",
    "df = top_countries_100_df\n",
    "\n",
    "fig = px.scatter(df, x=\"Date\", y=\"Country\", size=\"New Cases\", color=\"Country\", size_max=40)\n",
    "\n",
    "fig.update_layout(\n",
    "title=f\"Top 10 worst hit countries\",\n",
    "xaxis_title=\"Date\",\n",
    "yaxis_title=\"Conutry\",\n",
    ")\n",
    "\n",
    "fig.update_layout(\n",
    "    autosize=False,\n",
    "    width=800,\n",
    "    height=800,\n",
    "    plot_bgcolor='white'\n",
    ")\n",
    "\n",
    "fig.update_layout(scene_yaxis_type=\"log\")\n",
    "\n",
    "fig.show()"
   ]
  },
  {
   "cell_type": "code",
   "execution_count": 35,
   "metadata": {},
   "outputs": [
    {
     "output_type": "display_data",
     "data": {
      "application/vnd.plotly.v1+json": {
       "config": {
        "plotlyServerURL": "https://plot.ly"
       },
       "data": [
        {
         "branchvalues": "total",
         "domain": {
          "x": [
           0,
           1
          ],
          "y": [
           0,
           1
          ]
         },
         "hovertemplate": "labels=%{label}<br>Confirmed=%{value}<br>parent=%{parent}<br>id=%{id}<extra></extra>",
         "ids": [
          "Brazil",
          "France",
          "Germany",
          "Iran",
          "Italy",
          "Russia",
          "Spain",
          "Turkey",
          "UK",
          "US"
         ],
         "labels": [
          "Brazil",
          "France",
          "Germany",
          "Iran",
          "Italy",
          "Russia",
          "Spain",
          "Turkey",
          "UK",
          "US"
         ],
         "name": "",
         "parents": [
          "",
          "",
          "",
          "",
          "",
          "",
          "",
          "",
          "",
          ""
         ],
         "type": "treemap",
         "values": [
          845320,
          3629673,
          4046644,
          2502268,
          5528916,
          841806,
          5415694,
          1804356,
          2704987,
          17483464
         ]
        }
       ],
       "layout": {
        "legend": {
         "tracegroupgap": 0
        },
        "margin": {
         "t": 60
        },
        "template": {
         "data": {
          "bar": [
           {
            "error_x": {
             "color": "#2a3f5f"
            },
            "error_y": {
             "color": "#2a3f5f"
            },
            "marker": {
             "line": {
              "color": "#E5ECF6",
              "width": 0.5
             }
            },
            "type": "bar"
           }
          ],
          "barpolar": [
           {
            "marker": {
             "line": {
              "color": "#E5ECF6",
              "width": 0.5
             }
            },
            "type": "barpolar"
           }
          ],
          "carpet": [
           {
            "aaxis": {
             "endlinecolor": "#2a3f5f",
             "gridcolor": "white",
             "linecolor": "white",
             "minorgridcolor": "white",
             "startlinecolor": "#2a3f5f"
            },
            "baxis": {
             "endlinecolor": "#2a3f5f",
             "gridcolor": "white",
             "linecolor": "white",
             "minorgridcolor": "white",
             "startlinecolor": "#2a3f5f"
            },
            "type": "carpet"
           }
          ],
          "choropleth": [
           {
            "colorbar": {
             "outlinewidth": 0,
             "ticks": ""
            },
            "type": "choropleth"
           }
          ],
          "contour": [
           {
            "colorbar": {
             "outlinewidth": 0,
             "ticks": ""
            },
            "colorscale": [
             [
              0,
              "#0d0887"
             ],
             [
              0.1111111111111111,
              "#46039f"
             ],
             [
              0.2222222222222222,
              "#7201a8"
             ],
             [
              0.3333333333333333,
              "#9c179e"
             ],
             [
              0.4444444444444444,
              "#bd3786"
             ],
             [
              0.5555555555555556,
              "#d8576b"
             ],
             [
              0.6666666666666666,
              "#ed7953"
             ],
             [
              0.7777777777777778,
              "#fb9f3a"
             ],
             [
              0.8888888888888888,
              "#fdca26"
             ],
             [
              1,
              "#f0f921"
             ]
            ],
            "type": "contour"
           }
          ],
          "contourcarpet": [
           {
            "colorbar": {
             "outlinewidth": 0,
             "ticks": ""
            },
            "type": "contourcarpet"
           }
          ],
          "heatmap": [
           {
            "colorbar": {
             "outlinewidth": 0,
             "ticks": ""
            },
            "colorscale": [
             [
              0,
              "#0d0887"
             ],
             [
              0.1111111111111111,
              "#46039f"
             ],
             [
              0.2222222222222222,
              "#7201a8"
             ],
             [
              0.3333333333333333,
              "#9c179e"
             ],
             [
              0.4444444444444444,
              "#bd3786"
             ],
             [
              0.5555555555555556,
              "#d8576b"
             ],
             [
              0.6666666666666666,
              "#ed7953"
             ],
             [
              0.7777777777777778,
              "#fb9f3a"
             ],
             [
              0.8888888888888888,
              "#fdca26"
             ],
             [
              1,
              "#f0f921"
             ]
            ],
            "type": "heatmap"
           }
          ],
          "heatmapgl": [
           {
            "colorbar": {
             "outlinewidth": 0,
             "ticks": ""
            },
            "colorscale": [
             [
              0,
              "#0d0887"
             ],
             [
              0.1111111111111111,
              "#46039f"
             ],
             [
              0.2222222222222222,
              "#7201a8"
             ],
             [
              0.3333333333333333,
              "#9c179e"
             ],
             [
              0.4444444444444444,
              "#bd3786"
             ],
             [
              0.5555555555555556,
              "#d8576b"
             ],
             [
              0.6666666666666666,
              "#ed7953"
             ],
             [
              0.7777777777777778,
              "#fb9f3a"
             ],
             [
              0.8888888888888888,
              "#fdca26"
             ],
             [
              1,
              "#f0f921"
             ]
            ],
            "type": "heatmapgl"
           }
          ],
          "histogram": [
           {
            "marker": {
             "colorbar": {
              "outlinewidth": 0,
              "ticks": ""
             }
            },
            "type": "histogram"
           }
          ],
          "histogram2d": [
           {
            "colorbar": {
             "outlinewidth": 0,
             "ticks": ""
            },
            "colorscale": [
             [
              0,
              "#0d0887"
             ],
             [
              0.1111111111111111,
              "#46039f"
             ],
             [
              0.2222222222222222,
              "#7201a8"
             ],
             [
              0.3333333333333333,
              "#9c179e"
             ],
             [
              0.4444444444444444,
              "#bd3786"
             ],
             [
              0.5555555555555556,
              "#d8576b"
             ],
             [
              0.6666666666666666,
              "#ed7953"
             ],
             [
              0.7777777777777778,
              "#fb9f3a"
             ],
             [
              0.8888888888888888,
              "#fdca26"
             ],
             [
              1,
              "#f0f921"
             ]
            ],
            "type": "histogram2d"
           }
          ],
          "histogram2dcontour": [
           {
            "colorbar": {
             "outlinewidth": 0,
             "ticks": ""
            },
            "colorscale": [
             [
              0,
              "#0d0887"
             ],
             [
              0.1111111111111111,
              "#46039f"
             ],
             [
              0.2222222222222222,
              "#7201a8"
             ],
             [
              0.3333333333333333,
              "#9c179e"
             ],
             [
              0.4444444444444444,
              "#bd3786"
             ],
             [
              0.5555555555555556,
              "#d8576b"
             ],
             [
              0.6666666666666666,
              "#ed7953"
             ],
             [
              0.7777777777777778,
              "#fb9f3a"
             ],
             [
              0.8888888888888888,
              "#fdca26"
             ],
             [
              1,
              "#f0f921"
             ]
            ],
            "type": "histogram2dcontour"
           }
          ],
          "mesh3d": [
           {
            "colorbar": {
             "outlinewidth": 0,
             "ticks": ""
            },
            "type": "mesh3d"
           }
          ],
          "parcoords": [
           {
            "line": {
             "colorbar": {
              "outlinewidth": 0,
              "ticks": ""
             }
            },
            "type": "parcoords"
           }
          ],
          "pie": [
           {
            "automargin": true,
            "type": "pie"
           }
          ],
          "scatter": [
           {
            "marker": {
             "colorbar": {
              "outlinewidth": 0,
              "ticks": ""
             }
            },
            "type": "scatter"
           }
          ],
          "scatter3d": [
           {
            "line": {
             "colorbar": {
              "outlinewidth": 0,
              "ticks": ""
             }
            },
            "marker": {
             "colorbar": {
              "outlinewidth": 0,
              "ticks": ""
             }
            },
            "type": "scatter3d"
           }
          ],
          "scattercarpet": [
           {
            "marker": {
             "colorbar": {
              "outlinewidth": 0,
              "ticks": ""
             }
            },
            "type": "scattercarpet"
           }
          ],
          "scattergeo": [
           {
            "marker": {
             "colorbar": {
              "outlinewidth": 0,
              "ticks": ""
             }
            },
            "type": "scattergeo"
           }
          ],
          "scattergl": [
           {
            "marker": {
             "colorbar": {
              "outlinewidth": 0,
              "ticks": ""
             }
            },
            "type": "scattergl"
           }
          ],
          "scattermapbox": [
           {
            "marker": {
             "colorbar": {
              "outlinewidth": 0,
              "ticks": ""
             }
            },
            "type": "scattermapbox"
           }
          ],
          "scatterpolar": [
           {
            "marker": {
             "colorbar": {
              "outlinewidth": 0,
              "ticks": ""
             }
            },
            "type": "scatterpolar"
           }
          ],
          "scatterpolargl": [
           {
            "marker": {
             "colorbar": {
              "outlinewidth": 0,
              "ticks": ""
             }
            },
            "type": "scatterpolargl"
           }
          ],
          "scatterternary": [
           {
            "marker": {
             "colorbar": {
              "outlinewidth": 0,
              "ticks": ""
             }
            },
            "type": "scatterternary"
           }
          ],
          "surface": [
           {
            "colorbar": {
             "outlinewidth": 0,
             "ticks": ""
            },
            "colorscale": [
             [
              0,
              "#0d0887"
             ],
             [
              0.1111111111111111,
              "#46039f"
             ],
             [
              0.2222222222222222,
              "#7201a8"
             ],
             [
              0.3333333333333333,
              "#9c179e"
             ],
             [
              0.4444444444444444,
              "#bd3786"
             ],
             [
              0.5555555555555556,
              "#d8576b"
             ],
             [
              0.6666666666666666,
              "#ed7953"
             ],
             [
              0.7777777777777778,
              "#fb9f3a"
             ],
             [
              0.8888888888888888,
              "#fdca26"
             ],
             [
              1,
              "#f0f921"
             ]
            ],
            "type": "surface"
           }
          ],
          "table": [
           {
            "cells": {
             "fill": {
              "color": "#EBF0F8"
             },
             "line": {
              "color": "white"
             }
            },
            "header": {
             "fill": {
              "color": "#C8D4E3"
             },
             "line": {
              "color": "white"
             }
            },
            "type": "table"
           }
          ]
         },
         "layout": {
          "annotationdefaults": {
           "arrowcolor": "#2a3f5f",
           "arrowhead": 0,
           "arrowwidth": 1
          },
          "coloraxis": {
           "colorbar": {
            "outlinewidth": 0,
            "ticks": ""
           }
          },
          "colorscale": {
           "diverging": [
            [
             0,
             "#8e0152"
            ],
            [
             0.1,
             "#c51b7d"
            ],
            [
             0.2,
             "#de77ae"
            ],
            [
             0.3,
             "#f1b6da"
            ],
            [
             0.4,
             "#fde0ef"
            ],
            [
             0.5,
             "#f7f7f7"
            ],
            [
             0.6,
             "#e6f5d0"
            ],
            [
             0.7,
             "#b8e186"
            ],
            [
             0.8,
             "#7fbc41"
            ],
            [
             0.9,
             "#4d9221"
            ],
            [
             1,
             "#276419"
            ]
           ],
           "sequential": [
            [
             0,
             "#0d0887"
            ],
            [
             0.1111111111111111,
             "#46039f"
            ],
            [
             0.2222222222222222,
             "#7201a8"
            ],
            [
             0.3333333333333333,
             "#9c179e"
            ],
            [
             0.4444444444444444,
             "#bd3786"
            ],
            [
             0.5555555555555556,
             "#d8576b"
            ],
            [
             0.6666666666666666,
             "#ed7953"
            ],
            [
             0.7777777777777778,
             "#fb9f3a"
            ],
            [
             0.8888888888888888,
             "#fdca26"
            ],
            [
             1,
             "#f0f921"
            ]
           ],
           "sequentialminus": [
            [
             0,
             "#0d0887"
            ],
            [
             0.1111111111111111,
             "#46039f"
            ],
            [
             0.2222222222222222,
             "#7201a8"
            ],
            [
             0.3333333333333333,
             "#9c179e"
            ],
            [
             0.4444444444444444,
             "#bd3786"
            ],
            [
             0.5555555555555556,
             "#d8576b"
            ],
            [
             0.6666666666666666,
             "#ed7953"
            ],
            [
             0.7777777777777778,
             "#fb9f3a"
            ],
            [
             0.8888888888888888,
             "#fdca26"
            ],
            [
             1,
             "#f0f921"
            ]
           ]
          },
          "colorway": [
           "#636efa",
           "#EF553B",
           "#00cc96",
           "#ab63fa",
           "#FFA15A",
           "#19d3f3",
           "#FF6692",
           "#B6E880",
           "#FF97FF",
           "#FECB52"
          ],
          "font": {
           "color": "#2a3f5f"
          },
          "geo": {
           "bgcolor": "white",
           "lakecolor": "white",
           "landcolor": "#E5ECF6",
           "showlakes": true,
           "showland": true,
           "subunitcolor": "white"
          },
          "hoverlabel": {
           "align": "left"
          },
          "hovermode": "closest",
          "mapbox": {
           "style": "light"
          },
          "paper_bgcolor": "white",
          "plot_bgcolor": "#E5ECF6",
          "polar": {
           "angularaxis": {
            "gridcolor": "white",
            "linecolor": "white",
            "ticks": ""
           },
           "bgcolor": "#E5ECF6",
           "radialaxis": {
            "gridcolor": "white",
            "linecolor": "white",
            "ticks": ""
           }
          },
          "scene": {
           "xaxis": {
            "backgroundcolor": "#E5ECF6",
            "gridcolor": "white",
            "gridwidth": 2,
            "linecolor": "white",
            "showbackground": true,
            "ticks": "",
            "zerolinecolor": "white"
           },
           "yaxis": {
            "backgroundcolor": "#E5ECF6",
            "gridcolor": "white",
            "gridwidth": 2,
            "linecolor": "white",
            "showbackground": true,
            "ticks": "",
            "zerolinecolor": "white"
           },
           "zaxis": {
            "backgroundcolor": "#E5ECF6",
            "gridcolor": "white",
            "gridwidth": 2,
            "linecolor": "white",
            "showbackground": true,
            "ticks": "",
            "zerolinecolor": "white"
           }
          },
          "shapedefaults": {
           "line": {
            "color": "#2a3f5f"
           }
          },
          "ternary": {
           "aaxis": {
            "gridcolor": "white",
            "linecolor": "white",
            "ticks": ""
           },
           "baxis": {
            "gridcolor": "white",
            "linecolor": "white",
            "ticks": ""
           },
           "bgcolor": "#E5ECF6",
           "caxis": {
            "gridcolor": "white",
            "linecolor": "white",
            "ticks": ""
           }
          },
          "title": {
           "x": 0.05
          },
          "xaxis": {
           "automargin": true,
           "gridcolor": "white",
           "linecolor": "white",
           "ticks": "",
           "title": {
            "standoff": 15
           },
           "zerolinecolor": "white",
           "zerolinewidth": 2
          },
          "yaxis": {
           "automargin": true,
           "gridcolor": "white",
           "linecolor": "white",
           "ticks": "",
           "title": {
            "standoff": 15
           },
           "zerolinecolor": "white",
           "zerolinewidth": 2
          }
         }
        },
        "treemapcolorway": [
         "#3366CC",
         "#DC3912",
         "#FF9900",
         "#109618",
         "#990099",
         "#0099C6",
         "#DD4477",
         "#66AA00",
         "#B82E2E",
         "#316395"
        ]
       }
      }
     },
     "metadata": {}
    }
   ],
   "source": [
    "import plotly.express as px\n",
    "df = top_countries_100_df\n",
    "fig = px.treemap(data_frame=df, path=['Country'], values='Confirmed', color_discrete_sequence=px.colors.qualitative.G10\n",
    ")\n",
    "fig.show()"
   ]
  },
  {
   "cell_type": "code",
   "execution_count": null,
   "metadata": {},
   "outputs": [],
   "source": []
  }
 ],
 "metadata": {
  "language_info": {
   "codemirror_mode": {
    "name": "ipython",
    "version": 3
   },
   "file_extension": ".py",
   "mimetype": "text/x-python",
   "name": "python",
   "nbconvert_exporter": "python",
   "pygments_lexer": "ipython3",
   "version": "3.8.1-final"
  },
  "orig_nbformat": 2,
  "kernelspec": {
   "name": "python38164bit381pyenv80f8106dbcde49aa8072c8f85b1ed604",
   "display_name": "Python 3.8.1 64-bit ('3.8.1': pyenv)"
  }
 },
 "nbformat": 4,
 "nbformat_minor": 2
}