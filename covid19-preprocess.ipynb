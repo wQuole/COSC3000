{
 "cells": [
  {
   "cell_type": "markdown",
   "metadata": {},
   "source": [
    "# COVID-19 Visualization Project\n",
    "### COSC3000: Visualization, Computer Graphics & Data Analytics\n",
    "#### William Kvaale"
   ]
  },
  {
   "cell_type": "markdown",
   "metadata": {},
   "source": [
    "### Import dependencies"
   ]
  },
  {
   "cell_type": "code",
   "execution_count": 1,
   "metadata": {},
   "outputs": [],
   "source": [
    "from os import path\n",
    "from glob import glob\n",
    "import numpy as np\n",
    "import pandas as pd\n",
    "import matplotlib.pyplot as plt\n",
    "import wget\n",
    "pd.set_option('display.max_colwidth', -1)"
   ]
  },
  {
   "cell_type": "markdown",
   "metadata": {},
   "source": [
    "### Fetch the freshest data"
   ]
  },
  {
   "cell_type": "code",
   "execution_count": 2,
   "metadata": {},
   "outputs": [],
   "source": [
    "urls = [\n",
    "    'https://raw.githubusercontent.com/CSSEGISandData/COVID-19/master/csse_covid_19_data/csse_covid_19_time_series/time_series_covid19_confirmed_global.csv',\n",
    "    'https://raw.githubusercontent.com/CSSEGISandData/COVID-19/master/csse_covid_19_data/csse_covid_19_time_series/time_series_covid19_deaths_global.csv',\n",
    "    'https://raw.githubusercontent.com/CSSEGISandData/COVID-19/master/csse_covid_19_data/csse_covid_19_time_series/time_series_covid19_recovered_global.csv'\n",
    "]"
   ]
  },
  {
   "cell_type": "code",
   "execution_count": 3,
   "metadata": {},
   "outputs": [],
   "source": [
    "def download_data(urls):\n",
    "    dataset = [file for file in glob(\"dataset/*.csv\")]\n",
    "    N = len(dataset)\n",
    "    loaded = True if N == 3 else False\n",
    "    if not loaded:        \n",
    "        for url in urls:\n",
    "            print(f\"Downloading csv from {url} ...\")\n",
    "            wget.download(url, out=\"dataset\")\n",
    "    print(f\"The dataset contains {N}CSV-files:\")\n",
    "    print(*dataset, sep='\\n')\n",
    "            "
   ]
  },
  {
   "cell_type": "code",
   "execution_count": 4,
   "metadata": {},
   "outputs": [
    {
     "output_type": "stream",
     "name": "stdout",
     "text": "Downloading csv from https://raw.githubusercontent.com/CSSEGISandData/COVID-19/master/csse_covid_19_data/csse_covid_19_time_series/time_series_covid19_confirmed_global.csv ...\nDownloading csv from https://raw.githubusercontent.com/CSSEGISandData/COVID-19/master/csse_covid_19_data/csse_covid_19_time_series/time_series_covid19_deaths_global.csv ...\nDownloading csv from https://raw.githubusercontent.com/CSSEGISandData/COVID-19/master/csse_covid_19_data/csse_covid_19_time_series/time_series_covid19_recovered_global.csv ...\nThe dataset contains 4CSV-files:\ndataset/asd.csv\ndataset/time_series_covid19_confirmed_global.csv\ndataset/time_series_covid19_recovered_global.csv\ndataset/time_series_covid19_deaths_global.csv\n"
    }
   ],
   "source": [
    "download_data(urls)"
   ]
  },
  {
   "cell_type": "code",
   "execution_count": 5,
   "metadata": {},
   "outputs": [],
   "source": [
    "COVID_19_CONFIRMED = \"dataset/time_series_covid19_confirmed_global.csv\"\n",
    "COVID_19_RECOVERED = \"dataset/time_series_covid19_recovered_global.csv\"\n",
    "COVID_19_DEATHS = \"dataset/time_series_covid19_deaths_global.csv\""
   ]
  },
  {
   "cell_type": "markdown",
   "metadata": {},
   "source": [
    "### Load the CSV files into Pandas DataFrames"
   ]
  },
  {
   "cell_type": "code",
   "execution_count": 6,
   "metadata": {},
   "outputs": [],
   "source": [
    "def load_data(filePath):\n",
    "    df = pd.read_csv(filePath)\n",
    "    return df"
   ]
  },
  {
   "cell_type": "code",
   "execution_count": 7,
   "metadata": {},
   "outputs": [],
   "source": [
    "confirmed_df = load_data(COVID_19_CONFIRMED)\n",
    "recovered_df = load_data(COVID_19_RECOVERED)\n",
    "deaths_df = load_data(COVID_19_DEATHS)"
   ]
  },
  {
   "cell_type": "code",
   "execution_count": 8,
   "metadata": {},
   "outputs": [
    {
     "output_type": "execute_result",
     "data": {
      "text/plain": "    Province/State         Country/Region        Lat       Long  1/22/20  \\\n0    NaN            Afghanistan            33.000000  65.000000  0         \n1    NaN            Albania                41.153300  20.168300  0         \n2    NaN            Algeria                28.033900  1.659600   0         \n3    NaN            Andorra                42.506300  1.521800   0         \n4    NaN            Angola                -11.202700  17.873900  0         \n..   ...               ...                       ...        ... ..         \n261  NaN            Western Sahara         24.215500 -12.885800  0         \n262  NaN            Sao Tome and Principe  0.186360   6.613081   0         \n263  NaN            Yemen                  15.552727  48.516388  0         \n264  NaN            Comoros               -11.645500  43.333300  0         \n265  NaN            Tajikistan             38.861034  71.276093  0         \n\n     1/23/20  1/24/20  1/25/20  1/26/20  1/27/20  ...  4/25/20  4/26/20  \\\n0    0        0        0        0        0        ...  1463     1531      \n1    0        0        0        0        0        ...  712      726       \n2    0        0        0        0        0        ...  3256     3382      \n3    0        0        0        0        0        ...  738      738       \n4    0        0        0        0        0        ...  25       26        \n..  ..       ..       ..       ..       ..        ...  ..       ..        \n261  0        0        0        0        0        ...  6        6         \n262  0        0        0        0        0        ...  4        4         \n263  0        0        0        0        0        ...  1        1         \n264  0        0        0        0        0        ...  0        0         \n265  0        0        0        0        0        ...  0        0         \n\n     4/27/20  4/28/20  4/29/20  4/30/20  5/1/20  5/2/20  5/3/20  5/4/20  \n0    1703     1828     1939     2171     2335    2469    2704    2894    \n1    736      750      766      773      782     789     795     803     \n2    3517     3649     3848     4006     4154    4295    4474    4648    \n3    743      743      743      745      745     747     748     750     \n4    27       27       27       27       30      35      35      35      \n..   ..       ..       ..       ..       ..      ..      ..      ..      \n261  6        6        6        6        6       6       6       6       \n262  4        8        8        14       16      16      16      23      \n263  1        1        6        6        7       10      10      12      \n264  0        0        0        1        1       3       3       3       \n265  0        0        0        15       15      76      128     230     \n\n[266 rows x 108 columns]",
      "text/html": "<div>\n<style scoped>\n    .dataframe tbody tr th:only-of-type {\n        vertical-align: middle;\n    }\n\n    .dataframe tbody tr th {\n        vertical-align: top;\n    }\n\n    .dataframe thead th {\n        text-align: right;\n    }\n</style>\n<table border=\"1\" class=\"dataframe\">\n  <thead>\n    <tr style=\"text-align: right;\">\n      <th></th>\n      <th>Province/State</th>\n      <th>Country/Region</th>\n      <th>Lat</th>\n      <th>Long</th>\n      <th>1/22/20</th>\n      <th>1/23/20</th>\n      <th>1/24/20</th>\n      <th>1/25/20</th>\n      <th>1/26/20</th>\n      <th>1/27/20</th>\n      <th>...</th>\n      <th>4/25/20</th>\n      <th>4/26/20</th>\n      <th>4/27/20</th>\n      <th>4/28/20</th>\n      <th>4/29/20</th>\n      <th>4/30/20</th>\n      <th>5/1/20</th>\n      <th>5/2/20</th>\n      <th>5/3/20</th>\n      <th>5/4/20</th>\n    </tr>\n  </thead>\n  <tbody>\n    <tr>\n      <th>0</th>\n      <td>NaN</td>\n      <td>Afghanistan</td>\n      <td>33.000000</td>\n      <td>65.000000</td>\n      <td>0</td>\n      <td>0</td>\n      <td>0</td>\n      <td>0</td>\n      <td>0</td>\n      <td>0</td>\n      <td>...</td>\n      <td>1463</td>\n      <td>1531</td>\n      <td>1703</td>\n      <td>1828</td>\n      <td>1939</td>\n      <td>2171</td>\n      <td>2335</td>\n      <td>2469</td>\n      <td>2704</td>\n      <td>2894</td>\n    </tr>\n    <tr>\n      <th>1</th>\n      <td>NaN</td>\n      <td>Albania</td>\n      <td>41.153300</td>\n      <td>20.168300</td>\n      <td>0</td>\n      <td>0</td>\n      <td>0</td>\n      <td>0</td>\n      <td>0</td>\n      <td>0</td>\n      <td>...</td>\n      <td>712</td>\n      <td>726</td>\n      <td>736</td>\n      <td>750</td>\n      <td>766</td>\n      <td>773</td>\n      <td>782</td>\n      <td>789</td>\n      <td>795</td>\n      <td>803</td>\n    </tr>\n    <tr>\n      <th>2</th>\n      <td>NaN</td>\n      <td>Algeria</td>\n      <td>28.033900</td>\n      <td>1.659600</td>\n      <td>0</td>\n      <td>0</td>\n      <td>0</td>\n      <td>0</td>\n      <td>0</td>\n      <td>0</td>\n      <td>...</td>\n      <td>3256</td>\n      <td>3382</td>\n      <td>3517</td>\n      <td>3649</td>\n      <td>3848</td>\n      <td>4006</td>\n      <td>4154</td>\n      <td>4295</td>\n      <td>4474</td>\n      <td>4648</td>\n    </tr>\n    <tr>\n      <th>3</th>\n      <td>NaN</td>\n      <td>Andorra</td>\n      <td>42.506300</td>\n      <td>1.521800</td>\n      <td>0</td>\n      <td>0</td>\n      <td>0</td>\n      <td>0</td>\n      <td>0</td>\n      <td>0</td>\n      <td>...</td>\n      <td>738</td>\n      <td>738</td>\n      <td>743</td>\n      <td>743</td>\n      <td>743</td>\n      <td>745</td>\n      <td>745</td>\n      <td>747</td>\n      <td>748</td>\n      <td>750</td>\n    </tr>\n    <tr>\n      <th>4</th>\n      <td>NaN</td>\n      <td>Angola</td>\n      <td>-11.202700</td>\n      <td>17.873900</td>\n      <td>0</td>\n      <td>0</td>\n      <td>0</td>\n      <td>0</td>\n      <td>0</td>\n      <td>0</td>\n      <td>...</td>\n      <td>25</td>\n      <td>26</td>\n      <td>27</td>\n      <td>27</td>\n      <td>27</td>\n      <td>27</td>\n      <td>30</td>\n      <td>35</td>\n      <td>35</td>\n      <td>35</td>\n    </tr>\n    <tr>\n      <th>...</th>\n      <td>...</td>\n      <td>...</td>\n      <td>...</td>\n      <td>...</td>\n      <td>...</td>\n      <td>...</td>\n      <td>...</td>\n      <td>...</td>\n      <td>...</td>\n      <td>...</td>\n      <td>...</td>\n      <td>...</td>\n      <td>...</td>\n      <td>...</td>\n      <td>...</td>\n      <td>...</td>\n      <td>...</td>\n      <td>...</td>\n      <td>...</td>\n      <td>...</td>\n      <td>...</td>\n    </tr>\n    <tr>\n      <th>261</th>\n      <td>NaN</td>\n      <td>Western Sahara</td>\n      <td>24.215500</td>\n      <td>-12.885800</td>\n      <td>0</td>\n      <td>0</td>\n      <td>0</td>\n      <td>0</td>\n      <td>0</td>\n      <td>0</td>\n      <td>...</td>\n      <td>6</td>\n      <td>6</td>\n      <td>6</td>\n      <td>6</td>\n      <td>6</td>\n      <td>6</td>\n      <td>6</td>\n      <td>6</td>\n      <td>6</td>\n      <td>6</td>\n    </tr>\n    <tr>\n      <th>262</th>\n      <td>NaN</td>\n      <td>Sao Tome and Principe</td>\n      <td>0.186360</td>\n      <td>6.613081</td>\n      <td>0</td>\n      <td>0</td>\n      <td>0</td>\n      <td>0</td>\n      <td>0</td>\n      <td>0</td>\n      <td>...</td>\n      <td>4</td>\n      <td>4</td>\n      <td>4</td>\n      <td>8</td>\n      <td>8</td>\n      <td>14</td>\n      <td>16</td>\n      <td>16</td>\n      <td>16</td>\n      <td>23</td>\n    </tr>\n    <tr>\n      <th>263</th>\n      <td>NaN</td>\n      <td>Yemen</td>\n      <td>15.552727</td>\n      <td>48.516388</td>\n      <td>0</td>\n      <td>0</td>\n      <td>0</td>\n      <td>0</td>\n      <td>0</td>\n      <td>0</td>\n      <td>...</td>\n      <td>1</td>\n      <td>1</td>\n      <td>1</td>\n      <td>1</td>\n      <td>6</td>\n      <td>6</td>\n      <td>7</td>\n      <td>10</td>\n      <td>10</td>\n      <td>12</td>\n    </tr>\n    <tr>\n      <th>264</th>\n      <td>NaN</td>\n      <td>Comoros</td>\n      <td>-11.645500</td>\n      <td>43.333300</td>\n      <td>0</td>\n      <td>0</td>\n      <td>0</td>\n      <td>0</td>\n      <td>0</td>\n      <td>0</td>\n      <td>...</td>\n      <td>0</td>\n      <td>0</td>\n      <td>0</td>\n      <td>0</td>\n      <td>0</td>\n      <td>1</td>\n      <td>1</td>\n      <td>3</td>\n      <td>3</td>\n      <td>3</td>\n    </tr>\n    <tr>\n      <th>265</th>\n      <td>NaN</td>\n      <td>Tajikistan</td>\n      <td>38.861034</td>\n      <td>71.276093</td>\n      <td>0</td>\n      <td>0</td>\n      <td>0</td>\n      <td>0</td>\n      <td>0</td>\n      <td>0</td>\n      <td>...</td>\n      <td>0</td>\n      <td>0</td>\n      <td>0</td>\n      <td>0</td>\n      <td>0</td>\n      <td>15</td>\n      <td>15</td>\n      <td>76</td>\n      <td>128</td>\n      <td>230</td>\n    </tr>\n  </tbody>\n</table>\n<p>266 rows × 108 columns</p>\n</div>"
     },
     "metadata": {},
     "execution_count": 8
    }
   ],
   "source": [
    "confirmed_df"
   ]
  },
  {
   "cell_type": "code",
   "execution_count": 9,
   "metadata": {},
   "outputs": [],
   "source": [
    "dates_df = confirmed_df.columns[4:]\n",
    "\n",
    "\n",
    "confirmed_latlong_df = confirmed_df.melt(\n",
    "    id_vars=['Province/State', 'Country/Region', 'Lat', 'Long'],\n",
    "    value_vars=dates_df,\n",
    "    var_name='Date',\n",
    "    value_name='Confirmed'\n",
    ")\n",
    "\n",
    "recovered_latlong_df = recovered_df.melt(\n",
    "    id_vars=['Province/State', 'Country/Region', 'Lat', 'Long'],\n",
    "    value_vars=dates_df,\n",
    "    var_name='Date',\n",
    "    value_name='Recovered'\n",
    ")\n",
    "\n",
    "deaths_latlong_df = deaths_df.melt(\n",
    "    id_vars=['Province/State', 'Country/Region', 'Lat', 'Long'],\n",
    "    value_vars=dates_df,\n",
    "    var_name='Date',\n",
    "    value_name='Deaths'\n",
    ")\n",
    "\n"
   ]
  },
  {
   "cell_type": "code",
   "execution_count": 10,
   "metadata": {},
   "outputs": [],
   "source": [
    " recovered_latlong_df = recovered_latlong_df[recovered_latlong_df['Country/Region']!='Canada']"
   ]
  },
  {
   "cell_type": "code",
   "execution_count": 11,
   "metadata": {},
   "outputs": [],
   "source": [
    "giant_df = confirmed_latlong_df.merge(\n",
    "    right=recovered_latlong_df,\n",
    "    how='left',\n",
    "    on=['Province/State', 'Country/Region', 'Date', 'Lat', 'Long']\n",
    ")\n",
    "\n",
    "giant_df = giant_df.merge(\n",
    "    right=deaths_latlong_df,\n",
    "    how='left',\n",
    "    on=['Province/State', 'Country/Region', 'Date', 'Lat', 'Long']\n",
    ")"
   ]
  },
  {
   "cell_type": "code",
   "execution_count": 12,
   "metadata": {},
   "outputs": [
    {
     "output_type": "execute_result",
     "data": {
      "text/plain": "      Province/State         Country/Region        Lat       Long     Date  \\\n0      NaN            Afghanistan            33.000000  65.000000  1/22/20   \n1      NaN            Albania                41.153300  20.168300  1/22/20   \n2      NaN            Algeria                28.033900  1.659600   1/22/20   \n3      NaN            Andorra                42.506300  1.521800   1/22/20   \n4      NaN            Angola                -11.202700  17.873900  1/22/20   \n...    ...               ...                       ...        ...      ...   \n27659  NaN            Western Sahara         24.215500 -12.885800  5/4/20    \n27660  NaN            Sao Tome and Principe  0.186360   6.613081   5/4/20    \n27661  NaN            Yemen                  15.552727  48.516388  5/4/20    \n27662  NaN            Comoros               -11.645500  43.333300  5/4/20    \n27663  NaN            Tajikistan             38.861034  71.276093  5/4/20    \n\n       Confirmed  Recovered  Deaths  \n0      0          0.0        0       \n1      0          0.0        0       \n2      0          0.0        0       \n3      0          0.0        0       \n4      0          0.0        0       \n...   ..          ...       ..       \n27659  6          5.0        0       \n27660  23         4.0        3       \n27661  12        NaN         2       \n27662  3          0.0        0       \n27663  230        0.0        3       \n\n[27664 rows x 8 columns]",
      "text/html": "<div>\n<style scoped>\n    .dataframe tbody tr th:only-of-type {\n        vertical-align: middle;\n    }\n\n    .dataframe tbody tr th {\n        vertical-align: top;\n    }\n\n    .dataframe thead th {\n        text-align: right;\n    }\n</style>\n<table border=\"1\" class=\"dataframe\">\n  <thead>\n    <tr style=\"text-align: right;\">\n      <th></th>\n      <th>Province/State</th>\n      <th>Country/Region</th>\n      <th>Lat</th>\n      <th>Long</th>\n      <th>Date</th>\n      <th>Confirmed</th>\n      <th>Recovered</th>\n      <th>Deaths</th>\n    </tr>\n  </thead>\n  <tbody>\n    <tr>\n      <th>0</th>\n      <td>NaN</td>\n      <td>Afghanistan</td>\n      <td>33.000000</td>\n      <td>65.000000</td>\n      <td>1/22/20</td>\n      <td>0</td>\n      <td>0.0</td>\n      <td>0</td>\n    </tr>\n    <tr>\n      <th>1</th>\n      <td>NaN</td>\n      <td>Albania</td>\n      <td>41.153300</td>\n      <td>20.168300</td>\n      <td>1/22/20</td>\n      <td>0</td>\n      <td>0.0</td>\n      <td>0</td>\n    </tr>\n    <tr>\n      <th>2</th>\n      <td>NaN</td>\n      <td>Algeria</td>\n      <td>28.033900</td>\n      <td>1.659600</td>\n      <td>1/22/20</td>\n      <td>0</td>\n      <td>0.0</td>\n      <td>0</td>\n    </tr>\n    <tr>\n      <th>3</th>\n      <td>NaN</td>\n      <td>Andorra</td>\n      <td>42.506300</td>\n      <td>1.521800</td>\n      <td>1/22/20</td>\n      <td>0</td>\n      <td>0.0</td>\n      <td>0</td>\n    </tr>\n    <tr>\n      <th>4</th>\n      <td>NaN</td>\n      <td>Angola</td>\n      <td>-11.202700</td>\n      <td>17.873900</td>\n      <td>1/22/20</td>\n      <td>0</td>\n      <td>0.0</td>\n      <td>0</td>\n    </tr>\n    <tr>\n      <th>...</th>\n      <td>...</td>\n      <td>...</td>\n      <td>...</td>\n      <td>...</td>\n      <td>...</td>\n      <td>...</td>\n      <td>...</td>\n      <td>...</td>\n    </tr>\n    <tr>\n      <th>27659</th>\n      <td>NaN</td>\n      <td>Western Sahara</td>\n      <td>24.215500</td>\n      <td>-12.885800</td>\n      <td>5/4/20</td>\n      <td>6</td>\n      <td>5.0</td>\n      <td>0</td>\n    </tr>\n    <tr>\n      <th>27660</th>\n      <td>NaN</td>\n      <td>Sao Tome and Principe</td>\n      <td>0.186360</td>\n      <td>6.613081</td>\n      <td>5/4/20</td>\n      <td>23</td>\n      <td>4.0</td>\n      <td>3</td>\n    </tr>\n    <tr>\n      <th>27661</th>\n      <td>NaN</td>\n      <td>Yemen</td>\n      <td>15.552727</td>\n      <td>48.516388</td>\n      <td>5/4/20</td>\n      <td>12</td>\n      <td>NaN</td>\n      <td>2</td>\n    </tr>\n    <tr>\n      <th>27662</th>\n      <td>NaN</td>\n      <td>Comoros</td>\n      <td>-11.645500</td>\n      <td>43.333300</td>\n      <td>5/4/20</td>\n      <td>3</td>\n      <td>0.0</td>\n      <td>0</td>\n    </tr>\n    <tr>\n      <th>27663</th>\n      <td>NaN</td>\n      <td>Tajikistan</td>\n      <td>38.861034</td>\n      <td>71.276093</td>\n      <td>5/4/20</td>\n      <td>230</td>\n      <td>0.0</td>\n      <td>3</td>\n    </tr>\n  </tbody>\n</table>\n<p>27664 rows × 8 columns</p>\n</div>"
     },
     "metadata": {},
     "execution_count": 12
    }
   ],
   "source": [
    "giant_df"
   ]
  },
  {
   "cell_type": "markdown",
   "metadata": {},
   "source": [
    "# Preprocess and clean the data\n",
    "- Convert date from string to DateTime\n",
    "- Check NaN values\n",
    "- Remove Cruise ships\n"
   ]
  },
  {
   "cell_type": "code",
   "execution_count": 13,
   "metadata": {},
   "outputs": [],
   "source": [
    "giant_df['Date'] = pd.to_datetime(giant_df['Date'])"
   ]
  },
  {
   "cell_type": "code",
   "execution_count": 14,
   "metadata": {},
   "outputs": [
    {
     "output_type": "execute_result",
     "data": {
      "text/plain": "Province/State    19136\nCountry/Region    0    \nLat               0    \nLong              0    \nDate              0    \nConfirmed         0    \nRecovered         2912 \nDeaths            0    \ndtype: int64"
     },
     "metadata": {},
     "execution_count": 14
    }
   ],
   "source": [
    "giant_df.isna().sum()"
   ]
  },
  {
   "cell_type": "markdown",
   "metadata": {},
   "source": [
    "Some countries report their data only by country, instead of state for state, so this makes sense.\n",
    "The recovered set to NaN we will replace with 0"
   ]
  },
  {
   "cell_type": "code",
   "execution_count": 15,
   "metadata": {},
   "outputs": [],
   "source": [
    "giant_df['Recovered'] = giant_df['Recovered'].fillna(0)"
   ]
  },
  {
   "cell_type": "code",
   "execution_count": 16,
   "metadata": {},
   "outputs": [],
   "source": [
    "\n",
    "cruise_ships_df = giant_df['Province/State'].str.contains('Grand Priness') | giant_df['Province/State'].str.contains('Diamond Priness') | giant_df['Country/Region'].str.contains('Diamon Priness') | giant_df['Country/Region'].str.contains('MS Zaandam')\n",
    "\n",
    "complete_cruise_ships_df = giant_df[~cruise_ships_df]"
   ]
  },
  {
   "cell_type": "code",
   "execution_count": 17,
   "metadata": {},
   "outputs": [],
   "source": [
    "giant_df['Active'] = giant_df['Confirmed'] - giant_df['Recovered'] - giant_df['Deaths'] "
   ]
  },
  {
   "cell_type": "code",
   "execution_count": 18,
   "metadata": {},
   "outputs": [],
   "source": [
    "giant_grouped_df = giant_df.groupby(['Date', 'Country/Region'])['Confirmed', 'Recovered', 'Deaths', 'Active'].sum()"
   ]
  },
  {
   "cell_type": "markdown",
   "metadata": {},
   "source": [
    "Now the indices is completely off, so we'll need to reset back to Date & Country/Region"
   ]
  },
  {
   "cell_type": "code",
   "execution_count": 19,
   "metadata": {},
   "outputs": [],
   "source": [
    "giant_grouped_df = giant_grouped_df.reset_index()"
   ]
  },
  {
   "cell_type": "markdown",
   "metadata": {},
   "source": [
    "### Create new columns to be placeholders for daily new updates\n",
    "- New Cases\n",
    "- New Recovered\n",
    "- New Deaths"
   ]
  },
  {
   "cell_type": "code",
   "execution_count": 20,
   "metadata": {},
   "outputs": [],
   "source": [
    "temporary_df = giant_grouped_df.groupby(['Country/Region', 'Date', ])['Confirmed', 'Recovered', 'Deaths']\n",
    "temporary_df = temporary_df.sum().diff().reset_index()\n",
    "\n",
    "masked_df = temporary_df['Country/Region'] != temporary_df['Country/Region'].shift(1)\n",
    "\n",
    "temporary_df.loc[masked_df, 'Confirmed'] = np.nan\n",
    "temporary_df.loc[masked_df, 'Recovered'] = np.nan\n",
    "temporary_df.loc[masked_df, 'Deaths'] = np.nan\n",
    "\n",
    "temporary_df.columns = ['Country/Region', 'Date', 'New Cases', 'New Recovered', 'New Deaths']\n",
    "\n"
   ]
  },
  {
   "cell_type": "markdown",
   "metadata": {},
   "source": [
    "Now we have prepared the temporary new values to be merged into the complete dataframe"
   ]
  },
  {
   "cell_type": "code",
   "execution_count": 21,
   "metadata": {},
   "outputs": [],
   "source": [
    "giant_grouped_df = pd.merge(giant_grouped_df, temporary_df, on=['Country/Region', 'Date'])\n",
    "\n",
    "giant_grouped_df = giant_grouped_df.fillna(0)\n",
    "\n",
    "giant_grouped_df[['New Cases', 'New Deaths', 'New Recovered']] = giant_grouped_df[['New Cases', 'New Recovered', 'New Deaths']].astype('int')\n",
    "\n",
    "giant_grouped_df['New Cases'] = giant_grouped_df['New Cases'].apply(lambda c: 0 if c < 0 else c)"
   ]
  },
  {
   "cell_type": "code",
   "execution_count": 22,
   "metadata": {},
   "outputs": [],
   "source": [
    "# Rename UK\n",
    "giant_grouped_df['Country/Region'] = giant_grouped_df['Country/Region'].replace('United Kingdom', 'UK')\n",
    "\n",
    "# Rename Country/Region to Country\n",
    "giant_grouped_df.rename(columns={'Country/Region':'Country'}, inplace=True)\n"
   ]
  },
  {
   "cell_type": "code",
   "execution_count": 23,
   "metadata": {},
   "outputs": [
    {
     "output_type": "execute_result",
     "data": {
      "text/plain": "            Date      Country  Confirmed  Recovered  Deaths  Active  \\\n0     2020-01-22  Afghanistan  0          0.0        0       0.0      \n187   2020-01-23  Afghanistan  0          0.0        0       0.0      \n374   2020-01-24  Afghanistan  0          0.0        0       0.0      \n561   2020-01-25  Afghanistan  0          0.0        0       0.0      \n748   2020-01-26  Afghanistan  0          0.0        0       0.0      \n...          ...          ... ..          ...       ..       ...      \n18699 2020-04-30  Zimbabwe     40         5.0        4       31.0     \n18886 2020-05-01  Zimbabwe     40         5.0        4       31.0     \n19073 2020-05-02  Zimbabwe     34         5.0        4       25.0     \n19260 2020-05-03  Zimbabwe     34         5.0        4       25.0     \n19447 2020-05-04  Zimbabwe     34         5.0        4       25.0     \n\n       New Cases  New Recovered  New Deaths  \n0      0          0              0           \n187    0          0              0           \n374    0          0              0           \n561    0          0              0           \n748    0          0              0           \n...   ..         ..             ..           \n18699  8          0              0           \n18886  0          0              0           \n19073  0          0              0           \n19260  0          0              0           \n19447  0          0              0           \n\n[19448 rows x 9 columns]",
      "text/html": "<div>\n<style scoped>\n    .dataframe tbody tr th:only-of-type {\n        vertical-align: middle;\n    }\n\n    .dataframe tbody tr th {\n        vertical-align: top;\n    }\n\n    .dataframe thead th {\n        text-align: right;\n    }\n</style>\n<table border=\"1\" class=\"dataframe\">\n  <thead>\n    <tr style=\"text-align: right;\">\n      <th></th>\n      <th>Date</th>\n      <th>Country</th>\n      <th>Confirmed</th>\n      <th>Recovered</th>\n      <th>Deaths</th>\n      <th>Active</th>\n      <th>New Cases</th>\n      <th>New Recovered</th>\n      <th>New Deaths</th>\n    </tr>\n  </thead>\n  <tbody>\n    <tr>\n      <th>0</th>\n      <td>2020-01-22</td>\n      <td>Afghanistan</td>\n      <td>0</td>\n      <td>0.0</td>\n      <td>0</td>\n      <td>0.0</td>\n      <td>0</td>\n      <td>0</td>\n      <td>0</td>\n    </tr>\n    <tr>\n      <th>187</th>\n      <td>2020-01-23</td>\n      <td>Afghanistan</td>\n      <td>0</td>\n      <td>0.0</td>\n      <td>0</td>\n      <td>0.0</td>\n      <td>0</td>\n      <td>0</td>\n      <td>0</td>\n    </tr>\n    <tr>\n      <th>374</th>\n      <td>2020-01-24</td>\n      <td>Afghanistan</td>\n      <td>0</td>\n      <td>0.0</td>\n      <td>0</td>\n      <td>0.0</td>\n      <td>0</td>\n      <td>0</td>\n      <td>0</td>\n    </tr>\n    <tr>\n      <th>561</th>\n      <td>2020-01-25</td>\n      <td>Afghanistan</td>\n      <td>0</td>\n      <td>0.0</td>\n      <td>0</td>\n      <td>0.0</td>\n      <td>0</td>\n      <td>0</td>\n      <td>0</td>\n    </tr>\n    <tr>\n      <th>748</th>\n      <td>2020-01-26</td>\n      <td>Afghanistan</td>\n      <td>0</td>\n      <td>0.0</td>\n      <td>0</td>\n      <td>0.0</td>\n      <td>0</td>\n      <td>0</td>\n      <td>0</td>\n    </tr>\n    <tr>\n      <th>...</th>\n      <td>...</td>\n      <td>...</td>\n      <td>...</td>\n      <td>...</td>\n      <td>...</td>\n      <td>...</td>\n      <td>...</td>\n      <td>...</td>\n      <td>...</td>\n    </tr>\n    <tr>\n      <th>18699</th>\n      <td>2020-04-30</td>\n      <td>Zimbabwe</td>\n      <td>40</td>\n      <td>5.0</td>\n      <td>4</td>\n      <td>31.0</td>\n      <td>8</td>\n      <td>0</td>\n      <td>0</td>\n    </tr>\n    <tr>\n      <th>18886</th>\n      <td>2020-05-01</td>\n      <td>Zimbabwe</td>\n      <td>40</td>\n      <td>5.0</td>\n      <td>4</td>\n      <td>31.0</td>\n      <td>0</td>\n      <td>0</td>\n      <td>0</td>\n    </tr>\n    <tr>\n      <th>19073</th>\n      <td>2020-05-02</td>\n      <td>Zimbabwe</td>\n      <td>34</td>\n      <td>5.0</td>\n      <td>4</td>\n      <td>25.0</td>\n      <td>0</td>\n      <td>0</td>\n      <td>0</td>\n    </tr>\n    <tr>\n      <th>19260</th>\n      <td>2020-05-03</td>\n      <td>Zimbabwe</td>\n      <td>34</td>\n      <td>5.0</td>\n      <td>4</td>\n      <td>25.0</td>\n      <td>0</td>\n      <td>0</td>\n      <td>0</td>\n    </tr>\n    <tr>\n      <th>19447</th>\n      <td>2020-05-04</td>\n      <td>Zimbabwe</td>\n      <td>34</td>\n      <td>5.0</td>\n      <td>4</td>\n      <td>25.0</td>\n      <td>0</td>\n      <td>0</td>\n      <td>0</td>\n    </tr>\n  </tbody>\n</table>\n<p>19448 rows × 9 columns</p>\n</div>"
     },
     "metadata": {},
     "execution_count": 23
    }
   ],
   "source": [
    "giant_grouped_df.sort_values(['Country', 'Date'], ascending=True, inplace=True)\n",
    "giant_grouped_df"
   ]
  },
  {
   "cell_type": "markdown",
   "metadata": {},
   "source": [
    "# Save to CSV"
   ]
  },
  {
   "cell_type": "code",
   "execution_count": 24,
   "metadata": {},
   "outputs": [],
   "source": [
    "from datetime import datetime\n",
    "date = datetime.now().strftime(\"%d-%m-%Y\")\n",
    "time = datetime.now().strftime(\"%H:%M\")\n",
    "giant_grouped_df.to_csv(f\"output/COVID19-cleaned_{date}_{time}.csv\")"
   ]
  }
 ],
 "metadata": {
  "language_info": {
   "name": "python",
   "codemirror_mode": {
    "name": "ipython",
    "version": 3
   },
   "version": "3.8.1-final"
  },
  "orig_nbformat": 2,
  "file_extension": ".py",
  "mimetype": "text/x-python",
  "name": "python",
  "npconvert_exporter": "python",
  "pygments_lexer": "ipython3",
  "version": 3,
  "kernelspec": {
   "name": "python38164bit381pyenv80f8106dbcde49aa8072c8f85b1ed604",
   "display_name": "Python 3.8.1 64-bit ('3.8.1': pyenv)"
  }
 },
 "nbformat": 4,
 "nbformat_minor": 2
}