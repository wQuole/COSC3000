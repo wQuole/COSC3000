{
 "cells": [
  {
   "cell_type": "code",
   "execution_count": 19,
   "metadata": {},
   "outputs": [],
   "source": [
    "import os\n",
    "from glob import glob\n",
    "import numpy as np\n",
    "import pandas as pd\n",
    "import matplotlib.pyplot as plt\n",
    "import plotly.express as px"
   ]
  },
  {
   "cell_type": "code",
   "execution_count": 20,
   "metadata": {},
   "outputs": [],
   "source": [
    "# COLORS\n",
    "sars_color = '#442288'\n",
    "ebola_color = '#B5D33D'\n",
    "mers_color = '#FED23F'\n",
    "covid_color = '#FED23F'\n",
    "\n",
    "color_palette = [sars_color, ebola_color, mers_color, covid_color]"
   ]
  },
  {
   "cell_type": "markdown",
   "metadata": {},
   "source": [
    "## COVID-19 Preprocessing"
   ]
  },
  {
   "cell_type": "code",
   "execution_count": 21,
   "metadata": {},
   "outputs": [],
   "source": [
    "covid_df = pd.read_csv('output/COVID9-cleaned_29-04-2020_20:43.csv', parse_dates=['Date'])\n",
    "\n",
    "covid_df = covid_df[['Country/Region', 'Date', 'Confirmed', 'Deaths']]\n",
    "covid_df.columns = ['Country', 'Date', 'Cases', 'Deaths']\n",
    "\n",
    "covid_df['Deaths'] = covid_df['Deaths'].fillna(0)\n",
    "covid_df['Cases'] = covid_df['Cases'].fillna(0)\n",
    "\n",
    "covid_df['Deaths'] = covid_df['Deaths'].astype('int')\n",
    "covid_df['Cases'] = covid_df['Cases'].astype('int')\n",
    "\n",
    "covid_df = covid_df.groupby(['Date', 'Country'])['Cases', 'Deaths'].sum().reset_index()\n",
    "\n",
    "# Day by day\n",
    "c_dbd = covid_df.groupby('Date')['Cases', 'Deaths'].sum().reset_index()\n",
    "\n",
    "# nth-day\n",
    "covid_df['nth_day'] = (covid_df['Date'] - min(covid_df['Date'])).dt.days\n",
    "c_dbd['nth_day'] = covid_df.groupby('Date')['nth_day'].max().values\n",
    "\n",
    "c_dbd['epidemic'] = 'COVID-19'\n",
    "temp = covid_df[covid_df['Cases'] > 0]"
   ]
  },
  {
   "cell_type": "markdown",
   "metadata": {},
   "source": [
    "## COVID-19 Preprocessing"
   ]
  },
  {
   "cell_type": "code",
   "execution_count": 22,
   "metadata": {},
   "outputs": [],
   "source": [
    "ebola_df = pd.read_csv(\"Dataset/Ebola/ebola_2014_2016_clean.csv\", parse_dates=['Date'])\n",
    "\n",
    "ebola_df = ebola_df[[\n",
    "    'Date',\n",
    "    'Country',\n",
    "    'No. of confirmed, probable and suspected cases',\n",
    "    'No. of confirmed, probable and suspected deaths']] \n",
    "\n",
    "ebola_df.columns = ['Date', 'Country', 'Cases', 'Deaths']\n",
    "\n",
    "ebola_df['Deaths'] = ebola_df['Deaths'].fillna(0)\n",
    "ebola_df['Cases'] = ebola_df['Cases'].fillna(0)\n",
    "\n",
    "ebola_df['Deaths'] = ebola_df['Deaths'].astype('int')\n",
    "ebola_df['Cases'] = ebola_df['Cases'].astype('int')\n",
    "\n",
    "# Day by day\n",
    "e_dbd = ebola_df.groupby('Date')['Cases', 'Deaths'].sum().reset_index()\n",
    "\n",
    "# nth-day\n",
    "ebola_df['nth_day'] = (ebola_df['Date'] - min(ebola_df['Date'])).dt.days\n",
    "e_dbd['nth_day'] = ebola_df.groupby('Date')['nth_day'].max().values\n",
    "\n",
    "e_dbd['epidemic'] = 'EBOLA'\n",
    "temp = ebola_df[ebola_df['Cases'] > 0]"
   ]
  },
  {
   "cell_type": "markdown",
   "metadata": {},
   "source": [
    "## MERS Preprocessing"
   ]
  },
  {
   "cell_type": "code",
   "execution_count": 23,
   "metadata": {},
   "outputs": [],
   "source": [
    "mers_df = pd.read_csv(\"Dataset/MERS/MERS_weekly_clean.csv\")\n",
    "\n",
    "mers_df['Year-Week'] = mers_df['Year'].astype(str) + ' - ' + mers_df['Week'].astype(str)\n",
    "mers_df['Date'] = pd.to_datetime(mers_df['Week'].astype(str) + mers_df['Year'].astype(str).add('-1'),format='%V%G-%u')\n",
    "\n",
    "# Select and rename columns\n",
    "cols = ['Date', 'Region', 'New Cases']\n",
    "mers_df = mers_df[cols]\n",
    "mers_df.columns = ['Date', 'Country', 'Cases']\n",
    "\n",
    "# Day by day\n",
    "m_dbd = mers_df.groupby('Date')['Cases'].sum().reset_index()\n",
    "\n",
    "# nth-day\n",
    "mers_df['nth_day'] = (mers_df['Date'] - min(mers_df['Date'])).dt.days\n",
    "m_dbd['nth_day'] = mers_df.groupby('Date')['nth_day'].max().values\n",
    "\n",
    "m_dbd['epidemic'] = 'MERS'\n",
    "temp = mers_df[mers_df['Cases'] > 0]\n"
   ]
  },
  {
   "cell_type": "markdown",
   "metadata": {},
   "source": [
    "## SARS Preprocessing"
   ]
  },
  {
   "cell_type": "code",
   "execution_count": 24,
   "metadata": {},
   "outputs": [],
   "source": [
    "sars_df = pd.read_csv(\"Dataset/SARS/sars_2003_complete_dataset_clean.csv\", parse_dates=['Date'])\n",
    "\n",
    "# Select and rename columns\n",
    "cols = ['Date', 'Country', 'Cumulative number of case(s)', 'Number of deaths']\n",
    "sars_df = sars_df[cols]\n",
    "sars_df.columns = ['Date', 'Country', 'Cases', 'Deaths']\n",
    "\n",
    "# Day by day\n",
    "s_dbd = sars_df.groupby(['Date'])['Cases', 'Deaths'].sum().reset_index()\n",
    "\n",
    "# nth-day\n",
    "sars_df['nth_day'] = (sars_df['Date'] - min(sars_df['Date'])).dt.days\n",
    "s_dbd['nth_day'] = sars_df.groupby('Date')['nth_day'].max().values\n",
    "\n",
    "s_dbd['epidemic'] = 'SARS'\n",
    "temp = sars_df[sars_df['Cases'] > 0]\n"
   ]
  },
  {
   "cell_type": "markdown",
   "metadata": {},
   "source": [
    "### Verifying form of Dataframes"
   ]
  },
  {
   "cell_type": "code",
   "execution_count": 25,
   "metadata": {},
   "outputs": [
    {
     "output_type": "stream",
     "name": "stdout",
     "text": "COVID\n          Date    Cases  Deaths  nth_day  epidemic\n96 2020-04-27  3041764  211167       96  COVID-19\n\n\nSARS\n          Date  Cases  Deaths  nth_day epidemic\n95 2003-07-11   8432     813      116     SARS\n\n\nEBOLA\n           Date  Cases  Deaths  nth_day epidemic\n258 2016-03-23  28642   11319      572    EBOLA\n\n\nMERS\n           Date  Cases  nth_day epidemic\n374 2019-06-10      2     2639     MERS\n"
    }
   ],
   "source": [
    "print(\"COVID\\n\", c_dbd.tail(1))\n",
    "print(\"\\n\\nSARS\\n\", s_dbd.tail(1))\n",
    "print(\"\\n\\nEBOLA\\n\", e_dbd.tail(1))\n",
    "print(\"\\n\\nMERS\\n\", m_dbd.tail(1))"
   ]
  },
  {
   "cell_type": "markdown",
   "metadata": {},
   "source": [
    "## Plotting Comparison\n"
   ]
  },
  {
   "cell_type": "code",
   "execution_count": 26,
   "metadata": {},
   "outputs": [],
   "source": [
    "temp = pd.concat([c_dbd, s_dbd, e_dbd], axis=0, sort=True)"
   ]
  },
  {
   "cell_type": "code",
   "execution_count": 54,
   "metadata": {},
   "outputs": [
    {
     "output_type": "display_data",
     "data": {
      "application/vnd.plotly.v1+json": {
       "config": {
        "plotlyServerURL": "https://plot.ly"
       },
       "data": [
        {
         "hovertemplate": "epidemic=COVID-19<br>nth_day=%{x}<br>Cases=%{y}<extra></extra>",
         "legendgroup": "COVID-19",
         "line": {
          "color": "#636efa",
          "dash": "solid"
         },
         "mode": "lines",
         "name": "COVID-19",
         "showlegend": true,
         "type": "scatter",
         "x": [
          0,
          1,
          2,
          3,
          4,
          5,
          6,
          7,
          8,
          9,
          10,
          11,
          12,
          13,
          14,
          15,
          16,
          17,
          18,
          19,
          20,
          21,
          22,
          23,
          24,
          25,
          26,
          27,
          28,
          29,
          30,
          31,
          32,
          33,
          34,
          35,
          36,
          37,
          38,
          39,
          40,
          41,
          42,
          43,
          44,
          45,
          46,
          47,
          48,
          49,
          50,
          51,
          52,
          53,
          54,
          55,
          56,
          57,
          58,
          59,
          60,
          61,
          62,
          63,
          64,
          65,
          66,
          67,
          68,
          69,
          70,
          71,
          72,
          73,
          74,
          75,
          76,
          77,
          78,
          79,
          80,
          81,
          82,
          83,
          84,
          85,
          86,
          87,
          88,
          89,
          90,
          91,
          92,
          93,
          94,
          95,
          96
         ],
         "xaxis": "x",
         "y": [
          555,
          654,
          941,
          1434,
          2118,
          2927,
          5578,
          6166,
          8234,
          9927,
          12038,
          16787,
          19881,
          23892,
          27635,
          30794,
          34391,
          37120,
          40150,
          42762,
          44802,
          45221,
          60368,
          66885,
          69030,
          71224,
          73258,
          75136,
          75639,
          76197,
          76819,
          78572,
          78958,
          79561,
          80406,
          81388,
          82746,
          84112,
          86011,
          88369,
          90306,
          92840,
          95120,
          97886,
          101801,
          105847,
          109821,
          113590,
          118620,
          125875,
          128352,
          145219,
          156116,
          167466,
          181603,
          197113,
          214846,
          242616,
          272247,
          304555,
          337018,
          378282,
          418079,
          467723,
          529701,
          593423,
          660824,
          720285,
          782490,
          857608,
          932638,
          1013458,
          1095876,
          1176059,
          1249737,
          1321427,
          1396438,
          1480200,
          1565538,
          1657929,
          1736025,
          1835164,
          1905192,
          1975581,
          2055506,
          2151872,
          2239723,
          2317339,
          2400843,
          2471759,
          2548821,
          2624107,
          2707742,
          2811603,
          2897624,
          2972363,
          3041764
         ],
         "yaxis": "y"
        },
        {
         "hovertemplate": "epidemic=SARS<br>nth_day=%{x}<br>Cases=%{y}<extra></extra>",
         "legendgroup": "SARS",
         "line": {
          "color": "#EF553B",
          "dash": "solid"
         },
         "mode": "lines",
         "name": "SARS",
         "showlegend": true,
         "type": "scatter",
         "x": [
          0,
          1,
          2,
          3,
          4,
          5,
          7,
          8,
          9,
          10,
          11,
          12,
          14,
          15,
          16,
          17,
          18,
          19,
          21,
          22,
          23,
          24,
          25,
          26,
          28,
          29,
          30,
          31,
          32,
          33,
          35,
          36,
          37,
          38,
          39,
          40,
          42,
          43,
          44,
          45,
          46,
          47,
          49,
          50,
          51,
          52,
          53,
          54,
          56,
          57,
          58,
          59,
          60,
          61,
          63,
          64,
          65,
          66,
          67,
          68,
          70,
          71,
          72,
          73,
          74,
          75,
          77,
          78,
          79,
          80,
          81,
          84,
          85,
          86,
          87,
          88,
          91,
          92,
          93,
          94,
          95,
          98,
          99,
          100,
          101,
          102,
          105,
          106,
          107,
          108,
          109,
          112,
          113,
          114,
          115,
          116
         ],
         "xaxis": "x",
         "y": [
          167,
          219,
          264,
          306,
          350,
          386,
          456,
          487,
          1323,
          1408,
          1485,
          1550,
          1622,
          1804,
          2223,
          2270,
          2353,
          2416,
          2601,
          2671,
          2722,
          2781,
          2890,
          2960,
          3169,
          3235,
          3293,
          3389,
          3547,
          3547,
          3861,
          3947,
          4288,
          4435,
          4645,
          4832,
          5046,
          5458,
          5659,
          5861,
          6050,
          6230,
          6579,
          6723,
          6899,
          7049,
          7179,
          7292,
          7441,
          7542,
          7622,
          7693,
          7733,
          7755,
          7858,
          7913,
          7950,
          8046,
          8111,
          8135,
          8196,
          8215,
          8240,
          8295,
          8311,
          8354,
          8379,
          8393,
          8397,
          8398,
          8399,
          8416,
          8425,
          8430,
          8440,
          8449,
          8455,
          8459,
          8460,
          8457,
          8456,
          8454,
          8453,
          8455,
          8451,
          8445,
          8447,
          8440,
          8437,
          8434,
          8434,
          8434,
          8431,
          8431,
          8432,
          8432
         ],
         "yaxis": "y"
        },
        {
         "hovertemplate": "epidemic=EBOLA<br>nth_day=%{x}<br>Cases=%{y}<extra></extra>",
         "legendgroup": "EBOLA",
         "line": {
          "color": "#00cc96",
          "dash": "solid"
         },
         "mode": "lines",
         "name": "EBOLA",
         "showlegend": true,
         "type": "scatter",
         "x": [
          0,
          7,
          10,
          14,
          18,
          20,
          24,
          26,
          28,
          33,
          35,
          40,
          42,
          47,
          49,
          54,
          57,
          61,
          63,
          68,
          70,
          75,
          77,
          82,
          84,
          89,
          94,
          96,
          103,
          108,
          110,
          115,
          116,
          117,
          119,
          122,
          123,
          124,
          126,
          129,
          130,
          131,
          132,
          133,
          136,
          137,
          138,
          139,
          140,
          143,
          144,
          145,
          146,
          147,
          150,
          151,
          152,
          153,
          154,
          157,
          158,
          159,
          160,
          161,
          165,
          166,
          167,
          168,
          171,
          172,
          173,
          174,
          175,
          178,
          180,
          181,
          182,
          185,
          187,
          188,
          189,
          193,
          194,
          195,
          196,
          199,
          200,
          201,
          203,
          206,
          207,
          208,
          209,
          210,
          221,
          223,
          227,
          228,
          229,
          230,
          231,
          234,
          235,
          236,
          237,
          238,
          241,
          242,
          244,
          245,
          248,
          249,
          250,
          251,
          252,
          255,
          256,
          257,
          258,
          259,
          262,
          263,
          264,
          265,
          266,
          269,
          270,
          271,
          272,
          273,
          276,
          277,
          278,
          279,
          280,
          283,
          284,
          285,
          286,
          287,
          290,
          291,
          292,
          293,
          294,
          297,
          298,
          299,
          300,
          301,
          304,
          305,
          306,
          307,
          308,
          311,
          312,
          313,
          314,
          315,
          318,
          319,
          320,
          321,
          322,
          325,
          326,
          327,
          328,
          329,
          332,
          333,
          334,
          335,
          336,
          339,
          340,
          341,
          342,
          343,
          346,
          347,
          348,
          349,
          350,
          353,
          354,
          355,
          356,
          357,
          360,
          361,
          362,
          363,
          364,
          367,
          368,
          369,
          370,
          371,
          374,
          375,
          376,
          377,
          378,
          381,
          382,
          383,
          384,
          385,
          388,
          389,
          390,
          391,
          392,
          395,
          396,
          397,
          398,
          399,
          402,
          403,
          404,
          405,
          406,
          410,
          412,
          413,
          417,
          419,
          420,
          423,
          424,
          426,
          427,
          431,
          433,
          434,
          438,
          439,
          440,
          444,
          445,
          448,
          452,
          454,
          459,
          460,
          461,
          467,
          468,
          469,
          473,
          474,
          475,
          480,
          481,
          487,
          572
         ],
         "xaxis": "x",
         "y": [
          3071,
          3967,
          4293,
          4390,
          4985,
          5347,
          5864,
          6263,
          6574,
          7178,
          7492,
          8033,
          8399,
          8997,
          9216,
          9936,
          10141,
          13703,
          13567,
          13042,
          13268,
          14098,
          14413,
          15145,
          15351,
          15935,
          16933,
          17145,
          17942,
          18498,
          18603,
          19374,
          19465,
          19497,
          19729,
          20115,
          20163,
          20205,
          20415,
          20690,
          20747,
          20747,
          20972,
          21086,
          21171,
          21171,
          21296,
          21364,
          21408,
          21649,
          21724,
          21724,
          21794,
          21832,
          21959,
          22092,
          22092,
          22136,
          22159,
          22369,
          22479,
          22495,
          22522,
          22560,
          22894,
          22894,
          22938,
          23034,
          23217,
          23253,
          23253,
          23401,
          23406,
          23574,
          23729,
          23816,
          23860,
          23948,
          23948,
          24018,
          24049,
          24282,
          24282,
          24385,
          24544,
          24632,
          24701,
          24701,
          24788,
          24877,
          24907,
          24907,
          24962,
          24992,
          25551,
          25567,
          25626,
          25646,
          25826,
          25866,
          25890,
          25898,
          25907,
          26079,
          26109,
          26136,
          26194,
          26312,
          26325,
          26333,
          26374,
          26571,
          26628,
          26661,
          26683,
          26757,
          26759,
          26757,
          26791,
          26799,
          26921,
          26969,
          26969,
          27007,
          27015,
          27038,
          27049,
          27049,
          27076,
          27091,
          27171,
          27181,
          27181,
          27209,
          27225,
          27255,
          27273,
          27273,
          27287,
          27311,
          27341,
          27345,
          27341,
          27367,
          27388,
          27451,
          27479,
          27479,
          27503,
          27515,
          27541,
          27550,
          27550,
          27576,
          27627,
          27600,
          27609,
          27609,
          27621,
          27636,
          27663,
          27678,
          27678,
          27679,
          27688,
          27734,
          27742,
          27741,
          27759,
          27760,
          27784,
          27785,
          27784,
          27872,
          27876,
          27896,
          27898,
          27898,
          27926,
          27931,
          27964,
          27965,
          27965,
          27984,
          27984,
          27987,
          27988,
          27988,
          28018,
          28036,
          28036,
          28041,
          28041,
          28087,
          28091,
          28101,
          28109,
          28109,
          28138,
          28139,
          28171,
          28183,
          28183,
          28196,
          28200,
          28248,
          28256,
          28256,
          28281,
          28287,
          28316,
          28331,
          28331,
          28355,
          28360,
          28407,
          28424,
          28424,
          28444,
          28448,
          28453,
          28457,
          28457,
          28463,
          28465,
          28490,
          28502,
          28504,
          28512,
          28540,
          28547,
          28564,
          28575,
          28582,
          28583,
          28607,
          28617,
          28622,
          28635,
          28635,
          28635,
          28635,
          28634,
          28634,
          28634,
          28637,
          28637,
          28637,
          28638,
          28637,
          28637,
          28637,
          28640,
          28640,
          28638,
          28637,
          28637,
          28637,
          28642
         ],
         "yaxis": "y"
        }
       ],
       "layout": {
        "autosize": false,
        "height": 450,
        "legend": {
         "title": {
          "text": "epidemic"
         },
         "tracegroupgap": 0
        },
        "template": {
         "data": {
          "bar": [
           {
            "error_x": {
             "color": "rgb(36,36,36)"
            },
            "error_y": {
             "color": "rgb(36,36,36)"
            },
            "marker": {
             "line": {
              "color": "white",
              "width": 0.5
             }
            },
            "type": "bar"
           }
          ],
          "barpolar": [
           {
            "marker": {
             "line": {
              "color": "white",
              "width": 0.5
             }
            },
            "type": "barpolar"
           }
          ],
          "carpet": [
           {
            "aaxis": {
             "endlinecolor": "rgb(36,36,36)",
             "gridcolor": "white",
             "linecolor": "white",
             "minorgridcolor": "white",
             "startlinecolor": "rgb(36,36,36)"
            },
            "baxis": {
             "endlinecolor": "rgb(36,36,36)",
             "gridcolor": "white",
             "linecolor": "white",
             "minorgridcolor": "white",
             "startlinecolor": "rgb(36,36,36)"
            },
            "type": "carpet"
           }
          ],
          "choropleth": [
           {
            "colorbar": {
             "outlinewidth": 1,
             "tickcolor": "rgb(36,36,36)",
             "ticks": "outside"
            },
            "type": "choropleth"
           }
          ],
          "contour": [
           {
            "colorbar": {
             "outlinewidth": 1,
             "tickcolor": "rgb(36,36,36)",
             "ticks": "outside"
            },
            "colorscale": [
             [
              0,
              "#440154"
             ],
             [
              0.1111111111111111,
              "#482878"
             ],
             [
              0.2222222222222222,
              "#3e4989"
             ],
             [
              0.3333333333333333,
              "#31688e"
             ],
             [
              0.4444444444444444,
              "#26828e"
             ],
             [
              0.5555555555555556,
              "#1f9e89"
             ],
             [
              0.6666666666666666,
              "#35b779"
             ],
             [
              0.7777777777777778,
              "#6ece58"
             ],
             [
              0.8888888888888888,
              "#b5de2b"
             ],
             [
              1,
              "#fde725"
             ]
            ],
            "type": "contour"
           }
          ],
          "contourcarpet": [
           {
            "colorbar": {
             "outlinewidth": 1,
             "tickcolor": "rgb(36,36,36)",
             "ticks": "outside"
            },
            "type": "contourcarpet"
           }
          ],
          "heatmap": [
           {
            "colorbar": {
             "outlinewidth": 1,
             "tickcolor": "rgb(36,36,36)",
             "ticks": "outside"
            },
            "colorscale": [
             [
              0,
              "#440154"
             ],
             [
              0.1111111111111111,
              "#482878"
             ],
             [
              0.2222222222222222,
              "#3e4989"
             ],
             [
              0.3333333333333333,
              "#31688e"
             ],
             [
              0.4444444444444444,
              "#26828e"
             ],
             [
              0.5555555555555556,
              "#1f9e89"
             ],
             [
              0.6666666666666666,
              "#35b779"
             ],
             [
              0.7777777777777778,
              "#6ece58"
             ],
             [
              0.8888888888888888,
              "#b5de2b"
             ],
             [
              1,
              "#fde725"
             ]
            ],
            "type": "heatmap"
           }
          ],
          "heatmapgl": [
           {
            "colorbar": {
             "outlinewidth": 1,
             "tickcolor": "rgb(36,36,36)",
             "ticks": "outside"
            },
            "colorscale": [
             [
              0,
              "#440154"
             ],
             [
              0.1111111111111111,
              "#482878"
             ],
             [
              0.2222222222222222,
              "#3e4989"
             ],
             [
              0.3333333333333333,
              "#31688e"
             ],
             [
              0.4444444444444444,
              "#26828e"
             ],
             [
              0.5555555555555556,
              "#1f9e89"
             ],
             [
              0.6666666666666666,
              "#35b779"
             ],
             [
              0.7777777777777778,
              "#6ece58"
             ],
             [
              0.8888888888888888,
              "#b5de2b"
             ],
             [
              1,
              "#fde725"
             ]
            ],
            "type": "heatmapgl"
           }
          ],
          "histogram": [
           {
            "marker": {
             "line": {
              "color": "white",
              "width": 0.6
             }
            },
            "type": "histogram"
           }
          ],
          "histogram2d": [
           {
            "colorbar": {
             "outlinewidth": 1,
             "tickcolor": "rgb(36,36,36)",
             "ticks": "outside"
            },
            "colorscale": [
             [
              0,
              "#440154"
             ],
             [
              0.1111111111111111,
              "#482878"
             ],
             [
              0.2222222222222222,
              "#3e4989"
             ],
             [
              0.3333333333333333,
              "#31688e"
             ],
             [
              0.4444444444444444,
              "#26828e"
             ],
             [
              0.5555555555555556,
              "#1f9e89"
             ],
             [
              0.6666666666666666,
              "#35b779"
             ],
             [
              0.7777777777777778,
              "#6ece58"
             ],
             [
              0.8888888888888888,
              "#b5de2b"
             ],
             [
              1,
              "#fde725"
             ]
            ],
            "type": "histogram2d"
           }
          ],
          "histogram2dcontour": [
           {
            "colorbar": {
             "outlinewidth": 1,
             "tickcolor": "rgb(36,36,36)",
             "ticks": "outside"
            },
            "colorscale": [
             [
              0,
              "#440154"
             ],
             [
              0.1111111111111111,
              "#482878"
             ],
             [
              0.2222222222222222,
              "#3e4989"
             ],
             [
              0.3333333333333333,
              "#31688e"
             ],
             [
              0.4444444444444444,
              "#26828e"
             ],
             [
              0.5555555555555556,
              "#1f9e89"
             ],
             [
              0.6666666666666666,
              "#35b779"
             ],
             [
              0.7777777777777778,
              "#6ece58"
             ],
             [
              0.8888888888888888,
              "#b5de2b"
             ],
             [
              1,
              "#fde725"
             ]
            ],
            "type": "histogram2dcontour"
           }
          ],
          "mesh3d": [
           {
            "colorbar": {
             "outlinewidth": 1,
             "tickcolor": "rgb(36,36,36)",
             "ticks": "outside"
            },
            "type": "mesh3d"
           }
          ],
          "parcoords": [
           {
            "line": {
             "colorbar": {
              "outlinewidth": 1,
              "tickcolor": "rgb(36,36,36)",
              "ticks": "outside"
             }
            },
            "type": "parcoords"
           }
          ],
          "pie": [
           {
            "automargin": true,
            "type": "pie"
           }
          ],
          "scatter": [
           {
            "marker": {
             "colorbar": {
              "outlinewidth": 1,
              "tickcolor": "rgb(36,36,36)",
              "ticks": "outside"
             }
            },
            "type": "scatter"
           }
          ],
          "scatter3d": [
           {
            "line": {
             "colorbar": {
              "outlinewidth": 1,
              "tickcolor": "rgb(36,36,36)",
              "ticks": "outside"
             }
            },
            "marker": {
             "colorbar": {
              "outlinewidth": 1,
              "tickcolor": "rgb(36,36,36)",
              "ticks": "outside"
             }
            },
            "type": "scatter3d"
           }
          ],
          "scattercarpet": [
           {
            "marker": {
             "colorbar": {
              "outlinewidth": 1,
              "tickcolor": "rgb(36,36,36)",
              "ticks": "outside"
             }
            },
            "type": "scattercarpet"
           }
          ],
          "scattergeo": [
           {
            "marker": {
             "colorbar": {
              "outlinewidth": 1,
              "tickcolor": "rgb(36,36,36)",
              "ticks": "outside"
             }
            },
            "type": "scattergeo"
           }
          ],
          "scattergl": [
           {
            "marker": {
             "colorbar": {
              "outlinewidth": 1,
              "tickcolor": "rgb(36,36,36)",
              "ticks": "outside"
             }
            },
            "type": "scattergl"
           }
          ],
          "scattermapbox": [
           {
            "marker": {
             "colorbar": {
              "outlinewidth": 1,
              "tickcolor": "rgb(36,36,36)",
              "ticks": "outside"
             }
            },
            "type": "scattermapbox"
           }
          ],
          "scatterpolar": [
           {
            "marker": {
             "colorbar": {
              "outlinewidth": 1,
              "tickcolor": "rgb(36,36,36)",
              "ticks": "outside"
             }
            },
            "type": "scatterpolar"
           }
          ],
          "scatterpolargl": [
           {
            "marker": {
             "colorbar": {
              "outlinewidth": 1,
              "tickcolor": "rgb(36,36,36)",
              "ticks": "outside"
             }
            },
            "type": "scatterpolargl"
           }
          ],
          "scatterternary": [
           {
            "marker": {
             "colorbar": {
              "outlinewidth": 1,
              "tickcolor": "rgb(36,36,36)",
              "ticks": "outside"
             }
            },
            "type": "scatterternary"
           }
          ],
          "surface": [
           {
            "colorbar": {
             "outlinewidth": 1,
             "tickcolor": "rgb(36,36,36)",
             "ticks": "outside"
            },
            "colorscale": [
             [
              0,
              "#440154"
             ],
             [
              0.1111111111111111,
              "#482878"
             ],
             [
              0.2222222222222222,
              "#3e4989"
             ],
             [
              0.3333333333333333,
              "#31688e"
             ],
             [
              0.4444444444444444,
              "#26828e"
             ],
             [
              0.5555555555555556,
              "#1f9e89"
             ],
             [
              0.6666666666666666,
              "#35b779"
             ],
             [
              0.7777777777777778,
              "#6ece58"
             ],
             [
              0.8888888888888888,
              "#b5de2b"
             ],
             [
              1,
              "#fde725"
             ]
            ],
            "type": "surface"
           }
          ],
          "table": [
           {
            "cells": {
             "fill": {
              "color": "rgb(237,237,237)"
             },
             "line": {
              "color": "white"
             }
            },
            "header": {
             "fill": {
              "color": "rgb(217,217,217)"
             },
             "line": {
              "color": "white"
             }
            },
            "type": "table"
           }
          ]
         },
         "layout": {
          "annotationdefaults": {
           "arrowhead": 0,
           "arrowwidth": 1
          },
          "coloraxis": {
           "colorbar": {
            "outlinewidth": 1,
            "tickcolor": "rgb(36,36,36)",
            "ticks": "outside"
           }
          },
          "colorscale": {
           "diverging": [
            [
             0,
             "rgb(103,0,31)"
            ],
            [
             0.1,
             "rgb(178,24,43)"
            ],
            [
             0.2,
             "rgb(214,96,77)"
            ],
            [
             0.3,
             "rgb(244,165,130)"
            ],
            [
             0.4,
             "rgb(253,219,199)"
            ],
            [
             0.5,
             "rgb(247,247,247)"
            ],
            [
             0.6,
             "rgb(209,229,240)"
            ],
            [
             0.7,
             "rgb(146,197,222)"
            ],
            [
             0.8,
             "rgb(67,147,195)"
            ],
            [
             0.9,
             "rgb(33,102,172)"
            ],
            [
             1,
             "rgb(5,48,97)"
            ]
           ],
           "sequential": [
            [
             0,
             "#440154"
            ],
            [
             0.1111111111111111,
             "#482878"
            ],
            [
             0.2222222222222222,
             "#3e4989"
            ],
            [
             0.3333333333333333,
             "#31688e"
            ],
            [
             0.4444444444444444,
             "#26828e"
            ],
            [
             0.5555555555555556,
             "#1f9e89"
            ],
            [
             0.6666666666666666,
             "#35b779"
            ],
            [
             0.7777777777777778,
             "#6ece58"
            ],
            [
             0.8888888888888888,
             "#b5de2b"
            ],
            [
             1,
             "#fde725"
            ]
           ],
           "sequentialminus": [
            [
             0,
             "#440154"
            ],
            [
             0.1111111111111111,
             "#482878"
            ],
            [
             0.2222222222222222,
             "#3e4989"
            ],
            [
             0.3333333333333333,
             "#31688e"
            ],
            [
             0.4444444444444444,
             "#26828e"
            ],
            [
             0.5555555555555556,
             "#1f9e89"
            ],
            [
             0.6666666666666666,
             "#35b779"
            ],
            [
             0.7777777777777778,
             "#6ece58"
            ],
            [
             0.8888888888888888,
             "#b5de2b"
            ],
            [
             1,
             "#fde725"
            ]
           ]
          },
          "colorway": [
           "#1F77B4",
           "#FF7F0E",
           "#2CA02C",
           "#D62728",
           "#9467BD",
           "#8C564B",
           "#E377C2",
           "#7F7F7F",
           "#BCBD22",
           "#17BECF"
          ],
          "font": {
           "color": "rgb(36,36,36)"
          },
          "geo": {
           "bgcolor": "white",
           "lakecolor": "white",
           "landcolor": "white",
           "showlakes": true,
           "showland": true,
           "subunitcolor": "white"
          },
          "hoverlabel": {
           "align": "left"
          },
          "hovermode": "closest",
          "mapbox": {
           "style": "light"
          },
          "paper_bgcolor": "white",
          "plot_bgcolor": "white",
          "polar": {
           "angularaxis": {
            "gridcolor": "rgb(232,232,232)",
            "linecolor": "rgb(36,36,36)",
            "showgrid": false,
            "showline": true,
            "ticks": "outside"
           },
           "bgcolor": "white",
           "radialaxis": {
            "gridcolor": "rgb(232,232,232)",
            "linecolor": "rgb(36,36,36)",
            "showgrid": false,
            "showline": true,
            "ticks": "outside"
           }
          },
          "scene": {
           "xaxis": {
            "backgroundcolor": "white",
            "gridcolor": "rgb(232,232,232)",
            "gridwidth": 2,
            "linecolor": "rgb(36,36,36)",
            "showbackground": true,
            "showgrid": false,
            "showline": true,
            "ticks": "outside",
            "zeroline": false,
            "zerolinecolor": "rgb(36,36,36)"
           },
           "yaxis": {
            "backgroundcolor": "white",
            "gridcolor": "rgb(232,232,232)",
            "gridwidth": 2,
            "linecolor": "rgb(36,36,36)",
            "showbackground": true,
            "showgrid": false,
            "showline": true,
            "ticks": "outside",
            "zeroline": false,
            "zerolinecolor": "rgb(36,36,36)"
           },
           "zaxis": {
            "backgroundcolor": "white",
            "gridcolor": "rgb(232,232,232)",
            "gridwidth": 2,
            "linecolor": "rgb(36,36,36)",
            "showbackground": true,
            "showgrid": false,
            "showline": true,
            "ticks": "outside",
            "zeroline": false,
            "zerolinecolor": "rgb(36,36,36)"
           }
          },
          "shapedefaults": {
           "fillcolor": "black",
           "line": {
            "width": 0
           },
           "opacity": 0.3
          },
          "ternary": {
           "aaxis": {
            "gridcolor": "rgb(232,232,232)",
            "linecolor": "rgb(36,36,36)",
            "showgrid": false,
            "showline": true,
            "ticks": "outside"
           },
           "baxis": {
            "gridcolor": "rgb(232,232,232)",
            "linecolor": "rgb(36,36,36)",
            "showgrid": false,
            "showline": true,
            "ticks": "outside"
           },
           "bgcolor": "white",
           "caxis": {
            "gridcolor": "rgb(232,232,232)",
            "linecolor": "rgb(36,36,36)",
            "showgrid": false,
            "showline": true,
            "ticks": "outside"
           }
          },
          "title": {
           "x": 0.05
          },
          "xaxis": {
           "automargin": true,
           "gridcolor": "rgb(232,232,232)",
           "linecolor": "rgb(36,36,36)",
           "showgrid": false,
           "showline": true,
           "ticks": "outside",
           "title": {
            "standoff": 15
           },
           "zeroline": false,
           "zerolinecolor": "rgb(36,36,36)"
          },
          "yaxis": {
           "automargin": true,
           "gridcolor": "rgb(232,232,232)",
           "linecolor": "rgb(36,36,36)",
           "showgrid": false,
           "showline": true,
           "ticks": "outside",
           "title": {
            "standoff": 15
           },
           "zeroline": false,
           "zerolinecolor": "rgb(36,36,36)"
          }
         }
        },
        "title": {
         "text": "The first 100 days of COVID-19, "
        },
        "width": 800,
        "xaxis": {
         "anchor": "y",
         "domain": [
          0,
          1
         ],
         "range": [
          0,
          101
         ],
         "title": {
          "text": "nth_day"
         }
        },
        "yaxis": {
         "anchor": "x",
         "domain": [
          0,
          1
         ],
         "title": {
          "text": "Cases"
         },
         "type": "linear"
        }
       }
      }
     },
     "metadata": {}
    }
   ],
   "source": [
    "fig = px.line(data_frame=temp, x=\"nth_day\", y=\"Cases\", color='epidemic', range_x=[0, 101], height=600, width=700, title='The first 100 days of COVID-19, ')\n",
    "\n",
    "fig.update_yaxes(type=\"linear\")\n",
    "fig.update_layout(template='simple_white')\n",
    "\n",
    "\n",
    "fig.update_layout(\n",
    "    autosize=False,\n",
    "    width=800,\n",
    "    height=450)\n",
    "\n",
    "fig.write_image(\"images/log_comparison.pdf\")\n",
    "fig.show()"
   ]
  },
  {
   "cell_type": "code",
   "execution_count": 55,
   "metadata": {},
   "outputs": [
    {
     "output_type": "display_data",
     "data": {
      "application/vnd.plotly.v1+json": {
       "config": {
        "plotlyServerURL": "https://plot.ly"
       },
       "data": [
        {
         "hovertemplate": "epidemic=COVID-19<br>nth_day=%{x}<br>Cases=%{y}<extra></extra>",
         "legendgroup": "COVID-19",
         "line": {
          "color": "#636efa",
          "dash": "solid"
         },
         "mode": "lines",
         "name": "COVID-19",
         "showlegend": true,
         "type": "scatter",
         "x": [
          0,
          1,
          2,
          3,
          4,
          5,
          6,
          7,
          8,
          9,
          10,
          11,
          12,
          13,
          14,
          15,
          16,
          17,
          18,
          19,
          20,
          21,
          22,
          23,
          24,
          25,
          26,
          27,
          28,
          29,
          30,
          31,
          32,
          33,
          34,
          35,
          36,
          37,
          38,
          39,
          40,
          41,
          42,
          43,
          44,
          45,
          46,
          47,
          48,
          49,
          50,
          51,
          52,
          53,
          54,
          55,
          56,
          57,
          58,
          59,
          60,
          61,
          62,
          63,
          64,
          65,
          66,
          67,
          68,
          69,
          70,
          71,
          72,
          73,
          74,
          75,
          76,
          77,
          78,
          79,
          80,
          81,
          82,
          83,
          84,
          85,
          86,
          87,
          88,
          89,
          90,
          91,
          92,
          93,
          94,
          95,
          96
         ],
         "xaxis": "x",
         "y": [
          555,
          654,
          941,
          1434,
          2118,
          2927,
          5578,
          6166,
          8234,
          9927,
          12038,
          16787,
          19881,
          23892,
          27635,
          30794,
          34391,
          37120,
          40150,
          42762,
          44802,
          45221,
          60368,
          66885,
          69030,
          71224,
          73258,
          75136,
          75639,
          76197,
          76819,
          78572,
          78958,
          79561,
          80406,
          81388,
          82746,
          84112,
          86011,
          88369,
          90306,
          92840,
          95120,
          97886,
          101801,
          105847,
          109821,
          113590,
          118620,
          125875,
          128352,
          145219,
          156116,
          167466,
          181603,
          197113,
          214846,
          242616,
          272247,
          304555,
          337018,
          378282,
          418079,
          467723,
          529701,
          593423,
          660824,
          720285,
          782490,
          857608,
          932638,
          1013458,
          1095876,
          1176059,
          1249737,
          1321427,
          1396438,
          1480200,
          1565538,
          1657929,
          1736025,
          1835164,
          1905192,
          1975581,
          2055506,
          2151872,
          2239723,
          2317339,
          2400843,
          2471759,
          2548821,
          2624107,
          2707742,
          2811603,
          2897624,
          2972363,
          3041764
         ],
         "yaxis": "y"
        },
        {
         "hovertemplate": "epidemic=SARS<br>nth_day=%{x}<br>Cases=%{y}<extra></extra>",
         "legendgroup": "SARS",
         "line": {
          "color": "#EF553B",
          "dash": "solid"
         },
         "mode": "lines",
         "name": "SARS",
         "showlegend": true,
         "type": "scatter",
         "x": [
          0,
          1,
          2,
          3,
          4,
          5,
          7,
          8,
          9,
          10,
          11,
          12,
          14,
          15,
          16,
          17,
          18,
          19,
          21,
          22,
          23,
          24,
          25,
          26,
          28,
          29,
          30,
          31,
          32,
          33,
          35,
          36,
          37,
          38,
          39,
          40,
          42,
          43,
          44,
          45,
          46,
          47,
          49,
          50,
          51,
          52,
          53,
          54,
          56,
          57,
          58,
          59,
          60,
          61,
          63,
          64,
          65,
          66,
          67,
          68,
          70,
          71,
          72,
          73,
          74,
          75,
          77,
          78,
          79,
          80,
          81,
          84,
          85,
          86,
          87,
          88,
          91,
          92,
          93,
          94,
          95,
          98,
          99,
          100,
          101,
          102,
          105,
          106,
          107,
          108,
          109,
          112,
          113,
          114,
          115,
          116
         ],
         "xaxis": "x",
         "y": [
          167,
          219,
          264,
          306,
          350,
          386,
          456,
          487,
          1323,
          1408,
          1485,
          1550,
          1622,
          1804,
          2223,
          2270,
          2353,
          2416,
          2601,
          2671,
          2722,
          2781,
          2890,
          2960,
          3169,
          3235,
          3293,
          3389,
          3547,
          3547,
          3861,
          3947,
          4288,
          4435,
          4645,
          4832,
          5046,
          5458,
          5659,
          5861,
          6050,
          6230,
          6579,
          6723,
          6899,
          7049,
          7179,
          7292,
          7441,
          7542,
          7622,
          7693,
          7733,
          7755,
          7858,
          7913,
          7950,
          8046,
          8111,
          8135,
          8196,
          8215,
          8240,
          8295,
          8311,
          8354,
          8379,
          8393,
          8397,
          8398,
          8399,
          8416,
          8425,
          8430,
          8440,
          8449,
          8455,
          8459,
          8460,
          8457,
          8456,
          8454,
          8453,
          8455,
          8451,
          8445,
          8447,
          8440,
          8437,
          8434,
          8434,
          8434,
          8431,
          8431,
          8432,
          8432
         ],
         "yaxis": "y"
        },
        {
         "hovertemplate": "epidemic=EBOLA<br>nth_day=%{x}<br>Cases=%{y}<extra></extra>",
         "legendgroup": "EBOLA",
         "line": {
          "color": "#00cc96",
          "dash": "solid"
         },
         "mode": "lines",
         "name": "EBOLA",
         "showlegend": true,
         "type": "scatter",
         "x": [
          0,
          7,
          10,
          14,
          18,
          20,
          24,
          26,
          28,
          33,
          35,
          40,
          42,
          47,
          49,
          54,
          57,
          61,
          63,
          68,
          70,
          75,
          77,
          82,
          84,
          89,
          94,
          96,
          103,
          108,
          110,
          115,
          116,
          117,
          119,
          122,
          123,
          124,
          126,
          129,
          130,
          131,
          132,
          133,
          136,
          137,
          138,
          139,
          140,
          143,
          144,
          145,
          146,
          147,
          150,
          151,
          152,
          153,
          154,
          157,
          158,
          159,
          160,
          161,
          165,
          166,
          167,
          168,
          171,
          172,
          173,
          174,
          175,
          178,
          180,
          181,
          182,
          185,
          187,
          188,
          189,
          193,
          194,
          195,
          196,
          199,
          200,
          201,
          203,
          206,
          207,
          208,
          209,
          210,
          221,
          223,
          227,
          228,
          229,
          230,
          231,
          234,
          235,
          236,
          237,
          238,
          241,
          242,
          244,
          245,
          248,
          249,
          250,
          251,
          252,
          255,
          256,
          257,
          258,
          259,
          262,
          263,
          264,
          265,
          266,
          269,
          270,
          271,
          272,
          273,
          276,
          277,
          278,
          279,
          280,
          283,
          284,
          285,
          286,
          287,
          290,
          291,
          292,
          293,
          294,
          297,
          298,
          299,
          300,
          301,
          304,
          305,
          306,
          307,
          308,
          311,
          312,
          313,
          314,
          315,
          318,
          319,
          320,
          321,
          322,
          325,
          326,
          327,
          328,
          329,
          332,
          333,
          334,
          335,
          336,
          339,
          340,
          341,
          342,
          343,
          346,
          347,
          348,
          349,
          350,
          353,
          354,
          355,
          356,
          357,
          360,
          361,
          362,
          363,
          364,
          367,
          368,
          369,
          370,
          371,
          374,
          375,
          376,
          377,
          378,
          381,
          382,
          383,
          384,
          385,
          388,
          389,
          390,
          391,
          392,
          395,
          396,
          397,
          398,
          399,
          402,
          403,
          404,
          405,
          406,
          410,
          412,
          413,
          417,
          419,
          420,
          423,
          424,
          426,
          427,
          431,
          433,
          434,
          438,
          439,
          440,
          444,
          445,
          448,
          452,
          454,
          459,
          460,
          461,
          467,
          468,
          469,
          473,
          474,
          475,
          480,
          481,
          487,
          572
         ],
         "xaxis": "x",
         "y": [
          3071,
          3967,
          4293,
          4390,
          4985,
          5347,
          5864,
          6263,
          6574,
          7178,
          7492,
          8033,
          8399,
          8997,
          9216,
          9936,
          10141,
          13703,
          13567,
          13042,
          13268,
          14098,
          14413,
          15145,
          15351,
          15935,
          16933,
          17145,
          17942,
          18498,
          18603,
          19374,
          19465,
          19497,
          19729,
          20115,
          20163,
          20205,
          20415,
          20690,
          20747,
          20747,
          20972,
          21086,
          21171,
          21171,
          21296,
          21364,
          21408,
          21649,
          21724,
          21724,
          21794,
          21832,
          21959,
          22092,
          22092,
          22136,
          22159,
          22369,
          22479,
          22495,
          22522,
          22560,
          22894,
          22894,
          22938,
          23034,
          23217,
          23253,
          23253,
          23401,
          23406,
          23574,
          23729,
          23816,
          23860,
          23948,
          23948,
          24018,
          24049,
          24282,
          24282,
          24385,
          24544,
          24632,
          24701,
          24701,
          24788,
          24877,
          24907,
          24907,
          24962,
          24992,
          25551,
          25567,
          25626,
          25646,
          25826,
          25866,
          25890,
          25898,
          25907,
          26079,
          26109,
          26136,
          26194,
          26312,
          26325,
          26333,
          26374,
          26571,
          26628,
          26661,
          26683,
          26757,
          26759,
          26757,
          26791,
          26799,
          26921,
          26969,
          26969,
          27007,
          27015,
          27038,
          27049,
          27049,
          27076,
          27091,
          27171,
          27181,
          27181,
          27209,
          27225,
          27255,
          27273,
          27273,
          27287,
          27311,
          27341,
          27345,
          27341,
          27367,
          27388,
          27451,
          27479,
          27479,
          27503,
          27515,
          27541,
          27550,
          27550,
          27576,
          27627,
          27600,
          27609,
          27609,
          27621,
          27636,
          27663,
          27678,
          27678,
          27679,
          27688,
          27734,
          27742,
          27741,
          27759,
          27760,
          27784,
          27785,
          27784,
          27872,
          27876,
          27896,
          27898,
          27898,
          27926,
          27931,
          27964,
          27965,
          27965,
          27984,
          27984,
          27987,
          27988,
          27988,
          28018,
          28036,
          28036,
          28041,
          28041,
          28087,
          28091,
          28101,
          28109,
          28109,
          28138,
          28139,
          28171,
          28183,
          28183,
          28196,
          28200,
          28248,
          28256,
          28256,
          28281,
          28287,
          28316,
          28331,
          28331,
          28355,
          28360,
          28407,
          28424,
          28424,
          28444,
          28448,
          28453,
          28457,
          28457,
          28463,
          28465,
          28490,
          28502,
          28504,
          28512,
          28540,
          28547,
          28564,
          28575,
          28582,
          28583,
          28607,
          28617,
          28622,
          28635,
          28635,
          28635,
          28635,
          28634,
          28634,
          28634,
          28637,
          28637,
          28637,
          28638,
          28637,
          28637,
          28637,
          28640,
          28640,
          28638,
          28637,
          28637,
          28637,
          28642
         ],
         "yaxis": "y"
        }
       ],
       "layout": {
        "autosize": false,
        "height": 450,
        "legend": {
         "title": {
          "text": "epidemic"
         },
         "tracegroupgap": 0
        },
        "template": {
         "data": {
          "bar": [
           {
            "error_x": {
             "color": "rgb(36,36,36)"
            },
            "error_y": {
             "color": "rgb(36,36,36)"
            },
            "marker": {
             "line": {
              "color": "white",
              "width": 0.5
             }
            },
            "type": "bar"
           }
          ],
          "barpolar": [
           {
            "marker": {
             "line": {
              "color": "white",
              "width": 0.5
             }
            },
            "type": "barpolar"
           }
          ],
          "carpet": [
           {
            "aaxis": {
             "endlinecolor": "rgb(36,36,36)",
             "gridcolor": "white",
             "linecolor": "white",
             "minorgridcolor": "white",
             "startlinecolor": "rgb(36,36,36)"
            },
            "baxis": {
             "endlinecolor": "rgb(36,36,36)",
             "gridcolor": "white",
             "linecolor": "white",
             "minorgridcolor": "white",
             "startlinecolor": "rgb(36,36,36)"
            },
            "type": "carpet"
           }
          ],
          "choropleth": [
           {
            "colorbar": {
             "outlinewidth": 1,
             "tickcolor": "rgb(36,36,36)",
             "ticks": "outside"
            },
            "type": "choropleth"
           }
          ],
          "contour": [
           {
            "colorbar": {
             "outlinewidth": 1,
             "tickcolor": "rgb(36,36,36)",
             "ticks": "outside"
            },
            "colorscale": [
             [
              0,
              "#440154"
             ],
             [
              0.1111111111111111,
              "#482878"
             ],
             [
              0.2222222222222222,
              "#3e4989"
             ],
             [
              0.3333333333333333,
              "#31688e"
             ],
             [
              0.4444444444444444,
              "#26828e"
             ],
             [
              0.5555555555555556,
              "#1f9e89"
             ],
             [
              0.6666666666666666,
              "#35b779"
             ],
             [
              0.7777777777777778,
              "#6ece58"
             ],
             [
              0.8888888888888888,
              "#b5de2b"
             ],
             [
              1,
              "#fde725"
             ]
            ],
            "type": "contour"
           }
          ],
          "contourcarpet": [
           {
            "colorbar": {
             "outlinewidth": 1,
             "tickcolor": "rgb(36,36,36)",
             "ticks": "outside"
            },
            "type": "contourcarpet"
           }
          ],
          "heatmap": [
           {
            "colorbar": {
             "outlinewidth": 1,
             "tickcolor": "rgb(36,36,36)",
             "ticks": "outside"
            },
            "colorscale": [
             [
              0,
              "#440154"
             ],
             [
              0.1111111111111111,
              "#482878"
             ],
             [
              0.2222222222222222,
              "#3e4989"
             ],
             [
              0.3333333333333333,
              "#31688e"
             ],
             [
              0.4444444444444444,
              "#26828e"
             ],
             [
              0.5555555555555556,
              "#1f9e89"
             ],
             [
              0.6666666666666666,
              "#35b779"
             ],
             [
              0.7777777777777778,
              "#6ece58"
             ],
             [
              0.8888888888888888,
              "#b5de2b"
             ],
             [
              1,
              "#fde725"
             ]
            ],
            "type": "heatmap"
           }
          ],
          "heatmapgl": [
           {
            "colorbar": {
             "outlinewidth": 1,
             "tickcolor": "rgb(36,36,36)",
             "ticks": "outside"
            },
            "colorscale": [
             [
              0,
              "#440154"
             ],
             [
              0.1111111111111111,
              "#482878"
             ],
             [
              0.2222222222222222,
              "#3e4989"
             ],
             [
              0.3333333333333333,
              "#31688e"
             ],
             [
              0.4444444444444444,
              "#26828e"
             ],
             [
              0.5555555555555556,
              "#1f9e89"
             ],
             [
              0.6666666666666666,
              "#35b779"
             ],
             [
              0.7777777777777778,
              "#6ece58"
             ],
             [
              0.8888888888888888,
              "#b5de2b"
             ],
             [
              1,
              "#fde725"
             ]
            ],
            "type": "heatmapgl"
           }
          ],
          "histogram": [
           {
            "marker": {
             "line": {
              "color": "white",
              "width": 0.6
             }
            },
            "type": "histogram"
           }
          ],
          "histogram2d": [
           {
            "colorbar": {
             "outlinewidth": 1,
             "tickcolor": "rgb(36,36,36)",
             "ticks": "outside"
            },
            "colorscale": [
             [
              0,
              "#440154"
             ],
             [
              0.1111111111111111,
              "#482878"
             ],
             [
              0.2222222222222222,
              "#3e4989"
             ],
             [
              0.3333333333333333,
              "#31688e"
             ],
             [
              0.4444444444444444,
              "#26828e"
             ],
             [
              0.5555555555555556,
              "#1f9e89"
             ],
             [
              0.6666666666666666,
              "#35b779"
             ],
             [
              0.7777777777777778,
              "#6ece58"
             ],
             [
              0.8888888888888888,
              "#b5de2b"
             ],
             [
              1,
              "#fde725"
             ]
            ],
            "type": "histogram2d"
           }
          ],
          "histogram2dcontour": [
           {
            "colorbar": {
             "outlinewidth": 1,
             "tickcolor": "rgb(36,36,36)",
             "ticks": "outside"
            },
            "colorscale": [
             [
              0,
              "#440154"
             ],
             [
              0.1111111111111111,
              "#482878"
             ],
             [
              0.2222222222222222,
              "#3e4989"
             ],
             [
              0.3333333333333333,
              "#31688e"
             ],
             [
              0.4444444444444444,
              "#26828e"
             ],
             [
              0.5555555555555556,
              "#1f9e89"
             ],
             [
              0.6666666666666666,
              "#35b779"
             ],
             [
              0.7777777777777778,
              "#6ece58"
             ],
             [
              0.8888888888888888,
              "#b5de2b"
             ],
             [
              1,
              "#fde725"
             ]
            ],
            "type": "histogram2dcontour"
           }
          ],
          "mesh3d": [
           {
            "colorbar": {
             "outlinewidth": 1,
             "tickcolor": "rgb(36,36,36)",
             "ticks": "outside"
            },
            "type": "mesh3d"
           }
          ],
          "parcoords": [
           {
            "line": {
             "colorbar": {
              "outlinewidth": 1,
              "tickcolor": "rgb(36,36,36)",
              "ticks": "outside"
             }
            },
            "type": "parcoords"
           }
          ],
          "pie": [
           {
            "automargin": true,
            "type": "pie"
           }
          ],
          "scatter": [
           {
            "marker": {
             "colorbar": {
              "outlinewidth": 1,
              "tickcolor": "rgb(36,36,36)",
              "ticks": "outside"
             }
            },
            "type": "scatter"
           }
          ],
          "scatter3d": [
           {
            "line": {
             "colorbar": {
              "outlinewidth": 1,
              "tickcolor": "rgb(36,36,36)",
              "ticks": "outside"
             }
            },
            "marker": {
             "colorbar": {
              "outlinewidth": 1,
              "tickcolor": "rgb(36,36,36)",
              "ticks": "outside"
             }
            },
            "type": "scatter3d"
           }
          ],
          "scattercarpet": [
           {
            "marker": {
             "colorbar": {
              "outlinewidth": 1,
              "tickcolor": "rgb(36,36,36)",
              "ticks": "outside"
             }
            },
            "type": "scattercarpet"
           }
          ],
          "scattergeo": [
           {
            "marker": {
             "colorbar": {
              "outlinewidth": 1,
              "tickcolor": "rgb(36,36,36)",
              "ticks": "outside"
             }
            },
            "type": "scattergeo"
           }
          ],
          "scattergl": [
           {
            "marker": {
             "colorbar": {
              "outlinewidth": 1,
              "tickcolor": "rgb(36,36,36)",
              "ticks": "outside"
             }
            },
            "type": "scattergl"
           }
          ],
          "scattermapbox": [
           {
            "marker": {
             "colorbar": {
              "outlinewidth": 1,
              "tickcolor": "rgb(36,36,36)",
              "ticks": "outside"
             }
            },
            "type": "scattermapbox"
           }
          ],
          "scatterpolar": [
           {
            "marker": {
             "colorbar": {
              "outlinewidth": 1,
              "tickcolor": "rgb(36,36,36)",
              "ticks": "outside"
             }
            },
            "type": "scatterpolar"
           }
          ],
          "scatterpolargl": [
           {
            "marker": {
             "colorbar": {
              "outlinewidth": 1,
              "tickcolor": "rgb(36,36,36)",
              "ticks": "outside"
             }
            },
            "type": "scatterpolargl"
           }
          ],
          "scatterternary": [
           {
            "marker": {
             "colorbar": {
              "outlinewidth": 1,
              "tickcolor": "rgb(36,36,36)",
              "ticks": "outside"
             }
            },
            "type": "scatterternary"
           }
          ],
          "surface": [
           {
            "colorbar": {
             "outlinewidth": 1,
             "tickcolor": "rgb(36,36,36)",
             "ticks": "outside"
            },
            "colorscale": [
             [
              0,
              "#440154"
             ],
             [
              0.1111111111111111,
              "#482878"
             ],
             [
              0.2222222222222222,
              "#3e4989"
             ],
             [
              0.3333333333333333,
              "#31688e"
             ],
             [
              0.4444444444444444,
              "#26828e"
             ],
             [
              0.5555555555555556,
              "#1f9e89"
             ],
             [
              0.6666666666666666,
              "#35b779"
             ],
             [
              0.7777777777777778,
              "#6ece58"
             ],
             [
              0.8888888888888888,
              "#b5de2b"
             ],
             [
              1,
              "#fde725"
             ]
            ],
            "type": "surface"
           }
          ],
          "table": [
           {
            "cells": {
             "fill": {
              "color": "rgb(237,237,237)"
             },
             "line": {
              "color": "white"
             }
            },
            "header": {
             "fill": {
              "color": "rgb(217,217,217)"
             },
             "line": {
              "color": "white"
             }
            },
            "type": "table"
           }
          ]
         },
         "layout": {
          "annotationdefaults": {
           "arrowhead": 0,
           "arrowwidth": 1
          },
          "coloraxis": {
           "colorbar": {
            "outlinewidth": 1,
            "tickcolor": "rgb(36,36,36)",
            "ticks": "outside"
           }
          },
          "colorscale": {
           "diverging": [
            [
             0,
             "rgb(103,0,31)"
            ],
            [
             0.1,
             "rgb(178,24,43)"
            ],
            [
             0.2,
             "rgb(214,96,77)"
            ],
            [
             0.3,
             "rgb(244,165,130)"
            ],
            [
             0.4,
             "rgb(253,219,199)"
            ],
            [
             0.5,
             "rgb(247,247,247)"
            ],
            [
             0.6,
             "rgb(209,229,240)"
            ],
            [
             0.7,
             "rgb(146,197,222)"
            ],
            [
             0.8,
             "rgb(67,147,195)"
            ],
            [
             0.9,
             "rgb(33,102,172)"
            ],
            [
             1,
             "rgb(5,48,97)"
            ]
           ],
           "sequential": [
            [
             0,
             "#440154"
            ],
            [
             0.1111111111111111,
             "#482878"
            ],
            [
             0.2222222222222222,
             "#3e4989"
            ],
            [
             0.3333333333333333,
             "#31688e"
            ],
            [
             0.4444444444444444,
             "#26828e"
            ],
            [
             0.5555555555555556,
             "#1f9e89"
            ],
            [
             0.6666666666666666,
             "#35b779"
            ],
            [
             0.7777777777777778,
             "#6ece58"
            ],
            [
             0.8888888888888888,
             "#b5de2b"
            ],
            [
             1,
             "#fde725"
            ]
           ],
           "sequentialminus": [
            [
             0,
             "#440154"
            ],
            [
             0.1111111111111111,
             "#482878"
            ],
            [
             0.2222222222222222,
             "#3e4989"
            ],
            [
             0.3333333333333333,
             "#31688e"
            ],
            [
             0.4444444444444444,
             "#26828e"
            ],
            [
             0.5555555555555556,
             "#1f9e89"
            ],
            [
             0.6666666666666666,
             "#35b779"
            ],
            [
             0.7777777777777778,
             "#6ece58"
            ],
            [
             0.8888888888888888,
             "#b5de2b"
            ],
            [
             1,
             "#fde725"
            ]
           ]
          },
          "colorway": [
           "#1F77B4",
           "#FF7F0E",
           "#2CA02C",
           "#D62728",
           "#9467BD",
           "#8C564B",
           "#E377C2",
           "#7F7F7F",
           "#BCBD22",
           "#17BECF"
          ],
          "font": {
           "color": "rgb(36,36,36)"
          },
          "geo": {
           "bgcolor": "white",
           "lakecolor": "white",
           "landcolor": "white",
           "showlakes": true,
           "showland": true,
           "subunitcolor": "white"
          },
          "hoverlabel": {
           "align": "left"
          },
          "hovermode": "closest",
          "mapbox": {
           "style": "light"
          },
          "paper_bgcolor": "white",
          "plot_bgcolor": "white",
          "polar": {
           "angularaxis": {
            "gridcolor": "rgb(232,232,232)",
            "linecolor": "rgb(36,36,36)",
            "showgrid": false,
            "showline": true,
            "ticks": "outside"
           },
           "bgcolor": "white",
           "radialaxis": {
            "gridcolor": "rgb(232,232,232)",
            "linecolor": "rgb(36,36,36)",
            "showgrid": false,
            "showline": true,
            "ticks": "outside"
           }
          },
          "scene": {
           "xaxis": {
            "backgroundcolor": "white",
            "gridcolor": "rgb(232,232,232)",
            "gridwidth": 2,
            "linecolor": "rgb(36,36,36)",
            "showbackground": true,
            "showgrid": false,
            "showline": true,
            "ticks": "outside",
            "zeroline": false,
            "zerolinecolor": "rgb(36,36,36)"
           },
           "yaxis": {
            "backgroundcolor": "white",
            "gridcolor": "rgb(232,232,232)",
            "gridwidth": 2,
            "linecolor": "rgb(36,36,36)",
            "showbackground": true,
            "showgrid": false,
            "showline": true,
            "ticks": "outside",
            "zeroline": false,
            "zerolinecolor": "rgb(36,36,36)"
           },
           "zaxis": {
            "backgroundcolor": "white",
            "gridcolor": "rgb(232,232,232)",
            "gridwidth": 2,
            "linecolor": "rgb(36,36,36)",
            "showbackground": true,
            "showgrid": false,
            "showline": true,
            "ticks": "outside",
            "zeroline": false,
            "zerolinecolor": "rgb(36,36,36)"
           }
          },
          "shapedefaults": {
           "fillcolor": "black",
           "line": {
            "width": 0
           },
           "opacity": 0.3
          },
          "ternary": {
           "aaxis": {
            "gridcolor": "rgb(232,232,232)",
            "linecolor": "rgb(36,36,36)",
            "showgrid": false,
            "showline": true,
            "ticks": "outside"
           },
           "baxis": {
            "gridcolor": "rgb(232,232,232)",
            "linecolor": "rgb(36,36,36)",
            "showgrid": false,
            "showline": true,
            "ticks": "outside"
           },
           "bgcolor": "white",
           "caxis": {
            "gridcolor": "rgb(232,232,232)",
            "linecolor": "rgb(36,36,36)",
            "showgrid": false,
            "showline": true,
            "ticks": "outside"
           }
          },
          "title": {
           "x": 0.05
          },
          "xaxis": {
           "automargin": true,
           "gridcolor": "rgb(232,232,232)",
           "linecolor": "rgb(36,36,36)",
           "showgrid": false,
           "showline": true,
           "ticks": "outside",
           "title": {
            "standoff": 15
           },
           "zeroline": false,
           "zerolinecolor": "rgb(36,36,36)"
          },
          "yaxis": {
           "automargin": true,
           "gridcolor": "rgb(232,232,232)",
           "linecolor": "rgb(36,36,36)",
           "showgrid": false,
           "showline": true,
           "ticks": "outside",
           "title": {
            "standoff": 15
           },
           "zeroline": false,
           "zerolinecolor": "rgb(36,36,36)"
          }
         }
        },
        "title": {
         "text": "The first 100 days of COVID-19, "
        },
        "width": 800,
        "xaxis": {
         "anchor": "y",
         "domain": [
          0,
          1
         ],
         "range": [
          0,
          101
         ],
         "title": {
          "text": "nth_day"
         }
        },
        "yaxis": {
         "anchor": "x",
         "domain": [
          0,
          1
         ],
         "title": {
          "text": "Cases"
         },
         "type": "log"
        }
       }
      }
     },
     "metadata": {}
    }
   ],
   "source": [
    "fig = px.line(data_frame=temp, x=\"nth_day\", y=\"Cases\", color='epidemic', range_x=[0, 101], height=600, width=700, title='The first 100 days of COVID-19, ')\n",
    "\n",
    "fig.update_yaxes(type=\"log\")\n",
    "\n",
    "\"\"\" fig.update_layout(shapes=[\n",
    "    dict(\n",
    "      type= 'line',\n",
    "      yref= 'y', y0 = max(e_dbd['Cases']), y1 = max(e_dbd['Cases']),\n",
    "      xref= 'paper', x0 = 0, x1 = 1\n",
    "    )\n",
    "]) \"\"\"\n",
    "\n",
    "fig.update_layout(template='simple_white')\n",
    "\n",
    "\n",
    "fig.update_layout(\n",
    "    autosize=False,\n",
    "    width=800,\n",
    "    height=450)\n",
    "\n",
    "fig.write_image(\"images/linear_comparison.pdf\")\n",
    "fig.show()"
   ]
  },
  {
   "cell_type": "code",
   "execution_count": null,
   "metadata": {},
   "outputs": [],
   "source": []
  }
 ],
 "metadata": {
  "language_info": {
   "codemirror_mode": {
    "name": "ipython",
    "version": 3
   },
   "file_extension": ".py",
   "mimetype": "text/x-python",
   "name": "python",
   "nbconvert_exporter": "python",
   "pygments_lexer": "ipython3",
   "version": "3.8.1-final"
  },
  "orig_nbformat": 2,
  "kernelspec": {
   "name": "python38164bit381pyenv80f8106dbcde49aa8072c8f85b1ed604",
   "display_name": "Python 3.8.1 64-bit ('3.8.1': pyenv)"
  }
 },
 "nbformat": 4,
 "nbformat_minor": 2
}